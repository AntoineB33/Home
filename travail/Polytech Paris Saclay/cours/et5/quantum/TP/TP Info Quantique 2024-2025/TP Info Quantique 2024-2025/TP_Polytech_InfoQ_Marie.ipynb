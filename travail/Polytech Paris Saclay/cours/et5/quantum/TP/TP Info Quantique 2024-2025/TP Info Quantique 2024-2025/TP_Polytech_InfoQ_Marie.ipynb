{
 "cells": [
  {
   "cell_type": "markdown",
   "id": "6dbea74b",
   "metadata": {},
   "source": [
    "---\n",
    "# <center> <u> TP INFORMATIQUE QUANTIQUE </center> </u>\n",
    "# <center> <u> POLYTECH PARIS-SACLAY 2024/2025 </center> </u>\n",
    "    \n",
    "<i> Océane Koska (Eviden - Laboratoire des Méthodes Formelles, Univeristé Paris Saclay)\n",
    "    \n",
    "Contact : oceanekoska@gmail.com"
   ]
  },
  {
   "cell_type": "markdown",
   "id": "6292d0eb",
   "metadata": {},
   "source": [
    "<u> Objectifs du TP</u> : <br>\n",
    "- manipuler des portes quantiques et des circuits quantiques, <br>\n",
    "- apprendre à utiliser un logiciel de calcul quantique (ici Qiskit), <br>\n",
    "- développer des algorithmes pour générer des circuits et algorithmes quantiques, <br>\n",
    "- gagner en intuition sur le fonctionnement et la conception des algorithmes quantiques. <br>   "
   ]
  },
  {
   "cell_type": "markdown",
   "id": "6dae35cc",
   "metadata": {},
   "source": [
    "<u> Plan du TP</u> : <br>\n",
    "1. les pré-requis pour le TP (packages, fonctions essentielles, etc),\n",
    "2. introduction à Qiskit, sa syntaxe et premiers exemples de circuits,\n",
    "3. implémentations de premières expériences quantiques,\n",
    "3. implémentations d'algorithmes quantiques plus complexes : Deutsch-Jozsa, Grover, QPE, HHL"
   ]
  },
  {
   "cell_type": "markdown",
   "id": "9e16dac7",
   "metadata": {},
   "source": [
    "<u> Programme</u> : <br>\n",
    "1. Introduction à Qiskit + premières expériences quantiques (4h)\n",
    "2. Algorithme de Deutsch-Jozsa (2h)\n",
    "3. Algorithmes Grover et QPE (et HHL en bonus) (4h)"
   ]
  },
  {
   "cell_type": "markdown",
   "id": "51cd7230",
   "metadata": {},
   "source": [
    "Au total 7 exercices seront proposés :\n",
    "\n",
    "Séance 1\n",
    "\n",
    "1. Une fonction de simulation à coder\n",
    "2. Violation des inégalités de Bell \n",
    "3. Téléportation quantique\n",
    "4. Un circuit arithmétique à simuler\n",
    "\n",
    "Séance 2\n",
    "\n",
    "5. Algorithme de Deutsch-Jozsa\n",
    "\n",
    "Séance 3\n",
    "\n",
    "6. Algorithme de Grover\n",
    "7. Algorithme d'estimation de phase (QPE)\n",
    "8. *Résolution de systèmes linéaires avec HHL (Bonus)*\n"
   ]
  },
  {
   "cell_type": "markdown",
   "id": "685236f0",
   "metadata": {},
   "source": [
    "---\n",
    "## 1. Code préliminaire : packages, fonctions de simulation, etc. </center>"
   ]
  },
  {
   "cell_type": "markdown",
   "id": "75d46cb5",
   "metadata": {},
   "source": [
    "Vous n'avez besoin que de quelques packages python : numpy, scipy, qiskit. <br>\n",
    "Numpy et scipy peuvent s'obtenir via la distribution Anaconda : https://www.anaconda.com/products/distribution. <br>\n",
    "Qiskit peut s'obtenir en ligne de commande avec \n",
    "<pre> pip install qiskit </pre>\n",
    "ainsi que\n",
    "<pre> pip install qiskit_aer </pre>\n",
    "\n",
    "Si vous avez déjà qiskit mais que vous voulez le mettre à jour, la ligne de commande sera \n",
    "<pre> pip install --upgrade qiskit </pre>"
   ]
  },
  {
   "cell_type": "code",
   "execution_count": 103,
   "id": "8435e725",
   "metadata": {},
   "outputs": [
    {
     "data": {
      "text/plain": [
       "'1.3.2'"
      ]
     },
     "execution_count": 103,
     "metadata": {},
     "output_type": "execute_result"
    }
   ],
   "source": [
    "import qiskit\n",
    "qiskit.__version__"
   ]
  },
  {
   "cell_type": "code",
   "execution_count": 104,
   "id": "c470b13b",
   "metadata": {},
   "outputs": [],
   "source": [
    "import numpy as np\n",
    "import scipy.linalg\n",
    "\n",
    "from qiskit_aer import Aer, AerSimulator\n",
    "aer_sim = Aer.get_backend('aer_simulator')\n",
    "\n",
    "from qiskit import QuantumCircuit, assemble, QuantumRegister, ClassicalRegister, transpile\n",
    "from qiskit.circuit.library import MCXGate, RYGate, RZGate, RXGate, TGate, TdgGate, HGate\n",
    "\n",
    "from qiskit.visualization import plot_histogram, array_to_latex"
   ]
  },
  {
   "cell_type": "markdown",
   "id": "837372f6",
   "metadata": {},
   "source": [
    "Commandes latex à exécuter - Exécutez cette cellule\n",
    "$$\\renewcommand{\\ket}[1]{\\left|{#1}\\right\\rangle}$$\n",
    "$$\\renewcommand{\\bra}[1]{\\left\\langle{#1}\\right|}$$"
   ]
  },
  {
   "cell_type": "code",
   "execution_count": 105,
   "id": "07af09a1",
   "metadata": {},
   "outputs": [],
   "source": [
    "def matprint(mat, fmt=\"g\"):\n",
    "    col_maxes = [max([len((\"{:\"+fmt+\"}\").format(x)) for x in col]) for col in mat.T]\n",
    "    for x in mat:\n",
    "        for i, y in enumerate(x):\n",
    "            print((\"{:\"+str(col_maxes[i])+fmt+\"}\").format(y), end=\"  \")\n",
    "        print(\"\")"
   ]
  },
  {
   "cell_type": "markdown",
   "id": "db698054",
   "metadata": {},
   "source": [
    "Ci-dessous des fonctions pour simuler les circuits Qiskit. On distinguera :\n",
    "* une fonction qui retourne l'état de sortie (en supposant $\\ket{0}^n$ en entrée),\n",
    "* une fonction qui retourne l'unitaire complet du circuit, \n",
    "* une fonction qui exécute le circuit et effectue des mesures dans la base canonique sur certains qubits, retourne le résultat de la mesure,\n",
    "* une fonction qui retourne une distribution de probabilité approximée des résultats de mesure.\n",
    "\n",
    "Pour la dernière fonction, cela revient à exécuter plein de fois la fonction qui ne retourne qu'un résulat de mesure et à compiler les résultats obtenus sous forme d'histogramme. "
   ]
  },
  {
   "cell_type": "code",
   "execution_count": 106,
   "id": "9f497360",
   "metadata": {},
   "outputs": [],
   "source": [
    "## Fonctions de simulation de circuits\n",
    "\n",
    "# Retourne l'état de sortie U|0>^n\n",
    "def simulate_circuit_state(qc):\n",
    "    qc2 = qc.copy()\n",
    "    qc2.save_statevector()\n",
    "    result = aer_sim.run(qc2, shots=1, memory=True).result()\n",
    "    \n",
    "    return result.get_statevector().data\n",
    "\n",
    "# Retourne l'unitaire complet U\n",
    "def simulate_circuit_unitary(qc):\n",
    "    qc2 = qc.copy()\n",
    "    qc2.save_unitary()\n",
    "    result = aer_sim.run(qc2).result()\n",
    "        \n",
    "    return result.get_unitary().data\n",
    "\n",
    "# Retourne le résultat de la mesure sur les qubits donnés en input \n",
    "def simulate_circuit_measurements(qc, qubits):\n",
    "    qc2 = qc.copy()\n",
    "    for (j,i) in enumerate(qubits):\n",
    "        qc2.measure(i,j)\n",
    "    \n",
    "    result = aer_sim.run(qc2, shots=1, memory=True).result()\n",
    "    \n",
    "    return result.get_memory()\n",
    "\n",
    "\n",
    "# Retourne l'histogramme des résultats : un dictionnaire où chaque clé est une bitstring et la valeur\n",
    "# associée est le nombre de fois que cette bitstring a été mesurée. Le nombre de samples est 1024 par défaut.\n",
    "def simulate_circuit_histogram(qc, qubits):\n",
    "    qc2 = transpile(qc, AerSimulator())\n",
    "    for (j,i) in enumerate(qubits):\n",
    "        qc2.measure(i,j)\n",
    "    \n",
    "    result = aer_sim.run(qc2).result()\n",
    "    \n",
    "    return result.get_counts()"
   ]
  },
  {
   "cell_type": "markdown",
   "id": "b58c9ff6",
   "metadata": {},
   "source": [
    "---\n",
    "### Exercice 1 : une nouvelle fonction de simulation </center>"
   ]
  },
  {
   "cell_type": "markdown",
   "id": "1d3e428d",
   "metadata": {},
   "source": [
    "**Question 1**\n",
    "\n",
    "\n",
    "<pre> Coder une fonction de simulation qui prend en entrée un circuit, une liste de qubits à mesurer et retourne le résultat de la mesure ainsi que l'état réduit en sortie (i.e, l'état quantique sur les qubits non mesurés).  </pre>"
   ]
  },
  {
   "cell_type": "code",
   "execution_count": 156,
   "id": "f004dedd",
   "metadata": {},
   "outputs": [],
   "source": [
    "def simulate_circuit_with_measurements_and_output_state(qc, qubits):\n",
    "    # Partie identique aux fonctions ci-dessus\n",
    "    qc2 = qc.copy()\n",
    "\n",
    "    # On rajoute les opérations de mesure\n",
    "    for (j,i) in enumerate(qubits):\n",
    "        qc2.measure(i,j)\n",
    "    \n",
    "    # On pense à sauver le vecteur d'état à la fin du calcul\n",
    "    qc2.save_statevector()\n",
    "    \n",
    "    # On appelle les bonnes fonctions Qiskit (pas très intéressant pour nous)\n",
    "    aer_sim = Aer.get_backend('aer_simulator')\n",
    "    \n",
    "    # On lance le calcul\n",
    "    result = aer_sim.run(qc2, shots=1, memory=True).result()\n",
    "    \n",
    "    # On récupère le vecteur d'état et la mémoire (= le résultat des mesures)\n",
    "    output = result.get_statevector().data\n",
    "    measurements = result.get_memory()\n",
    "            \n",
    "    # La partie extraction\n",
    "    # On parcourt le vecteur d'état de Qiskit dans l'ordre, si l'entrée correspond à une bitstring compatible \n",
    "    # avec les résultats de mesure alors on garde l'amplitude associée\n",
    "    output2 = []\n",
    "    for (i, value) in enumerate(output):\n",
    "        bin_i = bin(i)[2:].zfill(qc2.num_qubits)\n",
    "        match_mesure = np.all([measurements[0][-k-1] == bin_i[-j-1] for (k,j) in enumerate(qubits)])\n",
    "        if match_mesure:\n",
    "            output2.append(value)\n",
    "    \n",
    "    return np.array(output2), result.get_memory()"
   ]
  },
  {
   "cell_type": "markdown",
   "id": "a3b95d6a",
   "metadata": {},
   "source": [
    "Testez votre fonction avec le code suivant"
   ]
  },
  {
   "cell_type": "code",
   "execution_count": 158,
   "id": "c475a0c0",
   "metadata": {},
   "outputs": [
    {
     "name": "stdout",
     "output_type": "stream",
     "text": [
      "State before measurement : \n",
      "[1, 2, 3, 4, 5, 6, 7, 8, 9, 10, 11, 12, 13, 14, 15, 16]\n",
      "\n",
      "Measure results : \n",
      "['11']\n",
      "State after projection : \n",
      "[[10 12 14 16]]\n"
     ]
    }
   ],
   "source": [
    "measurement_qubits = [0, 3]\n",
    "qc = QuantumCircuit(4, len(measurement_qubits))\n",
    "psi = [i for i in range(1, 17)]\n",
    "print(\"State before measurement : \")\n",
    "print(psi)\n",
    "norme = np.linalg.norm(psi)\n",
    "psi /= norme\n",
    "qc.initialize(psi)\n",
    "\n",
    "# Ici vous devez appeler votre fonction ####################################################################\n",
    "                                                                                                           #\n",
    "output, measurements = simulate_circuit_with_measurements_and_output_state(qc, measurement_qubits)\n",
    "                                                                                                           #\n",
    "############################################################################################################\n",
    "\n",
    "output = output/output[0]\n",
    "\n",
    "a = ''\n",
    "k = 0\n",
    "for i in range(4):\n",
    "    if i in measurement_qubits:\n",
    "        a += str(measurements[0][1-k])\n",
    "        k += 1\n",
    "    else:\n",
    "        a += '0'\n",
    "\n",
    "print(\"\")\n",
    "print(\"Measure results : \")\n",
    "print(measurements)\n",
    "print(\"State after projection : \")\n",
    "print(np.array([np.round(np.real(output)*(1+int(a[::-1], base=2)))], dtype=int))"
   ]
  },
  {
   "cell_type": "markdown",
   "id": "d35ef5ba",
   "metadata": {},
   "source": [
    "---\n",
    "## 2. Prise en main de Qiskit sur des expériences quantiques simples </center>"
   ]
  },
  {
   "cell_type": "markdown",
   "id": "c764c7e4",
   "metadata": {},
   "source": [
    "##### Initialisation d'un circuit quantique "
   ]
  },
  {
   "cell_type": "code",
   "execution_count": 109,
   "id": "14a07f84",
   "metadata": {},
   "outputs": [],
   "source": [
    "# Crée un circuit avec 4 qubits et 3 bits classiques\n",
    "nb_qubits = 4\n",
    "nb_clbits = 3\n",
    "circuit = QuantumCircuit(QuantumRegister(nb_qubits), ClassicalRegister(nb_clbits)) \n",
    "\n",
    "# On peut écrire plus rapidement \n",
    "qc = QuantumCircuit(nb_qubits, nb_clbits)"
   ]
  },
  {
   "cell_type": "markdown",
   "id": "0884aadc",
   "metadata": {},
   "source": [
    "Le registre classique permet de stocker des résultats de mesure. <br><br>\n",
    "Autrement dit, il faut autant de bits classiques que de qubits que l'on veut mesurer à la fin du circuit."
   ]
  },
  {
   "cell_type": "markdown",
   "id": "fd40fa94",
   "metadata": {},
   "source": [
    "##### Ajout des portes quantiques dans le circuit"
   ]
  },
  {
   "cell_type": "markdown",
   "id": "cd6210dd",
   "metadata": {},
   "source": [
    "Pour ajouter une porte au circuit, on utilise l'instruction\n",
    "<pre> variable_circuit.append(porte_quantique, liste_qubits_visés) </pre> \n",
    "\n",
    "Cette méthode peut aussi être utilisée pour ajouter des sous-circuits. <br><br>\n",
    "\n",
    "Un certain nombre de portes quantiques communément utilisées peuvent être ajoutées directement via l'instruction\n",
    "<pre> variable_circuit.nom_porte(qubit_visé) </pre>\n",
    "\n",
    "Toutes les instructions de ce genre appellent en fait la méthode append derrière."
   ]
  },
  {
   "cell_type": "markdown",
   "id": "d95b2811",
   "metadata": {},
   "source": [
    "<b> Portes disponibles </b>\n",
    "- La porte Hadamard sur 1 qubit : \n",
    "<br><br>\n",
    "$$H = \\frac{1}{\\sqrt{2}} \\begin{bmatrix} 1 & 1 \\\\ 1 & -1 \\end{bmatrix},$$"
   ]
  },
  {
   "cell_type": "code",
   "execution_count": 110,
   "id": "aa30135e",
   "metadata": {},
   "outputs": [
    {
     "data": {
      "text/plain": [
       "<qiskit.circuit.instructionset.InstructionSet at 0x24e93509d20>"
      ]
     },
     "execution_count": 110,
     "metadata": {},
     "output_type": "execute_result"
    }
   ],
   "source": [
    "qc.h(0)"
   ]
  },
  {
   "cell_type": "markdown",
   "id": "231ffc6b",
   "metadata": {},
   "source": [
    "- La porte Phase sur 1 qubit : \n",
    "<br><br>\n",
    "$$S = \\begin{bmatrix} 1 & 0 \\\\ 0 & i \\end{bmatrix}, $$ "
   ]
  },
  {
   "cell_type": "code",
   "execution_count": 111,
   "id": "7765b9f2",
   "metadata": {},
   "outputs": [
    {
     "data": {
      "text/plain": [
       "<qiskit.circuit.instructionset.InstructionSet at 0x24e8ecaf100>"
      ]
     },
     "execution_count": 111,
     "metadata": {},
     "output_type": "execute_result"
    }
   ],
   "source": [
    "qc.s(1)"
   ]
  },
  {
   "cell_type": "markdown",
   "id": "d73e7587",
   "metadata": {},
   "source": [
    "- La porte T sur 1 qubit :\n",
    "<br><br>\n",
    "$$ T = \\begin{bmatrix} 1 & 0 \\\\ 0 & e^{i\\pi/4} \\end{bmatrix}, $$"
   ]
  },
  {
   "cell_type": "code",
   "execution_count": 112,
   "id": "028b78b8",
   "metadata": {},
   "outputs": [
    {
     "data": {
      "text/plain": [
       "<qiskit.circuit.instructionset.InstructionSet at 0x24e931300d0>"
      ]
     },
     "execution_count": 112,
     "metadata": {},
     "output_type": "execute_result"
    }
   ],
   "source": [
    "qc.t(2)"
   ]
  },
  {
   "cell_type": "markdown",
   "id": "68c80140",
   "metadata": {},
   "source": [
    "- La porte phase d'angle $\\theta$ sur 1 qubit :\n",
    "<br><br>\n",
    "$$ Ph(\\theta) = \\begin{bmatrix} 1 & 0 \\\\ 0 & e^{i\\theta} \\end{bmatrix}, $$"
   ]
  },
  {
   "cell_type": "code",
   "execution_count": 113,
   "id": "d2b440f7",
   "metadata": {},
   "outputs": [
    {
     "data": {
      "text/plain": [
       "<qiskit.circuit.instructionset.InstructionSet at 0x24e934f1d20>"
      ]
     },
     "execution_count": 113,
     "metadata": {},
     "output_type": "execute_result"
    }
   ],
   "source": [
    "# Le premier argument est l'angle theta, le deuxième est le qubit cible\n",
    "theta = -1/3\n",
    "qc.p(theta, 3)"
   ]
  },
  {
   "cell_type": "markdown",
   "id": "95ee18f9",
   "metadata": {},
   "source": [
    "- Les opérateurs de Pauli sur 1 qubit : \n",
    "<br><br>\n",
    "$$ X = \\begin{bmatrix} 0 & 1 \\\\ 1 & 0 \\end{bmatrix}, Z = \\begin{bmatrix} 1 & 0 \\\\ 0 & -1 \\end{bmatrix}, Y = \\begin{bmatrix} 0 & -i \\\\ i & 0 \\end{bmatrix}, $$"
   ]
  },
  {
   "cell_type": "code",
   "execution_count": 114,
   "id": "87be2e06",
   "metadata": {},
   "outputs": [
    {
     "data": {
      "text/plain": [
       "<qiskit.circuit.instructionset.InstructionSet at 0x24e93133220>"
      ]
     },
     "execution_count": 114,
     "metadata": {},
     "output_type": "execute_result"
    }
   ],
   "source": [
    "qc.x(0)\n",
    "qc.y(1)\n",
    "qc.z(2)"
   ]
  },
  {
   "cell_type": "markdown",
   "id": "f455a80f",
   "metadata": {},
   "source": [
    "- Les portes rotations $R_z, R_y, R_x$ sur 1 qubit : \n",
    "<br><br>\n",
    "$$ R_x(\\theta) = \\begin{bmatrix} \\cos(\\theta/2) & i\\sin(\\theta/2) \\\\ i\\sin(\\theta/2) & \\cos(\\theta/2) \\end{bmatrix}, R_z(\\theta) = \\begin{bmatrix} e^{-i\\theta/2} & 0 \\\\ 0 & e^{i\\theta/2} \\end{bmatrix}, R_y(\\theta) = \\begin{bmatrix} \\cos(\\theta/2) & -\\sin(\\theta/2) \\\\ \\sin(\\theta/2) & \\cos(\\theta/2) \\end{bmatrix}, $$\n",
    "<br>"
   ]
  },
  {
   "cell_type": "markdown",
   "id": "9cf7365a",
   "metadata": {},
   "source": [
    "Pour ajouter les portes rotations $R_z, R_x, R_y$, nous allons utiliser la méthode append pour ajouter une porte."
   ]
  },
  {
   "cell_type": "code",
   "execution_count": 115,
   "id": "9b8cae01",
   "metadata": {},
   "outputs": [
    {
     "data": {
      "text/plain": [
       "<qiskit.circuit.instructionset.InstructionSet at 0x24e93159330>"
      ]
     },
     "execution_count": 115,
     "metadata": {},
     "output_type": "execute_result"
    }
   ],
   "source": [
    "qc.append(RYGate(0.1), [0])\n",
    "qc.append(RZGate(0.5), [1])\n",
    "qc.append(RXGate(0.345), [3])"
   ]
  },
  {
   "cell_type": "markdown",
   "id": "ebc21ee0",
   "metadata": {},
   "source": [
    "- La porte CNOT sur 2 qubits : \n",
    "<br><br>\n",
    "$$ CNOT = \\begin{bmatrix} 1 & 0 & 0 & 0 \\\\ 0 & 0 & 0 & 1 \\\\ 0 & 0 & 1 & 0 \\\\ 0 & 1 & 0 & 0 \\end{bmatrix}, $$ "
   ]
  },
  {
   "cell_type": "code",
   "execution_count": 116,
   "id": "8f7375b3",
   "metadata": {},
   "outputs": [
    {
     "data": {
      "text/plain": [
       "<qiskit.circuit.instructionset.InstructionSet at 0x24e9353fa90>"
      ]
     },
     "execution_count": 116,
     "metadata": {},
     "output_type": "execute_result"
    }
   ],
   "source": [
    "# Le premier argument est le qubit de contrôle, le deuxième argument est le qubit cible\n",
    "qc.cx(0, 2)"
   ]
  },
  {
   "cell_type": "markdown",
   "id": "63826ff0",
   "metadata": {},
   "source": [
    "<b> /!\\ ATTENTION : </b> Qiskit ordonne différemment les qubits que dans la plupart des cours d'informatique quantique. Par convention, un circuit avec $n$ qubits $q_0, q_1, .., q_{n-1}$ manipulera les états $\\ket{q_{n-1}q_{n-2}.. q_1q_0}$. Vous pouvez le vérifier avec la forme matricielle de la CNOT plus haut."
   ]
  },
  {
   "cell_type": "markdown",
   "id": "7b851beb",
   "metadata": {},
   "source": [
    "- La porte CZ sur 2 qubits : \n",
    "<br><br>\n",
    "$$ CZ = \\begin{bmatrix} 1 & 0 & 0 & 0 \\\\ 0 & 1 & 0 & 0 \\\\ 0 & 0 & 1 & 0 \\\\ 0 & 0 & 0 & -1 \\end{bmatrix}. $$"
   ]
  },
  {
   "cell_type": "code",
   "execution_count": 117,
   "id": "6ea8b617",
   "metadata": {},
   "outputs": [
    {
     "data": {
      "text/plain": [
       "<qiskit.circuit.instructionset.InstructionSet at 0x24e9310baf0>"
      ]
     },
     "execution_count": 117,
     "metadata": {},
     "output_type": "execute_result"
    }
   ],
   "source": [
    "qc.cz(1,3)"
   ]
  },
  {
   "cell_type": "code",
   "execution_count": 118,
   "id": "4e08ca96",
   "metadata": {},
   "outputs": [
    {
     "data": {
      "text/plain": [
       "<qiskit.circuit.instructionset.InstructionSet at 0x24e93158610>"
      ]
     },
     "execution_count": 118,
     "metadata": {},
     "output_type": "execute_result"
    }
   ],
   "source": [
    "qc.append(MCXGate(2), [0,1,2])"
   ]
  },
  {
   "cell_type": "markdown",
   "id": "1d14b6b0",
   "metadata": {},
   "source": [
    "Il est également possible de construire d'autres portes, notamment des portes contrôlées, cela sera vu plus tard."
   ]
  },
  {
   "cell_type": "markdown",
   "id": "bb7edcda",
   "metadata": {},
   "source": [
    "#####  Affichage du circuit"
   ]
  },
  {
   "cell_type": "code",
   "execution_count": 119,
   "id": "9a372b3e",
   "metadata": {},
   "outputs": [
    {
     "data": {
      "text/html": [
       "<pre style=\"word-wrap: normal;white-space: pre;background: #fff0;line-height: 1.1;font-family: &quot;Courier New&quot;,Courier,monospace\">          ┌───┐         ┌───┐    ┌─────────┐             \n",
       "q_0: ─────┤ H ├─────────┤ X ├────┤ Ry(0.1) ├──■───────■──\n",
       "          ├───┤         ├───┤    ├─────────┤  │       │  \n",
       "q_1: ─────┤ S ├─────────┤ Y ├────┤ Rz(0.5) ├──┼───■───■──\n",
       "          ├───┤         ├───┤    └─────────┘┌─┴─┐ │ ┌─┴─┐\n",
       "q_2: ─────┤ T ├─────────┤ Z ├───────────────┤ X ├─┼─┤ X ├\n",
       "     ┌────┴───┴────┐┌───┴───┴───┐           └───┘ │ └───┘\n",
       "q_3: ┤ P(-0.33333) ├┤ Rx(0.345) ├─────────────────■──────\n",
       "     └─────────────┘└───────────┘                        \n",
       "c: 3/════════════════════════════════════════════════════\n",
       "                                                         </pre>"
      ],
      "text/plain": [
       "          ┌───┐         ┌───┐    ┌─────────┐             \n",
       "q_0: ─────┤ H ├─────────┤ X ├────┤ Ry(0.1) ├──■───────■──\n",
       "          ├───┤         ├───┤    ├─────────┤  │       │  \n",
       "q_1: ─────┤ S ├─────────┤ Y ├────┤ Rz(0.5) ├──┼───■───■──\n",
       "          ├───┤         ├───┤    └─────────┘┌─┴─┐ │ ┌─┴─┐\n",
       "q_2: ─────┤ T ├─────────┤ Z ├───────────────┤ X ├─┼─┤ X ├\n",
       "     ┌────┴───┴────┐┌───┴───┴───┐           └───┘ │ └───┘\n",
       "q_3: ┤ P(-0.33333) ├┤ Rx(0.345) ├─────────────────■──────\n",
       "     └─────────────┘└───────────┘                        \n",
       "c: 3/════════════════════════════════════════════════════\n",
       "                                                         "
      ]
     },
     "execution_count": 119,
     "metadata": {},
     "output_type": "execute_result"
    }
   ],
   "source": [
    "qc.draw()"
   ]
  },
  {
   "cell_type": "markdown",
   "id": "a2404f9f",
   "metadata": {},
   "source": [
    "##### Composition de circuits"
   ]
  },
  {
   "cell_type": "markdown",
   "id": "ca3ed37f",
   "metadata": {},
   "source": [
    "Deux méthodes sont possibles pour concaténer des circuits ensembles : \n",
    "* la méthode append, qui marche comme pour les portes sauf que le circuit ajouté l'est sous forme de \"boîte noire\", il faut utiliser la méthode circ.decompose() pour que la boîte noire soit remplacée par un vrai circuit. Si vous ne le faites pas le simulateur ne saura pas simuler votre circuit,\n",
    "* la méthode compose, qui concatène directement les portes.\n",
    "\n",
    "Dans les deux cas, il est possible (pour compose) voire nécessaire (pour append) de préciser les qubits sur lesquels le circuit ajouté va agir."
   ]
  },
  {
   "cell_type": "code",
   "execution_count": 120,
   "id": "5ba500a0",
   "metadata": {},
   "outputs": [
    {
     "name": "stderr",
     "output_type": "stream",
     "text": [
      "c:\\Users\\abarb\\AppData\\Local\\Programs\\Python\\Python313\\Lib\\site-packages\\qiskit\\circuit\\quantumcircuit.py:3424: RuntimeWarning: Cregbundle set to False since an instruction needs to refer to individual classical wire\n",
      "  return circuit_drawer(\n"
     ]
    },
    {
     "data": {
      "text/html": [
       "<pre style=\"word-wrap: normal;white-space: pre;background: #fff0;line-height: 1.1;font-family: &quot;Courier New&quot;,Courier,monospace\">          ┌───┐         ┌───┐    ┌─────────┐             ┌──────────────┐\n",
       "q_0: ─────┤ H ├─────────┤ X ├────┤ Ry(0.1) ├──■───────■──┤0             ├\n",
       "          ├───┤         ├───┤    ├─────────┤  │       │  │              │\n",
       "q_1: ─────┤ S ├─────────┤ Y ├────┤ Rz(0.5) ├──┼───■───■──┤1             ├\n",
       "          ├───┤         ├───┤    └─────────┘┌─┴─┐ │ ┌─┴─┐│              │\n",
       "q_2: ─────┤ T ├─────────┤ Z ├───────────────┤ X ├─┼─┤ X ├┤2             ├\n",
       "     ┌────┴───┴────┐┌───┴───┴───┐           └───┘ │ └───┘│              │\n",
       "q_3: ┤ P(-0.33333) ├┤ Rx(0.345) ├─────────────────■──────┤3 circuit-402 ├\n",
       "     └─────────────┘└───────────┘                        │              │\n",
       "c_0: ════════════════════════════════════════════════════╡0             ╞\n",
       "                                                         │              │\n",
       "c_1: ════════════════════════════════════════════════════╡1             ╞\n",
       "                                                         │              │\n",
       "c_2: ════════════════════════════════════════════════════╡2             ╞\n",
       "                                                         └──────────────┘</pre>"
      ],
      "text/plain": [
       "          ┌───┐         ┌───┐    ┌─────────┐             ┌──────────────┐\n",
       "q_0: ─────┤ H ├─────────┤ X ├────┤ Ry(0.1) ├──■───────■──┤0             ├\n",
       "          ├───┤         ├───┤    ├─────────┤  │       │  │              │\n",
       "q_1: ─────┤ S ├─────────┤ Y ├────┤ Rz(0.5) ├──┼───■───■──┤1             ├\n",
       "          ├───┤         ├───┤    └─────────┘┌─┴─┐ │ ┌─┴─┐│              │\n",
       "q_2: ─────┤ T ├─────────┤ Z ├───────────────┤ X ├─┼─┤ X ├┤2             ├\n",
       "     ┌────┴───┴────┐┌───┴───┴───┐           └───┘ │ └───┘│              │\n",
       "q_3: ┤ P(-0.33333) ├┤ Rx(0.345) ├─────────────────■──────┤3 circuit-402 ├\n",
       "     └─────────────┘└───────────┘                        │              │\n",
       "c_0: ════════════════════════════════════════════════════╡0             ╞\n",
       "                                                         │              │\n",
       "c_1: ════════════════════════════════════════════════════╡1             ╞\n",
       "                                                         │              │\n",
       "c_2: ════════════════════════════════════════════════════╡2             ╞\n",
       "                                                         └──────────────┘"
      ]
     },
     "execution_count": 120,
     "metadata": {},
     "output_type": "execute_result"
    }
   ],
   "source": [
    "# Version avec append\n",
    "qc2 = qc.copy()\n",
    "# Pensez à bien rajouter les qubits et les bits classiques !\n",
    "qc2.append(qc, [0,1,2,3], [0,1,2])\n",
    "qc2.draw()"
   ]
  },
  {
   "cell_type": "markdown",
   "id": "c8f8bc2f",
   "metadata": {},
   "source": [
    "On voit que sans utiliser decompose notre circuit contient des sous-circuits en boîte noire."
   ]
  },
  {
   "cell_type": "code",
   "execution_count": 121,
   "id": "0fb8f00b",
   "metadata": {},
   "outputs": [
    {
     "data": {
      "text/html": [
       "<pre style=\"word-wrap: normal;white-space: pre;background: #fff0;line-height: 1.1;font-family: &quot;Courier New&quot;,Courier,monospace\">global phase: 6.0332\n",
       "         ┌─────────┐      ┌───────────┐  ┌────────────┐               »\n",
       "q_0: ────┤ U2(0,π) ├──────┤ U3(π,0,π) ├──┤ R(0.1,π/2) ├──■────────────»\n",
       "         ├─────────┤    ┌─┴───────────┴─┐└┬─────────┬─┘  │            »\n",
       "q_1: ────┤ U1(π/2) ├────┤ U3(π,π/2,π/2) ├─┤ U1(0.5) ├────┼────■───────»\n",
       "         ├─────────┤    └───┬───────┬───┘ └─────────┘  ┌─┴─┐  │  ┌───┐»\n",
       "q_2: ────┤ U1(π/4) ├────────┤ U1(π) ├──────────────────┤ X ├──┼──┤ H ├»\n",
       "     ┌───┴─────────┴───┐  ┌─┴───────┴──┐     ┌───┐     └───┘┌─┴─┐├───┤»\n",
       "q_3: ┤ U(0,0,-0.33333) ├──┤ R(0.345,0) ├─────┤ H ├──────────┤ X ├┤ H ├»\n",
       "     └─────────────────┘  └────────────┘     └───┘          └───┘└───┘»\n",
       "c: 3/═════════════════════════════════════════════════════════════════»\n",
       "                                                                      »\n",
       "«                                                                  ┌───┐      »\n",
       "«q_0: ──────────────────────────────■─────────────────────■────■───┤ T ├───■──»\n",
       "«                                   │             ┌───┐   │  ┌─┴─┐┌┴───┴┐┌─┴─┐»\n",
       "«q_1: ───────■──────────────────────┼─────────■───┤ T ├───┼──┤ X ├┤ Tdg ├┤ X ├»\n",
       "«          ┌─┴─┐        ┌─────┐   ┌─┴─┐┌───┐┌─┴─┐┌┴───┴┐┌─┴─┐├───┤└┬───┬┘├───┤»\n",
       "«q_2: ─────┤ X ├────────┤ Tdg ├───┤ X ├┤ T ├┤ X ├┤ Tdg ├┤ X ├┤ T ├─┤ H ├─┤ T ├»\n",
       "«     ┌────┴───┴────┐┌──┴─────┴──┐└───┘└───┘└───┘└─────┘└───┘└───┘ └───┘ └───┘»\n",
       "«q_3: ┤ P(-0.33333) ├┤ Rx(0.345) ├────────────────────────────────────────────»\n",
       "«     └─────────────┘└───────────┘                                            »\n",
       "«c: 3/════════════════════════════════════════════════════════════════════════»\n",
       "«                                                                             »\n",
       "«     ┌───┐┌───┐┌─────────┐             \n",
       "«q_0: ┤ H ├┤ X ├┤ Ry(0.1) ├──■───────■──\n",
       "«     ├───┤├───┤├─────────┤  │       │  \n",
       "«q_1: ┤ S ├┤ Y ├┤ Rz(0.5) ├──┼───■───■──\n",
       "«     ├───┤└───┘└─────────┘┌─┴─┐ │ ┌─┴─┐\n",
       "«q_2: ┤ Z ├────────────────┤ X ├─┼─┤ X ├\n",
       "«     └───┘                └───┘ │ └───┘\n",
       "«q_3: ───────────────────────────■──────\n",
       "«                                       \n",
       "«c: 3/══════════════════════════════════\n",
       "«                                       </pre>"
      ],
      "text/plain": [
       "global phase: 6.0332\n",
       "         ┌─────────┐      ┌───────────┐  ┌────────────┐               »\n",
       "q_0: ────┤ U2(0,π) ├──────┤ U3(π,0,π) ├──┤ R(0.1,π/2) ├──■────────────»\n",
       "         ├─────────┤    ┌─┴───────────┴─┐└┬─────────┬─┘  │            »\n",
       "q_1: ────┤ U1(π/2) ├────┤ U3(π,π/2,π/2) ├─┤ U1(0.5) ├────┼────■───────»\n",
       "         ├─────────┤    └───┬───────┬───┘ └─────────┘  ┌─┴─┐  │  ┌───┐»\n",
       "q_2: ────┤ U1(π/4) ├────────┤ U1(π) ├──────────────────┤ X ├──┼──┤ H ├»\n",
       "     ┌───┴─────────┴───┐  ┌─┴───────┴──┐     ┌───┐     └───┘┌─┴─┐├───┤»\n",
       "q_3: ┤ U(0,0,-0.33333) ├──┤ R(0.345,0) ├─────┤ H ├──────────┤ X ├┤ H ├»\n",
       "     └─────────────────┘  └────────────┘     └───┘          └───┘└───┘»\n",
       "c: 3/═════════════════════════════════════════════════════════════════»\n",
       "                                                                      »\n",
       "«                                                                  ┌───┐      »\n",
       "«q_0: ──────────────────────────────■─────────────────────■────■───┤ T ├───■──»\n",
       "«                                   │             ┌───┐   │  ┌─┴─┐┌┴───┴┐┌─┴─┐»\n",
       "«q_1: ───────■──────────────────────┼─────────■───┤ T ├───┼──┤ X ├┤ Tdg ├┤ X ├»\n",
       "«          ┌─┴─┐        ┌─────┐   ┌─┴─┐┌───┐┌─┴─┐┌┴───┴┐┌─┴─┐├───┤└┬───┬┘├───┤»\n",
       "«q_2: ─────┤ X ├────────┤ Tdg ├───┤ X ├┤ T ├┤ X ├┤ Tdg ├┤ X ├┤ T ├─┤ H ├─┤ T ├»\n",
       "«     ┌────┴───┴────┐┌──┴─────┴──┐└───┘└───┘└───┘└─────┘└───┘└───┘ └───┘ └───┘»\n",
       "«q_3: ┤ P(-0.33333) ├┤ Rx(0.345) ├────────────────────────────────────────────»\n",
       "«     └─────────────┘└───────────┘                                            »\n",
       "«c: 3/════════════════════════════════════════════════════════════════════════»\n",
       "«                                                                             »\n",
       "«     ┌───┐┌───┐┌─────────┐             \n",
       "«q_0: ┤ H ├┤ X ├┤ Ry(0.1) ├──■───────■──\n",
       "«     ├───┤├───┤├─────────┤  │       │  \n",
       "«q_1: ┤ S ├┤ Y ├┤ Rz(0.5) ├──┼───■───■──\n",
       "«     ├───┤└───┘└─────────┘┌─┴─┐ │ ┌─┴─┐\n",
       "«q_2: ┤ Z ├────────────────┤ X ├─┼─┤ X ├\n",
       "«     └───┘                └───┘ │ └───┘\n",
       "«q_3: ───────────────────────────■──────\n",
       "«                                       \n",
       "«c: 3/══════════════════════════════════\n",
       "«                                       "
      ]
     },
     "execution_count": 121,
     "metadata": {},
     "output_type": "execute_result"
    }
   ],
   "source": [
    "qc2 = qc2.decompose()\n",
    "qc2.draw()"
   ]
  },
  {
   "cell_type": "code",
   "execution_count": 122,
   "id": "99c14011",
   "metadata": {},
   "outputs": [
    {
     "data": {
      "text/html": [
       "<pre style=\"word-wrap: normal;white-space: pre;background: #fff0;line-height: 1.1;font-family: &quot;Courier New&quot;,Courier,monospace\">          ┌───┐         ┌───┐    ┌─────────┐                       »\n",
       "q_0: ─────┤ H ├─────────┤ X ├────┤ Ry(0.1) ├──■────────────■───────»\n",
       "          ├───┤         ├───┤    ├─────────┤  │            │       »\n",
       "q_1: ─────┤ S ├─────────┤ Y ├────┤ Rz(0.5) ├──┼───■────────■───────»\n",
       "          ├───┤         ├───┤    └─────────┘┌─┴─┐ │      ┌─┴─┐     »\n",
       "q_2: ─────┤ T ├─────────┤ Z ├───────────────┤ X ├─┼──────┤ X ├─────»\n",
       "     ┌────┴───┴────┐┌───┴───┴───┐           └───┘ │ ┌────┴───┴────┐»\n",
       "q_3: ┤ P(-0.33333) ├┤ Rx(0.345) ├─────────────────■─┤ P(-0.33333) ├»\n",
       "     └─────────────┘└───────────┘                   └─────────────┘»\n",
       "c: 3/══════════════════════════════════════════════════════════════»\n",
       "                                                                   »\n",
       "«         ┌───┐    ┌───┐┌─────────┐             \n",
       "«q_0: ────┤ H ├────┤ X ├┤ Ry(0.1) ├──■───────■──\n",
       "«         ├───┤    ├───┤├─────────┤  │       │  \n",
       "«q_1: ────┤ S ├────┤ Y ├┤ Rz(0.5) ├──┼───■───■──\n",
       "«         ├───┤    ├───┤└─────────┘┌─┴─┐ │ ┌─┴─┐\n",
       "«q_2: ────┤ T ├────┤ Z ├───────────┤ X ├─┼─┤ X ├\n",
       "«     ┌───┴───┴───┐└───┘           └───┘ │ └───┘\n",
       "«q_3: ┤ Rx(0.345) ├──────────────────────■──────\n",
       "«     └───────────┘                             \n",
       "«c: 3/══════════════════════════════════════════\n",
       "«                                               </pre>"
      ],
      "text/plain": [
       "          ┌───┐         ┌───┐    ┌─────────┐                       »\n",
       "q_0: ─────┤ H ├─────────┤ X ├────┤ Ry(0.1) ├──■────────────■───────»\n",
       "          ├───┤         ├───┤    ├─────────┤  │            │       »\n",
       "q_1: ─────┤ S ├─────────┤ Y ├────┤ Rz(0.5) ├──┼───■────────■───────»\n",
       "          ├───┤         ├───┤    └─────────┘┌─┴─┐ │      ┌─┴─┐     »\n",
       "q_2: ─────┤ T ├─────────┤ Z ├───────────────┤ X ├─┼──────┤ X ├─────»\n",
       "     ┌────┴───┴────┐┌───┴───┴───┐           └───┘ │ ┌────┴───┴────┐»\n",
       "q_3: ┤ P(-0.33333) ├┤ Rx(0.345) ├─────────────────■─┤ P(-0.33333) ├»\n",
       "     └─────────────┘└───────────┘                   └─────────────┘»\n",
       "c: 3/══════════════════════════════════════════════════════════════»\n",
       "                                                                   »\n",
       "«         ┌───┐    ┌───┐┌─────────┐             \n",
       "«q_0: ────┤ H ├────┤ X ├┤ Ry(0.1) ├──■───────■──\n",
       "«         ├───┤    ├───┤├─────────┤  │       │  \n",
       "«q_1: ────┤ S ├────┤ Y ├┤ Rz(0.5) ├──┼───■───■──\n",
       "«         ├───┤    ├───┤└─────────┘┌─┴─┐ │ ┌─┴─┐\n",
       "«q_2: ────┤ T ├────┤ Z ├───────────┤ X ├─┼─┤ X ├\n",
       "«     ┌───┴───┴───┐└───┘           └───┘ │ └───┘\n",
       "«q_3: ┤ Rx(0.345) ├──────────────────────■──────\n",
       "«     └───────────┘                             \n",
       "«c: 3/══════════════════════════════════════════\n",
       "«                                               "
      ]
     },
     "execution_count": 122,
     "metadata": {},
     "output_type": "execute_result"
    }
   ],
   "source": [
    "# Avec compose, c'est plus simple, il n'y a même pas forcément besoin de spécifier les qubits \n",
    "# \n",
    "qc2 = qc.compose(qc, [0,1,2,3], [0,1,2])\n",
    "qc2.draw()"
   ]
  },
  {
   "cell_type": "markdown",
   "id": "49781769",
   "metadata": {},
   "source": [
    "---\n",
    "###  Expérience quantique n°1 : la génération d'un état de Bell et ses variantes"
   ]
  },
  {
   "cell_type": "markdown",
   "id": "b00b7cf7",
   "metadata": {},
   "source": [
    "Un état de Bell est un état quantique d'intrication maximale entre deux qubits. Ci-dessous on génère un état de Bell où le premier et le second qubit partagent la même valeur (00 ou 11)."
   ]
  },
  {
   "cell_type": "code",
   "execution_count": 123,
   "id": "aa4f066b",
   "metadata": {},
   "outputs": [
    {
     "data": {
      "text/html": [
       "<pre style=\"word-wrap: normal;white-space: pre;background: #fff0;line-height: 1.1;font-family: &quot;Courier New&quot;,Courier,monospace\">     ┌───┐     \n",
       "q_0: ┤ H ├──■──\n",
       "     └───┘┌─┴─┐\n",
       "q_1: ─────┤ X ├\n",
       "          └───┘\n",
       "c: 2/══════════\n",
       "               </pre>"
      ],
      "text/plain": [
       "     ┌───┐     \n",
       "q_0: ┤ H ├──■──\n",
       "     └───┘┌─┴─┐\n",
       "q_1: ─────┤ X ├\n",
       "          └───┘\n",
       "c: 2/══════════\n",
       "               "
      ]
     },
     "execution_count": 123,
     "metadata": {},
     "output_type": "execute_result"
    }
   ],
   "source": [
    "nb_qubits = 2\n",
    "\n",
    "# Initialisation du circuit\n",
    "qc = QuantumCircuit(nb_qubits, nb_qubits)\n",
    "\n",
    "# On ajoute les portes que l'on veut \n",
    "qc.h(0)    # Hadamard sur le qubit 0\n",
    "qc.cx(0,1) # CNOT sur les qubits 0, 1 (contrôle à 0, cible à 1)\n",
    "\n",
    "\n",
    "# On affiche le circuit:\n",
    "qc.draw()"
   ]
  },
  {
   "cell_type": "code",
   "execution_count": 124,
   "id": "896bf298",
   "metadata": {},
   "outputs": [
    {
     "data": {
      "text/latex": [
       "$$\n",
       "\\text{Statevector = }\n",
       "\\begin{bmatrix}\n",
       "\\frac{\\sqrt{2}}{2} & 0 & 0 & \\frac{\\sqrt{2}}{2}  \\\\\n",
       " \\end{bmatrix}\n",
       "$$"
      ],
      "text/plain": [
       "<IPython.core.display.Latex object>"
      ]
     },
     "execution_count": 124,
     "metadata": {},
     "output_type": "execute_result"
    }
   ],
   "source": [
    "output_state = simulate_circuit_state(qc)\n",
    "array_to_latex(output_state, prefix=\"\\\\text{Statevector = }\")"
   ]
  },
  {
   "cell_type": "markdown",
   "id": "16b2b76b",
   "metadata": {},
   "source": [
    "Mesurer les deux qubits donnera bien environ 50% de 00 et 50% de 11."
   ]
  },
  {
   "cell_type": "code",
   "execution_count": 125,
   "id": "17fd2a1c",
   "metadata": {},
   "outputs": [
    {
     "data": {
      "image/png": "[encoded data removed]",
      "text/plain": [
       "<Figure size 640x480 with 1 Axes>"
      ]
     },
     "execution_count": 125,
     "metadata": {},
     "output_type": "execute_result"
    }
   ],
   "source": [
    "stats = simulate_circuit_histogram(qc, [0,1])\n",
    "plot_histogram(stats)"
   ]
  },
  {
   "cell_type": "markdown",
   "id": "d18ec658",
   "metadata": {},
   "source": [
    "---\n",
    "### Exercice 2 : violation des inégalités de Bell </center>"
   ]
  },
  {
   "cell_type": "markdown",
   "id": "96f0dfe6",
   "metadata": {},
   "source": [
    "On s'intéresse à l'expérience quantique suivante : \n",
    "\n",
    "<center> <img src=\"bell_inequalities.PNG\" width=300> </center>\n",
    "\n",
    "i.e, un état de Bell suivi de deux rotations Ry puis la mesure du système. Exceptionnellement, ici les valeurs possibles des mesures seront $\\{-1, 1 \\}$.\n",
    "\n",
    "On veut s'intéresser à la corrélation entre $a$ et $b$, définie par \n",
    "\n",
    "$$ \\mathbb{E}_{\\theta_1, \\theta_2}(ab) = P(a=b | \\theta_1, \\theta_2) - P(a\\neq b| \\theta_1, \\theta_2). $$\n",
    "\n",
    "Plus les résultats des mesures $a, b$ sont corrélés et plus l'espérance sera grande en valeur absolue. À l'inverse, plus les résultats sont décorrélés et plus l'espérance sera proche de $0$. \n",
    "\n",
    "Pour deux valeurs possibles de $\\theta_1$ et $\\theta_2$, on a 4 paires de bases de mesure possibles, donc 4 valeurs possibles de corrélations. On va étudier la quantité \n",
    "\n",
    "$$ S = \\mathbb{E}_{\\theta_1, \\theta_2}(ab) - \\mathbb{E}_{\\theta_1, \\theta_2'}(ab) + \\mathbb{E}_{\\theta_1', \\theta_2}(ab) + \\mathbb{E}_{\\theta_1', \\theta_2'}(ab).  $$\n",
    "\n",
    "Dans l'hypothèse d'une théorie locale à variables cachées, on a \n",
    "\n",
    "$$ |S| \\leq 2. $$\n",
    "\n",
    "En effet, en éloignant suffisamment nos deux particules de sorte qu'elles ne puissent plus communiquer durant les mesures, par hypothèse de localité il y aura indépendance entre les deux mesures. Autrement dit, \n",
    "\n",
    "$$ P(ab | \\theta_1, \\theta_2) = P(a | \\theta_1) P(b | \\theta_2) $$ \n",
    "\n",
    "et on aura également \n",
    "\n",
    "$$ \\mathbb{E}_{\\theta_1, \\theta_2}(ab) = \\mathbb{E}_{\\theta_1}(a) \\mathbb{E}_{\\theta_2}(b) $$ \n",
    "\n",
    "ce qui nous permet de réécrire $S$ sous une forme factorisée\n",
    "\n",
    "$$ S = \\mathbb{E}_{\\theta_1}(a) \\big( \\mathbb{E}_{\\theta_2}(b) - \\mathbb{E}_{\\theta'_2}(b) \\big) + \\mathbb{E}_{\\theta'_1}(a) \\big( \\mathbb{E}_{\\theta_2}(b) + \\mathbb{E}_{\\theta'_2}(b) \\big) = A(B-B') + A'(B+B') $$\n",
    "\n",
    "avec $ -1 \\leq A,A',B,B' \\leq 1$. Donc \n",
    "\n",
    "$$ |S| \\leq |B+B'| + |B-B'| $$ \n",
    "\n",
    "et on considère trois cas : \n",
    "\n",
    "- $0 \\leq B \\leq B' \\leq 1$, dans ce cas $|B+B'| + |B-B'| = 2B' \\leq 2$,\n",
    "- $ -1 \\leq B \\leq B' \\leq 0$, dans ce cas $ |B+B'| + |B-B'| = -2B \\leq 2$,\n",
    "- $ -1 \\leq B \\leq 0 \\leq B' \\leq 1$, dans ce cas $ |B+B'| + |B-B'| = 2B' \\leq 2$ ou $-2B \\leq 2$ selon le signe de $|B+B'|$.\n",
    "\n",
    "Le cas où $B' \\leq B$ se traite de la même manière. \n",
    "\n",
    "Dans l'hypothèse d'une théorie locale à variables cachées, on s'autorise également la possibilité d'une variable supplémentaire $\\lambda$ partagée entre les particules au moment de leur interaction qui peut conditionner les résultats de la mesure. On réécrit nos probabilités \n",
    "\n",
    "$$ P(ab | \\theta_1, \\theta_2, \\lambda) $$\n",
    "\n",
    "mais cela ne change rien au calcul car la valeur de lambda nous est inconnue au moment de l'expérience et peut varier d'une expérience à l'autre. En répétant un grand nombre de fois l'expérience on moyenne également sur la valeur de lambda, autrement dit lors d'une expérience donnée avec $\\theta_1, \\theta_2$ fixés on calcule \n",
    "\n",
    "$$ \\int_\\lambda \\mathbb{E}_{\\theta_1, \\theta_2, \\lambda}(ab) p(\\lambda) d\\lambda $$\n",
    "\n",
    "et \n",
    "\n",
    "$$ S = \\int_{\\lambda} \\mathbb{E}_{\\theta_1, \\theta_2, \\lambda}(ab)p(\\lambda) d\\lambda - \\int_{\\lambda} \\mathbb{E}_{\\theta_1, \\theta_2', \\lambda}(ab)p(\\lambda) d\\lambda + \\int_{\\lambda} \\mathbb{E}_{\\theta_1', \\theta_2, \\lambda}(ab)p(\\lambda) d\\lambda + \\int_{\\lambda} \\mathbb{E}_{\\theta_1', \\theta_2', \\lambda}(ab)p(\\lambda) d\\lambda. $$ \n",
    "\n",
    "Pour les mêmes raisons de localité, et par commutation de l'intégrale et de la somme, on peut à nouveau factoriser S et borner la valeur au sein de l'intégrale : \n",
    "\n",
    "$$ |S| \\leq \\int_{\\lambda} 2p(\\lambda)d\\lambda = 2.$$\n",
    "\n",
    "On va tester cette hypothèse avec notre expérience."
   ]
  },
  {
   "cell_type": "markdown",
   "id": "ffc3c8b5",
   "metadata": {},
   "source": [
    "#### **Question 2.1**\n",
    "\n",
    "<pre> Exprimer l'état mesuré dans la base computationnelle. \n",
    " Quelles sont les probabilités de mesurer 00, 01, 10 et 11 ? </pre>"
   ]
  },
  {
   "cell_type": "markdown",
   "id": "1000710f",
   "metadata": {},
   "source": [
    "P(00)=P(11)=​(cos²((θ1+θ2)/2))/2\n",
    "\n",
    "P(01)=-P(10)=​(sin²((θ1+θ2)/2))/2"
   ]
  },
  {
   "cell_type": "markdown",
   "id": "3c288e41",
   "metadata": {},
   "source": [
    "#### **Question 2.2**\n",
    "\n",
    "<pre> Écrire une routine générant le circuit pour deux valeurs en entrée de theta1, theta2. \n",
    " Vérifiez que les probabilités sont conformes. </pre>"
   ]
  },
  {
   "cell_type": "code",
   "execution_count": 126,
   "id": "3b6cad34",
   "metadata": {},
   "outputs": [
    {
     "data": {
      "text/html": [
       "<pre style=\"word-wrap: normal;white-space: pre;background: #fff0;line-height: 1.1;font-family: &quot;Courier New&quot;,Courier,monospace\">     ┌───┐     ┌─────────┐\n",
       "q_0: ┤ H ├──■──┤ Ry(0.2) ├\n",
       "     └───┘┌─┴─┐└┬───────┬┘\n",
       "q_1: ─────┤ X ├─┤ Ry(1) ├─\n",
       "          └───┘ └───────┘ </pre>"
      ],
      "text/plain": [
       "     ┌───┐     ┌─────────┐\n",
       "q_0: ┤ H ├──■──┤ Ry(0.2) ├\n",
       "     └───┘┌─┴─┐└┬───────┬┘\n",
       "q_1: ─────┤ X ├─┤ Ry(1) ├─\n",
       "          └───┘ └───────┘ "
      ]
     },
     "execution_count": 126,
     "metadata": {},
     "output_type": "execute_result"
    }
   ],
   "source": [
    "nb_qubits = 2\n",
    "theta1=0.1\n",
    "theta2=0.5\n",
    "\n",
    "# Initialisation du circuit\n",
    "qc = QuantumCircuit(nb_qubits)\n",
    "\n",
    "# On ajoute les portes que l'on veut \n",
    "qc.h(0)    # Hadamard sur le qubit 0\n",
    "qc.cx(0,1) # CNOT sur les qubits 0, 1 (contrôle à 0, cible à 1)\n",
    "qc.append(RYGate(2*theta1), [0])\n",
    "qc.append(RYGate(2*theta2), [1])\n",
    "\n",
    "qc.draw()\n"
   ]
  },
  {
   "cell_type": "code",
   "execution_count": 127,
   "id": "bf85a83b",
   "metadata": {},
   "outputs": [
    {
     "data": {
      "text/latex": [
       "$$\n",
       "\\text{Statevector = }\n",
       "\\begin{bmatrix}\n",
       "0.6512884747 & -0.2753603506 & 0.2753603506 & 0.6512884747  \\\\\n",
       " \\end{bmatrix}\n",
       "$$"
      ],
      "text/plain": [
       "<IPython.core.display.Latex object>"
      ]
     },
     "execution_count": 127,
     "metadata": {},
     "output_type": "execute_result"
    }
   ],
   "source": [
    "output_state = simulate_circuit_state(qc)\n",
    "array_to_latex(output_state, prefix=\"\\\\text{Statevector = }\")"
   ]
  },
  {
   "cell_type": "markdown",
   "id": "14313371",
   "metadata": {},
   "source": [
    "#### **Question 2.3** \n",
    "\n",
    "<pre> Écrire une routine qui prend en entrée theta1, theta2, et calcule le facteur de corrélation. </pre>"
   ]
  },
  {
   "cell_type": "code",
   "execution_count": 128,
   "id": "338388c0",
   "metadata": {},
   "outputs": [],
   "source": [
    "def compute_correlation(theta1, theta2):\n",
    "\n",
    "    nb_qubits = 2\n",
    "    qc = QuantumCircuit(nb_qubits, nb_qubits)\n",
    "    \n",
    "    qc.h(0)\n",
    "    qc.cx(0, 1)\n",
    "    qc.append(RYGate(2 * theta1), [0])\n",
    "    qc.append(RYGate(2 * theta2), [1])\n",
    "    \n",
    "    qc.measure([0, 1], [0, 1])\n",
    "    \n",
    "    qc = transpile(qc, aer_sim)\n",
    "    \n",
    "    # Exécution\n",
    "    result = aer_sim.run(qc).result()\n",
    "    \n",
    "    # Récupération des résultats de mesures\n",
    "    counts = result.get_counts(qc)\n",
    "    \n",
    "    # Analyse des résultats\n",
    "    p00 = counts.get(\"00\", 0)  # Si le résultat \"00\" n'est pas présent, prend la valeur 0\n",
    "    p01 = counts.get(\"01\", 0)\n",
    "    p10 = counts.get(\"10\", 0)\n",
    "    p11 = counts.get(\"11\", 0)\n",
    "    \n",
    "    # Calcul du facteur de corrélation\n",
    "    p_a_eq_b = p00 + p11\n",
    "    p_a_neq_b = p01 + p10\n",
    "    correlation = p_a_eq_b - p_a_neq_b\n",
    "    \n",
    "    return correlation"
   ]
  },
  {
   "cell_type": "markdown",
   "id": "9f96f22c",
   "metadata": {},
   "source": [
    "#### **Question 2.4** \n",
    "\n",
    "<pre> Calculer S pour theta1 = 0, theta1' = pi/4, theta2 = pi/8 et theta2' = 3pi/8. \n",
    " Que peut-on en conclure ?</pre> "
   ]
  },
  {
   "cell_type": "code",
   "execution_count": 129,
   "id": "9774bc09",
   "metadata": {},
   "outputs": [
    {
     "name": "stdout",
     "output_type": "stream",
     "text": [
      "Valeur de S : 2964\n"
     ]
    }
   ],
   "source": [
    "# Paramètres de l'expérience\n",
    "import numpy\n",
    "\n",
    "\n",
    "theta1 = 0\n",
    "theta1_prime = numpy.pi / 4\n",
    "theta2 = numpy.pi / 8\n",
    "theta2_prime = 3 * numpy.pi / 8\n",
    "\n",
    "# Simulation sur un backend de Qiskit\n",
    "simulator = Aer.get_backend('aer_simulator')\n",
    "\n",
    "# Calcul de S\n",
    "S = (\n",
    "    compute_correlation(theta1, theta2) - \n",
    "    compute_correlation(theta1, theta2_prime) +\n",
    "    compute_correlation(theta1_prime, theta2) +\n",
    "    compute_correlation(theta1_prime, theta2_prime)\n",
    ")\n",
    "\n",
    "print(f\"Valeur de S : {S}\")"
   ]
  },
  {
   "cell_type": "markdown",
   "id": "febfd3f2",
   "metadata": {},
   "source": [
    "#### **Question 2.5** \n",
    "\n",
    "<pre> Donner une formule simple pour E_(theta1, theta2)(ab).  \n",
    " Retrouver la valeur théorique de S pour theta1 = 0, theta1' = pi/4, theta2 = pi/8 et theta2' = 3pi/8. </pre>"
   ]
  },
  {
   "cell_type": "markdown",
   "id": "959f6703",
   "metadata": {},
   "source": []
  },
  {
   "cell_type": "markdown",
   "id": "13653849",
   "metadata": {},
   "source": [
    "---\n",
    "### Exercice 3 : la téléportation quantique </center>"
   ]
  },
  {
   "cell_type": "markdown",
   "id": "22411e80",
   "metadata": {},
   "source": [
    "Le but de cet exercice est d'échanger un qubit entre deux personnes. Le protocole est le suivant :\n",
    "<center> <img src=\"teleportation.PNG\" width=300> </center>"
   ]
  },
  {
   "cell_type": "markdown",
   "id": "9d72050e",
   "metadata": {},
   "source": [
    "Alice possède un qubit dans l'état $\\ket{\\psi}$ qu'elle aimerait envoyer de manière sécurisée à Bob. Pour cela ils partagent une paire de qubits $\\ket{\\cdot}_A$ et $\\ket{\\cdot}_B$ dans l'état de Bell\n",
    "$$ \\frac{1}{\\sqrt{2}} (\\ket{00} + \\ket{11}). $$\n",
    "\n",
    "Alice possède donc deux qubits, Bob un seul. Alice va effectuer quelques opérations sur ses deux qubits puis les mesurer. Elle va ensuite envoyer classiquement les résultats de sa mesure à Bob qui va effectuer des corrections selon ce qu'Alice va lui envoyer. Plus précisément, et dans cet ordre précis :\n",
    "- si Alice mesure 1 sur le qubit de l'état de Bell qu'elle partageait avec Bob ($\\ket{\\cdot}_A$), alors Bob applique une porte X sur son qubit ($\\ket{\\cdot}_B$),\n",
    "- si Alice mesure 1 sur le qubit qui contenait initialement son qubit à envoyer ($\\ket{\\psi}$), alors Bob applique une porte Z sur son qubit ($\\ket{\\cdot}_B$).\n",
    "\n",
    "Une fois le protocole réalisé, Bob possède un qubit dans l'état $\\ket{\\psi}$. D'un point de vue communication, une fois qu'Alice et Bob ont une paire de qubits intriqués, Alice n'a besoin d'envoyer que 2 bits classiques à Bob pour réaliser la téléportation."
   ]
  },
  {
   "cell_type": "markdown",
   "id": "e1d435df",
   "metadata": {},
   "source": [
    "#### **Question 3.1**\n",
    "\n",
    "<pre> Générer un circuit sur 2 qubits qui génère l'état de Bell qu'Alice et Bob vont se partager. </pre>"
   ]
  },
  {
   "cell_type": "code",
   "execution_count": 130,
   "id": "712f3d61",
   "metadata": {},
   "outputs": [
    {
     "data": {
      "text/html": [
       "<pre style=\"word-wrap: normal;white-space: pre;background: #fff0;line-height: 1.1;font-family: &quot;Courier New&quot;,Courier,monospace\">     ┌───┐     \n",
       "q_0: ┤ H ├──■──\n",
       "     └───┘┌─┴─┐\n",
       "q_1: ─────┤ X ├\n",
       "          └───┘</pre>"
      ],
      "text/plain": [
       "     ┌───┐     \n",
       "q_0: ┤ H ├──■──\n",
       "     └───┘┌─┴─┐\n",
       "q_1: ─────┤ X ├\n",
       "          └───┘"
      ]
     },
     "execution_count": 130,
     "metadata": {},
     "output_type": "execute_result"
    }
   ],
   "source": [
    "\n",
    "nb_qubits = 2\n",
    "\n",
    "# Initialisation du circuit\n",
    "circuit_bell = QuantumCircuit(nb_qubits)\n",
    "# On ajoute les portes que l'on veut \n",
    "circuit_bell.h(0)    # Hadamard sur le qubit 0\n",
    "circuit_bell.cx(0,1) # CNOT sur les qubits 0, 1 (contrôle à 0, cible à 1)\n",
    "\n",
    "\n",
    "# On affiche le circuit:\n",
    "circuit_bell.draw()"
   ]
  },
  {
   "cell_type": "markdown",
   "id": "53b9cfd6",
   "metadata": {},
   "source": [
    "#### **Question 3.2**\n",
    "<pre> Générer un circuit sur 2 qubits qui réalise les opérations d'Alice, mesures non incluses. \n",
    " Vous complèterez la fonction ci-dessous qui génère un état aléatoire sur 1 qubit. </pre>"
   ]
  },
  {
   "cell_type": "code",
   "execution_count": 131,
   "id": "6c4cdf1f",
   "metadata": {},
   "outputs": [
    {
     "data": {
      "text/html": [
       "<pre style=\"word-wrap: normal;white-space: pre;background: #fff0;line-height: 1.1;font-family: &quot;Courier New&quot;,Courier,monospace\">     ┌────────────┐┌─────────────┐┌────────────┐     ┌───┐\n",
       "q_0: ┤ Rz(4.9223) ├┤ Ry(0.51617) ├┤ Ry(3.2749) ├──■──┤ H ├\n",
       "     └────────────┘└─────────────┘└────────────┘┌─┴─┐└───┘\n",
       "q_1: ───────────────────────────────────────────┤ X ├─────\n",
       "                                                └───┘     </pre>"
      ],
      "text/plain": [
       "     ┌────────────┐┌─────────────┐┌────────────┐     ┌───┐\n",
       "q_0: ┤ Rz(4.9223) ├┤ Ry(0.51617) ├┤ Ry(3.2749) ├──■──┤ H ├\n",
       "     └────────────┘└─────────────┘└────────────┘┌─┴─┐└───┘\n",
       "q_1: ───────────────────────────────────────────┤ X ├─────\n",
       "                                                └───┘     "
      ]
     },
     "execution_count": 131,
     "metadata": {},
     "output_type": "execute_result"
    }
   ],
   "source": [
    "nb_qubits = 2\n",
    "\n",
    "# Initialisation du circuit\n",
    "circuit_alice = QuantumCircuit(nb_qubits)\n",
    "\n",
    "a=2*numpy.pi*numpy.random.rand()\n",
    "b=2*numpy.pi*numpy.random.rand()\n",
    "c=2*numpy.pi*numpy.random.rand()\n",
    "# On ajoute les portes que l'on veut \n",
    "circuit_alice.append(RZGate(a), [0])\n",
    "circuit_alice.append(RYGate(b), [0])\n",
    "circuit_alice.append(RYGate(c), [0])\n",
    "circuit_alice.cx(0,1) # CNOT sur les qubits 0, 1 (contrôle à 0, cible à 1)\n",
    "circuit_alice.h(0)    # Hadamard sur le qubit 0\n",
    "\n",
    "\n",
    "\n",
    "# On affiche le circuit:\n",
    "circuit_alice.draw()\n",
    "\n"
   ]
  },
  {
   "cell_type": "code",
   "execution_count": 132,
   "id": "16888c0f",
   "metadata": {},
   "outputs": [
    {
     "data": {
      "text/latex": [
       "$$\n",
       "\\text{Statevector = }\n",
       "\\begin{bmatrix}\n",
       "0.2887586538 + 0.9572986168 i & 0.0040615249 + 0.0134648508 i & 0 & 0  \\\\\n",
       " \\end{bmatrix}\n",
       "$$"
      ],
      "text/plain": [
       "<IPython.core.display.Latex object>"
      ]
     },
     "execution_count": 132,
     "metadata": {},
     "output_type": "execute_result"
    }
   ],
   "source": [
    "circuit_alice2 = QuantumCircuit(nb_qubits)\n",
    "\n",
    "a=2*numpy.pi*numpy.random.rand()\n",
    "b=2*numpy.pi*numpy.random.rand()\n",
    "c=2*numpy.pi*numpy.random.rand()\n",
    "# On ajoute les portes que l'on veut \n",
    "circuit_alice2.append(RZGate(a), [0])\n",
    "circuit_alice2.append(RYGate(b), [0])\n",
    "circuit_alice2.append(RYGate(c), [0])\n",
    "\n",
    "output_state = simulate_circuit_state(circuit_alice2)\n",
    "array_to_latex(output_state, prefix=\"\\\\text{Statevector = }\")"
   ]
  },
  {
   "cell_type": "markdown",
   "id": "08007869",
   "metadata": {},
   "source": [
    "#### **Question 3.3**\n",
    "\n",
    "<pre> Générer un circuit sur 1 qubit avec 2 bits classiques qui réalise les opérations de Bob. </pre>\n",
    "\n",
    "Pour cela vous utiliserez la syntaxe **circ.gate(j).c_if(i, True)** où i est le numéro du bit classique qui sert de contrôle. Pour rappel gate sera la porte à appliquer (z ou x) et j le qubit sur lequel est appliqué la porte."
   ]
  },
  {
   "cell_type": "code",
   "execution_count": 133,
   "id": "f908c832",
   "metadata": {},
   "outputs": [
    {
     "name": "stderr",
     "output_type": "stream",
     "text": [
      "C:\\Users\\abarb\\AppData\\Local\\Temp\\ipykernel_3664\\195510174.py:5: DeprecationWarning: The method ``qiskit.circuit.instructionset.InstructionSet.c_if()`` is deprecated as of qiskit 1.3.0. It will be removed in 2.0.0.\n",
      "  circuit_bob.x(0).c_if(0, True)\n",
      "C:\\Users\\abarb\\AppData\\Local\\Temp\\ipykernel_3664\\195510174.py:6: DeprecationWarning: The method ``qiskit.circuit.instructionset.InstructionSet.c_if()`` is deprecated as of qiskit 1.3.0. It will be removed in 2.0.0.\n",
      "  circuit_bob.z(0).c_if(1, True)\n"
     ]
    },
    {
     "data": {
      "text/html": [
       "<pre style=\"word-wrap: normal;white-space: pre;background: #fff0;line-height: 1.1;font-family: &quot;Courier New&quot;,Courier,monospace\">        ┌───┐      ┌───┐   \n",
       "  q: ───┤ X ├──────┤ Z ├───\n",
       "        └─╥─┘      └─╥─┘   \n",
       "     ┌────╨────┐┌────╨────┐\n",
       "c: 2/╡ c_0=0x1 ╞╡ c_1=0x1 ╞\n",
       "     └─────────┘└─────────┘</pre>"
      ],
      "text/plain": [
       "        ┌───┐      ┌───┐   \n",
       "  q: ───┤ X ├──────┤ Z ├───\n",
       "        └─╥─┘      └─╥─┘   \n",
       "     ┌────╨────┐┌────╨────┐\n",
       "c: 2/╡ c_0=0x1 ╞╡ c_1=0x1 ╞\n",
       "     └─────────┘└─────────┘"
      ]
     },
     "execution_count": 133,
     "metadata": {},
     "output_type": "execute_result"
    }
   ],
   "source": [
    "nb_qubits = 1\n",
    "circuit_bob = QuantumCircuit(nb_qubits,2*nb_qubits)\n",
    "\n",
    "# On ajoute les portes que l'on veut \n",
    "circuit_bob.x(0).c_if(0, True)\n",
    "circuit_bob.z(0).c_if(1, True)\n",
    "\n",
    "\n",
    "# On affiche le circuit:\n",
    "circuit_bob.draw()"
   ]
  },
  {
   "cell_type": "markdown",
   "id": "f215754e",
   "metadata": {},
   "source": [
    "#### **Question 3.4**\n",
    "<pre> Générer le circuit complet de la téléportation quantique. </pre>\n",
    "\n",
    "Vous veillerez à réutiliser tous les circuits précédents et vous utiliserez la fonction circ.measure(i,j) où i est le qubit à mesurer et j le bit classique qui va stocker le résultat de la mesure. "
   ]
  },
  {
   "cell_type": "code",
   "execution_count": 134,
   "id": "80431555",
   "metadata": {},
   "outputs": [
    {
     "data": {
      "text/html": [
       "<pre style=\"word-wrap: normal;white-space: pre;background: #fff0;line-height: 1.1;font-family: &quot;Courier New&quot;,Courier,monospace\">     ┌────────────┐┌─────────────┐┌────────────┐     ┌───┐           ┌─┐   »\n",
       "q_0: ┤ Rz(4.9223) ├┤ Ry(0.51617) ├┤ Ry(3.2749) ├──■──┤ H ├───────────┤M├───»\n",
       "     └───┬───┬────┘└─────────────┘└────────────┘┌─┴─┐└┬─┬┘           └╥┘┌─┐»\n",
       "q_1: ────┤ H ├────────────■─────────────────────┤ X ├─┤M├─────────────╫─┤M├»\n",
       "         └───┘          ┌─┴─┐                   └───┘ └╥┘    ┌───┐    ║ └╥┘»\n",
       "q_2: ───────────────────┤ X ├──────────────────────────╫─────┤ X ├────╫──╫─»\n",
       "                        └───┘                          ║     └─╥─┘    ║  ║ »\n",
       "                                                       ║  ┌────╨────┐ ║  ║ »\n",
       "c: 2/══════════════════════════════════════════════════╩══╡ c_0=0x1 ╞═╩══╩═»\n",
       "                                                       0  └─────────┘ 1  0 »\n",
       "«                ┌─┐\n",
       "«q_0: ───────────┤M├\n",
       "«                └╥┘\n",
       "«q_1: ────────────╫─\n",
       "«        ┌───┐    ║ \n",
       "«q_2: ───┤ Z ├────╫─\n",
       "«        └─╥─┘    ║ \n",
       "«     ┌────╨────┐ ║ \n",
       "«c: 2/╡ c_1=0x1 ╞═╩═\n",
       "«     └─────────┘ 1 </pre>"
      ],
      "text/plain": [
       "     ┌────────────┐┌─────────────┐┌────────────┐     ┌───┐           ┌─┐   »\n",
       "q_0: ┤ Rz(4.9223) ├┤ Ry(0.51617) ├┤ Ry(3.2749) ├──■──┤ H ├───────────┤M├───»\n",
       "     └───┬───┬────┘└─────────────┘└────────────┘┌─┴─┐└┬─┬┘           └╥┘┌─┐»\n",
       "q_1: ────┤ H ├────────────■─────────────────────┤ X ├─┤M├─────────────╫─┤M├»\n",
       "         └───┘          ┌─┴─┐                   └───┘ └╥┘    ┌───┐    ║ └╥┘»\n",
       "q_2: ───────────────────┤ X ├──────────────────────────╫─────┤ X ├────╫──╫─»\n",
       "                        └───┘                          ║     └─╥─┘    ║  ║ »\n",
       "                                                       ║  ┌────╨────┐ ║  ║ »\n",
       "c: 2/══════════════════════════════════════════════════╩══╡ c_0=0x1 ╞═╩══╩═»\n",
       "                                                       0  └─────────┘ 1  0 »\n",
       "«                ┌─┐\n",
       "«q_0: ───────────┤M├\n",
       "«                └╥┘\n",
       "«q_1: ────────────╫─\n",
       "«        ┌───┐    ║ \n",
       "«q_2: ───┤ Z ├────╫─\n",
       "«        └─╥─┘    ║ \n",
       "«     ┌────╨────┐ ║ \n",
       "«c: 2/╡ c_1=0x1 ╞═╩═\n",
       "«     └─────────┘ 1 "
      ]
     },
     "execution_count": 134,
     "metadata": {},
     "output_type": "execute_result"
    }
   ],
   "source": [
    "nb_qubits = 3\n",
    "nb_bits = 2\n",
    "\n",
    "qc = QuantumCircuit(nb_qubits,nb_bits)\n",
    "\n",
    "qc.append(circuit_bell,[1,2])\n",
    "qc.append(circuit_alice,[0,1])\n",
    "qc.measure(1,0)\n",
    "qc.measure(0,1)\n",
    "qc.append(circuit_bob,[2],[0,1])\n",
    "qc.measure(1,0)\n",
    "qc.measure(0,1)\n",
    "\n",
    "qc = qc.decompose()\n",
    "qc.draw()\n",
    "\n"
   ]
  },
  {
   "cell_type": "markdown",
   "id": "b104e108",
   "metadata": {},
   "source": [
    "#### **Question 3.5**\n",
    "<pre> Faire la simulation du circuit pour récupérer le vecteur d'état en sortie. \n",
    " Comparer avec l'état initial que possédait Alice. </pre>"
   ]
  },
  {
   "cell_type": "code",
   "execution_count": 135,
   "id": "c72de362",
   "metadata": {},
   "outputs": [
    {
     "data": {
      "text/latex": [
       "$$\n",
       "\\text{Statevector = }\n",
       "\\begin{bmatrix}\n",
       "0.2480200242 + 0.2007435304 i & 0 & 0 & 0 & -0.7366668533 - 0.5962466351 i & 0 & 0 & 0  \\\\\n",
       " \\end{bmatrix}\n",
       "$$"
      ],
      "text/plain": [
       "<IPython.core.display.Latex object>"
      ]
     },
     "execution_count": 135,
     "metadata": {},
     "output_type": "execute_result"
    }
   ],
   "source": [
    "output_state = simulate_circuit_state(qc)\n",
    "array_to_latex(output_state, prefix=\"\\\\text{Statevector = }\")"
   ]
  },
  {
   "cell_type": "markdown",
   "id": "d92ef8ee",
   "metadata": {},
   "source": [
    "#### **Question 3.6**\n",
    "<pre> Les entrées non nulles du vecteur de sortie changent selon la simulation. Pouvez-vous expliquer pourquoi ? </pre>"
   ]
  },
  {
   "cell_type": "markdown",
   "id": "cdffc10c",
   "metadata": {},
   "source": [
    "Non"
   ]
  },
  {
   "cell_type": "markdown",
   "id": "6a995a8c",
   "metadata": {},
   "source": [
    "---\n",
    "\n",
    "### Expérience quantique 2 : la porte Toffoli et autre circuit logique\n",
    "\n",
    "<br><br>\n",
    "La porte Toffoli est une porte logique sur 3 qubits qui réalise l'opération \n",
    "\n",
    "$$ [x_1, x_2, x_3] \\to [x_1, x_2, x_1 \\oplus x_2x_3] $$\n",
    "\n",
    "où $\\oplus$ est l'opérateur XOR. Cette opération correspond aussi à une porte X sur le qubit 3 contrôlée par les qubits 1 et 2. La version unitaire de la Toffoli est \n",
    "\n",
    "$$ T = \\begin{bmatrix} 1 &&&&&&& \\\\ &1&&&&&& \\\\ &&1&&&&& \\\\ &&&&&&&1 \\\\ &&&&1&&& \\\\ &&&&&1&& \\\\ &&&&&&1& \\\\ &&&1&&&& \\end{bmatrix} $$ \n",
    "\n",
    "\n",
    "Le circuit suivant implémente la porte Toffoli : \n",
    "\n",
    "<center> <img src=\"toffoli.PNG\" width=\"700\"> </center>\n",
    "\n",
    "\n",
    "\n",
    "<br><br>\n",
    "On va créer le circuit, le simuler et vérifier que cela implémente bien l'opérateur voulu. "
   ]
  },
  {
   "cell_type": "code",
   "execution_count": 136,
   "id": "62859a35",
   "metadata": {},
   "outputs": [
    {
     "data": {
      "text/html": [
       "<pre style=\"word-wrap: normal;white-space: pre;background: #fff0;line-height: 1.1;font-family: &quot;Courier New&quot;,Courier,monospace\">                                                       ┌───┐      \n",
       "q_0: ───────────────────■─────────────────────■────■───┤ T ├───■──\n",
       "                        │             ┌───┐   │  ┌─┴─┐┌┴───┴┐┌─┴─┐\n",
       "q_1: ───────■───────────┼─────────■───┤ T ├───┼──┤ X ├┤ Tdg ├┤ X ├\n",
       "     ┌───┐┌─┴─┐┌─────┐┌─┴─┐┌───┐┌─┴─┐┌┴───┴┐┌─┴─┐├───┤└┬───┬┘└───┘\n",
       "q_2: ┤ H ├┤ X ├┤ Tdg ├┤ X ├┤ T ├┤ X ├┤ Tdg ├┤ X ├┤ T ├─┤ H ├──────\n",
       "     └───┘└───┘└─────┘└───┘└───┘└───┘└─────┘└───┘└───┘ └───┘      </pre>"
      ],
      "text/plain": [
       "                                                       ┌───┐      \n",
       "q_0: ───────────────────■─────────────────────■────■───┤ T ├───■──\n",
       "                        │             ┌───┐   │  ┌─┴─┐┌┴───┴┐┌─┴─┐\n",
       "q_1: ───────■───────────┼─────────■───┤ T ├───┼──┤ X ├┤ Tdg ├┤ X ├\n",
       "     ┌───┐┌─┴─┐┌─────┐┌─┴─┐┌───┐┌─┴─┐┌┴───┴┐┌─┴─┐├───┤└┬───┬┘└───┘\n",
       "q_2: ┤ H ├┤ X ├┤ Tdg ├┤ X ├┤ T ├┤ X ├┤ Tdg ├┤ X ├┤ T ├─┤ H ├──────\n",
       "     └───┘└───┘└─────┘└───┘└───┘└───┘└─────┘└───┘└───┘ └───┘      "
      ]
     },
     "execution_count": 136,
     "metadata": {},
     "output_type": "execute_result"
    }
   ],
   "source": [
    "qc = QuantumCircuit(3)\n",
    "qc.h(2)\n",
    "qc.cx(1,2)\n",
    "qc.tdg(2)\n",
    "qc.cx(0,2)\n",
    "qc.t(2)\n",
    "qc.cx(1,2)\n",
    "qc.tdg(2)\n",
    "qc.cx(0,2)\n",
    "qc.t(1)\n",
    "qc.t(2)\n",
    "qc.cx(0,1)\n",
    "qc.t(0)\n",
    "qc.tdg(1)\n",
    "qc.cx(0,1)\n",
    "qc.h(2)\n",
    "\n",
    "qc.draw()"
   ]
  },
  {
   "cell_type": "code",
   "execution_count": 137,
   "id": "4801b6e5",
   "metadata": {},
   "outputs": [
    {
     "name": "stdout",
     "output_type": "stream",
     "text": [
      "Erreur d'implémentation :  8.598307679924493e-16\n"
     ]
    }
   ],
   "source": [
    "U = simulate_circuit_unitary(qc)\n",
    "T = np.eye(8)\n",
    "T[3,3] = T[7,7] = 0\n",
    "T[7,3] = T[3,7] = 1\n",
    "\n",
    "print(\"Erreur d'implémentation : \", np.linalg.norm(U.data-T))"
   ]
  },
  {
   "cell_type": "markdown",
   "id": "e34f383e",
   "metadata": {},
   "source": [
    "On peut également vérifier que notre circuit implémente la Toffoli en rajoutant la Toffoli implémentée dans Qiskit directement dans notre circuit et en vérifiant que le circuit total applique l'identité. Cela nous donne l'occasion de voir comment faire une porte avec un nombre arbitraire de contrôles et d'insérer une porte (ou un sous-circuit) à notre circuit global."
   ]
  },
  {
   "cell_type": "code",
   "execution_count": 138,
   "id": "805cd52a",
   "metadata": {},
   "outputs": [
    {
     "data": {
      "text/html": [
       "<pre style=\"word-wrap: normal;white-space: pre;background: #fff0;line-height: 1.1;font-family: &quot;Courier New&quot;,Courier,monospace\">                                                       ┌───┐           \n",
       "q_0: ───────────────────■─────────────────────■────■───┤ T ├───■────■──\n",
       "                        │             ┌───┐   │  ┌─┴─┐┌┴───┴┐┌─┴─┐  │  \n",
       "q_1: ───────■───────────┼─────────■───┤ T ├───┼──┤ X ├┤ Tdg ├┤ X ├──■──\n",
       "     ┌───┐┌─┴─┐┌─────┐┌─┴─┐┌───┐┌─┴─┐┌┴───┴┐┌─┴─┐├───┤└┬───┬┘└───┘┌─┴─┐\n",
       "q_2: ┤ H ├┤ X ├┤ Tdg ├┤ X ├┤ T ├┤ X ├┤ Tdg ├┤ X ├┤ T ├─┤ H ├──────┤ X ├\n",
       "     └───┘└───┘└─────┘└───┘└───┘└───┘└─────┘└───┘└───┘ └───┘      └───┘</pre>"
      ],
      "text/plain": [
       "                                                       ┌───┐           \n",
       "q_0: ───────────────────■─────────────────────■────■───┤ T ├───■────■──\n",
       "                        │             ┌───┐   │  ┌─┴─┐┌┴───┴┐┌─┴─┐  │  \n",
       "q_1: ───────■───────────┼─────────■───┤ T ├───┼──┤ X ├┤ Tdg ├┤ X ├──■──\n",
       "     ┌───┐┌─┴─┐┌─────┐┌─┴─┐┌───┐┌─┴─┐┌┴───┴┐┌─┴─┐├───┤└┬───┬┘└───┘┌─┴─┐\n",
       "q_2: ┤ H ├┤ X ├┤ Tdg ├┤ X ├┤ T ├┤ X ├┤ Tdg ├┤ X ├┤ T ├─┤ H ├──────┤ X ├\n",
       "     └───┘└───┘└─────┘└───┘└───┘└───┘└─────┘└───┘└───┘ └───┘      └───┘"
      ]
     },
     "execution_count": 138,
     "metadata": {},
     "output_type": "execute_result"
    }
   ],
   "source": [
    "qc2 = qc.copy() # pour éviter que plusieurs exécutions de la cellule fassent s'accumuler des CCX\n",
    "gate = MCXGate(2)  # Multi Control X Gate, with 2 controls\n",
    "qc2.append(gate, [0,1,2])\n",
    "qc2.draw()"
   ]
  },
  {
   "cell_type": "code",
   "execution_count": 139,
   "id": "43052c05",
   "metadata": {},
   "outputs": [
    {
     "name": "stdout",
     "output_type": "stream",
     "text": [
      "Erreur d'implémentation :  8.598307679924493e-16\n"
     ]
    }
   ],
   "source": [
    "U = simulate_circuit_unitary(qc2)\n",
    "print(\"Erreur d'implémentation : \", np.linalg.norm(U.data-np.eye(8)))"
   ]
  },
  {
   "cell_type": "markdown",
   "id": "ef71fa64",
   "metadata": {},
   "source": [
    "---\n",
    "###  Exercice 4 : un peu d'arithmétique logique </center>"
   ]
  },
  {
   "cell_type": "markdown",
   "id": "cf14583e",
   "metadata": {},
   "source": [
    "####  **Question 4.1**\n",
    "\n",
    "\n",
    "<pre>Simuler le circuit suivant : \n",
    "\n",
    "<center> <img src=\"arithmetic.png\" width=700> </center>\n",
    "\n",
    "\n",
    "Que fait-il ?\n",
    "Indice : écrivez une fonction qui affiche explicitement l'état de sortie pour chaque \n",
    "         bitstring possible en entrée. </pre>"
   ]
  },
  {
   "cell_type": "code",
   "execution_count": 140,
   "id": "31bdf263",
   "metadata": {},
   "outputs": [
    {
     "name": "stderr",
     "output_type": "stream",
     "text": [
      "C:\\Users\\abarb\\AppData\\Local\\Temp\\ipykernel_3664\\585126273.py:33: DeprecationWarning: The function ``qiskit.compiler.assembler.assemble()`` is deprecated as of qiskit 1.2. It will be removed in the 2.0 release. The `Qobj` class and related functionality are part of the deprecated `BackendV1` workflow,  and no longer necessary for `BackendV2`. If a user workflow requires `Qobj` it likely relies on deprecated functionality and should be updated to use `BackendV2`.\n",
      "  qobj = assemble(transpiled_qc, shots=1)  # Un seul tirage suffit\n",
      "C:\\Users\\abarb\\AppData\\Local\\Temp\\ipykernel_3664\\585126273.py:33: DeprecationWarning: The function ``qiskit.compiler.assembler.assemble()`` is deprecated as of qiskit 1.2. It will be removed in the 2.0 release. The `Qobj` class and related functionality are part of the deprecated `BackendV1` workflow,  and no longer necessary for `BackendV2`. If a user workflow requires `Qobj` it likely relies on deprecated functionality and should be updated to use `BackendV2`.\n",
      "  qobj = assemble(transpiled_qc, shots=1)  # Un seul tirage suffit\n",
      "C:\\Users\\abarb\\AppData\\Local\\Temp\\ipykernel_3664\\585126273.py:33: DeprecationWarning: The function ``qiskit.compiler.assembler.assemble()`` is deprecated as of qiskit 1.2. It will be removed in the 2.0 release. The `Qobj` class and related functionality are part of the deprecated `BackendV1` workflow,  and no longer necessary for `BackendV2`. If a user workflow requires `Qobj` it likely relies on deprecated functionality and should be updated to use `BackendV2`.\n",
      "  qobj = assemble(transpiled_qc, shots=1)  # Un seul tirage suffit\n",
      "C:\\Users\\abarb\\AppData\\Local\\Temp\\ipykernel_3664\\585126273.py:33: DeprecationWarning: The function ``qiskit.compiler.assembler.assemble()`` is deprecated as of qiskit 1.2. It will be removed in the 2.0 release. The `Qobj` class and related functionality are part of the deprecated `BackendV1` workflow,  and no longer necessary for `BackendV2`. If a user workflow requires `Qobj` it likely relies on deprecated functionality and should be updated to use `BackendV2`.\n",
      "  qobj = assemble(transpiled_qc, shots=1)  # Un seul tirage suffit\n",
      "C:\\Users\\abarb\\AppData\\Local\\Temp\\ipykernel_3664\\585126273.py:33: DeprecationWarning: The function ``qiskit.compiler.assembler.assemble()`` is deprecated as of qiskit 1.2. It will be removed in the 2.0 release. The `Qobj` class and related functionality are part of the deprecated `BackendV1` workflow,  and no longer necessary for `BackendV2`. If a user workflow requires `Qobj` it likely relies on deprecated functionality and should be updated to use `BackendV2`.\n",
      "  qobj = assemble(transpiled_qc, shots=1)  # Un seul tirage suffit\n",
      "C:\\Users\\abarb\\AppData\\Local\\Temp\\ipykernel_3664\\585126273.py:33: DeprecationWarning: The function ``qiskit.compiler.assembler.assemble()`` is deprecated as of qiskit 1.2. It will be removed in the 2.0 release. The `Qobj` class and related functionality are part of the deprecated `BackendV1` workflow,  and no longer necessary for `BackendV2`. If a user workflow requires `Qobj` it likely relies on deprecated functionality and should be updated to use `BackendV2`.\n",
      "  qobj = assemble(transpiled_qc, shots=1)  # Un seul tirage suffit\n",
      "C:\\Users\\abarb\\AppData\\Local\\Temp\\ipykernel_3664\\585126273.py:33: DeprecationWarning: The function ``qiskit.compiler.assembler.assemble()`` is deprecated as of qiskit 1.2. It will be removed in the 2.0 release. The `Qobj` class and related functionality are part of the deprecated `BackendV1` workflow,  and no longer necessary for `BackendV2`. If a user workflow requires `Qobj` it likely relies on deprecated functionality and should be updated to use `BackendV2`.\n",
      "  qobj = assemble(transpiled_qc, shots=1)  # Un seul tirage suffit\n",
      "C:\\Users\\abarb\\AppData\\Local\\Temp\\ipykernel_3664\\585126273.py:33: DeprecationWarning: The function ``qiskit.compiler.assembler.assemble()`` is deprecated as of qiskit 1.2. It will be removed in the 2.0 release. The `Qobj` class and related functionality are part of the deprecated `BackendV1` workflow,  and no longer necessary for `BackendV2`. If a user workflow requires `Qobj` it likely relies on deprecated functionality and should be updated to use `BackendV2`.\n",
      "  qobj = assemble(transpiled_qc, shots=1)  # Un seul tirage suffit\n",
      "C:\\Users\\abarb\\AppData\\Local\\Temp\\ipykernel_3664\\585126273.py:33: DeprecationWarning: The function ``qiskit.compiler.assembler.assemble()`` is deprecated as of qiskit 1.2. It will be removed in the 2.0 release. The `Qobj` class and related functionality are part of the deprecated `BackendV1` workflow,  and no longer necessary for `BackendV2`. If a user workflow requires `Qobj` it likely relies on deprecated functionality and should be updated to use `BackendV2`.\n",
      "  qobj = assemble(transpiled_qc, shots=1)  # Un seul tirage suffit\n",
      "C:\\Users\\abarb\\AppData\\Local\\Temp\\ipykernel_3664\\585126273.py:33: DeprecationWarning: The function ``qiskit.compiler.assembler.assemble()`` is deprecated as of qiskit 1.2. It will be removed in the 2.0 release. The `Qobj` class and related functionality are part of the deprecated `BackendV1` workflow,  and no longer necessary for `BackendV2`. If a user workflow requires `Qobj` it likely relies on deprecated functionality and should be updated to use `BackendV2`.\n",
      "  qobj = assemble(transpiled_qc, shots=1)  # Un seul tirage suffit\n",
      "C:\\Users\\abarb\\AppData\\Local\\Temp\\ipykernel_3664\\585126273.py:33: DeprecationWarning: The function ``qiskit.compiler.assembler.assemble()`` is deprecated as of qiskit 1.2. It will be removed in the 2.0 release. The `Qobj` class and related functionality are part of the deprecated `BackendV1` workflow,  and no longer necessary for `BackendV2`. If a user workflow requires `Qobj` it likely relies on deprecated functionality and should be updated to use `BackendV2`.\n",
      "  qobj = assemble(transpiled_qc, shots=1)  # Un seul tirage suffit\n",
      "C:\\Users\\abarb\\AppData\\Local\\Temp\\ipykernel_3664\\585126273.py:33: DeprecationWarning: The function ``qiskit.compiler.assembler.assemble()`` is deprecated as of qiskit 1.2. It will be removed in the 2.0 release. The `Qobj` class and related functionality are part of the deprecated `BackendV1` workflow,  and no longer necessary for `BackendV2`. If a user workflow requires `Qobj` it likely relies on deprecated functionality and should be updated to use `BackendV2`.\n",
      "  qobj = assemble(transpiled_qc, shots=1)  # Un seul tirage suffit\n",
      "C:\\Users\\abarb\\AppData\\Local\\Temp\\ipykernel_3664\\585126273.py:33: DeprecationWarning: The function ``qiskit.compiler.assembler.assemble()`` is deprecated as of qiskit 1.2. It will be removed in the 2.0 release. The `Qobj` class and related functionality are part of the deprecated `BackendV1` workflow,  and no longer necessary for `BackendV2`. If a user workflow requires `Qobj` it likely relies on deprecated functionality and should be updated to use `BackendV2`.\n",
      "  qobj = assemble(transpiled_qc, shots=1)  # Un seul tirage suffit\n",
      "C:\\Users\\abarb\\AppData\\Local\\Temp\\ipykernel_3664\\585126273.py:33: DeprecationWarning: The function ``qiskit.compiler.assembler.assemble()`` is deprecated as of qiskit 1.2. It will be removed in the 2.0 release. The `Qobj` class and related functionality are part of the deprecated `BackendV1` workflow,  and no longer necessary for `BackendV2`. If a user workflow requires `Qobj` it likely relies on deprecated functionality and should be updated to use `BackendV2`.\n",
      "  qobj = assemble(transpiled_qc, shots=1)  # Un seul tirage suffit\n",
      "C:\\Users\\abarb\\AppData\\Local\\Temp\\ipykernel_3664\\585126273.py:33: DeprecationWarning: The function ``qiskit.compiler.assembler.assemble()`` is deprecated as of qiskit 1.2. It will be removed in the 2.0 release. The `Qobj` class and related functionality are part of the deprecated `BackendV1` workflow,  and no longer necessary for `BackendV2`. If a user workflow requires `Qobj` it likely relies on deprecated functionality and should be updated to use `BackendV2`.\n",
      "  qobj = assemble(transpiled_qc, shots=1)  # Un seul tirage suffit\n"
     ]
    },
    {
     "name": "stdout",
     "output_type": "stream",
     "text": [
      "[((0, 0, 0, 0), (0, 0, 0, 1)), ((0, 0, 0, 1), (0, 0, 0, 0)), ((0, 0, 1, 0), (0, 0, 1, 1)), ((0, 0, 1, 1), (0, 0, 1, 0)), ((0, 1, 0, 0), (0, 1, 0, 1)), ((0, 1, 0, 1), (0, 1, 0, 0)), ((0, 1, 1, 0), (0, 1, 1, 1)), ((0, 1, 1, 1), (0, 1, 1, 0)), ((1, 0, 0, 0), (1, 0, 0, 1)), ((1, 0, 0, 1), (1, 0, 0, 0)), ((1, 0, 1, 0), (1, 0, 1, 1)), ((1, 0, 1, 1), (1, 0, 1, 0)), ((1, 1, 0, 0), (1, 1, 0, 1)), ((1, 1, 0, 1), (1, 1, 0, 0)), ((1, 1, 1, 0), (1, 1, 1, 1)), ((1, 1, 1, 1), (1, 1, 1, 0))]\n"
     ]
    },
    {
     "name": "stderr",
     "output_type": "stream",
     "text": [
      "C:\\Users\\abarb\\AppData\\Local\\Temp\\ipykernel_3664\\585126273.py:33: DeprecationWarning: The function ``qiskit.compiler.assembler.assemble()`` is deprecated as of qiskit 1.2. It will be removed in the 2.0 release. The `Qobj` class and related functionality are part of the deprecated `BackendV1` workflow,  and no longer necessary for `BackendV2`. If a user workflow requires `Qobj` it likely relies on deprecated functionality and should be updated to use `BackendV2`.\n",
      "  qobj = assemble(transpiled_qc, shots=1)  # Un seul tirage suffit\n"
     ]
    }
   ],
   "source": [
    "import itertools\n",
    "X=[]\n",
    "n=4\n",
    "for input_bits in itertools.product([0, 1], repeat=n):\n",
    "    qc = QuantumCircuit(n, n)\n",
    "    \n",
    "    for i, bit in enumerate(input_bits):\n",
    "        if bit == 1:\n",
    "            qc.x(i) \n",
    "\n",
    "    qc.cx(0,1)\n",
    "    qc.cx(1,2)\n",
    "    qc.t(2)\n",
    "    qc.cx(2,1)\n",
    "    qc.cx(2,3)\n",
    "    qc.cx(0,2)\n",
    "    qc.cx(1,3)\n",
    "    qc.x(3)\n",
    "    qc.cx(2,0)\n",
    "    qc.tdg(0)\n",
    "    qc.cx(0,1)\n",
    "    qc.cx(1,2)\n",
    "    qc.cx(1,0)\n",
    "    qc.cx(2,0)\n",
    "    qc.cx(1,3)\n",
    "    qc.cx(0,2)\n",
    "    qc.cx(0,1)\n",
    "\n",
    "    qc.measure(range(n), range(n))  # Mesurer tous les qubits\n",
    "\n",
    "    # Exécuter la simulation\n",
    "    transpiled_qc = transpile(qc, aer_sim)\n",
    "    qobj = assemble(transpiled_qc, shots=1)  # Un seul tirage suffit\n",
    "    result = aer_sim.run(qc,shot=1).result()\n",
    "    output_bits = list(result.get_counts().keys())[0]\n",
    "\n",
    "    X.append((input_bits, tuple(map(int, output_bits[::-1]))))\n",
    "\n",
    "print(X)"
   ]
  },
  {
   "cell_type": "code",
   "execution_count": 141,
   "id": "09ba122a",
   "metadata": {},
   "outputs": [
    {
     "data": {
      "text/plain": [
       "['0111']"
      ]
     },
     "execution_count": 141,
     "metadata": {},
     "output_type": "execute_result"
    }
   ],
   "source": [
    "simulate_circuit_measurements(qc, [0,1,2,3])"
   ]
  },
  {
   "cell_type": "markdown",
   "id": "89a93d64",
   "metadata": {},
   "source": [
    "---\n",
    "## 3. Implémentation d'algorithmes quantiques </center> "
   ]
  },
  {
   "cell_type": "markdown",
   "id": "fa699c07",
   "metadata": {},
   "source": [
    "### Exercice 5\n",
    "Algorithme 1 : Deutsch-Jozsa "
   ]
  },
  {
   "cell_type": "markdown",
   "id": "140b6466",
   "metadata": {},
   "source": [
    "L'algorithme de Deutsch-Jozsa est l'un des premiers algorithmes quantiques inventés. <br>\n",
    "On a un oracle sous forme de boîte noire, implémentant une fonction booléenne $f : \\{0,1\\}^n \\to \\{0,1\\}$ et on sait que $f$ est soit constante (i.e, elle retourne $0$ ou $1$ quelle que soit l'entrée) ou équilibrée (pour la moitié des entrées $f$ retourne $0$ et pour l'autre moitié elle retourne $1$). Le problème que l'on veut résoudre est de discriminer si $f$ est constante ou équilibrée et ce avec un nombre minimum d'appels à $f$.\n",
    "\n",
    "L'algorithme de Deutsch-Jozsa est un algorithme quantique déterministe qui résout ce problème avec un seul appel à la fonction $f$. Pour résoudre ce problème avec un algorithme classique il nous faudrait dans le pire des cas $2^{n-1}+1$ appels à l'oracle pour connaître la valeur de $f$ sur strictement plus que la moitié des entrées. On peut alors savoir si $f$ est constante (si $f$ retourne la même valeur sur toutes les entrées) ou équilibrée (au moins une valeur retournée sera différente des autres). \n",
    "\n",
    "Ainsi, l'algorithme de Deutsch-Jozsa offre une amélioration exponentielle de la complexité, passant de $O(2^n)$ appels à la fonction à $1$.\n",
    "\n",
    "Le circuit quantique pour implémenter l'algorithme est le suivant : "
   ]
  },
  {
   "cell_type": "markdown",
   "id": "b289fb85",
   "metadata": {},
   "source": [
    "<img src=\"dj_algo.png\" width=500> \n",
    "\n",
    "(extrait de https://en.wikipedia.org/wiki/Deutsch–Jozsa_algorithm)"
   ]
  },
  {
   "cell_type": "markdown",
   "id": "2dda6ee6",
   "metadata": {},
   "source": [
    "$U_f$ est une boîte noire implémentant une version réversible de notre oracle $f$, plus précisément on a $U_f(x,y) = (x, y \\oplus f(x))$.\n",
    "\n",
    "Le résultat de la mesure nous donne la nature de $f$:\n",
    "* si $f$ est constante alors on ne peut que mesurer l'état $\\ket{0}^{\\otimes n}$,\n",
    "* si $f$ est équilibré alors on ne peut jamais mesurer l'état $\\ket{0}^{\\otimes n}$.\n",
    "\n",
    "Ainsi si on mesure $\\ket{0}^{\\otimes n}$ alors $f$ est constante, sinon tout autre résultat nous indiquera que $f$ est équilibrée."
   ]
  },
  {
   "cell_type": "markdown",
   "id": "1433cc53",
   "metadata": {},
   "source": [
    "On va considérer deux oracles pour cet algorithme."
   ]
  },
  {
   "cell_type": "markdown",
   "id": "729e2db8",
   "metadata": {},
   "source": [
    "**1. Hidden weighted bit function sur 4 bits**"
   ]
  },
  {
   "cell_type": "markdown",
   "id": "cdfca820",
   "metadata": {},
   "source": [
    "La fonction \"hidden weighted bit\" est une fonction réversible sur $n$ bits. Étant donné une bitstring $x$ en entrée, la fonction va décaler les entrées de $x$ vers la droite $wt(x)$ fois, avec $wt(x)$ retournant le poids de Hamming de $x$.\n",
    "\n",
    "Exemples : <br>\n",
    "<center> hwb(1000) = 0100 <center ><br>\n",
    "<center> hwb(001101) = 101001 <center> <br>"
   ]
  },
  {
   "cell_type": "markdown",
   "id": "2e095b3b",
   "metadata": {},
   "source": [
    "Pour notre première application de l'algorithme de Deutsch-Jozsa, on va utiliser un oracle **basé sur** la fonction hwb4 \"hidden weighted bit\" sur 4 bits. Voici une implémentation possible de hwb4 avec des CNOT et des Toffoli : \n",
    "\n",
    " <img src=\"hwb4-11-23.JPG\" width=500> \n",
    " \n",
    " (extrait de https://reversiblebenchmarks.github.io/hwb4.html, auteurs du circuit : D. Maslov, M. Miller, G. W. Dueck)"
   ]
  },
  {
   "cell_type": "markdown",
   "id": "8d340035",
   "metadata": {},
   "source": [
    "#### <b> Question 5.1 </b>\n",
    "<pre> Écrire un circuit Qiskit implémentant hwb4. </pre>"
   ]
  },
  {
   "cell_type": "code",
   "execution_count": 142,
   "id": "bfa040ab",
   "metadata": {},
   "outputs": [
    {
     "data": {
      "text/html": [
       "<pre style=\"word-wrap: normal;white-space: pre;background: #fff0;line-height: 1.1;font-family: &quot;Courier New&quot;,Courier,monospace\">               ┌───┐               ┌───┐               ┌───┐\n",
       "q_0: ──────────┤ X ├───────■────■──┤ X ├───────■───────┤ X ├\n",
       "     ┌───┐     └─┬─┘     ┌─┴─┐  │  └─┬─┘       │  ┌───┐└─┬─┘\n",
       "q_1: ┤ X ├──■────┼────■──┤ X ├──┼────■────■────┼──┤ X ├──┼──\n",
       "     └─┬─┘┌─┴─┐  │  ┌─┴─┐└───┘  │       ┌─┴─┐  │  └─┬─┘  │  \n",
       "q_2: ──┼──┤ X ├──■──┤ X ├───────■───────┤ X ├──┼────┼────■──\n",
       "       │  └───┘     └─┬─┘     ┌─┴─┐     └─┬─┘┌─┴─┐  │       \n",
       "q_3: ──■──────────────■───────┤ X ├───────■──┤ X ├──■───────\n",
       "                              └───┘          └───┘          </pre>"
      ],
      "text/plain": [
       "               ┌───┐               ┌───┐               ┌───┐\n",
       "q_0: ──────────┤ X ├───────■────■──┤ X ├───────■───────┤ X ├\n",
       "     ┌───┐     └─┬─┘     ┌─┴─┐  │  └─┬─┘       │  ┌───┐└─┬─┘\n",
       "q_1: ┤ X ├──■────┼────■──┤ X ├──┼────■────■────┼──┤ X ├──┼──\n",
       "     └─┬─┘┌─┴─┐  │  ┌─┴─┐└───┘  │       ┌─┴─┐  │  └─┬─┘  │  \n",
       "q_2: ──┼──┤ X ├──■──┤ X ├───────■───────┤ X ├──┼────┼────■──\n",
       "       │  └───┘     └─┬─┘     ┌─┴─┐     └─┬─┘┌─┴─┐  │       \n",
       "q_3: ──■──────────────■───────┤ X ├───────■──┤ X ├──■───────\n",
       "                              └───┘          └───┘          "
      ]
     },
     "execution_count": 142,
     "metadata": {},
     "output_type": "execute_result"
    }
   ],
   "source": [
    "hwb4 = QuantumCircuit(4)\n",
    "\n",
    "hwb4.cx(3,1)\n",
    "hwb4.cx(1,2)\n",
    "hwb4.cx(2,0)\n",
    "hwb4.ccx(1,3,2)\n",
    "hwb4.cx(0,1)\n",
    "hwb4.ccx(0,2,3)\n",
    "hwb4.cx(1,0)\n",
    "hwb4.ccx(1,3,2)\n",
    "hwb4.cx(0,3)\n",
    "hwb4.cx(3,1)\n",
    "hwb4.cx(2,0)\n",
    "\n",
    "hwb4.draw()"
   ]
  },
  {
   "cell_type": "markdown",
   "id": "6583633f",
   "metadata": {},
   "source": [
    "#### <b> Question 5.2 </b> \n",
    "<pre> Écrire une fonction python qui prend en entrée un circuit réversible et retourne sa table de vérité. \n",
    " Utilisez votre fonction pour vérifier le bon comportement de hwb4. </pre>"
   ]
  },
  {
   "cell_type": "code",
   "execution_count": 143,
   "id": "3e523d2f",
   "metadata": {},
   "outputs": [],
   "source": [
    "import itertools\n",
    "def table_de_verite(circuit):\n",
    "    n = circuit.num_qubits  # Nombre de qubits d'entrée\n",
    "    truth_table = []\n",
    "\n",
    "    # Générer toutes les entrées possibles (bits 0 et 1)\n",
    "    for input_bits in itertools.product([0, 1], repeat=n):\n",
    "        qc = QuantumCircuit(n, n)\n",
    "        \n",
    "        for i, bit in enumerate(input_bits):\n",
    "            if bit == 1:\n",
    "                qc.x(i)  # Appliquer X si le bit est 1\n",
    "        \n",
    "        qc.compose(circuit, inplace=True)  # Appliquer le circuit réversible\n",
    "        qc.measure(range(n), range(n))  # Mesurer tous les qubits\n",
    "\n",
    "        # Exécuter la simulation\n",
    "        transpiled_qc = transpile(qc, aer_sim)\n",
    "        qobj = assemble(transpiled_qc, shots=1)  # Un seul tirage suffit\n",
    "        result = aer_sim.run(qc,shot=1).result()\n",
    "        output_bits = list(result.get_counts().keys())[0]  # Récupérer la sortie unique\n",
    "        \n",
    "        truth_table.append((input_bits, tuple(map(int, output_bits[::-1]))))  # Conversion en tuple\n",
    "\n",
    "    return truth_table"
   ]
  },
  {
   "cell_type": "code",
   "execution_count": 144,
   "id": "d42d9a42",
   "metadata": {},
   "outputs": [
    {
     "name": "stderr",
     "output_type": "stream",
     "text": [
      "C:\\Users\\abarb\\AppData\\Local\\Temp\\ipykernel_3664\\388328650.py:19: DeprecationWarning: The function ``qiskit.compiler.assembler.assemble()`` is deprecated as of qiskit 1.2. It will be removed in the 2.0 release. The `Qobj` class and related functionality are part of the deprecated `BackendV1` workflow,  and no longer necessary for `BackendV2`. If a user workflow requires `Qobj` it likely relies on deprecated functionality and should be updated to use `BackendV2`.\n",
      "  qobj = assemble(transpiled_qc, shots=1)  # Un seul tirage suffit\n",
      "C:\\Users\\abarb\\AppData\\Local\\Temp\\ipykernel_3664\\388328650.py:19: DeprecationWarning: The function ``qiskit.compiler.assembler.assemble()`` is deprecated as of qiskit 1.2. It will be removed in the 2.0 release. The `Qobj` class and related functionality are part of the deprecated `BackendV1` workflow,  and no longer necessary for `BackendV2`. If a user workflow requires `Qobj` it likely relies on deprecated functionality and should be updated to use `BackendV2`.\n",
      "  qobj = assemble(transpiled_qc, shots=1)  # Un seul tirage suffit\n",
      "C:\\Users\\abarb\\AppData\\Local\\Temp\\ipykernel_3664\\388328650.py:19: DeprecationWarning: The function ``qiskit.compiler.assembler.assemble()`` is deprecated as of qiskit 1.2. It will be removed in the 2.0 release. The `Qobj` class and related functionality are part of the deprecated `BackendV1` workflow,  and no longer necessary for `BackendV2`. If a user workflow requires `Qobj` it likely relies on deprecated functionality and should be updated to use `BackendV2`.\n",
      "  qobj = assemble(transpiled_qc, shots=1)  # Un seul tirage suffit\n",
      "C:\\Users\\abarb\\AppData\\Local\\Temp\\ipykernel_3664\\388328650.py:19: DeprecationWarning: The function ``qiskit.compiler.assembler.assemble()`` is deprecated as of qiskit 1.2. It will be removed in the 2.0 release. The `Qobj` class and related functionality are part of the deprecated `BackendV1` workflow,  and no longer necessary for `BackendV2`. If a user workflow requires `Qobj` it likely relies on deprecated functionality and should be updated to use `BackendV2`.\n",
      "  qobj = assemble(transpiled_qc, shots=1)  # Un seul tirage suffit\n",
      "C:\\Users\\abarb\\AppData\\Local\\Temp\\ipykernel_3664\\388328650.py:19: DeprecationWarning: The function ``qiskit.compiler.assembler.assemble()`` is deprecated as of qiskit 1.2. It will be removed in the 2.0 release. The `Qobj` class and related functionality are part of the deprecated `BackendV1` workflow,  and no longer necessary for `BackendV2`. If a user workflow requires `Qobj` it likely relies on deprecated functionality and should be updated to use `BackendV2`.\n",
      "  qobj = assemble(transpiled_qc, shots=1)  # Un seul tirage suffit\n",
      "C:\\Users\\abarb\\AppData\\Local\\Temp\\ipykernel_3664\\388328650.py:19: DeprecationWarning: The function ``qiskit.compiler.assembler.assemble()`` is deprecated as of qiskit 1.2. It will be removed in the 2.0 release. The `Qobj` class and related functionality are part of the deprecated `BackendV1` workflow,  and no longer necessary for `BackendV2`. If a user workflow requires `Qobj` it likely relies on deprecated functionality and should be updated to use `BackendV2`.\n",
      "  qobj = assemble(transpiled_qc, shots=1)  # Un seul tirage suffit\n",
      "C:\\Users\\abarb\\AppData\\Local\\Temp\\ipykernel_3664\\388328650.py:19: DeprecationWarning: The function ``qiskit.compiler.assembler.assemble()`` is deprecated as of qiskit 1.2. It will be removed in the 2.0 release. The `Qobj` class and related functionality are part of the deprecated `BackendV1` workflow,  and no longer necessary for `BackendV2`. If a user workflow requires `Qobj` it likely relies on deprecated functionality and should be updated to use `BackendV2`.\n",
      "  qobj = assemble(transpiled_qc, shots=1)  # Un seul tirage suffit\n",
      "C:\\Users\\abarb\\AppData\\Local\\Temp\\ipykernel_3664\\388328650.py:19: DeprecationWarning: The function ``qiskit.compiler.assembler.assemble()`` is deprecated as of qiskit 1.2. It will be removed in the 2.0 release. The `Qobj` class and related functionality are part of the deprecated `BackendV1` workflow,  and no longer necessary for `BackendV2`. If a user workflow requires `Qobj` it likely relies on deprecated functionality and should be updated to use `BackendV2`.\n",
      "  qobj = assemble(transpiled_qc, shots=1)  # Un seul tirage suffit\n",
      "C:\\Users\\abarb\\AppData\\Local\\Temp\\ipykernel_3664\\388328650.py:19: DeprecationWarning: The function ``qiskit.compiler.assembler.assemble()`` is deprecated as of qiskit 1.2. It will be removed in the 2.0 release. The `Qobj` class and related functionality are part of the deprecated `BackendV1` workflow,  and no longer necessary for `BackendV2`. If a user workflow requires `Qobj` it likely relies on deprecated functionality and should be updated to use `BackendV2`.\n",
      "  qobj = assemble(transpiled_qc, shots=1)  # Un seul tirage suffit\n",
      "C:\\Users\\abarb\\AppData\\Local\\Temp\\ipykernel_3664\\388328650.py:19: DeprecationWarning: The function ``qiskit.compiler.assembler.assemble()`` is deprecated as of qiskit 1.2. It will be removed in the 2.0 release. The `Qobj` class and related functionality are part of the deprecated `BackendV1` workflow,  and no longer necessary for `BackendV2`. If a user workflow requires `Qobj` it likely relies on deprecated functionality and should be updated to use `BackendV2`.\n",
      "  qobj = assemble(transpiled_qc, shots=1)  # Un seul tirage suffit\n",
      "C:\\Users\\abarb\\AppData\\Local\\Temp\\ipykernel_3664\\388328650.py:19: DeprecationWarning: The function ``qiskit.compiler.assembler.assemble()`` is deprecated as of qiskit 1.2. It will be removed in the 2.0 release. The `Qobj` class and related functionality are part of the deprecated `BackendV1` workflow,  and no longer necessary for `BackendV2`. If a user workflow requires `Qobj` it likely relies on deprecated functionality and should be updated to use `BackendV2`.\n",
      "  qobj = assemble(transpiled_qc, shots=1)  # Un seul tirage suffit\n",
      "C:\\Users\\abarb\\AppData\\Local\\Temp\\ipykernel_3664\\388328650.py:19: DeprecationWarning: The function ``qiskit.compiler.assembler.assemble()`` is deprecated as of qiskit 1.2. It will be removed in the 2.0 release. The `Qobj` class and related functionality are part of the deprecated `BackendV1` workflow,  and no longer necessary for `BackendV2`. If a user workflow requires `Qobj` it likely relies on deprecated functionality and should be updated to use `BackendV2`.\n",
      "  qobj = assemble(transpiled_qc, shots=1)  # Un seul tirage suffit\n",
      "C:\\Users\\abarb\\AppData\\Local\\Temp\\ipykernel_3664\\388328650.py:19: DeprecationWarning: The function ``qiskit.compiler.assembler.assemble()`` is deprecated as of qiskit 1.2. It will be removed in the 2.0 release. The `Qobj` class and related functionality are part of the deprecated `BackendV1` workflow,  and no longer necessary for `BackendV2`. If a user workflow requires `Qobj` it likely relies on deprecated functionality and should be updated to use `BackendV2`.\n",
      "  qobj = assemble(transpiled_qc, shots=1)  # Un seul tirage suffit\n",
      "C:\\Users\\abarb\\AppData\\Local\\Temp\\ipykernel_3664\\388328650.py:19: DeprecationWarning: The function ``qiskit.compiler.assembler.assemble()`` is deprecated as of qiskit 1.2. It will be removed in the 2.0 release. The `Qobj` class and related functionality are part of the deprecated `BackendV1` workflow,  and no longer necessary for `BackendV2`. If a user workflow requires `Qobj` it likely relies on deprecated functionality and should be updated to use `BackendV2`.\n",
      "  qobj = assemble(transpiled_qc, shots=1)  # Un seul tirage suffit\n"
     ]
    },
    {
     "name": "stdout",
     "output_type": "stream",
     "text": [
      "Entrée: (0, 0, 0, 0) → Sortie: (0, 0, 0, 0)\n",
      "Entrée: (0, 0, 0, 1) → Sortie: (1, 0, 0, 0)\n",
      "Entrée: (0, 0, 1, 0) → Sortie: (0, 0, 0, 1)\n",
      "Entrée: (0, 0, 1, 1) → Sortie: (1, 1, 0, 0)\n",
      "Entrée: (0, 1, 0, 0) → Sortie: (0, 0, 1, 0)\n",
      "Entrée: (0, 1, 0, 1) → Sortie: (0, 1, 0, 1)\n",
      "Entrée: (0, 1, 1, 0) → Sortie: (1, 0, 0, 1)\n",
      "Entrée: (0, 1, 1, 1) → Sortie: (1, 1, 1, 0)\n",
      "Entrée: (1, 0, 0, 0) → Sortie: (0, 1, 0, 0)\n",
      "Entrée: (1, 0, 0, 1) → Sortie: (0, 1, 1, 0)\n",
      "Entrée: (1, 0, 1, 0) → Sortie: (1, 0, 1, 0)\n",
      "Entrée: (1, 0, 1, 1) → Sortie: (0, 1, 1, 1)\n",
      "Entrée: (1, 1, 0, 0) → Sortie: (0, 0, 1, 1)\n",
      "Entrée: (1, 1, 0, 1) → Sortie: (1, 0, 1, 1)\n",
      "Entrée: (1, 1, 1, 0) → Sortie: (1, 1, 0, 1)\n",
      "Entrée: (1, 1, 1, 1) → Sortie: (1, 1, 1, 1)\n"
     ]
    },
    {
     "name": "stderr",
     "output_type": "stream",
     "text": [
      "C:\\Users\\abarb\\AppData\\Local\\Temp\\ipykernel_3664\\388328650.py:19: DeprecationWarning: The function ``qiskit.compiler.assembler.assemble()`` is deprecated as of qiskit 1.2. It will be removed in the 2.0 release. The `Qobj` class and related functionality are part of the deprecated `BackendV1` workflow,  and no longer necessary for `BackendV2`. If a user workflow requires `Qobj` it likely relies on deprecated functionality and should be updated to use `BackendV2`.\n",
      "  qobj = assemble(transpiled_qc, shots=1)  # Un seul tirage suffit\n",
      "C:\\Users\\abarb\\AppData\\Local\\Temp\\ipykernel_3664\\388328650.py:19: DeprecationWarning: The function ``qiskit.compiler.assembler.assemble()`` is deprecated as of qiskit 1.2. It will be removed in the 2.0 release. The `Qobj` class and related functionality are part of the deprecated `BackendV1` workflow,  and no longer necessary for `BackendV2`. If a user workflow requires `Qobj` it likely relies on deprecated functionality and should be updated to use `BackendV2`.\n",
      "  qobj = assemble(transpiled_qc, shots=1)  # Un seul tirage suffit\n"
     ]
    }
   ],
   "source": [
    "truth_table_hwb4 = table_de_verite(hwb4)\n",
    "\n",
    "for input_bits, output_bits in truth_table_hwb4:\n",
    "    print(f\"Entrée: {input_bits} → Sortie: {output_bits}\")"
   ]
  },
  {
   "cell_type": "markdown",
   "id": "d2d631f1",
   "metadata": {},
   "source": [
    "hwb4 ne peut pas être directement utilisée dans l'algorithme de Deutsch-Jozsa.\n",
    "\n",
    "On va donc plutôt considérer un oracle qui va retourner la valeur du dernier bit de hwb4(x). On s'attend à ce que l'oracle soit équilibré. \n",
    "\n",
    "Autrement dit, avec $z = hwb4(x)$, on veut implémenter l'oracle $f(x) = z[3]$. \n",
    "\n",
    "L'opération entière que l'on veut réaliser pour avoir un oracle est \n",
    "$$ (x,y) \\to (hwb4(x), y) \\to (hwb4(x), y \\oplus hwb4(x)[3]), \\to (x, y \\oplus hwb4(x)[3])$$\n",
    "\n",
    "#### <b> Question 5.3 </b>\n",
    "<pre> Implémenter l'oracle complet avec un circuit Qiskit. </pre>"
   ]
  },
  {
   "cell_type": "code",
   "execution_count": 145,
   "id": "7a04a98b",
   "metadata": {},
   "outputs": [
    {
     "data": {
      "text/html": [
       "<pre style=\"word-wrap: normal;white-space: pre;background: #fff0;line-height: 1.1;font-family: &quot;Courier New&quot;,Courier,monospace\">               ┌───┐               ┌───┐          ┌───┐          ┌───┐     »\n",
       "q_0: ──────────┤ X ├───────■────■──┤ X ├───────■──┤ X ├──────────┤ X ├─────»\n",
       "     ┌───┐     └─┬─┘     ┌─┴─┐  │  └─┬─┘       │  └─┬─┘┌───┐     └─┬─┘┌───┐»\n",
       "q_1: ┤ X ├──■────┼────■──┤ X ├──┼────■────■────┼────┼──┤ X ├───────┼──┤ X ├»\n",
       "     └─┬─┘┌─┴─┐  │  ┌─┴─┐└───┘  │       ┌─┴─┐  │    │  └─┬─┘       │  └─┬─┘»\n",
       "q_2: ──┼──┤ X ├──■──┤ X ├───────■───────┤ X ├──┼────■────┼────■────■────┼──»\n",
       "       │  └───┘     └─┬─┘     ┌─┴─┐     └─┬─┘┌─┴─┐       │  ┌─┴─┐       │  »\n",
       "q_3: ──■──────────────■───────┤ X ├───────■──┤ X ├───────■──┤ X ├───────■──»\n",
       "                              └───┘          └───┘          └───┘          »\n",
       "«               ┌───┐               ┌───┐          \n",
       "«q_0: ──■───────┤ X ├──■────■───────┤ X ├──────────\n",
       "«       │       └─┬─┘  │  ┌─┴─┐     └─┬─┘     ┌───┐\n",
       "«q_1: ──┼────■────■────┼──┤ X ├──■────┼────■──┤ X ├\n",
       "«       │  ┌─┴─┐       │  └───┘┌─┴─┐  │  ┌─┴─┐└─┬─┘\n",
       "«q_2: ──┼──┤ X ├───────■───────┤ X ├──■──┤ X ├──┼──\n",
       "«     ┌─┴─┐└─┬─┘     ┌─┴─┐     └─┬─┘     └───┘  │  \n",
       "«q_3: ┤ X ├──■───────┤ X ├───────■──────────────■──\n",
       "«     └───┘          └───┘                         </pre>"
      ],
      "text/plain": [
       "               ┌───┐               ┌───┐          ┌───┐          ┌───┐     »\n",
       "q_0: ──────────┤ X ├───────■────■──┤ X ├───────■──┤ X ├──────────┤ X ├─────»\n",
       "     ┌───┐     └─┬─┘     ┌─┴─┐  │  └─┬─┘       │  └─┬─┘┌───┐     └─┬─┘┌───┐»\n",
       "q_1: ┤ X ├──■────┼────■──┤ X ├──┼────■────■────┼────┼──┤ X ├───────┼──┤ X ├»\n",
       "     └─┬─┘┌─┴─┐  │  ┌─┴─┐└───┘  │       ┌─┴─┐  │    │  └─┬─┘       │  └─┬─┘»\n",
       "q_2: ──┼──┤ X ├──■──┤ X ├───────■───────┤ X ├──┼────■────┼────■────■────┼──»\n",
       "       │  └───┘     └─┬─┘     ┌─┴─┐     └─┬─┘┌─┴─┐       │  ┌─┴─┐       │  »\n",
       "q_3: ──■──────────────■───────┤ X ├───────■──┤ X ├───────■──┤ X ├───────■──»\n",
       "                              └───┘          └───┘          └───┘          »\n",
       "«               ┌───┐               ┌───┐          \n",
       "«q_0: ──■───────┤ X ├──■────■───────┤ X ├──────────\n",
       "«       │       └─┬─┘  │  ┌─┴─┐     └─┬─┘     ┌───┐\n",
       "«q_1: ──┼────■────■────┼──┤ X ├──■────┼────■──┤ X ├\n",
       "«       │  ┌─┴─┐       │  └───┘┌─┴─┐  │  ┌─┴─┐└─┬─┘\n",
       "«q_2: ──┼──┤ X ├───────■───────┤ X ├──■──┤ X ├──┼──\n",
       "«     ┌─┴─┐└─┬─┘     ┌─┴─┐     └─┬─┘     └───┘  │  \n",
       "«q_3: ┤ X ├──■───────┤ X ├───────■──────────────■──\n",
       "«     └───┘          └───┘                         "
      ]
     },
     "execution_count": 145,
     "metadata": {},
     "output_type": "execute_result"
    }
   ],
   "source": [
    "oracle = QuantumCircuit(4)  #n+oracle\n",
    "\n",
    "oracle.append(hwb4, [0,1,2,3])\n",
    "oracle.cx(2,3)\n",
    "oracle.append(hwb4.inverse(), [0,1,2,3])\n",
    "\n",
    "oracle_decomposed = oracle.decompose()  # Décompose une couche\n",
    "oracle_decomposed.draw() "
   ]
  },
  {
   "cell_type": "markdown",
   "id": "d0d9f501",
   "metadata": {},
   "source": [
    "#### **Question 5.4**\n",
    "\n",
    "<pre> Implémenter l'algorithme de Deutsch-Jozsa. Le tester sur hwb4 et sur l'oracle de la question 4.1. </pre>"
   ]
  },
  {
   "cell_type": "code",
   "execution_count": 146,
   "id": "f7a4f522",
   "metadata": {},
   "outputs": [
    {
     "data": {
      "image/png": "[encoded data removed]",
      "text/plain": [
       "<Figure size 640x480 with 1 Axes>"
      ]
     },
     "execution_count": 146,
     "metadata": {},
     "output_type": "execute_result"
    }
   ],
   "source": [
    "# Sur hwb4\n",
    "dj = QuantumCircuit(4,4)\n",
    "dj.x(3)\n",
    "dj.h(0)\n",
    "dj.h(1)\n",
    "dj.h(2)\n",
    "dj.h(3)\n",
    "dj.append(hwb4, [0,1,2,3])\n",
    "dj.h(0)\n",
    "dj.h(1)\n",
    "dj.h(2)\n",
    "\n",
    "dj.measure([0, 1, 2, 3], [0, 1, 2, 3]) \n",
    "\n",
    "dj.draw()\n",
    "result_counts = simulate_circuit_histogram(dj, [0, 1, 2, 3])\n",
    "plot_histogram(result_counts)"
   ]
  },
  {
   "cell_type": "code",
   "execution_count": 147,
   "id": "1dc9b7cd",
   "metadata": {},
   "outputs": [
    {
     "data": {
      "image/png": "[encoded data removed]",
      "text/plain": [
       "<Figure size 640x480 with 1 Axes>"
      ]
     },
     "execution_count": 147,
     "metadata": {},
     "output_type": "execute_result"
    }
   ],
   "source": [
    "# Sur l'oracle de la question 4.1\n",
    "algoq = QuantumCircuit(4)\n",
    "\n",
    "algoq.cx(0,1)\n",
    "algoq.cx(1,2)\n",
    "algoq.t(2)\n",
    "algoq.cx(2,1)\n",
    "algoq.cx(2,3)\n",
    "algoq.cx(0,2)\n",
    "algoq.cx(1,3)\n",
    "algoq.x(3)\n",
    "algoq.cx(2,0)\n",
    "algoq.tdg(0)\n",
    "algoq.cx(0,1)\n",
    "algoq.cx(1,2)\n",
    "algoq.cx(1,0)\n",
    "algoq.cx(2,0)\n",
    "algoq.cx(1,3)\n",
    "algoq.cx(0,2)\n",
    "algoq.cx(0,1)\n",
    "\n",
    "dj = QuantumCircuit(4,4)\n",
    "dj.x(3)\n",
    "dj.h(0)\n",
    "dj.h(1)\n",
    "dj.h(2)\n",
    "dj.h(3)\n",
    "dj.append(algoq, [0,1,2,3])\n",
    "dj.h(0)\n",
    "dj.h(1)\n",
    "dj.h(2)\n",
    "\n",
    "dj.measure([0, 1, 2, 3], [0, 1, 2, 3]) \n",
    "\n",
    "dj.draw()\n",
    "result_counts = simulate_circuit_histogram(dj, [0, 1, 2, 3])\n",
    "plot_histogram(result_counts)"
   ]
  },
  {
   "cell_type": "markdown",
   "id": "7b4a32a0",
   "metadata": {},
   "source": [
    "---\n",
    "\n",
    "### Exercice 6\n",
    "\n",
    "Algorithme 2 : l'algorithme de Grover\n",
    "\n",
    "\n",
    "<br><br>\n",
    "L'algorithme de Grover permet de trouver des éléments dans une base de données non structurée en temps $O(\\sqrt{N})$ où $N$ est la taille de la base de données. L'élément à trouver doit répondre à un critère calculable, par exemple dans une liste de mots trouver un mot avec deux fois la lettre \"r\". L'algorithme de Grover marche quel que soit le nombre d'éléments qui répondent au critère dans la base de données. \n",
    "<br> <br>\n",
    "L'algorithme consiste en les blocs suivants: <br>\n",
    "* un oracle $U_{\\omega}$ qui applique une phase de -1 à toute bitstring satisfaisant le critère, \n",
    "* un opérateur de diffusion défini par $H^{\\otimes n} \\left(2 \\ket{0}^{\\otimes n}\\bra{0}^{\\otimes n} - I_n \\right) H^{\\otimes n}$\n",
    "\n",
    "<br> \n",
    "<br> \n",
    "Et le circuit final est \n",
    "\n",
    "<img src=\"grover_algo.png\" width=700> \n",
    "\n",
    "(extrait de https://fr.wikipedia.org/wiki/Algorithme_de_Grover)\n",
    "\n",
    "#### **Question 6.1** \n",
    "\n",
    "<pre> coder une fonction qui prend en entrée le nombre de qubits, le nombre de qubits ancillaires, le circuit de l'oracle, le nombre d'itérations et retourne le circuit total de Grover. </pre>"
   ]
  },
  {
   "cell_type": "code",
   "execution_count": 148,
   "id": "404379f0",
   "metadata": {},
   "outputs": [],
   "source": [
    "\n",
    "def grover_circuit(num_qubits, num_ancilla, oracle, iterations):\n",
    "    total_qubits = num_qubits + num_ancilla\n",
    "    qc = QuantumCircuit(total_qubits)\n",
    "\n",
    "    # Initialisation en superposition\n",
    "    for qubit in range(num_qubits):\n",
    "        qc.h(qubit)\n",
    "    \n",
    "    # Application des itérations de Grover\n",
    "    for _ in range(iterations):\n",
    "        # Ajout de l'oracle\n",
    "        qc.compose(oracle, inplace=True)\n",
    "\n",
    "        # Opérateur de diffusion\n",
    "        qc.barrier()\n",
    "        for qubit in range(num_qubits):\n",
    "            qc.h(qubit)\n",
    "            qc.x(qubit)\n",
    "        qc.barrier()\n",
    "        \n",
    "        # Multi-controlled Z (via une MCXGate)\n",
    "        if num_qubits > 1:\n",
    "            mcx = MCXGate(num_qubits - 1)\n",
    "            qc.append(mcx, list(range(num_qubits - 1)) + [num_qubits - 1])\n",
    "        else:\n",
    "            qc.z(0)\n",
    "\n",
    "        qc.barrier()\n",
    "        for qubit in range(num_qubits):\n",
    "            qc.x(qubit)\n",
    "            qc.h(qubit)\n",
    "        qc.barrier()\n",
    "\n",
    "    return qc"
   ]
  },
  {
   "cell_type": "markdown",
   "id": "28b31ae2",
   "metadata": {},
   "source": [
    "#### **Question 6.2** \n",
    "\n",
    "<pre> Tester l'algorithme sur une CCCCZ pour retrouver l'état |11111> et vérifier \n",
    " que votre implémentation fonctionne avec la fonction simulate_circuit_histogram. </pre>"
   ]
  },
  {
   "cell_type": "code",
   "execution_count": 149,
   "id": "3d3628f9",
   "metadata": {},
   "outputs": [],
   "source": [
    "oracle = QuantumCircuit(3,3)\n",
    "oracle.ccz(0,1,2)\n",
    "\n",
    "grover_qc = grover_circuit(3,3, oracle=oracle, iterations=1)"
   ]
  },
  {
   "cell_type": "code",
   "execution_count": 150,
   "id": "55744f1f",
   "metadata": {},
   "outputs": [
    {
     "data": {
      "image/png": "[encoded data removed]",
      "text/plain": [
       "<Figure size 640x480 with 1 Axes>"
      ]
     },
     "execution_count": 150,
     "metadata": {},
     "output_type": "execute_result"
    }
   ],
   "source": [
    "grover=simulate_circuit_histogram(grover_qc,[0,1,2])\n",
    "plot_histogram(grover)\n"
   ]
  },
  {
   "cell_type": "markdown",
   "id": "bc63362d",
   "metadata": {},
   "source": [
    "On va maintenant appliquer Grover sur le problème suivant : le permanent d'une matrice est une valeur numérique donnée par une formule proche du déterminant (sans l'alternance des signes). On veut savoir, parmi les matrices binaires de taille 2, resp. 3, s'il en existe qui ont un permanent égal à 2, resp. 4, 5 ou 6. \n",
    "\n",
    "Ci-dessous sont des implémentations réversibles du calcul du permanent pour des matrices 2x2 : \n",
    "\n",
    "<img src=\"perm2x2.svg\" width=\"150\">\n",
    "\n",
    "(extrait de https://reversiblebenchmarks.github.io/permanent2x2.html, auteur du circuit : D. V. Zakablukov)\n",
    "     \n",
    "     \n",
    "et 3x3 : \n",
    "\n",
    "<img src=\"perm3x3.svg\" width=\"800\">\n",
    "\n",
    "(extrait de https://reversiblebenchmarks.github.io/permanent3x3.html, auteur du circuit : D. V. Zakablukov)\n",
    "\n",
    "Les matrices 2x2 sont encodées sur 4 qubits, les 3x3 sur 9 qubits. Les 2, resp. 3 premiers qubits sont utilisés pour stocker la valeur du permanent en binaire. Ainsi le nombre total de qubits est de 6, resp. 12. Pour expliciter l'ordre des bits, par exemple dans le cas 2x2 le permanent en binaire sera donné par a2a1.\n",
    "\n",
    "#### **Question 6.3**\n",
    "<pre> Générer les circuits des oracles correspondants. \n",
    " Note : l'oracle doit \"juste\" inverser les phases des solutions, autrement dit il faut que les qubits \n",
    " ancillaires soient intouchés à la fin de l'application de l'oracle. </pre>"
   ]
  },
  {
   "cell_type": "code",
   "execution_count": null,
   "id": "a398aa68",
   "metadata": {},
   "outputs": [],
   "source": []
  },
  {
   "cell_type": "code",
   "execution_count": null,
   "id": "50b6929c",
   "metadata": {},
   "outputs": [],
   "source": []
  },
  {
   "cell_type": "markdown",
   "id": "50d7b3d9",
   "metadata": {},
   "source": [
    "#### **Question 6.4**\n",
    "\n",
    "<pre> Utiliser l'algorithme de Grover pour répondre aux problèmes posés. </pre>"
   ]
  },
  {
   "cell_type": "code",
   "execution_count": null,
   "id": "7849034a",
   "metadata": {},
   "outputs": [],
   "source": []
  },
  {
   "cell_type": "code",
   "execution_count": null,
   "id": "35f6a426",
   "metadata": {},
   "outputs": [],
   "source": []
  },
  {
   "cell_type": "markdown",
   "id": "ee98e045",
   "metadata": {},
   "source": [
    "---\n",
    "## Exercice 7\n",
    "\n",
    "Algorithme 3 : Quantum Phase Estimation (QPE)"
   ]
  },
  {
   "cell_type": "markdown",
   "id": "02d8d4a3",
   "metadata": {},
   "source": [
    "L'algorithm d'estimation de phase quantique permet d'estimer la valeur propre (ou phase) d'un opérateur unitaire associée à un vecteur propre donné. Pour un opérateur unitaire $U$, on rappelle que les valeurs propres sont toutes de module égal à 1. Si $\\ket{\\psi}$ est vecteur propre d'un opérateur unitaire $U$ alors on peut écrire\n",
    "\n",
    "$$\n",
    "U \\ket{\\psi} = e^{2 i \\pi \\theta} \\ket{\\psi}\n",
    "$$\n",
    "\n",
    "et cet algorithme permet de retrouver la valeur $\\theta$ correspondant au vecteur propre $\\ket{\\psi}$, avec une précision de $n$ bits. Le circuit correspondant àl'algorithme de la QPE est le suivant :\n",
    "\n",
    "<img src=\"qpe.png\" width=\"600\">\n",
    "\n",
    "Le circuit se décompose en plusieures étapes clés.\n",
    "1) Superposition : Grace à un mur de porte Hadamard, on crée une superposition de tous les entiers possibles sur notre registre ancillaire. Le système quantique est alors dans l'état\n",
    "$$\n",
    "\\sum_{k=0}^{2^n - 1}\\ket{k}\\ket{\\psi}.\n",
    "$$\n",
    "2) Succession d'opérations unitaires contrôlées : cette étape cruciale permet d'encoder dans la phase de l'état ancillaire la valeur propre associée au vecteur propre $\\ket{\\psi}$. Comme $\\ket{\\psi}$ est vecteur propre de $U$ de valeur propre associée $e^{2 i \\pi \\theta}$, on a $U^{2j}\\ket{\\psi} = e^{2^j \\times 2i \\pi \\theta}$. Ainsi après avoir appliqué cette succession d'opérations unitaires contrôlées par l'état $\\ket{\\psi}$ notre système quantique se trouve dans l'état\n",
    "$$\n",
    "\\frac{1}{\\sqrt{2}^n} \\sum_{k=0}^{2^n-1} e^{2i \\pi \\theta k}\\ket{k} \\ket{\\psi}.\n",
    "$$\n",
    "3) Transformée de Fourier inverse : Le résultat précédent peut être interprétée comme une transformée de Fourier et appliquant une transformée de Fourier inverse on trouve\n",
    "$$\n",
    "\\frac{1}{2^n}\\sum_{x=0}^{2^n-1}\\sum_{k=0}^{2^n-1} e^{-\\frac{2i\\pi k}{2^n}(x - 2^n\\theta)}\\ket{x}\\ket{\\psi}.\n",
    "$$\n",
    "Comme nous le verrons dans la suite il existe un algorithme quantique pour la Transformée de Fourier et nous allons l'implémenter.\n",
    "4) Mesure : L'expression ci-dessus présente un pic pour $x = 2^n \\theta$. Si $2^n \\theta$ est un entier alors on est sûr d'obtenir après mesure l'état $\\ket{2^n \\theta} \\ket{\\psi}$. Dans le cas où ce nest pas un entier, il a été montré qu'on a tout de même un pic pour $x = 2^n \\theta$ et que cette fois on a une probabilité supérieure à $4/\\pi^2 \\approx 40%$ d'obtenir le bon résultat après la mesure.\n",
    "\n",
    "Nous allons détailler chaque étape de l'algorithme au travers de cet exercice. Ici nous allons nous intéresser à la porte T pour faire simple. La porte T rajoute une phase de $e^{i\\pi/4}$ à l'état $\\ket{1}$ puisque\n",
    "$$\n",
    "T = \\begin{pmatrix} 1 & 0 \\\\ 0 & e^{i\\pi/4} \\end{pmatrix}.\n",
    "$$\n",
    "Comme la QPE nous donne $\\theta$ dans le cas où $T\\ket{1} = e^{2i\\pi \\theta} \\ket{1}$ on s'attend à obtenir en sortie de l'algorithme $\\theta = 1/8$."
   ]
  },
  {
   "cell_type": "markdown",
   "id": "c65b10b3",
   "metadata": {},
   "source": [
    "#### Séquence d'opérations unitaires contrôlées\n",
    "\n",
    "Tout d'abord, concentrons nous sur la séquence d'opérations unitaires contrôlées. Nous allons implémenter le circuit suivant pour la porte $U^i=T^{2^i}$\n",
    "\n",
    "<img src=\"CUseq.png\" width=400>\n",
    "\n",
    "On rappelle qu'appliquer $T^k$ dans un circuit quantique est équivalent à appliquer l'opérateur $T$ successivement, $k$ fois.\n",
    "\n",
    "##### **Question 7.1** \n",
    "<pre> Implémenter le circuit correspondant à cette séquence d'opérations contrôlées, pour un nombre de qubits ancillaires donné en paramètre. </pre>"
   ]
  },
  {
   "cell_type": "code",
   "execution_count": null,
   "id": "2437e39c",
   "metadata": {},
   "outputs": [],
   "source": [
    "\n"
   ]
  },
  {
   "cell_type": "markdown",
   "id": "b1a87455",
   "metadata": {},
   "source": [
    "#### Quantum Fourier Transform (QFT)\n",
    "\n",
    "La Transformée de Fourier Quantique est l'analogie quantique de la Transformée de Fourier Discrète. Elle agit sur un état quantique $\\ket{x} = \\sum_{i=0}^{N-1} x_i \\ket{i}$ et renvoie l'état $\\sum_{i=0}^{N-1} y_i \\ket{i}$ tel que\n",
    "\n",
    "$$\n",
    "y_k = \\frac{1}{\\sqrt{N}} \\sum_{n=0}^{N-1} x_n \\omega_N^{nk}\n",
    "$$\n",
    "où $\\omega_N = exp(2 \\pi i / N)$.\n",
    "\n",
    "Le circuit suivant permet de réaliser une QFT sur 4 qubits, et est triviallement généralisable à n'importe quel nombre de qubits\n",
    "\n",
    "<img src=\"qft.png\" width=500>\n",
    "\n",
    "##### **Question 7.2**\n",
    "<pre> Implementer une routine quantique qui prend en entrée le nombre de qubits et qui renvoie le circuit quantique de la QFT (La porte P controlée peut être construite avec circuit.cp(theta, ))</pre> \n",
    "\n",
    "**/!\\ le circuit quantique de la QFT inverse l'ordre des qubits en sortie. Il faudra donc utiliser des portes SWAP (qu'on peut appeler avec circuit.swap(qubit1, qubit2)) pour inverser l'ordre de tous les qubits à la fin du circuit**"
   ]
  },
  {
   "cell_type": "code",
   "execution_count": null,
   "id": "ee8568fc",
   "metadata": {},
   "outputs": [],
   "source": []
  },
  {
   "cell_type": "markdown",
   "id": "b49f049a",
   "metadata": {},
   "source": [
    "Pour tester notre implémentation de la QFT nous allons essayer de résoudre un problème de recherche de fréquences (comme on pourrait le faire avec une Tranformée de Fourier classique). Pour cela on va étudier le signal encodé dans un état quantique à 5 qubits. Ci dessous, on visualise ce signal composé de deux cosinus, échantilloné sur $5^2 = 32$ valeurs."
   ]
  },
  {
   "cell_type": "code",
   "execution_count": 151,
   "id": "ce59be89",
   "metadata": {},
   "outputs": [
    {
     "data": {
      "image/png": "[encoded data removed]",
      "text/plain": [
       "<Figure size 640x480 with 1 Axes>"
      ]
     },
     "metadata": {},
     "output_type": "display_data"
    }
   ],
   "source": [
    "from qiskit.quantum_info import Statevector\n",
    "import matplotlib.pyplot as plt \n",
    "\n",
    "n = 5\n",
    "X = np.arange(0, 2**n)\n",
    "signal = np.array(np.cos(0.5*X) * np.cos(np.pi * X))  # Signal dont on étudie les fréquences\n",
    "signal /= np.linalg.norm(signal)  # Normalisation du signal pour l'encodage quantique\n",
    "qsignal = Statevector(signal)  # Encodage du signal en statevector\n",
    "\n",
    "plt.plot(X, signal)\n",
    "plt.show()\n"
   ]
  },
  {
   "cell_type": "markdown",
   "id": "40ed0c41",
   "metadata": {},
   "source": [
    "Le signal était composé de 2 sinusoïdes, dans le domaine de Fourier on observe 2 pics."
   ]
  },
  {
   "cell_type": "code",
   "execution_count": 152,
   "id": "2bf341c3",
   "metadata": {},
   "outputs": [
    {
     "data": {
      "image/png": "[encoded data removed]",
      "text/plain": [
       "<Figure size 640x480 with 1 Axes>"
      ]
     },
     "metadata": {},
     "output_type": "display_data"
    }
   ],
   "source": [
    "fft_signal = np.fft.fft(signal)\n",
    "plt.plot(X, np.abs(fft_signal))\n",
    "plt.show()"
   ]
  },
  {
   "cell_type": "markdown",
   "id": "6fedd3ec",
   "metadata": {},
   "source": [
    "Maintenant, testons notre QFT sur ce même signal. On obtiens un histogramme très proche de la courbe dans le domaine de Fourier ci-dessus."
   ]
  },
  {
   "cell_type": "code",
   "execution_count": 153,
   "id": "80a5ff37",
   "metadata": {},
   "outputs": [
    {
     "ename": "NameError",
     "evalue": "name 'qft' is not defined",
     "output_type": "error",
     "traceback": [
      "\u001b[1;31m---------------------------------------------------------------------------\u001b[0m",
      "\u001b[1;31mNameError\u001b[0m                                 Traceback (most recent call last)",
      "Cell \u001b[1;32mIn[153], line 3\u001b[0m\n\u001b[0;32m      1\u001b[0m circuit \u001b[38;5;241m=\u001b[39m QuantumCircuit(n, n)\n\u001b[0;32m      2\u001b[0m circuit\u001b[38;5;241m.\u001b[39minitialize(qsignal, \u001b[38;5;28mrange\u001b[39m(n))  \u001b[38;5;66;03m# Encode the signal in the quantum state\u001b[39;00m\n\u001b[1;32m----> 3\u001b[0m circuit \u001b[38;5;241m=\u001b[39m circuit\u001b[38;5;241m.\u001b[39mcompose(\u001b[43mqft\u001b[49m(\u001b[38;5;241m5\u001b[39m), \u001b[38;5;28mrange\u001b[39m(\u001b[38;5;241m5\u001b[39m))  \u001b[38;5;66;03m# Add the QFT in the quantum circuit\u001b[39;00m\n\u001b[0;32m      6\u001b[0m stats \u001b[38;5;241m=\u001b[39m simulate_circuit_histogram(circuit, \u001b[38;5;28mrange\u001b[39m(n)[::\u001b[38;5;241m-\u001b[39m\u001b[38;5;241m1\u001b[39m])\n\u001b[0;32m      7\u001b[0m plot_histogram(stats)\n",
      "\u001b[1;31mNameError\u001b[0m: name 'qft' is not defined"
     ]
    }
   ],
   "source": [
    "circuit = QuantumCircuit(n, n)\n",
    "circuit.initialize(qsignal, range(n))  # Encode the signal in the quantum state\n",
    "circuit = circuit.compose(qft(5), range(5))  # Add the QFT in the quantum circuit\n",
    "\n",
    "\n",
    "stats = simulate_circuit_histogram(circuit, range(n)[::-1])\n",
    "plot_histogram(stats)"
   ]
  },
  {
   "cell_type": "markdown",
   "id": "00d5f224",
   "metadata": {},
   "source": [
    "#### Implémentation complète de la QPE\n",
    "\n",
    "Maintenant que nous avons tous les blocs nécessaires à notre implémentation de la QPE, nous pouvons la tester. Pour rappel, si on souhaite implémenter la QPE il faut\n",
    "1) Initialiser l'état $\\ket{psi} à la valeur du vecteur propre donc $\\ket{1}$\n",
    "2) Appliquer un mur de portes Hadamard sur les qubits ancillaires\n",
    "3) Appliquer la séquence des unitaires contrôlées\n",
    "4) Utiliser l'inverse de la QFT sur les qubits ancillaires\n",
    "5) Mesure le registre ancillaire pour obtenir la valeur propre\n",
    "\n",
    "##### **Question 7.3**\n",
    "<pre> Implémenter l'algorithme de la QPE et observer l'histogramme en sortie du circuit pour un nombre d'ancilla égal à 3. </pre>"
   ]
  },
  {
   "cell_type": "code",
   "execution_count": null,
   "id": "460e01d1",
   "metadata": {},
   "outputs": [],
   "source": []
  },
  {
   "cell_type": "markdown",
   "id": "f12c91ee",
   "metadata": {},
   "source": [
    "En sortie du circuit, on mesure toujours la valeur $1$ et donc on remonte à la valeur $\\theta = 1/2^3 = 1/8$.\n",
    " 7.4\n",
    "##### **Question**\n",
    "<pre> Que se passe-t'il si on utilise un nombre d'ancilla insuffisant ? (ex: 2) </pre>"
   ]
  },
  {
   "cell_type": "code",
   "execution_count": null,
   "id": "939e4773",
   "metadata": {},
   "outputs": [],
   "source": []
  },
  {
   "cell_type": "markdown",
   "id": "5def3c40",
   "metadata": {},
   "source": [
    "-----\n",
    "\n",
    "## Algorithme 4 - BONUS pour le fun : Résolution de système linéaire avec HHL\n"
   ]
  }
 ],
 "metadata": {
  "kernelspec": {
   "display_name": "Python 3",
   "language": "python",
   "name": "python3"
  },
  "language_info": {
   "codemirror_mode": {
    "name": "ipython",
    "version": 3
   },
   "file_extension": ".py",
   "mimetype": "text/x-python",
   "name": "python",
   "nbconvert_exporter": "python",
   "pygments_lexer": "ipython3",
   "version": "3.13.1"
  }
 },
 "nbformat": 4,
 "nbformat_minor": 5
}
