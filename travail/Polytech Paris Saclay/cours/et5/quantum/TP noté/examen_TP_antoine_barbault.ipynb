{
 "cells": [
  {
   "cell_type": "markdown",
   "metadata": {},
   "source": [
    "# TP Noté Informatique Quantique (Polytech Paris-Saclay 2024/2025)\n",
    "\n",
    "Consignes:\n",
    "- Tout ce dont vous avez besoin pour programmer durant cet examen est importé dans les cellules ci-dessous.\n",
    "- Vous avez le droit aux documents, notamment les sujets et corrigés des TP (voir archive).\n",
    "- C'est un examen **INDIVIDUEL**, vous ne pouvez donc pas communiquer avec vos camarades. Deux copies identiques seront sanctionnées sans discernement.\n",
    "- L'examen est noté sur 20 points. Le détail des points est précisé au niveau du titre de chaque exercice.\n",
    "- A la fin du TP, envoyer ce notebook en le renommant \"examen_TP_prenom_nom.ipynb\" à l'adresse mail : oceanekoska@gmail.com"
   ]
  },
  {
   "cell_type": "markdown",
   "metadata": {},
   "source": [
    "**Executez cette cellule et les suivantes avant de commencer le TP**\n",
    "\n",
    "$$\\renewcommand{\\ket}[1]{\\left|{#1}\\right\\rangle}$$\n",
    "$$\\renewcommand{\\bra}[1]{\\left\\langle{#1}\\right|}$$"
   ]
  },
  {
   "cell_type": "code",
   "execution_count": 68,
   "metadata": {},
   "outputs": [],
   "source": [
    "import qiskit\n",
    "import qiskit_aer\n",
    "import numpy as np\n",
    "\n",
    "from qiskit_aer import Aer, AerSimulator\n",
    "from qiskit import QuantumCircuit, assemble, QuantumRegister, ClassicalRegister, transpile\n",
    "from qiskit.circuit.library import RYGate, RZGate, RXGate, TGate, TdgGate, HGate, MCXGate\n",
    "from qiskit.visualization import plot_histogram, array_to_latex"
   ]
  },
  {
   "cell_type": "markdown",
   "metadata": {},
   "source": [
    "Fonctions pour la simulation de circuit"
   ]
  },
  {
   "cell_type": "code",
   "execution_count": 69,
   "metadata": {},
   "outputs": [],
   "source": [
    "# Retourne l'état de sortie\n",
    "def simulate_circuit_state(qc):\n",
    "    qc2 = qc.copy()\n",
    "    aer_sim = Aer.get_backend('aer_simulator')\n",
    "    qc2.save_statevector()\n",
    "    result = aer_sim.run(qc2).result()\n",
    "    \n",
    "    return result.get_statevector().data\n",
    "\n",
    "# Retourne l'unitaire complet U\n",
    "def simulate_circuit_unitary(qc):\n",
    "    qc2 = qc.copy()\n",
    "    aer_sim = Aer.get_backend('aer_simulator')\n",
    "    qc2.save_unitary()\n",
    "    result = aer_sim.run(qc2).result()\n",
    "        \n",
    "    return result.get_unitary().data\n",
    "\n",
    "# Retourne le résultat de la mesure sur les qubits donnés en input\n",
    "def simulate_circuit_measurements(qc, qubits):\n",
    "    qc2 = qc.copy()\n",
    "    for (j,i) in enumerate(qubits):\n",
    "        qc2.measure(i,j)\n",
    "    \n",
    "    aer_sim = Aer.get_backend('aer_simulator')\n",
    "    result = aer_sim.run(qc2, shots=1, memory=True).result()\n",
    "    \n",
    "    return result.get_memory()\n",
    "\n",
    "# Retourne l'histogramme des résultats : un dictionnaire où chaque clé est une bitstring et la valeur\n",
    "# associée est le nombre de fois que cette bitstring a été mesurée. Le nombre de samples est 1024 par défaut.\n",
    "def simulate_circuit_histogram(qc, qubits):\n",
    "    qc2 = transpile(qc, AerSimulator())\n",
    "    for (j,i) in enumerate(qubits):\n",
    "        qc2.measure(i,j)\n",
    "    aer_sim = Aer.get_backend('aer_simulator')\n",
    "    result = aer_sim.run(qc2).result()\n",
    "    \n",
    "    return result.get_counts()\n",
    "\n",
    "# Retourne le dessin\n",
    "def simulate_circuit_drawing(qc):\n",
    "    A = simulate_circuit_unitary(qc)\n",
    "    B = np.where(A != 0, \"#\", \".\")\n",
    "    for l in B:\n",
    "        for c in l:\n",
    "            print(c, end=\"  \")\n",
    "        print(\"\\n\")"
   ]
  },
  {
   "cell_type": "markdown",
   "metadata": {},
   "source": [
    "---\n",
    "# Début du sujet\n",
    "\n",
    "Aujourd'hui vous allez être parent, parent d'un petit ordinateur quantique. Il s'appelle <span style=\"color:aquamarine\"> mégatron (1 point bonus sur la note gratuit)</span>\n",
    "  et il rentre en maternelle. Vous allez devoir l'aider à faire ses devoirs tout au long de sa scolarité pour qu'il devienne un bon élève. "
   ]
  },
  {
   "cell_type": "markdown",
   "metadata": {},
   "source": [
    "---\n",
    "## Exercice 1 : Faire des dessins (2.5 points)\n",
    "\n",
    "Dessiner est une tâche qu'on apprend très tôt. Pour un ordinateur quantique c'est pas trivial mais on va adapter un peu. Un circuit quantique représente une unitaire, donc une matrice. La matrice sera donc la toile de dessin. Chaque case de la matrice peut contenir 0 ou une valeurs non nulle. Si on considère :\n",
    "- 0 = pixel blanc\n",
    "- pas 0 = pixel noir\n",
    "\n",
    "On peut faire du pixel art en noir et blanc ! Dans la suite, vous allez implémenter deux circuits quantiques et grace à la fonction simulate_circuit_drawing pouvoir afficher le dessin."
   ]
  },
  {
   "cell_type": "markdown",
   "metadata": {},
   "source": [
    "---\n",
    "### Une croix\n",
    "\n",
    "On commence par faire simple. Dessiner une croix $\\times$ c'est en somme deux traits, plutôt simple quoi. Voici le circuit quantique correspondant, pour $n=3$ qubits :\n",
    "\n",
    "<center>\n",
    "    <img src=\"img/circuit_croix.png\" />\n",
    "</center>\n",
    "\n",
    "#### **Question 1.1** \n",
    "*Implémenter le circuit quantique ci-dessus et afficher le dessin associé à l'aide de la fonction simulate_circuit_drawing*"
   ]
  },
  {
   "cell_type": "code",
   "execution_count": 70,
   "metadata": {},
   "outputs": [
    {
     "name": "stdout",
     "output_type": "stream",
     "text": [
      "#  .  .  .  .  .  .  #  \n",
      "\n",
      ".  #  .  .  .  .  #  .  \n",
      "\n",
      ".  .  #  .  .  #  .  .  \n",
      "\n",
      ".  .  .  #  #  .  .  .  \n",
      "\n",
      ".  .  .  #  #  .  .  .  \n",
      "\n",
      ".  .  #  .  .  #  .  .  \n",
      "\n",
      ".  #  .  .  .  .  #  .  \n",
      "\n",
      "#  .  .  .  .  .  .  #  \n",
      "\n"
     ]
    }
   ],
   "source": [
    "qc = QuantumCircuit(3)\n",
    "qc.cx(0,2)\n",
    "qc.cx(0,1)\n",
    "qc.h(0)\n",
    "qc.cx(0,1)\n",
    "qc.cx(0,2)\n",
    "simulate_circuit_drawing(qc)"
   ]
  },
  {
   "cell_type": "markdown",
   "metadata": {},
   "source": [
    "---\n",
    "### Oeil de Sauron\n",
    "\n",
    "Que l'on sache ou non ce qu'est un oeil de Sauron, il faut juste savoir que c'est plus compliqué qu'une croix et que ça ressemble à ceci\n",
    "\n",
    "<center>\n",
    "    <img src=\"img/os.jpg\" />\n",
    "</center>\n",
    "\n",
    "Voici le circuit correspondant pour faire le dessin pour $n=4$ qubits:\n",
    "\n",
    "<center>\n",
    "    <img src = \"img/circuit_sauron.png\" />\n",
    "</center>\n",
    "\n",
    "#### **Question 1.2**\n",
    "\n",
    "*Implémenter le circuit quantique ci-dessus et afficher le dessin associé à l'aide de la fonction simulate_circuit_drawing*\n"
   ]
  },
  {
   "cell_type": "code",
   "execution_count": 71,
   "metadata": {},
   "outputs": [
    {
     "name": "stdout",
     "output_type": "stream",
     "text": [
      ".  .  .  .  .  .  #  .  .  #  .  .  .  .  .  .  \n",
      "\n",
      ".  .  .  .  .  #  .  .  .  .  #  .  .  .  .  .  \n",
      "\n",
      ".  .  .  .  #  .  .  .  .  .  .  #  .  .  .  .  \n",
      "\n",
      ".  .  .  #  .  .  .  .  .  .  .  .  #  .  .  .  \n",
      "\n",
      ".  .  #  .  .  .  .  .  .  .  .  .  .  #  .  .  \n",
      "\n",
      ".  #  .  .  .  .  .  .  .  .  .  .  .  .  #  .  \n",
      "\n",
      "#  .  .  .  .  .  .  .  .  .  .  .  .  .  .  #  \n",
      "\n",
      ".  .  .  .  .  .  .  #  #  .  .  .  .  .  .  .  \n",
      "\n",
      ".  .  .  .  .  .  .  #  #  .  .  .  .  .  .  .  \n",
      "\n",
      "#  .  .  .  .  .  .  .  .  .  .  .  .  .  .  #  \n",
      "\n",
      ".  #  .  .  .  .  .  .  .  .  .  .  .  .  #  .  \n",
      "\n",
      ".  .  #  .  .  .  .  .  .  .  .  .  .  #  .  .  \n",
      "\n",
      ".  .  .  #  .  .  .  .  .  .  .  .  #  .  .  .  \n",
      "\n",
      ".  .  .  .  #  .  .  .  .  .  .  #  .  .  .  .  \n",
      "\n",
      ".  .  .  .  .  #  .  .  .  .  #  .  .  .  .  .  \n",
      "\n",
      ".  .  .  .  .  .  #  .  .  #  .  .  .  .  .  .  \n",
      "\n"
     ]
    }
   ],
   "source": [
    "qc = QuantumCircuit(4)\n",
    "qc.x(3)\n",
    "qc.cx(3,0)\n",
    "qc.x(0)\n",
    "qc.cx(3,1)\n",
    "qc.cx(0,1)\n",
    "qc.cx(3,2)\n",
    "qc.ccx(0,1,2)\n",
    "qc.x(3)\n",
    "qc.h(3)\n",
    "qc.cx(3,0)\n",
    "qc.cx(3,1)\n",
    "qc.cx(3,2)\n",
    "simulate_circuit_drawing(qc)"
   ]
  },
  {
   "cell_type": "markdown",
   "metadata": {},
   "source": [
    "---\n",
    "## Exercice 2 : Addition avec retenue (7.5 points)\n",
    "\n",
    "Votre enfant ordinateur quantique est tellement rapide qu'il a sauté le CP et rentre directement au CE1. Maintenant, il va passer aux choses sérieuses et faire des additions **AVEC** retenue. Il a le droit a un traitement particulier : il peut faire ses additions en binaire. Nous allons donc étudier le problème de l'additionneur quantique. Considérons deux entiers encodés sur $3$ bits \n",
    "$$\n",
    "a = a_2 a_1 a_0 \\; \\textrm{et} \\; b = b_2 b_1 b_0\n",
    "$$\n",
    "Nous souhaitons calculer la somme exacte de ces deux entiers et stocker cette valeur, qui sera donc encodée sur 4 bits pour prendre en considération une potentielle retenue. Pour ce faire, on va avoir besoin de deux opérations que nous allons nommer $O_1$ et $O_2$ par manque d'originalité."
   ]
  },
  {
   "cell_type": "markdown",
   "metadata": {},
   "source": [
    "---\n",
    "### Opérateur $O_1$\n",
    "\n",
    "L'opérateur $O_1$ est un opérateur sur 3 qubits ayant pour circuit quantique\n",
    "\n",
    "<center>\n",
    "    <img src=\"img/circuit_O1.png\" />\n",
    "</center>\n",
    "\n",
    "#### **Question 2.1**\n",
    "*Implémenter l'opérateur O1 à l'aide du circuit quantique donné ci-dessus*"
   ]
  },
  {
   "cell_type": "code",
   "execution_count": 72,
   "metadata": {},
   "outputs": [
    {
     "data": {
      "text/html": [
       "<pre style=\"word-wrap: normal;white-space: pre;background: #fff0;line-height: 1.1;font-family: &quot;Courier New&quot;,Courier,monospace\">          ┌───┐     \n",
       "q_0: ─────┤ X ├──■──\n",
       "     ┌───┐└─┬─┘  │  \n",
       "q_1: ┤ X ├──┼────■──\n",
       "     └─┬─┘  │  ┌─┴─┐\n",
       "q_2: ──■────■──┤ X ├\n",
       "               └───┘</pre>"
      ],
      "text/plain": [
       "          ┌───┐     \n",
       "q_0: ─────┤ X ├──■──\n",
       "     ┌───┐└─┬─┘  │  \n",
       "q_1: ┤ X ├──┼────■──\n",
       "     └─┬─┘  │  ┌─┴─┐\n",
       "q_2: ──■────■──┤ X ├\n",
       "               └───┘"
      ]
     },
     "execution_count": 72,
     "metadata": {},
     "output_type": "execute_result"
    }
   ],
   "source": [
    "o1 = QuantumCircuit(3)\n",
    "o1.cx(2,1)\n",
    "o1.cx(2,0)\n",
    "o1.ccx(0,1,2)\n",
    "o1.draw()"
   ]
  },
  {
   "cell_type": "markdown",
   "metadata": {},
   "source": [
    "#### **Question 2.2**\n",
    "Supposons que le système en entrée de $O_1$ soit $\\ket{a_i} \\ket{b_i} \\ket{c_i}$\n",
    "\n",
    "*Expliciter l'état en sortie à la main (en utilisant l'opérateur xor (^), correspondant au \"ou\" exclusif)*"
   ]
  },
  {
   "cell_type": "markdown",
   "metadata": {},
   "source": [
    "Votre réponse ici :\n",
    "$\\ket{a_i xor c_i} \\ket{b_i xor c_i} \\ket{c_i xor (b_i xor c_i) and (a_i xor c_i)}$"
   ]
  },
  {
   "cell_type": "markdown",
   "metadata": {},
   "source": [
    "*Vérifier numériquement, en affichant pour chaque entrée possible sur 3 qubits, votre réponse*"
   ]
  },
  {
   "cell_type": "code",
   "execution_count": 73,
   "metadata": {},
   "outputs": [
    {
     "name": "stdout",
     "output_type": "stream",
     "text": [
      "Input |Output|Expected Output\n",
      "      |      |      \n",
      " 000  | 000  | 000  \n",
      " 001  | 110  | 110  \n",
      " 010  | 010  | 010  \n",
      " 011  | 101  | 101  \n",
      " 100  | 100  | 100  \n",
      " 101  | 011  | 011  \n",
      " 110  | 111  | 111  \n",
      " 111  | 001  | 001  \n"
     ]
    }
   ],
   "source": [
    "n = o1.num_qubits\n",
    "\n",
    "# Pour avoir un bel affichage\n",
    "a = \"{:^\" + str(n + 3) + \"s}|{:^\" + str(n + 3) + \"s}|{:^\" + str(n + 3) + \"s}\"\n",
    "print(a.format(\"Input\", \"Output\", \"Expected Output\"))\n",
    "print(a.format(\"\", \"\", \"\"))\n",
    "    \n",
    "# L'itération sur les bitstrings\n",
    "for i in range(2**n):\n",
    "    circ = QuantumCircuit(n, n)\n",
    "    \n",
    "    # On récupère la décomposition binaire...\n",
    "    bin_i = (\"{0:0\" + str(n) + \"b}\").format(i)\n",
    "    \n",
    "    # ... qui nous donne les X à appliquer\n",
    "    for j in range(n):\n",
    "        if bin_i[j] == '1':\n",
    "            circ.x(j)\n",
    "        \n",
    "    # La méthode compose permet de concaténer deux circuits\n",
    "    circ = circ.compose(o1, [i for i in range(n)])\n",
    "    \n",
    "    # On effectue la mesure\n",
    "    output = simulate_circuit_measurements(circ, [i for i in range(n)])[0][::-1]\n",
    "    \n",
    "    # Calcul de la sortie attendue (basée sur l'opération XOR)\n",
    "    a_i, b_i, c_i = map(int, bin_i)  # On décompose l'entrée\n",
    "    expected_output = f\"{(a_i ^ c_i)}{(b_i ^ c_i)}{(c_i ^ ((b_i ^ c_i) & (a_i ^ c_i)))}\"\n",
    "    \n",
    "    # On affiche le résultat avec la sortie attendue\n",
    "    print(a.format(bin_i, output, expected_output))\n"
   ]
  },
  {
   "cell_type": "markdown",
   "metadata": {},
   "source": [
    "---\n",
    "\n",
    "### Opérateur $O_2$\n",
    "\n",
    "L'opérateur $O_2$ est aussi un opérateur sur 3 qubits, dont voici le circuit\n",
    "\n",
    "<center>\n",
    "    <img src=\"img/circuit_O2.png\" />\n",
    "</center>\n",
    "\n",
    "#### **Question 2.3**\n",
    "*Implémenter l'opérateur O2 à partir du circuit quantique ci-dessus*"
   ]
  },
  {
   "cell_type": "code",
   "execution_count": 74,
   "metadata": {},
   "outputs": [
    {
     "data": {
      "text/html": [
       "<pre style=\"word-wrap: normal;white-space: pre;background: #fff0;line-height: 1.1;font-family: &quot;Courier New&quot;,Courier,monospace\">          ┌───┐     \n",
       "q_0: ──■──┤ X ├──■──\n",
       "       │  └─┬─┘┌─┴─┐\n",
       "q_1: ──■────┼──┤ X ├\n",
       "     ┌─┴─┐  │  └───┘\n",
       "q_2: ┤ X ├──■───────\n",
       "     └───┘          </pre>"
      ],
      "text/plain": [
       "          ┌───┐     \n",
       "q_0: ──■──┤ X ├──■──\n",
       "       │  └─┬─┘┌─┴─┐\n",
       "q_1: ──■────┼──┤ X ├\n",
       "     ┌─┴─┐  │  └───┘\n",
       "q_2: ┤ X ├──■───────\n",
       "     └───┘          "
      ]
     },
     "execution_count": 74,
     "metadata": {},
     "output_type": "execute_result"
    }
   ],
   "source": [
    "o2 = QuantumCircuit(3)\n",
    "o2.ccx(0,1,2)\n",
    "o2.cx(2,0)\n",
    "o2.cx(0,1)\n",
    "o2.draw()"
   ]
  },
  {
   "cell_type": "markdown",
   "metadata": {},
   "source": [
    "---\n",
    "### Additionneur\n",
    "\n",
    "Maintenant grâce à nos deux opérateurs $O_1$ et $O_2$, notre petit ordinateur quantique peut en théorie faire des additions avec retenue. Il suffit de faire une combinaison astucieuse de ces deux opérateurs pour obtenir le résultat. Toujours avec nos entiers  $a= a_2 a_1 a_0$ et $b = b_2 b_1 b_0$, nous allons considérer un vecteur $c$ sur 4 qubits. Ce vecteur $c$ va nous permettre de compter les retenues pendant l'addition. On a alors \n",
    "- $c_0 = 0$, car on commence quoi qu'il arrive le calcul sans retenue,\n",
    "- $c_{i+1} = a_i \\oplus b_i \\oplus c_i$, où $\\oplus$ est un ou exclusif (xor).\n",
    "\n",
    "\n",
    "#### **Question 2.4**\n",
    "*Vérifier sur toutes les entrées possibles de ce circuit qu'en sortie c_i et a_i soient inchangées.*\n",
    "<center>\n",
    "    <img src=\"img/circuit_O1O2.png\" />\n",
    "</center>\n"
   ]
  },
  {
   "cell_type": "code",
   "execution_count": 75,
   "metadata": {},
   "outputs": [
    {
     "data": {
      "text/html": [
       "<pre style=\"word-wrap: normal;white-space: pre;background: #fff0;line-height: 1.1;font-family: &quot;Courier New&quot;,Courier,monospace\">          ┌───┐          ┌───┐     \n",
       "q_0: ─────┤ X ├──■────■──┤ X ├──■──\n",
       "     ┌───┐└─┬─┘  │    │  └─┬─┘┌─┴─┐\n",
       "q_1: ┤ X ├──┼────■────■────┼──┤ X ├\n",
       "     └─┬─┘  │  ┌─┴─┐┌─┴─┐  │  └───┘\n",
       "q_2: ──■────■──┤ X ├┤ X ├──■───────\n",
       "               └───┘└───┘          </pre>"
      ],
      "text/plain": [
       "          ┌───┐          ┌───┐     \n",
       "q_0: ─────┤ X ├──■────■──┤ X ├──■──\n",
       "     ┌───┐└─┬─┘  │    │  └─┬─┘┌─┴─┐\n",
       "q_1: ┤ X ├──┼────■────■────┼──┤ X ├\n",
       "     └─┬─┘  │  ┌─┴─┐┌─┴─┐  │  └───┘\n",
       "q_2: ──■────■──┤ X ├┤ X ├──■───────\n",
       "               └───┘└───┘          "
      ]
     },
     "execution_count": 75,
     "metadata": {},
     "output_type": "execute_result"
    }
   ],
   "source": [
    "combined_circuit = QuantumCircuit(3)\n",
    "combined_circuit.compose(o1, [0, 1, 2], inplace=True)\n",
    "combined_circuit.compose(o2, [0, 1, 2], inplace=True)\n",
    "combined_circuit.draw()"
   ]
  },
  {
   "cell_type": "code",
   "execution_count": 76,
   "metadata": {},
   "outputs": [
    {
     "name": "stdout",
     "output_type": "stream",
     "text": [
      "Input | Output\n",
      "      |      \n",
      " 000  | 000  \n",
      " 001  | 011  \n",
      " 010  | 010  \n",
      " 011  | 001  \n",
      " 100  | 110  \n",
      " 101  | 101  \n",
      " 110  | 100  \n",
      " 111  | 111  \n"
     ]
    }
   ],
   "source": [
    "n = combined_circuit.num_qubits\n",
    "\n",
    "# Pour avoir un bel affichage\n",
    "a =\"{:^\"+str(n+3)+\"s}|{:^\"+str(n+3)+\"s}\"\n",
    "print(a.format(\"Input\", \" Output\"))\n",
    "print(a.format(\"\", \"\"))\n",
    "    \n",
    "# L'itération sur les bitstrings\n",
    "for i in range(2**n):\n",
    "    circ = QuantumCircuit(n, n)\n",
    "    \n",
    "    # On récupère la décomposition binaire...\n",
    "    bin_i = (\"{0:0\" + str(n) + \"b}\").format(i)\n",
    "    \n",
    "    # ... qui nous donne les X à appliquer\n",
    "    for j in range(n):\n",
    "        if bin_i[j] == '1':\n",
    "            circ.x(j)\n",
    "        \n",
    "    # La méthode compose permet de concaténer deux circuits\n",
    "    circ = circ.compose(combined_circuit, [i for i in range(n)])\n",
    "    \n",
    "    # On effectue la mesure\n",
    "    output = simulate_circuit_measurements(circ, [i for i in range(n)])[0][::-1]\n",
    "    \n",
    "    # On affiche le résultat avec la sortie attendue\n",
    "    print(a.format(bin_i, output, expected_output))"
   ]
  },
  {
   "cell_type": "markdown",
   "metadata": {},
   "source": [
    "*Quelle est la valeur du qubit initialement à b_i (en fonction a_i, b_i, c_i) ?*"
   ]
  },
  {
   "cell_type": "markdown",
   "metadata": {},
   "source": [
    "\\ket{(b_i xor c_i) xor ((a_i xor c_i) xor ((c_i xor (b_i xor c_i) and (a_i xor c_i)) xor (a_i xor c_i) & (b_i xor c_i)))}"
   ]
  },
  {
   "cell_type": "markdown",
   "metadata": {},
   "source": [
    "Il est temps de construire l'additionneur au complet pour des entiers sur 3 qubits. Pour ne pas faire durer plus longtemps le suspens, voici le circuit quantique\n",
    "\n",
    "<center>\n",
    "    <img src=\"img/circuit_adder.png\" />\n",
    "</center>\n",
    "\n",
    "#### **Question 2.5**\n",
    "*Implémenter le circuit de l'additionneur donné ci-dessus*"
   ]
  },
  {
   "cell_type": "code",
   "execution_count": 77,
   "metadata": {},
   "outputs": [
    {
     "data": {
      "text/html": [
       "<pre style=\"word-wrap: normal;white-space: pre;background: #fff0;line-height: 1.1;font-family: &quot;Courier New&quot;,Courier,monospace\">          ┌───┐                                                            »\n",
       "q_0: ─────┤ X ├──■─────────────────────────────────────────────────────────»\n",
       "     ┌───┐└─┬─┘  │                                                         »\n",
       "q_1: ┤ X ├──┼────■─────────────────────────────────────────────────────────»\n",
       "     └─┬─┘  │  ┌─┴─┐┌───┐                                        ┌───┐     »\n",
       "q_2: ──■────■──┤ X ├┤ X ├──■──────────────────────────────────■──┤ X ├──■──»\n",
       "     ┌───┐     └───┘└─┬─┘  │                                  │  └─┬─┘┌─┴─┐»\n",
       "q_3: ┤ X ├────────────┼────■──────────────────────────────────■────┼──┤ X ├»\n",
       "     └─┬─┘            │  ┌─┴─┐┌───┐               ┌───┐     ┌─┴─┐  │  └───┘»\n",
       "q_4: ──■──────────────■──┤ X ├┤ X ├──■─────────■──┤ X ├──■──┤ X ├──■───────»\n",
       "     ┌───┐               └───┘└─┬─┘  │         │  └─┬─┘┌─┴─┐└───┘          »\n",
       "q_5: ┤ X ├──────────────────────┼────■─────────■────┼──┤ X ├───────────────»\n",
       "     └─┬─┘                      │  ┌─┴─┐     ┌─┴─┐  │  └───┘               »\n",
       "q_6: ──■────────────────────────■──┤ X ├──■──┤ X ├──■──────────────────────»\n",
       "                                   └───┘┌─┴─┐└───┘                         »\n",
       "q_7: ───────────────────────────────────┤ X ├──────────────────────────────»\n",
       "                                        └───┘                              »\n",
       "«          ┌───┐     \n",
       "«q_0: ──■──┤ X ├──■──\n",
       "«       │  └─┬─┘┌─┴─┐\n",
       "«q_1: ──■────┼──┤ X ├\n",
       "«     ┌─┴─┐  │  └───┘\n",
       "«q_2: ┤ X ├──■───────\n",
       "«     └───┘          \n",
       "«q_3: ───────────────\n",
       "«                    \n",
       "«q_4: ───────────────\n",
       "«                    \n",
       "«q_5: ───────────────\n",
       "«                    \n",
       "«q_6: ───────────────\n",
       "«                    \n",
       "«q_7: ───────────────\n",
       "«                    </pre>"
      ],
      "text/plain": [
       "          ┌───┐                                                            »\n",
       "q_0: ─────┤ X ├──■─────────────────────────────────────────────────────────»\n",
       "     ┌───┐└─┬─┘  │                                                         »\n",
       "q_1: ┤ X ├──┼────■─────────────────────────────────────────────────────────»\n",
       "     └─┬─┘  │  ┌─┴─┐┌───┐                                        ┌───┐     »\n",
       "q_2: ──■────■──┤ X ├┤ X ├──■──────────────────────────────────■──┤ X ├──■──»\n",
       "     ┌───┐     └───┘└─┬─┘  │                                  │  └─┬─┘┌─┴─┐»\n",
       "q_3: ┤ X ├────────────┼────■──────────────────────────────────■────┼──┤ X ├»\n",
       "     └─┬─┘            │  ┌─┴─┐┌───┐               ┌───┐     ┌─┴─┐  │  └───┘»\n",
       "q_4: ──■──────────────■──┤ X ├┤ X ├──■─────────■──┤ X ├──■──┤ X ├──■───────»\n",
       "     ┌───┐               └───┘└─┬─┘  │         │  └─┬─┘┌─┴─┐└───┘          »\n",
       "q_5: ┤ X ├──────────────────────┼────■─────────■────┼──┤ X ├───────────────»\n",
       "     └─┬─┘                      │  ┌─┴─┐     ┌─┴─┐  │  └───┘               »\n",
       "q_6: ──■────────────────────────■──┤ X ├──■──┤ X ├──■──────────────────────»\n",
       "                                   └───┘┌─┴─┐└───┘                         »\n",
       "q_7: ───────────────────────────────────┤ X ├──────────────────────────────»\n",
       "                                        └───┘                              »\n",
       "«          ┌───┐     \n",
       "«q_0: ──■──┤ X ├──■──\n",
       "«       │  └─┬─┘┌─┴─┐\n",
       "«q_1: ──■────┼──┤ X ├\n",
       "«     ┌─┴─┐  │  └───┘\n",
       "«q_2: ┤ X ├──■───────\n",
       "«     └───┘          \n",
       "«q_3: ───────────────\n",
       "«                    \n",
       "«q_4: ───────────────\n",
       "«                    \n",
       "«q_5: ───────────────\n",
       "«                    \n",
       "«q_6: ───────────────\n",
       "«                    \n",
       "«q_7: ───────────────\n",
       "«                    "
      ]
     },
     "execution_count": 77,
     "metadata": {},
     "output_type": "execute_result"
    }
   ],
   "source": [
    "addition = QuantumCircuit(8)\n",
    "addition.compose(o1, [0, 1, 2], inplace=True)\n",
    "addition.compose(o1, [2, 3, 4], inplace=True)\n",
    "addition.compose(o1, [4, 5, 6], inplace=True)\n",
    "addition.cx(6, 7)\n",
    "addition.compose(o2, [4, 5, 6], inplace=True)\n",
    "addition.compose(o2, [2, 3, 4], inplace=True)\n",
    "addition.compose(o2, [0, 1, 2], inplace=True)\n",
    "addition.draw()"
   ]
  },
  {
   "cell_type": "markdown",
   "metadata": {},
   "source": [
    "#### **Question 2.6**\n",
    "*Combien font 2 + 4 ? (C'est à l'ordinateur quantique de répondre of course)*"
   ]
  },
  {
   "cell_type": "code",
   "execution_count": null,
   "metadata": {},
   "outputs": [
    {
     "name": "stdout",
     "output_type": "stream",
     "text": [
      "   Input   |   Output  \n",
      "           |           \n",
      " 01001000  | 01011000  \n"
     ]
    }
   ],
   "source": [
    "# a = 0b010\n",
    "# b = 0b100\n",
    "bin_in = \"\"\n",
    "\n",
    "\n",
    "n = addition.num_qubits\n",
    "\n",
    "# Pour avoir un bel affichage\n",
    "a =\"{:^\"+str(n+3)+\"s}|{:^\"+str(n+3)+\"s}\"\n",
    "print(a.format(\"Input\", \" Output\"))\n",
    "print(a.format(\"\", \"\"))\n",
    "    \n",
    "circ = QuantumCircuit(n, n)\n",
    "\n",
    "# car c0=0 b0 a0 b1 a1 b2 a2 c3=0\n",
    "bin_i = \"01001000\"\n",
    "\n",
    "# ... qui nous donne les X à appliquer\n",
    "for j in range(n):\n",
    "    if bin_i[j] == '1':\n",
    "        circ.x(j)\n",
    "    \n",
    "# La méthode compose permet de concaténer deux circuits\n",
    "circ = circ.compose(addition, [i for i in range(n)])\n",
    "\n",
    "# On effectue la mesure\n",
    "output = simulate_circuit_measurements(circ, [i for i in range(n)])[0][::-1]\n",
    "\n",
    "# On affiche le résultat avec la sortie attendue\n",
    "print(a.format(bin_i, output, expected_output))\n",
    "\n",
    "# res : 01011000  donc 1100 donc 110 donc 6"
   ]
  },
  {
   "cell_type": "markdown",
   "metadata": {},
   "source": [
    "*Combien font 5 + 7 ? (Idem)*"
   ]
  },
  {
   "cell_type": "code",
   "execution_count": null,
   "metadata": {},
   "outputs": [
    {
     "name": "stdout",
     "output_type": "stream",
     "text": [
      "   Input   |   Output  \n",
      "           |           \n",
      " 01110110  | 00100111  \n"
     ]
    }
   ],
   "source": [
    "# a = 0b101\n",
    "# b = 0b111\n",
    "bin_in = \"\"\n",
    "\n",
    "\n",
    "n = addition.num_qubits\n",
    "\n",
    "# Pour avoir un bel affichage\n",
    "a =\"{:^\"+str(n+3)+\"s}|{:^\"+str(n+3)+\"s}\"\n",
    "print(a.format(\"Input\", \" Output\"))\n",
    "print(a.format(\"\", \"\"))\n",
    "    \n",
    "circ = QuantumCircuit(n, n)\n",
    "\n",
    "# car c0=0 b0 a0 b1 a1 b2 a2 c3=0\n",
    "bin_i = \"01110110\"\n",
    "\n",
    "# ... qui nous donne les X à appliquer\n",
    "for j in range(n):\n",
    "    if bin_i[j] == '1':\n",
    "        circ.x(j)\n",
    "    \n",
    "# La méthode compose permet de concaténer deux circuits\n",
    "circ = circ.compose(addition, [i for i in range(n)])\n",
    "\n",
    "# On effectue la mesure\n",
    "output = simulate_circuit_measurements(circ, [i for i in range(n)])[0][::-1]\n",
    "\n",
    "# On affiche le résultat avec la sortie attendue\n",
    "print(a.format(bin_i, output, expected_output))\n",
    "\n",
    "# res : 00100111  donc 1100 donc 12"
   ]
  },
  {
   "cell_type": "markdown",
   "metadata": {},
   "source": [
    "---\n",
    "## Exercice 3 : Message caché (10 points)\n",
    "\n",
    "L'école ce n'est pas seulement travailler, c'est aussi faire des rencontres. Votre petit ordinateur quantique a de nouveaux amis dans sa classe de CE2, Arthur (A) et Béatrice (B), et il aimerait les aider à communiquer secrétement en cours. Seulement, il ne veut pas que la maitresse Madame Etchebest (E) puisse intercepter leur communication. Ayant déjà des connaissances en cryptographie (oui c'est un génie ce petit) il propose à Arthur d'échanger une clef avec Béatrice pour communiquer de manière chiffrée. Le plan est infaillible seulement si l'institutrice n'intercepte pas la transmission de la clef. Le protocole d'échange fonctionne ainsi :\n",
    "\n",
    "Arthur (A) génère une suite de $n$ bits aléatoires $b_1...b_n$. Pour chaque bit $b_i$ Arthur\n",
    "- choisie une base de transmission $t_i$ entre $B_+ = \\{\\ket{0}, \\ket{1}\\}$ et $B_\\times = \\{\\frac{\\ket{0} + \\ket{1}}{\\sqrt{2}}, \\frac{\\ket{0} - \\ket{1}}{\\sqrt{2}}\\} = \\{\\ket{+}, \\ket{-}\\}$.\n",
    "- envoie un qubit encodé dans la base $t_i$ suivant ce tableau\n",
    "<center>\n",
    "<img src=\"img/tableau.png\" width=200/>\n",
    "</center>\n",
    "\n",
    "Ensuite Béatrice (B), pour chaque qubit réceptionné $\\ket{q_i}$\n",
    "- choisie une base de réception $r_i \\in \\{B_+, B_\\times \\}$\n",
    "- effectue une mesure dans la base de réception $r_i$, et obtient les bits $b'_i$\n",
    "\n",
    "Dans un deuxième temps, Béatrice (B) transmet classiquement la liste des bases de réception $[r_1,...,r_n]$ à Arthur (A). Arthur dit donc à Béatrice quelles sont les bases $r_i$ et $t_i$ qui correspondent et gardent les qubits concernés pour créer la clef. \n",
    "\n",
    "En troisième étape Arthur (A) et Béatrice (B) dévoilent publiquement une partie de la clef. Ils comparents les $b_i$ et les $b'_i$. Si les bits sont identiques, la clef n'a pas été compromise et ils peuvent l'utiliser avec sécurité. Sinon, il y a eu un problème de transmission ou la maitresse Etchebest (E) a écouté cette transmission. \n",
    "\n",
    "La sécurité de la transmission repose sur le théorème de non-clonage. Il garantit qu'en cas d'écoute l'institutrice force le qubit à se projeter sur une base. Donc si l'institutrice devine la base choisi par Arthur avec une probabilité de 50%, alors 25% des bits de la clef finale seront erronés. Si Arthur et Béatrice sacrifient $m$ qubits dans la clef finale pour vérifier une éventuelle écoute de la maitresse alors ils peuvent détecter cette écoute avec une probabilité de $1 - (3/4)^m$.\n",
    "\n",
    "\n",
    "Vous allez donc l'aider, lui et ses amis, à mettre se plan redoutable en pratique (parce que vous êtes un parent cool).\n",
    "\n",
    "---\n",
    "### Arthur (A) s'occupe de la transmission\n",
    "\n",
    "Pour rappel, le protocole de transmission de la clef commence ainsi\n",
    "\n",
    "Arthur (A) génère une suite de $n$ bits aléatoires $b_1...b_n$. Pour chaque bit $b_i$ Arthur\n",
    "- choisie une base de transmission $t_i$ entre $B_+ = \\{\\ket{0}, \\ket{1}\\}$ et $B_\\times = \\{\\frac{\\ket{0} + \\ket{1}}{\\sqrt{2}}, \\frac{\\ket{0} - \\ket{1}}{\\sqrt{2}}\\} = \\{\\ket{+}, \\ket{-}\\}$.\n",
    "- envoie un qubit encodé dans la base $t_i$ suivant ce tableau\n",
    "<center>\n",
    "<img src=\"img/tableau.png\" width=200/>\n",
    "</center>\n",
    "\n",
    "\n",
    "L'encodage dans la base $B_\\times$ peut se faire en utilisant une porte H."
   ]
  },
  {
   "cell_type": "markdown",
   "metadata": {},
   "source": [
    "#### **Question 3.1**\n",
    "\n",
    "*Implémenter une routine quantique qui prend en entrée le vecteur de n bits b, le vecteur qui précise les n bases de transmission t, et qui encode cela dans un état quantique suivant le tableau ci-dessus*"
   ]
  },
  {
   "cell_type": "code",
   "execution_count": null,
   "metadata": {},
   "outputs": [],
   "source": []
  },
  {
   "cell_type": "markdown",
   "metadata": {},
   "source": [
    "#### **Question 3.2**\n",
    "*Testez votre fonction d'encodage sur l'exemple ci-dessous. Les états que vous devriez obtenir en sortie avec plot_histogram sont 0010, 0110, 1010, 1110*"
   ]
  },
  {
   "cell_type": "code",
   "execution_count": 80,
   "metadata": {},
   "outputs": [],
   "source": [
    "n = 4\n",
    "# Bits classiques\n",
    "b = [0,1,1,1]\n",
    "# Bases de transmission (0: B+, 1: Bx)\n",
    "t = [0,0,1,1]\n"
   ]
  },
  {
   "cell_type": "markdown",
   "metadata": {},
   "source": [
    "---\n",
    "### Béatrice (B) réceptionne le message\n",
    "Pour rappel, Béatrice (B), pour chaque qubit réceptionné $\\ket{q_i}$\n",
    "- choisie une base de réception $r_i \\in \\{B_+, B_\\times \\}$\n",
    "- effectue une mesure dans la base de réception $r_i$, et obtient les bits $b'_i$\n",
    "\n",
    "Effectuer une mesure dans la base $B_+$ correspond à une mesure basique, celle déjà implémentée dans Qiskit. Quant à la mesure dans la base $B_\\times$, elle requiert d'appliquer une porte H avant une mesure basique.\n",
    "\n",
    "#### **Question 3.3**\n",
    "*Implémenter une routine quantique qui prends en entrée un vecteur de bases de réception r et qui effectue les mesures dans les bonnes bases*"
   ]
  },
  {
   "cell_type": "code",
   "execution_count": null,
   "metadata": {},
   "outputs": [],
   "source": []
  },
  {
   "cell_type": "markdown",
   "metadata": {},
   "source": [
    "---\n",
    "\n",
    "### La maitresse Etchebest (E) écoute les élèves\n",
    "\n",
    "En réalité, entre l'émission des qubits par Arthur (A) et leur réception par Béatrice (B) la maitresse Etchebest (E) peut intercepter des brides du transfert. Concrétement, considérons le vecteur $f$ tel que si $f_i = 0$ cela signifie qu'elle n'a pas écouté la transmission du qubit $i$ et si $f_i =1$ alors c'est qu'elle a écouté. Lorsqu'elle écoute la transmission à un moment $i$, elle effectue une mesure du qubit $i$. Elle a la liberté de choisir de le mesurer dans la base $B_+$ ou dans la base $B_\\times$, ce choix est modélisé par le vecteur $e$, avec $e_i = 0$ si elle choisi la base $B_+$ à l'instant $i$, $e_i = 1$ si elle choisi plutôt la base $B_\\times$.\n",
    "\n",
    "#### **Question 3.4**\n",
    "*Implémenter la routine quantique qui prend en entrée les vecteurs f et e et qui correspond aux écoutes de l'institutrice*"
   ]
  },
  {
   "cell_type": "code",
   "execution_count": null,
   "metadata": {},
   "outputs": [],
   "source": []
  },
  {
   "cell_type": "markdown",
   "metadata": {},
   "source": [
    "---\n",
    "\n",
    "### La création de la clef\n",
    "\n",
    "Maintenant Arthur possède une suite de bits $b$ et Béatrice $b'$. Ils vont d'abord comparer la listes des bases choisies, $t$ et $r$, et garder uniquement les bits envoyés et mesurés dans la même base.\n",
    "\n",
    "#### **Question 3.5**\n",
    "*Implémenter une fonction (purement classique) qui prend en entrée les vecteur t et r et qui garde que les indices pour lesquels les bases sont identiques*"
   ]
  },
  {
   "cell_type": "code",
   "execution_count": null,
   "metadata": {},
   "outputs": [],
   "source": []
  },
  {
   "cell_type": "markdown",
   "metadata": {},
   "source": [
    "Ils vont ensuite partager publiquement $m$ de leurs bits respectifs parmis ceux conservés. Si parmis eux certains ne sont pas identiques ils peuvent être sûres que la maitresse a espionné leur transmission, sinon ils peuvent affirmer avec une probabilité de $1 - (3/4)^m$ que ce n'est pas le cas. Pour faire simple ici, ils vont partager les $m$ premiers bits de la clef.\n",
    "\n",
    "#### **Question 3.6**\n",
    "\n",
    "*Implémenter une fonction booléene (purement classique) qui prend en entrée la valeur m et les vecteurs t, r, b et b', et qui renvoie si la transmission a été compromise*"
   ]
  },
  {
   "cell_type": "code",
   "execution_count": null,
   "metadata": {},
   "outputs": [],
   "source": []
  },
  {
   "cell_type": "markdown",
   "metadata": {},
   "source": [
    "---\n",
    "\n",
    "### Le circuit complet\n",
    "\n",
    "Il est désormais temps de mettre en place la mission. Votre ordinateur quantique peut utiliser tout ce que vous lui avez enseigné pour permettre à Arthur et Béatrice de communiquer secrétement en cours. Le circuit complet de l'opération se décompose de la manière suivante :\n",
    "1) Arthur (A) transmet les $n$ qubits encodés à Béatrice (B)\n",
    "2) L'institutrice Etchebest (E) écoute la conversation\n",
    "3) Béatrice (B) réceptionne les qubits et les mesures\n",
    "4) Arthur et Béatrice vérifient si la clé est compromise en partageant $m$ bits\n",
    "\n",
    "#### **Question 3.7**\n",
    "*Implémenter une routine quantique qui prend en entrée n, m, b, t, r, f et e et qui renvoie le circuit quantique correspondant aux étapes 1 à 3 (comprises)*"
   ]
  },
  {
   "cell_type": "code",
   "execution_count": null,
   "metadata": {},
   "outputs": [],
   "source": []
  },
  {
   "cell_type": "markdown",
   "metadata": {},
   "source": [
    "#### **Question 3.8**\n",
    "*Tester le circuit quantique et l'obtention du résultat de compromission dans le cas suivant, où il n'y a pas d'écoute de la part de l'instritutrice.\n",
    "Pour cela, vous pourrez effectuer l'expériences 100 fois et voir avec quelle fréquence on obtient un résultat \n",
    "de compromission de la clef (en théorie 0)*"
   ]
  },
  {
   "cell_type": "code",
   "execution_count": 81,
   "metadata": {},
   "outputs": [],
   "source": [
    "n = 10\n",
    "m = 4\n",
    "b = [0,1,1,0,1,0,1,1,1,0]\n",
    "t = [0,1,1,1,0,1,0,1,0,0]\n",
    "r = [0,1,0,1,1,1,0,1,0,0]\n",
    "f = [0,0,0,0,0,0,0,0,0,0]\n",
    "e = [0,0,0,0,0,0,0,0,0,0]"
   ]
  },
  {
   "cell_type": "markdown",
   "metadata": {},
   "source": [
    "#### **Question 3.9**\n",
    "*Tester le circuit quantique dans ce cas où la maitresse écoute partiellement la communication et l'obtention du \n",
    "résultat de compromission de la clef sur plusieurs essais comme pour la question 3.8*"
   ]
  },
  {
   "cell_type": "code",
   "execution_count": 82,
   "metadata": {},
   "outputs": [],
   "source": [
    "n = 10\n",
    "m = 4\n",
    "b = [0,1,1,0,1,0,1,1,1,0]\n",
    "t = [0,1,1,1,0,1,0,1,0,0]\n",
    "r = [0,1,0,1,1,1,0,1,0,0]\n",
    "f = [1,1,0,1,0,0,0,0,0,0]\n",
    "e = [1,1,0,1,0,0,1,0,1,0]"
   ]
  },
  {
   "cell_type": "markdown",
   "metadata": {},
   "source": [
    "Comme $m=4$, la probabilité de détecter un espion est de $1 - (3/4)^m \\approx 0.7$, vous devez donc théoriquement obtenir une fréquence supérieure à cette valeur."
   ]
  }
 ],
 "metadata": {
  "kernelspec": {
   "display_name": "Python 3",
   "language": "python",
   "name": "python3"
  },
  "language_info": {
   "codemirror_mode": {
    "name": "ipython",
    "version": 3
   },
   "file_extension": ".py",
   "mimetype": "text/x-python",
   "name": "python",
   "nbconvert_exporter": "python",
   "pygments_lexer": "ipython3",
   "version": "3.13.1"
  }
 },
 "nbformat": 4,
 "nbformat_minor": 2
}
