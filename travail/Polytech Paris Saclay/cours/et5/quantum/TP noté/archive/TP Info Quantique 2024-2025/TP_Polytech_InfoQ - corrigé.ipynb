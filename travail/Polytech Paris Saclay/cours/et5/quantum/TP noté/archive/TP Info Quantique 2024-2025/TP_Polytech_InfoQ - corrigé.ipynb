{
 "cells": [
  {
   "cell_type": "markdown",
   "id": "6dbea74b",
   "metadata": {},
   "source": [
    "---\n",
    "# <center> <u> TP INFORMATIQUE QUANTIQUE </center> </u>\n",
    "# <center> <u> POLYTECH PARIS-SACLAY 2024/2025 </center> </u>\n",
    "    \n",
    "<i> Océane Koska (Eviden - Laboratoire des Méthodes Formelles, Univeristé Paris Saclay)\n",
    "    \n",
    "Contact : oceane.koska@eviden.com, oceanekoska@gmail.com"
   ]
  },
  {
   "cell_type": "markdown",
   "id": "6292d0eb",
   "metadata": {},
   "source": [
    "<u> Objectifs du TP</u> : <br>\n",
    "- manipuler des portes quantiques et des circuits quantiques, <br>\n",
    "- apprendre à utiliser un logiciel de calcul quantique (ici Qiskit), <br>\n",
    "- développer des algorithmes pour générer des circuits et algorithmes quantiques, <br>\n",
    "- gagner en intuition sur le fonctionnement et la conception des algorithmes quantiques. <br>   "
   ]
  },
  {
   "cell_type": "markdown",
   "id": "6dae35cc",
   "metadata": {},
   "source": [
    "<u> Plan du TP</u> : <br>\n",
    "1. les pré-requis pour le TP (packages, fonctions essentielles, etc),\n",
    "2. introduction à Qiskit, sa syntaxe et premiers exemples de circuits,\n",
    "3. implémentations de premières expériences quantiques,\n",
    "3. implémentations d'algorithmes quantiques plus complexes : Deutsch-Jozsa, Grover, Shor, HHL"
   ]
  },
  {
   "cell_type": "markdown",
   "id": "9e16dac7",
   "metadata": {},
   "source": [
    "<u> Programme</u> : <br>\n",
    "1. Introduction à Qiskit + premières expériences quantiques (4h)\n",
    "2. Algorithme de Deutsch-Jozsa (2h)\n",
    "3. Algorithmes Grover et QPE (et HHL en bonus) (4h)"
   ]
  },
  {
   "cell_type": "markdown",
   "id": "51cd7230",
   "metadata": {},
   "source": [
    "Au total 7 exercices seront proposés :\n",
    "\n",
    "Séance 1\n",
    "\n",
    "1. Une fonction de simulation à coder\n",
    "2. Violation des inégalités de Bell \n",
    "3. Téléportation quantique\n",
    "4. Un circuit arithmétique à simuler\n",
    "\n",
    "Séance 2\n",
    "\n",
    "5. Algorithme de Deutsch-Jozsa\n",
    "\n",
    "Séance 3\n",
    "\n",
    "6. Algorithme de Grover\n",
    "7. Algorithme d'estimation de phase (QPE)\n",
    "8. *Résolution de systèmes linéaires avec HHL (Bonus)*\n"
   ]
  },
  {
   "cell_type": "markdown",
   "id": "685236f0",
   "metadata": {},
   "source": [
    "---\n",
    "## 1. Code préliminaire : packages, fonctions de simulation, etc. </center>"
   ]
  },
  {
   "cell_type": "markdown",
   "id": "75d46cb5",
   "metadata": {},
   "source": [
    "Vous n'avez besoin que de quelques packages python : numpy, scipy, qiskit. <br>\n",
    "Numpy et scipy peuvent s'obtenir via la distribution Anaconda : https://www.anaconda.com/products/distribution. <br>\n",
    "Qiskit peut s'obtenir en ligne de commande avec \n",
    "<pre> pip install qiskit </pre>\n",
    "ainsi que\n",
    "<pre> pip install qiskit_aer </pre>\n",
    "\n",
    "Si vous avez déjà qiskit mais que vous voulez le mettre à jour, la ligne de commande sera \n",
    "<pre> pip install --upgrade qiskit </pre>"
   ]
  },
  {
   "cell_type": "code",
   "execution_count": 1,
   "id": "8435e725",
   "metadata": {},
   "outputs": [
    {
     "data": {
      "text/plain": [
       "'1.3.2'"
      ]
     },
     "execution_count": 1,
     "metadata": {},
     "output_type": "execute_result"
    }
   ],
   "source": [
    "import qiskit\n",
    "qiskit.__version__"
   ]
  },
  {
   "cell_type": "code",
   "execution_count": 2,
   "id": "c470b13b",
   "metadata": {},
   "outputs": [],
   "source": [
    "import numpy as np\n",
    "import scipy.linalg\n",
    "\n",
    "from qiskit_aer import Aer, AerSimulator\n",
    "aer_sim = Aer.get_backend('aer_simulator')\n",
    "\n",
    "from qiskit import QuantumCircuit, assemble, QuantumRegister, ClassicalRegister, transpile\n",
    "from qiskit.circuit.library import MCXGate, RYGate, RZGate, RXGate, TGate, TdgGate, HGate\n",
    "\n",
    "from qiskit.visualization import plot_histogram, array_to_latex"
   ]
  },
  {
   "cell_type": "markdown",
   "id": "837372f6",
   "metadata": {},
   "source": [
    "Commandes latex à exécuter - Exécutez cette cellule\n",
    "$$\\renewcommand{\\ket}[1]{\\left|{#1}\\right\\rangle}$$\n",
    "$$\\renewcommand{\\bra}[1]{\\left\\langle{#1}\\right|}$$"
   ]
  },
  {
   "cell_type": "code",
   "execution_count": 3,
   "id": "07af09a1",
   "metadata": {},
   "outputs": [],
   "source": [
    "def matprint(mat, fmt=\"g\"):\n",
    "    col_maxes = [max([len((\"{:\"+fmt+\"}\").format(x)) for x in col]) for col in mat.T]\n",
    "    for x in mat:\n",
    "        for i, y in enumerate(x):\n",
    "            print((\"{:\"+str(col_maxes[i])+fmt+\"}\").format(y), end=\"  \")\n",
    "        print(\"\")"
   ]
  },
  {
   "cell_type": "markdown",
   "id": "db698054",
   "metadata": {},
   "source": [
    "Ci-dessous des fonctions pour simuler les circuits Qiskit. On distinguera :\n",
    "* une fonction qui retourne l'état de sortie (en supposant $\\ket{0}^n$ en entrée),\n",
    "* une fonction qui retourne l'unitaire complet du circuit, \n",
    "* une fonction qui exécute le circuit et effectue des mesures dans la base canonique sur certains qubits, retourne le résultat de la mesure,\n",
    "* une fonction qui retourne une distribution de probabilité approximée des résultats de mesure.\n",
    "\n",
    "Pour la dernière fonction, cela revient à exécuter plein de fois la fonction qui ne retourne qu'un résulat de mesure et à compiler les résultats obtenus sous forme d'histogramme. "
   ]
  },
  {
   "cell_type": "code",
   "execution_count": 4,
   "id": "9f497360",
   "metadata": {},
   "outputs": [],
   "source": [
    "## Fonctions de simulation de circuits\n",
    "\n",
    "# Retourne l'état de sortie U|0>^n\n",
    "def simulate_circuit_state(qc):\n",
    "    qc2 = qc.copy()\n",
    "    qc2.save_statevector()\n",
    "    result = aer_sim.run(qc2, shots=1, memory=True).result()\n",
    "    \n",
    "    return result.get_statevector().data\n",
    "\n",
    "# Retourne l'unitaire complet U\n",
    "def simulate_circuit_unitary(qc):\n",
    "    qc2 = qc.copy()\n",
    "    qc2.save_unitary()\n",
    "    result = aer_sim.run(qc2).result()\n",
    "        \n",
    "    return result.get_unitary().data\n",
    "\n",
    "# Retourne le résultat de la mesure sur les qubits donnés en input \n",
    "def simulate_circuit_measurements(qc, qubits):\n",
    "    qc2 = qc.copy()\n",
    "    for (j,i) in enumerate(qubits):\n",
    "        qc2.measure(i,j)\n",
    "    \n",
    "    result = aer_sim.run(qc2, shots=1, memory=True).result()\n",
    "    \n",
    "    return result.get_memory()\n",
    "\n",
    "\n",
    "# Retourne l'histogramme des résultats : un dictionnaire où chaque clé est une bitstring et la valeur\n",
    "# associée est le nombre de fois que cette bitstring a été mesurée. Le nombre de samples est 1024 par défaut.\n",
    "def simulate_circuit_histogram(qc, qubits):\n",
    "    qc2 = transpile(qc, AerSimulator())\n",
    "    for (j,i) in enumerate(qubits):\n",
    "        qc2.measure(i,j)\n",
    "    \n",
    "    result = aer_sim.run(qc2).result()\n",
    "    \n",
    "    return result.get_counts()"
   ]
  },
  {
   "cell_type": "markdown",
   "id": "b58c9ff6",
   "metadata": {},
   "source": [
    "---\n",
    "### Exercice 1 : une nouvelle fonction de simulation </center>"
   ]
  },
  {
   "cell_type": "markdown",
   "id": "1d3e428d",
   "metadata": {},
   "source": [
    "**Question 1**\n",
    "\n",
    "\n",
    "<pre> Coder une fonction de simulation qui prend en entrée un circuit, une liste de qubits à mesurer et retourne le résultat de la mesure ainsi que l'état réduit en sortie (i.e, l'état quantique sur les qubits non mesurés).  </pre>"
   ]
  },
  {
   "cell_type": "markdown",
   "id": "42eb5d2a",
   "metadata": {},
   "source": [
    "##### Solution"
   ]
  },
  {
   "cell_type": "code",
   "execution_count": 5,
   "id": "f004dedd",
   "metadata": {},
   "outputs": [],
   "source": [
    "def simulate_circuit_with_measurements_and_output_state(qc, qubits):\n",
    "    # Partie identique aux fonctions ci-dessus\n",
    "    qc2 = qc.copy()\n",
    "\n",
    "    # On rajoute les opérations de mesure\n",
    "    for (j,i) in enumerate(qubits):\n",
    "        qc2.measure(i,j)\n",
    "    \n",
    "    # On pense à sauver le vecteur d'état à la fin du calcul\n",
    "    qc2.save_statevector()\n",
    "    \n",
    "    # On appelle les bonnes fonctions Qiskit (pas très intéressant pour nous)\n",
    "    aer_sim = Aer.get_backend('aer_simulator')\n",
    "    \n",
    "    # On lance le calcul\n",
    "    result = aer_sim.run(qc2, shots=1, memory=True).result()\n",
    "    \n",
    "    # On récupère le vecteur d'état et la mémoire (= le résultat des mesures)\n",
    "    output = result.get_statevector().data\n",
    "    measurements = result.get_memory()\n",
    "            \n",
    "    # La partie extraction\n",
    "    # On parcourt le vecteur d'état de Qiskit dans l'ordre, si l'entrée correspond à une bitstring compatible \n",
    "    # avec les résultats de mesure alors on garde l'amplitude associée\n",
    "    output2 = []\n",
    "    for (i, value) in enumerate(output):\n",
    "        bin_i = bin(i)[2:].zfill(qc2.num_qubits)\n",
    "        match_mesure = np.all([measurements[0][-k-1] == bin_i[-j-1] for (k,j) in enumerate(qubits)])\n",
    "        if match_mesure:\n",
    "            output2.append(value)\n",
    "    \n",
    "    return np.array(output2), result.get_memory()"
   ]
  },
  {
   "cell_type": "markdown",
   "id": "a3b95d6a",
   "metadata": {},
   "source": [
    "Testez votre fonction avec le code suivant"
   ]
  },
  {
   "cell_type": "code",
   "execution_count": 6,
   "id": "c475a0c0",
   "metadata": {},
   "outputs": [
    {
     "name": "stdout",
     "output_type": "stream",
     "text": [
      "State before measurement : \n",
      "[1, 2, 3, 4, 5, 6, 7, 8, 9, 10, 11, 12, 13, 14, 15, 16]\n",
      "\n",
      "Measure results : \n",
      "['11']\n",
      "State after projection : \n",
      "[[10 12 14 16]]\n"
     ]
    }
   ],
   "source": [
    "measurement_qubits = [0, 3]\n",
    "qc = QuantumCircuit(4, len(measurement_qubits))\n",
    "psi = [i for i in range(1, 17)]\n",
    "print(\"State before measurement : \")\n",
    "print(psi)\n",
    "norme = np.linalg.norm(psi)\n",
    "psi /= norme\n",
    "qc.initialize(psi)\n",
    "\n",
    "# Ici vous devez appeler votre fonction ####################################################################\n",
    "                                                                                                           #\n",
    "output, measurements = simulate_circuit_with_measurements_and_output_state(qc, measurement_qubits)\n",
    "                                                                                                           #\n",
    "############################################################################################################\n",
    "\n",
    "output = output/output[0]\n",
    "\n",
    "a = ''\n",
    "k = 0\n",
    "for i in range(4):\n",
    "    if i in measurement_qubits:\n",
    "        a += str(measurements[0][1-k])\n",
    "        k += 1\n",
    "    else:\n",
    "        a += '0'\n",
    "\n",
    "print(\"\")\n",
    "print(\"Measure results : \")\n",
    "print(measurements)\n",
    "print(\"State after projection : \")\n",
    "print(np.array([np.round(np.real(output)*(1+int(a[::-1], base=2)))], dtype=int))"
   ]
  },
  {
   "cell_type": "markdown",
   "id": "d35ef5ba",
   "metadata": {},
   "source": [
    "---\n",
    "## 2. Prise en main de Qiskit sur des expériences quantiques simples </center>"
   ]
  },
  {
   "cell_type": "markdown",
   "id": "c764c7e4",
   "metadata": {},
   "source": [
    "##### Initialisation d'un circuit quantique "
   ]
  },
  {
   "cell_type": "code",
   "execution_count": 7,
   "id": "14a07f84",
   "metadata": {},
   "outputs": [],
   "source": [
    "# Crée un circuit avec 4 qubits et 3 bits classiques\n",
    "nb_qubits = 4\n",
    "nb_clbits = 3\n",
    "circuit = QuantumCircuit(QuantumRegister(nb_qubits), ClassicalRegister(nb_clbits)) \n",
    "\n",
    "# On peut écrire plus rapidement \n",
    "qc = QuantumCircuit(nb_qubits, nb_clbits)"
   ]
  },
  {
   "cell_type": "markdown",
   "id": "0884aadc",
   "metadata": {},
   "source": [
    "Le registre classique permet de stocker des résultats de mesure. <br><br>\n",
    "Autrement dit, il faut autant de bits classiques que de qubits que l'on veut mesurer à la fin du circuit."
   ]
  },
  {
   "cell_type": "markdown",
   "id": "fd40fa94",
   "metadata": {},
   "source": [
    "##### Ajout des portes quantiques dans le circuit"
   ]
  },
  {
   "cell_type": "markdown",
   "id": "cd6210dd",
   "metadata": {},
   "source": [
    "Pour ajouter une porte au circuit, on utilise l'instruction\n",
    "<pre> variable_circuit.append(porte_quantique, liste_qubits_visés) </pre> \n",
    "\n",
    "Cette méthode peut aussi être utilisée pour ajouter des sous-circuits. <br><br>\n",
    "\n",
    "Un certain nombre de portes quantiques communément utilisées peuvent être ajoutées directement via l'instruction\n",
    "<pre> variable_circuit.nom_porte(qubit_visé) </pre>\n",
    "\n",
    "Toutes les instructions de ce genre appellent en fait la méthode append derrière."
   ]
  },
  {
   "cell_type": "markdown",
   "id": "d95b2811",
   "metadata": {},
   "source": [
    "<b> Portes disponibles </b>\n",
    "- La porte Hadamard sur 1 qubit : \n",
    "<br><br>\n",
    "$$H = \\frac{1}{\\sqrt{2}} \\begin{bmatrix} 1 & 1 \\\\ 1 & -1 \\end{bmatrix},$$"
   ]
  },
  {
   "cell_type": "code",
   "execution_count": 8,
   "id": "aa30135e",
   "metadata": {},
   "outputs": [
    {
     "data": {
      "text/plain": [
       "<qiskit.circuit.instructionset.InstructionSet at 0x1f43a3324d0>"
      ]
     },
     "execution_count": 8,
     "metadata": {},
     "output_type": "execute_result"
    }
   ],
   "source": [
    "qc.h(0)"
   ]
  },
  {
   "cell_type": "markdown",
   "id": "231ffc6b",
   "metadata": {},
   "source": [
    "- La porte Phase sur 1 qubit : \n",
    "<br><br>\n",
    "$$S = \\begin{bmatrix} 1 & 0 \\\\ 0 & i \\end{bmatrix}, $$ "
   ]
  },
  {
   "cell_type": "code",
   "execution_count": 9,
   "id": "7765b9f2",
   "metadata": {},
   "outputs": [
    {
     "data": {
      "text/plain": [
       "<qiskit.circuit.instructionset.InstructionSet at 0x1f43a4b3970>"
      ]
     },
     "execution_count": 9,
     "metadata": {},
     "output_type": "execute_result"
    }
   ],
   "source": [
    "qc.s(1)"
   ]
  },
  {
   "cell_type": "markdown",
   "id": "d73e7587",
   "metadata": {},
   "source": [
    "- La porte T sur 1 qubit :\n",
    "<br><br>\n",
    "$$ T = \\begin{bmatrix} 1 & 0 \\\\ 0 & e^{i\\pi/4} \\end{bmatrix}, $$"
   ]
  },
  {
   "cell_type": "code",
   "execution_count": 10,
   "id": "028b78b8",
   "metadata": {},
   "outputs": [
    {
     "data": {
      "text/plain": [
       "<qiskit.circuit.instructionset.InstructionSet at 0x1f4222bb040>"
      ]
     },
     "execution_count": 10,
     "metadata": {},
     "output_type": "execute_result"
    }
   ],
   "source": [
    "qc.t(2)"
   ]
  },
  {
   "cell_type": "markdown",
   "id": "68c80140",
   "metadata": {},
   "source": [
    "- La porte phase d'angle $\\theta$ sur 1 qubit :\n",
    "<br><br>\n",
    "$$ Ph(\\theta) = \\begin{bmatrix} 1 & 0 \\\\ 0 & e^{i\\theta} \\end{bmatrix}, $$"
   ]
  },
  {
   "cell_type": "code",
   "execution_count": 11,
   "id": "d2b440f7",
   "metadata": {},
   "outputs": [
    {
     "data": {
      "text/plain": [
       "<qiskit.circuit.instructionset.InstructionSet at 0x1f43a4b3040>"
      ]
     },
     "execution_count": 11,
     "metadata": {},
     "output_type": "execute_result"
    }
   ],
   "source": [
    "# Le premier argument est l'angle theta, le deuxième est le qubit cible\n",
    "theta = -1/3\n",
    "qc.p(theta, 3)"
   ]
  },
  {
   "cell_type": "markdown",
   "id": "95ee18f9",
   "metadata": {},
   "source": [
    "- Les opérateurs de Pauli sur 1 qubit : \n",
    "<br><br>\n",
    "$$ X = \\begin{bmatrix} 0 & 1 \\\\ 1 & 0 \\end{bmatrix}, Z = \\begin{bmatrix} 1 & 0 \\\\ 0 & -1 \\end{bmatrix}, Y = \\begin{bmatrix} 0 & -i \\\\ i & 0 \\end{bmatrix}, $$"
   ]
  },
  {
   "cell_type": "code",
   "execution_count": 12,
   "id": "87be2e06",
   "metadata": {},
   "outputs": [
    {
     "data": {
      "text/plain": [
       "<qiskit.circuit.instructionset.InstructionSet at 0x1f43a330bb0>"
      ]
     },
     "execution_count": 12,
     "metadata": {},
     "output_type": "execute_result"
    }
   ],
   "source": [
    "qc.x(0)\n",
    "qc.y(1)\n",
    "qc.z(2)"
   ]
  },
  {
   "cell_type": "markdown",
   "id": "f455a80f",
   "metadata": {},
   "source": [
    "- Les portes rotations $R_z, R_y, R_x$ sur 1 qubit : \n",
    "<br><br>\n",
    "$$ R_x(\\theta) = \\begin{bmatrix} \\cos(\\theta/2) & i\\sin(\\theta/2) \\\\ i\\sin(\\theta/2) & \\cos(\\theta/2) \\end{bmatrix}, R_z(\\theta) = \\begin{bmatrix} e^{-i\\theta/2} & 0 \\\\ 0 & e^{i\\theta/2} \\end{bmatrix}, R_y(\\theta) = \\begin{bmatrix} \\cos(\\theta/2) & -\\sin(\\theta/2) \\\\ \\sin(\\theta/2) & \\cos(\\theta/2) \\end{bmatrix}, $$\n",
    "<br>"
   ]
  },
  {
   "cell_type": "markdown",
   "id": "9cf7365a",
   "metadata": {},
   "source": [
    "Pour ajouter les portes rotations $R_z, R_x, R_y$, nous allons utiliser la méthode append pour ajouter une porte."
   ]
  },
  {
   "cell_type": "code",
   "execution_count": null,
   "id": "ecc43b42",
   "metadata": {},
   "outputs": [],
   "source": []
  },
  {
   "cell_type": "code",
   "execution_count": 13,
   "id": "9b8cae01",
   "metadata": {},
   "outputs": [
    {
     "data": {
      "text/plain": [
       "<qiskit.circuit.instructionset.InstructionSet at 0x1f447c1fca0>"
      ]
     },
     "execution_count": 13,
     "metadata": {},
     "output_type": "execute_result"
    }
   ],
   "source": [
    "qc.append(RYGate(0.1), [0])\n",
    "qc.append(RZGate(0.5), [1])\n",
    "qc.append(RXGate(0.345), [3])"
   ]
  },
  {
   "cell_type": "markdown",
   "id": "ebc21ee0",
   "metadata": {},
   "source": [
    "- La porte CNOT sur 2 qubits : \n",
    "<br><br>\n",
    "$$ CNOT = \\begin{bmatrix} 1 & 0 & 0 & 0 \\\\ 0 & 0 & 0 & 1 \\\\ 0 & 0 & 1 & 0 \\\\ 0 & 1 & 0 & 0 \\end{bmatrix}, $$ "
   ]
  },
  {
   "cell_type": "code",
   "execution_count": 14,
   "id": "8f7375b3",
   "metadata": {},
   "outputs": [
    {
     "data": {
      "text/plain": [
       "<qiskit.circuit.instructionset.InstructionSet at 0x1f43a4b3940>"
      ]
     },
     "execution_count": 14,
     "metadata": {},
     "output_type": "execute_result"
    }
   ],
   "source": [
    "# Le premier argument est le qubit de contrôle, le deuxième argument est le qubit cible\n",
    "qc.cx(0, 2)"
   ]
  },
  {
   "cell_type": "markdown",
   "id": "63826ff0",
   "metadata": {},
   "source": [
    "<b> /!\\ ATTENTION : </b> Qiskit ordonne différemment les qubits que dans la plupart des cours d'informatique quantique. Par convention, un circuit avec $n$ qubits $q_0, q_1, .., q_{n-1}$ manipulera les états $\\ket{q_{n-1}q_{n-2}.. q_1q_0}$. Vous pouvez le vérifier avec la forme matricielle de la CNOT plus haut."
   ]
  },
  {
   "cell_type": "markdown",
   "id": "7b851beb",
   "metadata": {},
   "source": [
    "- La porte CZ sur 2 qubits : \n",
    "<br><br>\n",
    "$$ CZ = \\begin{bmatrix} 1 & 0 & 0 & 0 \\\\ 0 & 1 & 0 & 0 \\\\ 0 & 0 & 1 & 0 \\\\ 0 & 0 & 0 & -1 \\end{bmatrix}. $$"
   ]
  },
  {
   "cell_type": "code",
   "execution_count": 15,
   "id": "6ea8b617",
   "metadata": {},
   "outputs": [
    {
     "data": {
      "text/plain": [
       "<qiskit.circuit.instructionset.InstructionSet at 0x1f43a508640>"
      ]
     },
     "execution_count": 15,
     "metadata": {},
     "output_type": "execute_result"
    }
   ],
   "source": [
    "qc.cz(1,3)"
   ]
  },
  {
   "cell_type": "code",
   "execution_count": 16,
   "id": "4e08ca96",
   "metadata": {},
   "outputs": [
    {
     "data": {
      "text/plain": [
       "<qiskit.circuit.instructionset.InstructionSet at 0x1f4222bb0d0>"
      ]
     },
     "execution_count": 16,
     "metadata": {},
     "output_type": "execute_result"
    }
   ],
   "source": [
    "qc.append(MCXGate(2), [0,1,2])"
   ]
  },
  {
   "cell_type": "markdown",
   "id": "1d14b6b0",
   "metadata": {},
   "source": [
    "Il est également possible de construire d'autres portes, notamment des portes contrôlées, cela sera vu plus tard."
   ]
  },
  {
   "cell_type": "markdown",
   "id": "bb7edcda",
   "metadata": {},
   "source": [
    "#####  Affichage du circuit"
   ]
  },
  {
   "cell_type": "code",
   "execution_count": 17,
   "id": "9a372b3e",
   "metadata": {},
   "outputs": [
    {
     "data": {
      "text/html": [
       "<pre style=\"word-wrap: normal;white-space: pre;background: #fff0;line-height: 1.1;font-family: &quot;Courier New&quot;,Courier,monospace\">          ┌───┐         ┌───┐    ┌─────────┐             \n",
       "q_0: ─────┤ H ├─────────┤ X ├────┤ Ry(0.1) ├──■───────■──\n",
       "          ├───┤         ├───┤    ├─────────┤  │       │  \n",
       "q_1: ─────┤ S ├─────────┤ Y ├────┤ Rz(0.5) ├──┼───■───■──\n",
       "          ├───┤         ├───┤    └─────────┘┌─┴─┐ │ ┌─┴─┐\n",
       "q_2: ─────┤ T ├─────────┤ Z ├───────────────┤ X ├─┼─┤ X ├\n",
       "     ┌────┴───┴────┐┌───┴───┴───┐           └───┘ │ └───┘\n",
       "q_3: ┤ P(-0.33333) ├┤ Rx(0.345) ├─────────────────■──────\n",
       "     └─────────────┘└───────────┘                        \n",
       "c: 3/════════════════════════════════════════════════════\n",
       "                                                         </pre>"
      ],
      "text/plain": [
       "          ┌───┐         ┌───┐    ┌─────────┐             \n",
       "q_0: ─────┤ H ├─────────┤ X ├────┤ Ry(0.1) ├──■───────■──\n",
       "          ├───┤         ├───┤    ├─────────┤  │       │  \n",
       "q_1: ─────┤ S ├─────────┤ Y ├────┤ Rz(0.5) ├──┼───■───■──\n",
       "          ├───┤         ├───┤    └─────────┘┌─┴─┐ │ ┌─┴─┐\n",
       "q_2: ─────┤ T ├─────────┤ Z ├───────────────┤ X ├─┼─┤ X ├\n",
       "     ┌────┴───┴────┐┌───┴───┴───┐           └───┘ │ └───┘\n",
       "q_3: ┤ P(-0.33333) ├┤ Rx(0.345) ├─────────────────■──────\n",
       "     └─────────────┘└───────────┘                        \n",
       "c: 3/════════════════════════════════════════════════════\n",
       "                                                         "
      ]
     },
     "execution_count": 17,
     "metadata": {},
     "output_type": "execute_result"
    }
   ],
   "source": [
    "qc.draw()"
   ]
  },
  {
   "cell_type": "markdown",
   "id": "a2404f9f",
   "metadata": {},
   "source": [
    "##### Composition de circuits"
   ]
  },
  {
   "cell_type": "markdown",
   "id": "ca3ed37f",
   "metadata": {},
   "source": [
    "Deux méthodes sont possibles pour concaténer des circuits ensembles : \n",
    "* la méthode append, qui marche comme pour les portes sauf que le circuit ajouté l'est sous forme de \"boîte noire\", il faut utiliser la méthode circ.decompose() pour que la boîte noire soit remplacée par un vrai circuit. Si vous ne le faites pas le simulateur ne saura pas simuler votre circuit,\n",
    "* la méthode compose, qui concatène directement les portes.\n",
    "\n",
    "Dans les deux cas, il est possible (pour compose) voire nécessaire (pour append) de préciser les qubits sur lesquels le circuit ajouté va agir."
   ]
  },
  {
   "cell_type": "code",
   "execution_count": 18,
   "id": "5ba500a0",
   "metadata": {},
   "outputs": [
    {
     "name": "stderr",
     "output_type": "stream",
     "text": [
      "c:\\Users\\abarb\\AppData\\Local\\Programs\\Python\\Python313\\Lib\\site-packages\\qiskit\\circuit\\quantumcircuit.py:3424: RuntimeWarning: Cregbundle set to False since an instruction needs to refer to individual classical wire\n",
      "  return circuit_drawer(\n"
     ]
    },
    {
     "data": {
      "text/html": [
       "<pre style=\"word-wrap: normal;white-space: pre;background: #fff0;line-height: 1.1;font-family: &quot;Courier New&quot;,Courier,monospace\">          ┌───┐         ┌───┐    ┌─────────┐             ┌──────────────┐\n",
       "q_0: ─────┤ H ├─────────┤ X ├────┤ Ry(0.1) ├──■───────■──┤0             ├\n",
       "          ├───┤         ├───┤    ├─────────┤  │       │  │              │\n",
       "q_1: ─────┤ S ├─────────┤ Y ├────┤ Rz(0.5) ├──┼───■───■──┤1             ├\n",
       "          ├───┤         ├───┤    └─────────┘┌─┴─┐ │ ┌─┴─┐│              │\n",
       "q_2: ─────┤ T ├─────────┤ Z ├───────────────┤ X ├─┼─┤ X ├┤2             ├\n",
       "     ┌────┴───┴────┐┌───┴───┴───┐           └───┘ │ └───┘│              │\n",
       "q_3: ┤ P(-0.33333) ├┤ Rx(0.345) ├─────────────────■──────┤3 circuit-164 ├\n",
       "     └─────────────┘└───────────┘                        │              │\n",
       "c_0: ════════════════════════════════════════════════════╡0             ╞\n",
       "                                                         │              │\n",
       "c_1: ════════════════════════════════════════════════════╡1             ╞\n",
       "                                                         │              │\n",
       "c_2: ════════════════════════════════════════════════════╡2             ╞\n",
       "                                                         └──────────────┘</pre>"
      ],
      "text/plain": [
       "          ┌───┐         ┌───┐    ┌─────────┐             ┌──────────────┐\n",
       "q_0: ─────┤ H ├─────────┤ X ├────┤ Ry(0.1) ├──■───────■──┤0             ├\n",
       "          ├───┤         ├───┤    ├─────────┤  │       │  │              │\n",
       "q_1: ─────┤ S ├─────────┤ Y ├────┤ Rz(0.5) ├──┼───■───■──┤1             ├\n",
       "          ├───┤         ├───┤    └─────────┘┌─┴─┐ │ ┌─┴─┐│              │\n",
       "q_2: ─────┤ T ├─────────┤ Z ├───────────────┤ X ├─┼─┤ X ├┤2             ├\n",
       "     ┌────┴───┴────┐┌───┴───┴───┐           └───┘ │ └───┘│              │\n",
       "q_3: ┤ P(-0.33333) ├┤ Rx(0.345) ├─────────────────■──────┤3 circuit-164 ├\n",
       "     └─────────────┘└───────────┘                        │              │\n",
       "c_0: ════════════════════════════════════════════════════╡0             ╞\n",
       "                                                         │              │\n",
       "c_1: ════════════════════════════════════════════════════╡1             ╞\n",
       "                                                         │              │\n",
       "c_2: ════════════════════════════════════════════════════╡2             ╞\n",
       "                                                         └──────────────┘"
      ]
     },
     "execution_count": 18,
     "metadata": {},
     "output_type": "execute_result"
    }
   ],
   "source": [
    "# Version avec append\n",
    "qc2 = qc.copy()\n",
    "# Pensez à bien rajouter les qubits et les bits classiques !\n",
    "qc2.append(qc, [0,1,2,3], [0,1,2])\n",
    "qc2.draw()"
   ]
  },
  {
   "cell_type": "markdown",
   "id": "c8f8bc2f",
   "metadata": {},
   "source": [
    "On voit que sans utiliser decompose notre circuit contient des sous-circuits en boîte noire."
   ]
  },
  {
   "cell_type": "code",
   "execution_count": 19,
   "id": "0fb8f00b",
   "metadata": {},
   "outputs": [
    {
     "data": {
      "text/html": [
       "<pre style=\"word-wrap: normal;white-space: pre;background: #fff0;line-height: 1.1;font-family: &quot;Courier New&quot;,Courier,monospace\">global phase: 6.0332\n",
       "         ┌─────────┐      ┌───────────┐  ┌────────────┐               »\n",
       "q_0: ────┤ U2(0,π) ├──────┤ U3(π,0,π) ├──┤ R(0.1,π/2) ├──■────────────»\n",
       "         ├─────────┤    ┌─┴───────────┴─┐└┬─────────┬─┘  │            »\n",
       "q_1: ────┤ U1(π/2) ├────┤ U3(π,π/2,π/2) ├─┤ U1(0.5) ├────┼────■───────»\n",
       "         ├─────────┤    └───┬───────┬───┘ └─────────┘  ┌─┴─┐  │  ┌───┐»\n",
       "q_2: ────┤ U1(π/4) ├────────┤ U1(π) ├──────────────────┤ X ├──┼──┤ H ├»\n",
       "     ┌───┴─────────┴───┐  ┌─┴───────┴──┐     ┌───┐     └───┘┌─┴─┐├───┤»\n",
       "q_3: ┤ U(0,0,-0.33333) ├──┤ R(0.345,0) ├─────┤ H ├──────────┤ X ├┤ H ├»\n",
       "     └─────────────────┘  └────────────┘     └───┘          └───┘└───┘»\n",
       "c: 3/═════════════════════════════════════════════════════════════════»\n",
       "                                                                      »\n",
       "«                                                                  ┌───┐      »\n",
       "«q_0: ──────────────────────────────■─────────────────────■────■───┤ T ├───■──»\n",
       "«                                   │             ┌───┐   │  ┌─┴─┐┌┴───┴┐┌─┴─┐»\n",
       "«q_1: ───────■──────────────────────┼─────────■───┤ T ├───┼──┤ X ├┤ Tdg ├┤ X ├»\n",
       "«          ┌─┴─┐        ┌─────┐   ┌─┴─┐┌───┐┌─┴─┐┌┴───┴┐┌─┴─┐├───┤└┬───┬┘├───┤»\n",
       "«q_2: ─────┤ X ├────────┤ Tdg ├───┤ X ├┤ T ├┤ X ├┤ Tdg ├┤ X ├┤ T ├─┤ H ├─┤ T ├»\n",
       "«     ┌────┴───┴────┐┌──┴─────┴──┐└───┘└───┘└───┘└─────┘└───┘└───┘ └───┘ └───┘»\n",
       "«q_3: ┤ P(-0.33333) ├┤ Rx(0.345) ├────────────────────────────────────────────»\n",
       "«     └─────────────┘└───────────┘                                            »\n",
       "«c: 3/════════════════════════════════════════════════════════════════════════»\n",
       "«                                                                             »\n",
       "«     ┌───┐┌───┐┌─────────┐             \n",
       "«q_0: ┤ H ├┤ X ├┤ Ry(0.1) ├──■───────■──\n",
       "«     ├───┤├───┤├─────────┤  │       │  \n",
       "«q_1: ┤ S ├┤ Y ├┤ Rz(0.5) ├──┼───■───■──\n",
       "«     ├───┤└───┘└─────────┘┌─┴─┐ │ ┌─┴─┐\n",
       "«q_2: ┤ Z ├────────────────┤ X ├─┼─┤ X ├\n",
       "«     └───┘                └───┘ │ └───┘\n",
       "«q_3: ───────────────────────────■──────\n",
       "«                                       \n",
       "«c: 3/══════════════════════════════════\n",
       "«                                       </pre>"
      ],
      "text/plain": [
       "global phase: 6.0332\n",
       "         ┌─────────┐      ┌───────────┐  ┌────────────┐               »\n",
       "q_0: ────┤ U2(0,π) ├──────┤ U3(π,0,π) ├──┤ R(0.1,π/2) ├──■────────────»\n",
       "         ├─────────┤    ┌─┴───────────┴─┐└┬─────────┬─┘  │            »\n",
       "q_1: ────┤ U1(π/2) ├────┤ U3(π,π/2,π/2) ├─┤ U1(0.5) ├────┼────■───────»\n",
       "         ├─────────┤    └───┬───────┬───┘ └─────────┘  ┌─┴─┐  │  ┌───┐»\n",
       "q_2: ────┤ U1(π/4) ├────────┤ U1(π) ├──────────────────┤ X ├──┼──┤ H ├»\n",
       "     ┌───┴─────────┴───┐  ┌─┴───────┴──┐     ┌───┐     └───┘┌─┴─┐├───┤»\n",
       "q_3: ┤ U(0,0,-0.33333) ├──┤ R(0.345,0) ├─────┤ H ├──────────┤ X ├┤ H ├»\n",
       "     └─────────────────┘  └────────────┘     └───┘          └───┘└───┘»\n",
       "c: 3/═════════════════════════════════════════════════════════════════»\n",
       "                                                                      »\n",
       "«                                                                  ┌───┐      »\n",
       "«q_0: ──────────────────────────────■─────────────────────■────■───┤ T ├───■──»\n",
       "«                                   │             ┌───┐   │  ┌─┴─┐┌┴───┴┐┌─┴─┐»\n",
       "«q_1: ───────■──────────────────────┼─────────■───┤ T ├───┼──┤ X ├┤ Tdg ├┤ X ├»\n",
       "«          ┌─┴─┐        ┌─────┐   ┌─┴─┐┌───┐┌─┴─┐┌┴───┴┐┌─┴─┐├───┤└┬───┬┘├───┤»\n",
       "«q_2: ─────┤ X ├────────┤ Tdg ├───┤ X ├┤ T ├┤ X ├┤ Tdg ├┤ X ├┤ T ├─┤ H ├─┤ T ├»\n",
       "«     ┌────┴───┴────┐┌──┴─────┴──┐└───┘└───┘└───┘└─────┘└───┘└───┘ └───┘ └───┘»\n",
       "«q_3: ┤ P(-0.33333) ├┤ Rx(0.345) ├────────────────────────────────────────────»\n",
       "«     └─────────────┘└───────────┘                                            »\n",
       "«c: 3/════════════════════════════════════════════════════════════════════════»\n",
       "«                                                                             »\n",
       "«     ┌───┐┌───┐┌─────────┐             \n",
       "«q_0: ┤ H ├┤ X ├┤ Ry(0.1) ├──■───────■──\n",
       "«     ├───┤├───┤├─────────┤  │       │  \n",
       "«q_1: ┤ S ├┤ Y ├┤ Rz(0.5) ├──┼───■───■──\n",
       "«     ├───┤└───┘└─────────┘┌─┴─┐ │ ┌─┴─┐\n",
       "«q_2: ┤ Z ├────────────────┤ X ├─┼─┤ X ├\n",
       "«     └───┘                └───┘ │ └───┘\n",
       "«q_3: ───────────────────────────■──────\n",
       "«                                       \n",
       "«c: 3/══════════════════════════════════\n",
       "«                                       "
      ]
     },
     "execution_count": 19,
     "metadata": {},
     "output_type": "execute_result"
    }
   ],
   "source": [
    "qc2 = qc2.decompose()\n",
    "qc2.draw()"
   ]
  },
  {
   "cell_type": "code",
   "execution_count": 20,
   "id": "99c14011",
   "metadata": {},
   "outputs": [
    {
     "data": {
      "text/html": [
       "<pre style=\"word-wrap: normal;white-space: pre;background: #fff0;line-height: 1.1;font-family: &quot;Courier New&quot;,Courier,monospace\">          ┌───┐         ┌───┐    ┌─────────┐                       »\n",
       "q_0: ─────┤ H ├─────────┤ X ├────┤ Ry(0.1) ├──■────────────■───────»\n",
       "          ├───┤         ├───┤    ├─────────┤  │            │       »\n",
       "q_1: ─────┤ S ├─────────┤ Y ├────┤ Rz(0.5) ├──┼───■────────■───────»\n",
       "          ├───┤         ├───┤    └─────────┘┌─┴─┐ │      ┌─┴─┐     »\n",
       "q_2: ─────┤ T ├─────────┤ Z ├───────────────┤ X ├─┼──────┤ X ├─────»\n",
       "     ┌────┴───┴────┐┌───┴───┴───┐           └───┘ │ ┌────┴───┴────┐»\n",
       "q_3: ┤ P(-0.33333) ├┤ Rx(0.345) ├─────────────────■─┤ P(-0.33333) ├»\n",
       "     └─────────────┘└───────────┘                   └─────────────┘»\n",
       "c: 3/══════════════════════════════════════════════════════════════»\n",
       "                                                                   »\n",
       "«         ┌───┐    ┌───┐┌─────────┐             \n",
       "«q_0: ────┤ H ├────┤ X ├┤ Ry(0.1) ├──■───────■──\n",
       "«         ├───┤    ├───┤├─────────┤  │       │  \n",
       "«q_1: ────┤ S ├────┤ Y ├┤ Rz(0.5) ├──┼───■───■──\n",
       "«         ├───┤    ├───┤└─────────┘┌─┴─┐ │ ┌─┴─┐\n",
       "«q_2: ────┤ T ├────┤ Z ├───────────┤ X ├─┼─┤ X ├\n",
       "«     ┌───┴───┴───┐└───┘           └───┘ │ └───┘\n",
       "«q_3: ┤ Rx(0.345) ├──────────────────────■──────\n",
       "«     └───────────┘                             \n",
       "«c: 3/══════════════════════════════════════════\n",
       "«                                               </pre>"
      ],
      "text/plain": [
       "          ┌───┐         ┌───┐    ┌─────────┐                       »\n",
       "q_0: ─────┤ H ├─────────┤ X ├────┤ Ry(0.1) ├──■────────────■───────»\n",
       "          ├───┤         ├───┤    ├─────────┤  │            │       »\n",
       "q_1: ─────┤ S ├─────────┤ Y ├────┤ Rz(0.5) ├──┼───■────────■───────»\n",
       "          ├───┤         ├───┤    └─────────┘┌─┴─┐ │      ┌─┴─┐     »\n",
       "q_2: ─────┤ T ├─────────┤ Z ├───────────────┤ X ├─┼──────┤ X ├─────»\n",
       "     ┌────┴───┴────┐┌───┴───┴───┐           └───┘ │ ┌────┴───┴────┐»\n",
       "q_3: ┤ P(-0.33333) ├┤ Rx(0.345) ├─────────────────■─┤ P(-0.33333) ├»\n",
       "     └─────────────┘└───────────┘                   └─────────────┘»\n",
       "c: 3/══════════════════════════════════════════════════════════════»\n",
       "                                                                   »\n",
       "«         ┌───┐    ┌───┐┌─────────┐             \n",
       "«q_0: ────┤ H ├────┤ X ├┤ Ry(0.1) ├──■───────■──\n",
       "«         ├───┤    ├───┤├─────────┤  │       │  \n",
       "«q_1: ────┤ S ├────┤ Y ├┤ Rz(0.5) ├──┼───■───■──\n",
       "«         ├───┤    ├───┤└─────────┘┌─┴─┐ │ ┌─┴─┐\n",
       "«q_2: ────┤ T ├────┤ Z ├───────────┤ X ├─┼─┤ X ├\n",
       "«     ┌───┴───┴───┐└───┘           └───┘ │ └───┘\n",
       "«q_3: ┤ Rx(0.345) ├──────────────────────■──────\n",
       "«     └───────────┘                             \n",
       "«c: 3/══════════════════════════════════════════\n",
       "«                                               "
      ]
     },
     "execution_count": 20,
     "metadata": {},
     "output_type": "execute_result"
    }
   ],
   "source": [
    "# Avec compose, c'est plus simple, il n'y a même pas forcément besoin de spécifier les qubits \n",
    "# \n",
    "qc2 = qc.compose(qc, [0,1,2,3], [0,1,2])\n",
    "qc2.draw()"
   ]
  },
  {
   "cell_type": "markdown",
   "id": "49781769",
   "metadata": {},
   "source": [
    "---\n",
    "###  Expérience quantique n°1 : la génération d'un état de Bell et ses variantes"
   ]
  },
  {
   "cell_type": "markdown",
   "id": "b00b7cf7",
   "metadata": {},
   "source": [
    "Un état de Bell est un état quantique d'intrication maximale entre deux qubits. Ci-dessous on génère un état de Bell où le premier et le second qubit partagent la même valeur (00 ou 11)."
   ]
  },
  {
   "cell_type": "code",
   "execution_count": 21,
   "id": "aa4f066b",
   "metadata": {},
   "outputs": [
    {
     "data": {
      "text/html": [
       "<pre style=\"word-wrap: normal;white-space: pre;background: #fff0;line-height: 1.1;font-family: &quot;Courier New&quot;,Courier,monospace\">     ┌───┐     \n",
       "q_0: ┤ H ├──■──\n",
       "     └───┘┌─┴─┐\n",
       "q_1: ─────┤ X ├\n",
       "          └───┘\n",
       "c: 2/══════════\n",
       "               </pre>"
      ],
      "text/plain": [
       "     ┌───┐     \n",
       "q_0: ┤ H ├──■──\n",
       "     └───┘┌─┴─┐\n",
       "q_1: ─────┤ X ├\n",
       "          └───┘\n",
       "c: 2/══════════\n",
       "               "
      ]
     },
     "execution_count": 21,
     "metadata": {},
     "output_type": "execute_result"
    }
   ],
   "source": [
    "nb_qubits = 2\n",
    "\n",
    "# Initialisation du circuit\n",
    "qc = QuantumCircuit(nb_qubits, nb_qubits)\n",
    "\n",
    "# On ajoute les portes que l'on veut \n",
    "qc.h(0)    # Hadamard sur le qubit 0\n",
    "qc.cx(0,1) # CNOT sur les qubits 0, 1 (contrôle à 0, cible à 1)\n",
    "\n",
    "\n",
    "# On affiche le circuit:\n",
    "qc.draw()"
   ]
  },
  {
   "cell_type": "code",
   "execution_count": 22,
   "id": "896bf298",
   "metadata": {},
   "outputs": [
    {
     "data": {
      "text/latex": [
       "$$\n",
       "\\text{Statevector = }\n",
       "\\begin{bmatrix}\n",
       "\\frac{\\sqrt{2}}{2} & 0 & 0 & \\frac{\\sqrt{2}}{2}  \\\\\n",
       " \\end{bmatrix}\n",
       "$$"
      ],
      "text/plain": [
       "<IPython.core.display.Latex object>"
      ]
     },
     "execution_count": 22,
     "metadata": {},
     "output_type": "execute_result"
    }
   ],
   "source": [
    "output_state = simulate_circuit_state(qc)\n",
    "array_to_latex(output_state, prefix=\"\\\\text{Statevector = }\")"
   ]
  },
  {
   "cell_type": "markdown",
   "id": "16b2b76b",
   "metadata": {},
   "source": [
    "Mesurer les deux qubits donnera bien environ 50% de 00 et 50% de 11."
   ]
  },
  {
   "cell_type": "code",
   "execution_count": 23,
   "id": "17fd2a1c",
   "metadata": {},
   "outputs": [
    {
     "data": {
      "image/png": "[encoded data removed]",
      "text/plain": [
       "<Figure size 640x480 with 1 Axes>"
      ]
     },
     "execution_count": 23,
     "metadata": {},
     "output_type": "execute_result"
    }
   ],
   "source": [
    "stats = simulate_circuit_histogram(qc, [0,1])\n",
    "plot_histogram(stats)"
   ]
  },
  {
   "cell_type": "markdown",
   "id": "d18ec658",
   "metadata": {},
   "source": [
    "---\n",
    "### Exercice 2 : violation des inégalités de Bell </center>"
   ]
  },
  {
   "cell_type": "markdown",
   "id": "96f0dfe6",
   "metadata": {},
   "source": [
    "On s'intéresse à l'expérience quantique suivante : \n",
    "\n",
    "<center> <img src=\"bell_inequalities.PNG\" width=300> </center>\n",
    "\n",
    "i.e, un état de Bell suivi de deux rotations Ry puis la mesure du système. Exceptionnellement, ici les valeurs possibles des mesures seront $\\{-1, 1 \\}$.\n",
    "\n",
    "On veut s'intéresser à la corrélation entre $a$ et $b$, définie par \n",
    "\n",
    "$$ \\mathbb{E}_{\\theta_1, \\theta_2}(ab) = P(a=b | \\theta_1, \\theta_2) - P(a\\neq b| \\theta_1, \\theta_2). $$\n",
    "\n",
    "Plus les résultats des mesures $a, b$ sont corrélés et plus l'espérance sera grande en valeur absolue. À l'inverse, plus les résultats sont décorrélés et plus l'espérance sera proche de $0$. \n",
    "\n",
    "Pour deux valeurs possibles de $\\theta_1$ et $\\theta_2$, on a 4 paires de bases de mesure possibles, donc 4 valeurs possibles de corrélations. On va étudier la quantité \n",
    "\n",
    "$$ S = \\mathbb{E}_{\\theta_1, \\theta_2}(ab) - \\mathbb{E}_{\\theta_1, \\theta_2'}(ab) + \\mathbb{E}_{\\theta_1', \\theta_2}(ab) + \\mathbb{E}_{\\theta_1', \\theta_2'}(ab).  $$\n",
    "\n",
    "Dans l'hypothèse d'une théorie locale à variables cachées, on a \n",
    "\n",
    "$$ |S| \\leq 2. $$\n",
    "\n",
    "En effet, en éloignant suffisamment nos deux particules de sorte qu'elles ne puissent plus communiquer durant les mesures, par hypothèse de localité il y aura indépendance entre les deux mesures. Autrement dit, \n",
    "\n",
    "$$ P(ab | \\theta_1, \\theta_2) = P(a | \\theta_1) P(b | \\theta_2) $$ \n",
    "\n",
    "et on aura également \n",
    "\n",
    "$$ \\mathbb{E}_{\\theta_1, \\theta_2}(ab) = \\mathbb{E}_{\\theta_1}(a) \\mathbb{E}_{\\theta_2}(b) $$ \n",
    "\n",
    "ce qui nous permet de réécrire $S$ sous une forme factorisée\n",
    "\n",
    "$$ S = \\mathbb{E}_{\\theta_1}(a) \\big( \\mathbb{E}_{\\theta_2}(b) - \\mathbb{E}_{\\theta'_2}(b) \\big) + \\mathbb{E}_{\\theta'_1}(a) \\big( \\mathbb{E}_{\\theta_2}(b) + \\mathbb{E}_{\\theta'_2}(b) \\big) = A(B-B') + A'(B+B') $$\n",
    "\n",
    "avec $ -1 \\leq A,A',B,B' \\leq 1$. Donc \n",
    "\n",
    "$$ |S| \\leq |B+B'| + |B-B'| $$ \n",
    "\n",
    "et on considère trois cas : \n",
    "\n",
    "- $0 \\leq B \\leq B' \\leq 1$, dans ce cas $|B+B'| + |B-B'| = 2B' \\leq 2$,\n",
    "- $ -1 \\leq B \\leq B' \\leq 0$, dans ce cas $ |B+B'| + |B-B'| = -2B \\leq 2$,\n",
    "- $ -1 \\leq B \\leq 0 \\leq B' \\leq 1$, dans ce cas $ |B+B'| + |B-B'| = 2B' \\leq 2$ ou $-2B \\leq 2$ selon le signe de $|B+B'|$.\n",
    "\n",
    "Le cas où $B' \\leq B$ se traite de la même manière. \n",
    "\n",
    "Dans l'hypothèse d'une théorie locale à variables cachées, on s'autorise également la possibilité d'une variable supplémentaire $\\lambda$ partagée entre les particules au moment de leur interaction qui peut conditionner les résultats de la mesure. On réécrit nos probabilités \n",
    "\n",
    "$$ P(ab | \\theta_1, \\theta_2, \\lambda) $$\n",
    "\n",
    "mais cela ne change rien au calcul car la valeur de lambda nous est inconnue au moment de l'expérience et peut varier d'une expérience à l'autre. En répétant un grand nombre de fois l'expérience on moyenne également sur la valeur de lambda, autrement dit lors d'une expérience donnée avec $\\theta_1, \\theta_2$ fixés on calcule \n",
    "\n",
    "$$ \\int_\\lambda \\mathbb{E}_{\\theta_1, \\theta_2, \\lambda}(ab) p(\\lambda) d\\lambda $$\n",
    "\n",
    "et \n",
    "\n",
    "$$ S = \\int_{\\lambda} \\mathbb{E}_{\\theta_1, \\theta_2, \\lambda}(ab)p(\\lambda) d\\lambda - \\int_{\\lambda} \\mathbb{E}_{\\theta_1, \\theta_2', \\lambda}(ab)p(\\lambda) d\\lambda + \\int_{\\lambda} \\mathbb{E}_{\\theta_1', \\theta_2, \\lambda}(ab)p(\\lambda) d\\lambda + \\int_{\\lambda} \\mathbb{E}_{\\theta_1', \\theta_2', \\lambda}(ab)p(\\lambda) d\\lambda. $$ \n",
    "\n",
    "Pour les mêmes raisons de localité, et par commutation de l'intégrale et de la somme, on peut à nouveau factoriser S et borner la valeur au sein de l'intégrale : \n",
    "\n",
    "$$ |S| \\leq \\int_{\\lambda} 2p(\\lambda)d\\lambda = 2.$$\n",
    "\n",
    "On va tester cette hypothèse avec notre expérience."
   ]
  },
  {
   "cell_type": "markdown",
   "id": "ffc3c8b5",
   "metadata": {},
   "source": [
    "#### **Question 2.1**\n",
    "\n",
    "<pre> Exprimer l'état mesuré dans la base computationnelle. \n",
    " Quelles sont les probabilités de mesurer 00, 01, 10 et 11 ? </pre>"
   ]
  },
  {
   "cell_type": "markdown",
   "id": "789c1309",
   "metadata": {},
   "source": [
    "##### Solution"
   ]
  },
  {
   "cell_type": "markdown",
   "id": "1000710f",
   "metadata": {},
   "source": [
    "On applique la matrice \n",
    "\n",
    "$$ U = R_y(2\\theta_1) \\otimes R_y(2\\theta_2) $$ \n",
    "\n",
    "sur le vecteur $ \\frac{1}{\\sqrt{2}} \\begin{bmatrix} 1 \\\\ 0 \\\\ 0 \\\\ 1 \\end{bmatrix} $. Il suffit de regarder l'image des vecteurs $\\ket{00}$ et $\\ket{11}$ par $U$ et de sommer les résultats pour avoir l'état final. Par définition du produit de Kronecker on a \n",
    "\n",
    "$$ U \\ket{00} = \\cos(\\theta_1) \\cos(\\theta_2) \\ket{00} + \\cos(\\theta_1) \\sin(\\theta_2) \\ket{01} + \\sin(\\theta_1)\\cos(\\theta_2) \\ket{10} + \\sin(\\theta_1)\\sin(\\theta_2) \\ket{11} $$ \n",
    "et \n",
    "$$ U \\ket{11} = \\sin(\\theta_1) \\sin(\\theta_2) \\ket{00}  -\\sin(\\theta_1) \\cos(\\theta_2) \\ket{01} + -\\cos(\\theta_1)\\sin(\\theta_2) \\ket{10} + \\cos(\\theta_1)\\cos(\\theta_2) \\ket{11}. $$ \n",
    "\n",
    "Par somme et en utilisant des identités trigonométriques, on obtient \n",
    "\n",
    "$$ \\ket{\\psi} = \\frac{1}{\\sqrt{2}} \\big( \\cos(\\theta_1 - \\theta_2) \\ket{00} + \\sin(\\theta_1-\\theta_2) \\ket{01} + \\sin(\\theta_2-\\theta_1) \\ket{10} + \\cos(\\theta_1-\\theta_2) \\ket{11} \\big)$$\n",
    "\n",
    "dont on en déduit les probabilités de mesure : \n",
    "\n",
    "$$ P(00) = P(11) = \\frac{1}{2} \\cos^2(\\theta_1-\\theta_2) $$ \n",
    "et\n",
    "$$ P(01) = P(10) = \\frac{1}{2} \\sin^2(\\theta_1-\\theta_2). $$"
   ]
  },
  {
   "cell_type": "markdown",
   "id": "3c288e41",
   "metadata": {},
   "source": [
    "#### **Question 2.2**\n",
    "\n",
    "<pre> Écrire une routine générant le circuit pour deux valeurs en entrée de theta1, theta2. \n",
    " Vérifiez que les probabilités sont conformes. </pre>"
   ]
  },
  {
   "cell_type": "code",
   "execution_count": 24,
   "id": "3b6cad34",
   "metadata": {},
   "outputs": [],
   "source": [
    "def bell_circ(theta1, theta2):\n",
    "    nb_qubits = 2\n",
    "\n",
    "    # Initialisation du circuit\n",
    "    qc = QuantumCircuit(nb_qubits, nb_qubits)\n",
    "\n",
    "    # On ajoute les portes que l'on veut \n",
    "    qc.h(0)    # Hadamard sur le qubit 0\n",
    "    qc.cx(0,1) # CNOT sur les qubits 0, 1 (contrôle à 0, cible à 1)\n",
    "    qc.append(RYGate(2*theta1), [0])\n",
    "    qc.append(RYGate(2*theta2), [1])\n",
    "    \n",
    "    return qc"
   ]
  },
  {
   "cell_type": "code",
   "execution_count": 25,
   "id": "93350984",
   "metadata": {},
   "outputs": [
    {
     "data": {
      "text/html": [
       "<pre style=\"word-wrap: normal;white-space: pre;background: #fff0;line-height: 1.1;font-family: &quot;Courier New&quot;,Courier,monospace\">     ┌───┐     ┌─────────────┐\n",
       "q_0: ┤ H ├──■──┤ Ry(0.85813) ├\n",
       "     └───┘┌─┴─┐└┬────────────┤\n",
       "q_1: ─────┤ X ├─┤ Ry(1.1446) ├\n",
       "          └───┘ └────────────┘\n",
       "c: 2/═════════════════════════\n",
       "                              </pre>"
      ],
      "text/plain": [
       "     ┌───┐     ┌─────────────┐\n",
       "q_0: ┤ H ├──■──┤ Ry(0.85813) ├\n",
       "     └───┘┌─┴─┐└┬────────────┤\n",
       "q_1: ─────┤ X ├─┤ Ry(1.1446) ├\n",
       "          └───┘ └────────────┘\n",
       "c: 2/═════════════════════════\n",
       "                              "
      ]
     },
     "execution_count": 25,
     "metadata": {},
     "output_type": "execute_result"
    }
   ],
   "source": [
    "# Faites des tests\n",
    "theta1 = np.random.rand()\n",
    "theta2 = np.random.rand()\n",
    "\n",
    "circ = bell_circ(theta1, theta2)\n",
    "circ.draw()"
   ]
  },
  {
   "cell_type": "code",
   "execution_count": 26,
   "id": "8c3af1f9",
   "metadata": {},
   "outputs": [
    {
     "name": "stdout",
     "output_type": "stream",
     "text": [
      "Probabilités attendues : \n",
      "OO et 11 :  0.4898154360361014\n",
      "O1 et 10 :  0.010184563963898614\n",
      "\n",
      "Probabilités obtenues : \n",
      "00 :  0.48046875\n",
      "01 :  0.009765625\n",
      "10 :  0.01171875\n",
      "11 :  0.498046875\n"
     ]
    }
   ],
   "source": [
    "stats = simulate_circuit_histogram(circ, [0,1])\n",
    "\n",
    "print(\"Probabilités attendues : \")\n",
    "print(\"OO et 11 : \", 1/2*np.cos(theta1-theta2)**2)\n",
    "print(\"O1 et 10 : \", 1/2*np.sin(theta1-theta2)**2)\n",
    "\n",
    "print(\"\\nProbabilités obtenues : \")\n",
    "print(\"00 : \", stats['00']/1024)\n",
    "print(\"01 : \", stats['01']/1024)\n",
    "print(\"10 : \", stats['10']/1024)\n",
    "print(\"11 : \", stats['11']/1024)"
   ]
  },
  {
   "cell_type": "markdown",
   "id": "14313371",
   "metadata": {},
   "source": [
    "#### **Question 2.3** \n",
    "\n",
    "<pre> Écrire une routine qui prend en entrée theta1, theta2, et calcule le facteur de corrélation. </pre>"
   ]
  },
  {
   "cell_type": "code",
   "execution_count": 27,
   "id": "338388c0",
   "metadata": {},
   "outputs": [],
   "source": [
    "def correlation(theta1, theta2):\n",
    "    stats = simulate_circuit_histogram(bell_circ(theta1,theta2), [0,1])\n",
    "    return (stats['00'] + stats['11'] - stats['01'] - stats['10'])/1024"
   ]
  },
  {
   "cell_type": "markdown",
   "id": "9f96f22c",
   "metadata": {},
   "source": [
    "#### **Question 2.4** \n",
    "\n",
    "<pre> Calculer S pour theta1 = 0, theta1' = pi/4, theta2 = pi/8 et theta2' = 3pi/8. \n",
    " Que peut-on en conclure ?</pre> "
   ]
  },
  {
   "cell_type": "code",
   "execution_count": 28,
   "id": "9774bc09",
   "metadata": {},
   "outputs": [
    {
     "name": "stdout",
     "output_type": "stream",
     "text": [
      "2.921875\n"
     ]
    }
   ],
   "source": [
    "theta1 = 0\n",
    "theta12 = np.pi/4\n",
    "theta2 = np.pi/8\n",
    "theta22 = 3*np.pi/8\n",
    "\n",
    "S = correlation(theta1, theta2) - correlation(theta1,theta22) + correlation(theta12, theta2) + correlation(theta12,theta22)\n",
    "print(S)"
   ]
  },
  {
   "cell_type": "markdown",
   "id": "febfd3f2",
   "metadata": {},
   "source": [
    "#### **Question 2.5** \n",
    "\n",
    "<pre> Donner une formule simple pour E_(theta1, theta2)(ab).  \n",
    " Retrouver la valeur théorique de S pour theta1 = 0, theta1' = pi/4, theta2 = pi/8 et theta2' = 3pi/8. </pre>"
   ]
  },
  {
   "cell_type": "markdown",
   "id": "959f6703",
   "metadata": {},
   "source": [
    "##### Solution\n",
    "\n",
    "$$ E_(\\theta_1, \\theta_2)(ab) = \\cos^2(\\theta_1-\\theta_2) - \\sin^2(\\theta_1-\\theta_2) = \\cos(2(\\theta_1-\\theta_2)). $$\n",
    "    \n",
    "$$ S = \\cos(2(\\theta_1-\\theta_2)) - \\cos(2(\\theta_1-\\theta'_2)) + \\cos(2(\\theta_1'-\\theta_2)) + \\cos(2(\\theta'_1-\\theta'_2)).  $$\n",
    "\n",
    "    \n",
    "Pour les valeurs données : \n",
    "    \n",
    "$$ S = \\cos(\\pi/4) - \\cos(3\\pi/4) + \\cos(\\pi/4) + \\cos(\\pi/4) = 2\\sqrt{2} \\approx 2.8284. $$"
   ]
  },
  {
   "cell_type": "markdown",
   "id": "13653849",
   "metadata": {},
   "source": [
    "---\n",
    "### Exercice 3 : la téléportation quantique </center>"
   ]
  },
  {
   "cell_type": "markdown",
   "id": "22411e80",
   "metadata": {},
   "source": [
    "Le but de cet exercice est d'échanger un qubit entre deux personnes. Le protocole est le suivant :\n",
    "<center> <img src=\"teleportation.PNG\" width=300> </center>"
   ]
  },
  {
   "cell_type": "markdown",
   "id": "9d72050e",
   "metadata": {},
   "source": [
    "Alice possède un qubit dans l'état $\\ket{\\psi}$ qu'elle aimerait envoyer de manière sécurisée à Bob. Pour cela ils partagent une paire de qubits $\\ket{\\cdot}_A$ et $\\ket{\\cdot}_B$ dans l'état de Bell\n",
    "$$ \\frac{1}{\\sqrt{2}} (\\ket{00} + \\ket{11}). $$\n",
    "\n",
    "Alice possède donc deux qubits, Bob un seul. Alice va effectuer quelques opérations sur ses deux qubits puis les mesurer. Elle va ensuite envoyer classiquement les résultats de sa mesure à Bob qui va effectuer des corrections selon ce qu'Alice va lui envoyer. Plus précisément, et dans cet ordre précis :\n",
    "- si Alice mesure 1 sur le qubit de l'état de Bell qu'elle partageait avec Bob ($\\ket{\\cdot}_A$), alors Bob applique une porte X sur son qubit ($\\ket{\\cdot}_B$),\n",
    "- si Alice mesure 1 sur le qubit qui contenait initialement son qubit à envoyer ($\\ket{\\psi}$), alors Bob applique une porte Z sur son qubit ($\\ket{\\cdot}_B$).\n",
    "\n",
    "Une fois le protocole réalisé, Bob possède un qubit dans l'état $\\ket{\\psi}$. D'un point de vue communication, une fois qu'Alice et Bob ont une paire de qubits intriqués, Alice n'a besoin d'envoyer que 2 bits classiques à Bob pour réaliser la téléportation."
   ]
  },
  {
   "cell_type": "markdown",
   "id": "e1d435df",
   "metadata": {},
   "source": [
    "#### **Question 3.1**\n",
    "\n",
    "<pre> Générer un circuit sur 2 qubits qui génère l'état de Bell qu'Alice et Bob vont se partager. </pre>"
   ]
  },
  {
   "cell_type": "code",
   "execution_count": 29,
   "id": "712f3d61",
   "metadata": {},
   "outputs": [
    {
     "data": {
      "text/html": [
       "<pre style=\"word-wrap: normal;white-space: pre;background: #fff0;line-height: 1.1;font-family: &quot;Courier New&quot;,Courier,monospace\">     ┌───┐     \n",
       "q_0: ┤ H ├──■──\n",
       "     └───┘┌─┴─┐\n",
       "q_1: ─────┤ X ├\n",
       "          └───┘</pre>"
      ],
      "text/plain": [
       "     ┌───┐     \n",
       "q_0: ┤ H ├──■──\n",
       "     └───┘┌─┴─┐\n",
       "q_1: ─────┤ X ├\n",
       "          └───┘"
      ]
     },
     "execution_count": 29,
     "metadata": {},
     "output_type": "execute_result"
    }
   ],
   "source": [
    "bell_circ = QuantumCircuit(2)\n",
    "bell_circ.h(0)\n",
    "bell_circ.cx(0,1)\n",
    "\n",
    "bell_circ.draw()"
   ]
  },
  {
   "cell_type": "markdown",
   "id": "53b9cfd6",
   "metadata": {},
   "source": [
    "#### **Question 3.2**\n",
    "<pre> Générer un circuit sur 2 qubits qui réalise les opérations d'Alice, mesures non incluses. \n",
    " Vous complèterez la fonction ci-dessous qui génère un état aléatoire sur 1 qubit. </pre>"
   ]
  },
  {
   "cell_type": "code",
   "execution_count": 30,
   "id": "6c4cdf1f",
   "metadata": {},
   "outputs": [
    {
     "name": "stdout",
     "output_type": "stream",
     "text": [
      "L'état du qubit d'Alice :  [0.52072818+0.43622114j 0.71681504-0.15725607j]\n"
     ]
    },
    {
     "data": {
      "text/html": [
       "<pre style=\"word-wrap: normal;white-space: pre;background: #fff0;line-height: 1.1;font-family: &quot;Courier New&quot;,Courier,monospace\">     ┌────────────┐┌────────────┐┌────────────┐     ┌───┐\n",
       "q_0: ┤ Rz(2.6602) ├┤ Ry(4.6352) ├┤ Rz(2.2283) ├──■──┤ H ├\n",
       "     └────────────┘└────────────┘└────────────┘┌─┴─┐└───┘\n",
       "q_1: ──────────────────────────────────────────┤ X ├─────\n",
       "                                               └───┘     </pre>"
      ],
      "text/plain": [
       "     ┌────────────┐┌────────────┐┌────────────┐     ┌───┐\n",
       "q_0: ┤ Rz(2.6602) ├┤ Ry(4.6352) ├┤ Rz(2.2283) ├──■──┤ H ├\n",
       "     └────────────┘└────────────┘└────────────┘┌─┴─┐└───┘\n",
       "q_1: ──────────────────────────────────────────┤ X ├─────\n",
       "                                               └───┘     "
      ]
     },
     "execution_count": 30,
     "metadata": {},
     "output_type": "execute_result"
    }
   ],
   "source": [
    "a = 2*np.pi*np.random.rand()\n",
    "b = 2*np.pi*np.random.rand()\n",
    "c = 2*np.pi*np.random.rand()\n",
    "\n",
    "alice_state = np.zeros(2) + 1j*np.zeros(2)\n",
    "alice_state[0] = 1\n",
    "\n",
    "Y = np.array([ [0, -1j], [1j, 0]])\n",
    "Z = np.array([ [1, 0], [0, -1]])\n",
    "I = np.eye(2)\n",
    "\n",
    "alice_state = (np.cos(a/2)*I - 1j*np.sin(a/2)*Z) @ alice_state\n",
    "alice_state = (np.cos(b/2)*I - 1j*np.sin(b/2)*Y) @ alice_state\n",
    "alice_state = (np.cos(c/2)*I - 1j*np.sin(c/2)*Z) @ alice_state\n",
    "\n",
    "print(\"L'état du qubit d'Alice : \", alice_state)\n",
    "\n",
    "alice_circ = QuantumCircuit(2)\n",
    "alice_circ.append(RZGate(a), [0])\n",
    "alice_circ.append(RYGate(b), [0])\n",
    "alice_circ.append(RZGate(c), [0])\n",
    "\n",
    "# Complétez alice_circ\n",
    "alice_circ.cx(0,1)\n",
    "alice_circ.h(0)\n",
    "\n",
    "alice_circ.draw()"
   ]
  },
  {
   "cell_type": "markdown",
   "id": "08007869",
   "metadata": {},
   "source": [
    "#### **Question 3.3**\n",
    "\n",
    "<pre> Générer un circuit sur 1 qubit avec 2 bits classiques qui réalise les opérations de Bob. </pre>\n",
    "\n",
    "Pour cela vous utiliserez la syntaxe **circ.gate(j).c_if(i, True)** où i est le numéro du bit classique qui sert de contrôle. Pour rappel gate sera la porte à appliquer (z ou x) et j le qubit sur lequel est appliqué la porte."
   ]
  },
  {
   "cell_type": "code",
   "execution_count": 31,
   "id": "f908c832",
   "metadata": {},
   "outputs": [
    {
     "name": "stderr",
     "output_type": "stream",
     "text": [
      "C:\\Users\\abarb\\AppData\\Local\\Temp\\ipykernel_1460\\1456557382.py:2: DeprecationWarning: The method ``qiskit.circuit.instructionset.InstructionSet.c_if()`` is deprecated as of qiskit 1.3.0. It will be removed in 2.0.0.\n",
      "  bob_circ.x(0).c_if(0, True)\n",
      "C:\\Users\\abarb\\AppData\\Local\\Temp\\ipykernel_1460\\1456557382.py:3: DeprecationWarning: The method ``qiskit.circuit.instructionset.InstructionSet.c_if()`` is deprecated as of qiskit 1.3.0. It will be removed in 2.0.0.\n",
      "  bob_circ.z(0).c_if(1, True)\n"
     ]
    },
    {
     "data": {
      "text/html": [
       "<pre style=\"word-wrap: normal;white-space: pre;background: #fff0;line-height: 1.1;font-family: &quot;Courier New&quot;,Courier,monospace\">        ┌───┐      ┌───┐   \n",
       "  q: ───┤ X ├──────┤ Z ├───\n",
       "        └─╥─┘      └─╥─┘   \n",
       "     ┌────╨────┐┌────╨────┐\n",
       "c: 2/╡ c_0=0x1 ╞╡ c_1=0x1 ╞\n",
       "     └─────────┘└─────────┘</pre>"
      ],
      "text/plain": [
       "        ┌───┐      ┌───┐   \n",
       "  q: ───┤ X ├──────┤ Z ├───\n",
       "        └─╥─┘      └─╥─┘   \n",
       "     ┌────╨────┐┌────╨────┐\n",
       "c: 2/╡ c_0=0x1 ╞╡ c_1=0x1 ╞\n",
       "     └─────────┘└─────────┘"
      ]
     },
     "execution_count": 31,
     "metadata": {},
     "output_type": "execute_result"
    }
   ],
   "source": [
    "bob_circ = QuantumCircuit(1, 2)\n",
    "bob_circ.x(0).c_if(0, True)\n",
    "bob_circ.z(0).c_if(1, True)\n",
    "\n",
    "bob_circ.draw()"
   ]
  },
  {
   "cell_type": "markdown",
   "id": "f215754e",
   "metadata": {},
   "source": [
    "#### **Question 3.4**\n",
    "<pre> Générer le circuit complet de la téléportation quantique. </pre>\n",
    "\n",
    "Vous veillerez à réutiliser tous les circuits précédents et vous utiliserez la fonction circ.measure(i,j) où i est le qubit à mesurer et j le bit classique qui va stocker le résultat de la mesure. "
   ]
  },
  {
   "cell_type": "code",
   "execution_count": 32,
   "id": "80431555",
   "metadata": {},
   "outputs": [
    {
     "data": {
      "text/html": [
       "<pre style=\"word-wrap: normal;white-space: pre;background: #fff0;line-height: 1.1;font-family: &quot;Courier New&quot;,Courier,monospace\">     ┌────────────┐┌────────────┐┌────────────┐     ┌───┐┌─┐           »\n",
       "q_0: ┤ Rz(2.6602) ├┤ Ry(4.6352) ├┤ Rz(2.2283) ├──■──┤ H ├┤M├───────────»\n",
       "     └───┬───┬────┘└────────────┘└────────────┘┌─┴─┐└┬─┬┘└╥┘           »\n",
       "q_1: ────┤ H ├───────────■─────────────────────┤ X ├─┤M├──╫────────────»\n",
       "         └───┘         ┌─┴─┐                   └───┘ └╥┘  ║    ┌───┐   »\n",
       "q_2: ──────────────────┤ X ├──────────────────────────╫───╫────┤ X ├───»\n",
       "                       └───┘                          ║   ║    └─╥─┘   »\n",
       "                                                      ║   ║ ┌────╨────┐»\n",
       "c: 2/═════════════════════════════════════════════════╩═══╩═╡ c_0=0x1 ╞»\n",
       "                                                      0   1 └─────────┘»\n",
       "«                   ┌─┐\n",
       "«q_0: ──────────────┤M├\n",
       "«                ┌─┐└╥┘\n",
       "«q_1: ───────────┤M├─╫─\n",
       "«        ┌───┐   └╥┘ ║ \n",
       "«q_2: ───┤ Z ├────╫──╫─\n",
       "«        └─╥─┘    ║  ║ \n",
       "«     ┌────╨────┐ ║  ║ \n",
       "«c: 2/╡ c_1=0x1 ╞═╩══╩═\n",
       "«     └─────────┘ 0  1 </pre>"
      ],
      "text/plain": [
       "     ┌────────────┐┌────────────┐┌────────────┐     ┌───┐┌─┐           »\n",
       "q_0: ┤ Rz(2.6602) ├┤ Ry(4.6352) ├┤ Rz(2.2283) ├──■──┤ H ├┤M├───────────»\n",
       "     └───┬───┬────┘└────────────┘└────────────┘┌─┴─┐└┬─┬┘└╥┘           »\n",
       "q_1: ────┤ H ├───────────■─────────────────────┤ X ├─┤M├──╫────────────»\n",
       "         └───┘         ┌─┴─┐                   └───┘ └╥┘  ║    ┌───┐   »\n",
       "q_2: ──────────────────┤ X ├──────────────────────────╫───╫────┤ X ├───»\n",
       "                       └───┘                          ║   ║    └─╥─┘   »\n",
       "                                                      ║   ║ ┌────╨────┐»\n",
       "c: 2/═════════════════════════════════════════════════╩═══╩═╡ c_0=0x1 ╞»\n",
       "                                                      0   1 └─────────┘»\n",
       "«                   ┌─┐\n",
       "«q_0: ──────────────┤M├\n",
       "«                ┌─┐└╥┘\n",
       "«q_1: ───────────┤M├─╫─\n",
       "«        ┌───┐   └╥┘ ║ \n",
       "«q_2: ───┤ Z ├────╫──╫─\n",
       "«        └─╥─┘    ║  ║ \n",
       "«     ┌────╨────┐ ║  ║ \n",
       "«c: 2/╡ c_1=0x1 ╞═╩══╩═\n",
       "«     └─────────┘ 0  1 "
      ]
     },
     "execution_count": 32,
     "metadata": {},
     "output_type": "execute_result"
    }
   ],
   "source": [
    "teleportation_circ = QuantumCircuit(3,2)\n",
    "teleportation_circ = teleportation_circ.compose(bell_circ, [1,2])\n",
    "teleportation_circ = teleportation_circ.compose(alice_circ, [0,1])\n",
    "teleportation_circ.measure(0,1)\n",
    "teleportation_circ.measure(1,0)\n",
    "teleportation_circ = teleportation_circ.compose(bob_circ, [2], [0,1])\n",
    "teleportation_circ.measure(0,1)\n",
    "teleportation_circ.measure(1,0)\n",
    "\n",
    "\n",
    "teleportation_circ.draw()"
   ]
  },
  {
   "cell_type": "markdown",
   "id": "b104e108",
   "metadata": {},
   "source": [
    "#### **Question 3.5**\n",
    "<pre> Faire la simulation du circuit pour récupérer le vecteur d'état en sortie. \n",
    " Comparer avec l'état initial que possédait Alice. </pre>"
   ]
  },
  {
   "cell_type": "code",
   "execution_count": 33,
   "id": "c72de362",
   "metadata": {},
   "outputs": [
    {
     "name": "stdout",
     "output_type": "stream",
     "text": [
      "État d'Alice (avant téléportation) :  [0.52072818+0.43622114j 0.71681504-0.15725607j]\n",
      "État de Bob (après téléportation) :  [0.52072818+0.43622114j 0.71681504-0.15725607j]\n"
     ]
    }
   ],
   "source": [
    "output_state = simulate_circuit_state(teleportation_circ)\n",
    "output_state, measurements = simulate_circuit_with_measurements_and_output_state(teleportation_circ, [0,1])\n",
    "print(\"État d'Alice (avant téléportation) : \", alice_state)\n",
    "print(\"État de Bob (après téléportation) : \", output_state)"
   ]
  },
  {
   "cell_type": "markdown",
   "id": "d92ef8ee",
   "metadata": {},
   "source": [
    "#### **Question 3.6**\n",
    "<pre> Les entrées non nulles du vecteur de sortie changent selon la simulation. Pouvez-vous expliquer pourquoi ? </pre>"
   ]
  },
  {
   "cell_type": "markdown",
   "id": "6a995a8c",
   "metadata": {},
   "source": [
    "---\n",
    "\n",
    "### Expérience quantique 2 : la porte Toffoli et autre circuit logique\n",
    "\n",
    "<br><br>\n",
    "La porte Toffoli est une porte logique sur 3 qubits qui réalise l'opération \n",
    "\n",
    "$$ [x_1, x_2, x_3] \\to [x_1, x_2, x_1 \\oplus x_2x_3] $$\n",
    "\n",
    "où $\\oplus$ est l'opérateur XOR. Cette opération correspond aussi à une porte X sur le qubit 3 contrôlée par les qubits 1 et 2. La version unitaire de la Toffoli est \n",
    "\n",
    "$$ T = \\begin{bmatrix} 1 &&&&&&& \\\\ &1&&&&&& \\\\ &&1&&&&& \\\\ &&&&&&&1 \\\\ &&&&1&&& \\\\ &&&&&1&& \\\\ &&&&&&1& \\\\ &&&1&&&& \\end{bmatrix} $$ \n",
    "\n",
    "\n",
    "Le circuit suivant implémente la porte Toffoli : \n",
    "\n",
    "<center> <img src=\"toffoli.PNG\" width=\"700\"> </center>\n",
    "\n",
    "\n",
    "\n",
    "<br><br>\n",
    "On va créer le circuit, le simuler et vérifier que cela implémente bien l'opérateur voulu. "
   ]
  },
  {
   "cell_type": "code",
   "execution_count": 34,
   "id": "62859a35",
   "metadata": {},
   "outputs": [
    {
     "data": {
      "text/html": [
       "<pre style=\"word-wrap: normal;white-space: pre;background: #fff0;line-height: 1.1;font-family: &quot;Courier New&quot;,Courier,monospace\">                                                       ┌───┐      \n",
       "q_0: ───────────────────■─────────────────────■────■───┤ T ├───■──\n",
       "                        │             ┌───┐   │  ┌─┴─┐┌┴───┴┐┌─┴─┐\n",
       "q_1: ───────■───────────┼─────────■───┤ T ├───┼──┤ X ├┤ Tdg ├┤ X ├\n",
       "     ┌───┐┌─┴─┐┌─────┐┌─┴─┐┌───┐┌─┴─┐┌┴───┴┐┌─┴─┐├───┤└┬───┬┘└───┘\n",
       "q_2: ┤ H ├┤ X ├┤ Tdg ├┤ X ├┤ T ├┤ X ├┤ Tdg ├┤ X ├┤ T ├─┤ H ├──────\n",
       "     └───┘└───┘└─────┘└───┘└───┘└───┘└─────┘└───┘└───┘ └───┘      </pre>"
      ],
      "text/plain": [
       "                                                       ┌───┐      \n",
       "q_0: ───────────────────■─────────────────────■────■───┤ T ├───■──\n",
       "                        │             ┌───┐   │  ┌─┴─┐┌┴───┴┐┌─┴─┐\n",
       "q_1: ───────■───────────┼─────────■───┤ T ├───┼──┤ X ├┤ Tdg ├┤ X ├\n",
       "     ┌───┐┌─┴─┐┌─────┐┌─┴─┐┌───┐┌─┴─┐┌┴───┴┐┌─┴─┐├───┤└┬───┬┘└───┘\n",
       "q_2: ┤ H ├┤ X ├┤ Tdg ├┤ X ├┤ T ├┤ X ├┤ Tdg ├┤ X ├┤ T ├─┤ H ├──────\n",
       "     └───┘└───┘└─────┘└───┘└───┘└───┘└─────┘└───┘└───┘ └───┘      "
      ]
     },
     "execution_count": 34,
     "metadata": {},
     "output_type": "execute_result"
    }
   ],
   "source": [
    "qc = QuantumCircuit(3)\n",
    "qc.h(2)\n",
    "qc.cx(1,2)\n",
    "qc.tdg(2)\n",
    "qc.cx(0,2)\n",
    "qc.t(2)\n",
    "qc.cx(1,2)\n",
    "qc.tdg(2)\n",
    "qc.cx(0,2)\n",
    "qc.t(1)\n",
    "qc.t(2)\n",
    "qc.cx(0,1)\n",
    "qc.t(0)\n",
    "qc.tdg(1)\n",
    "qc.cx(0,1)\n",
    "qc.h(2)\n",
    "\n",
    "qc.draw()"
   ]
  },
  {
   "cell_type": "code",
   "execution_count": 35,
   "id": "4801b6e5",
   "metadata": {},
   "outputs": [
    {
     "name": "stdout",
     "output_type": "stream",
     "text": [
      "Erreur d'implémentation :  8.598307679924493e-16\n"
     ]
    }
   ],
   "source": [
    "U = simulate_circuit_unitary(qc)\n",
    "T = np.eye(8)\n",
    "T[3,3] = T[7,7] = 0\n",
    "T[7,3] = T[3,7] = 1\n",
    "\n",
    "print(\"Erreur d'implémentation : \", np.linalg.norm(U.data-T))"
   ]
  },
  {
   "cell_type": "markdown",
   "id": "e34f383e",
   "metadata": {},
   "source": [
    "On peut également vérifier que notre circuit implémente la Toffoli en rajoutant la Toffoli implémentée dans Qiskit directement dans notre circuit et en vérifiant que le circuit total applique l'identité. Cela nous donne l'occasion de voir comment faire une porte avec un nombre arbitraire de contrôles et d'insérer une porte (ou un sous-circuit) à notre circuit global."
   ]
  },
  {
   "cell_type": "code",
   "execution_count": 36,
   "id": "805cd52a",
   "metadata": {},
   "outputs": [
    {
     "data": {
      "text/html": [
       "<pre style=\"word-wrap: normal;white-space: pre;background: #fff0;line-height: 1.1;font-family: &quot;Courier New&quot;,Courier,monospace\">                                                       ┌───┐           \n",
       "q_0: ───────────────────■─────────────────────■────■───┤ T ├───■────■──\n",
       "                        │             ┌───┐   │  ┌─┴─┐┌┴───┴┐┌─┴─┐  │  \n",
       "q_1: ───────■───────────┼─────────■───┤ T ├───┼──┤ X ├┤ Tdg ├┤ X ├──■──\n",
       "     ┌───┐┌─┴─┐┌─────┐┌─┴─┐┌───┐┌─┴─┐┌┴───┴┐┌─┴─┐├───┤└┬───┬┘└───┘┌─┴─┐\n",
       "q_2: ┤ H ├┤ X ├┤ Tdg ├┤ X ├┤ T ├┤ X ├┤ Tdg ├┤ X ├┤ T ├─┤ H ├──────┤ X ├\n",
       "     └───┘└───┘└─────┘└───┘└───┘└───┘└─────┘└───┘└───┘ └───┘      └───┘</pre>"
      ],
      "text/plain": [
       "                                                       ┌───┐           \n",
       "q_0: ───────────────────■─────────────────────■────■───┤ T ├───■────■──\n",
       "                        │             ┌───┐   │  ┌─┴─┐┌┴───┴┐┌─┴─┐  │  \n",
       "q_1: ───────■───────────┼─────────■───┤ T ├───┼──┤ X ├┤ Tdg ├┤ X ├──■──\n",
       "     ┌───┐┌─┴─┐┌─────┐┌─┴─┐┌───┐┌─┴─┐┌┴───┴┐┌─┴─┐├───┤└┬───┬┘└───┘┌─┴─┐\n",
       "q_2: ┤ H ├┤ X ├┤ Tdg ├┤ X ├┤ T ├┤ X ├┤ Tdg ├┤ X ├┤ T ├─┤ H ├──────┤ X ├\n",
       "     └───┘└───┘└─────┘└───┘└───┘└───┘└─────┘└───┘└───┘ └───┘      └───┘"
      ]
     },
     "execution_count": 36,
     "metadata": {},
     "output_type": "execute_result"
    }
   ],
   "source": [
    "qc2 = qc.copy() # pour éviter que plusieurs exécutions de la cellule fassent s'accumuler des CCX\n",
    "gate = MCXGate(2)  # Multi Control X Gate, with 2 controls\n",
    "qc2.append(gate, [0,1,2])\n",
    "qc2.draw()"
   ]
  },
  {
   "cell_type": "code",
   "execution_count": 37,
   "id": "43052c05",
   "metadata": {},
   "outputs": [
    {
     "name": "stdout",
     "output_type": "stream",
     "text": [
      "Erreur d'implémentation :  8.598307679924493e-16\n"
     ]
    }
   ],
   "source": [
    "U = simulate_circuit_unitary(qc2)\n",
    "print(\"Erreur d'implémentation : \", np.linalg.norm(U.data-np.eye(8)))"
   ]
  },
  {
   "cell_type": "markdown",
   "id": "ef71fa64",
   "metadata": {},
   "source": [
    "---\n",
    "###  Exercice 4 : un peu d'arithmétique logique </center>"
   ]
  },
  {
   "cell_type": "markdown",
   "id": "cf14583e",
   "metadata": {},
   "source": [
    "####  **Question 4.1**\n",
    "\n",
    "\n",
    "<pre>Simuler le circuit suivant : \n",
    "\n",
    "<center> <img src=\"arithmetic.png\" width=700> </center>\n",
    "\n",
    "\n",
    "Que fait-il ?\n",
    "Indice : écrivez une fonction qui affiche explicitement l'état de sortie pour chaque \n",
    "         bitstring possible en entrée. </pre>"
   ]
  },
  {
   "cell_type": "markdown",
   "id": "d0b787b1",
   "metadata": {},
   "source": [
    "##### Solution"
   ]
  },
  {
   "cell_type": "code",
   "execution_count": 38,
   "id": "31bdf263",
   "metadata": {},
   "outputs": [
    {
     "data": {
      "text/html": [
       "<pre style=\"word-wrap: normal;white-space: pre;background: #fff0;line-height: 1.1;font-family: &quot;Courier New&quot;,Courier,monospace\">                                        ┌───┐┌─────┐          ┌───┐┌───┐     »\n",
       "q_0: ──■────────────────────────■───────┤ X ├┤ Tdg ├──■───────┤ X ├┤ X ├─────»\n",
       "     ┌─┴─┐          ┌───┐       │       └─┬─┘└─────┘┌─┴─┐     └─┬─┘└─┬─┘     »\n",
       "q_1: ┤ X ├──■───────┤ X ├───────┼────■────┼─────────┤ X ├──■────■────┼────■──»\n",
       "     └───┘┌─┴─┐┌───┐└─┬─┘     ┌─┴─┐  │    │         └───┘┌─┴─┐       │    │  »\n",
       "q_2: ─────┤ X ├┤ T ├──■────■──┤ X ├──┼────■──────────────┤ X ├───────■────┼──»\n",
       "          └───┘└───┘     ┌─┴─┐└───┘┌─┴─┐┌───┐            └───┘          ┌─┴─┐»\n",
       "q_3: ────────────────────┤ X ├─────┤ X ├┤ X ├───────────────────────────┤ X ├»\n",
       "                         └───┘     └───┘└───┘                           └───┘»\n",
       "«               \n",
       "«q_0: ──■────■──\n",
       "«       │  ┌─┴─┐\n",
       "«q_1: ──┼──┤ X ├\n",
       "«     ┌─┴─┐└───┘\n",
       "«q_2: ┤ X ├─────\n",
       "«     └───┘     \n",
       "«q_3: ──────────\n",
       "«               </pre>"
      ],
      "text/plain": [
       "                                        ┌───┐┌─────┐          ┌───┐┌───┐     »\n",
       "q_0: ──■────────────────────────■───────┤ X ├┤ Tdg ├──■───────┤ X ├┤ X ├─────»\n",
       "     ┌─┴─┐          ┌───┐       │       └─┬─┘└─────┘┌─┴─┐     └─┬─┘└─┬─┘     »\n",
       "q_1: ┤ X ├──■───────┤ X ├───────┼────■────┼─────────┤ X ├──■────■────┼────■──»\n",
       "     └───┘┌─┴─┐┌───┐└─┬─┘     ┌─┴─┐  │    │         └───┘┌─┴─┐       │    │  »\n",
       "q_2: ─────┤ X ├┤ T ├──■────■──┤ X ├──┼────■──────────────┤ X ├───────■────┼──»\n",
       "          └───┘└───┘     ┌─┴─┐└───┘┌─┴─┐┌───┐            └───┘          ┌─┴─┐»\n",
       "q_3: ────────────────────┤ X ├─────┤ X ├┤ X ├───────────────────────────┤ X ├»\n",
       "                         └───┘     └───┘└───┘                           └───┘»\n",
       "«               \n",
       "«q_0: ──■────■──\n",
       "«       │  ┌─┴─┐\n",
       "«q_1: ──┼──┤ X ├\n",
       "«     ┌─┴─┐└───┘\n",
       "«q_2: ┤ X ├─────\n",
       "«     └───┘     \n",
       "«q_3: ──────────\n",
       "«               "
      ]
     },
     "execution_count": 38,
     "metadata": {},
     "output_type": "execute_result"
    }
   ],
   "source": [
    "circuit = QuantumCircuit(4)\n",
    "circuit.cx(0,1)\n",
    "circuit.cx(1,2)\n",
    "circuit.t(2)\n",
    "circuit.cx(2,1)\n",
    "circuit.cx(2,3)\n",
    "circuit.cx(0,2)\n",
    "circuit.cx(2,0)\n",
    "circuit.tdg(0)\n",
    "circuit.cx(1,3)\n",
    "circuit.cx(0,1)\n",
    "circuit.cx(1,2)\n",
    "circuit.x(3)\n",
    "circuit.cx(1,0)\n",
    "circuit.cx(2,0)\n",
    "circuit.cx(1,3)\n",
    "circuit.cx(0,2)\n",
    "circuit.cx(0,1)\n",
    "\n",
    "circuit.draw()"
   ]
  },
  {
   "cell_type": "code",
   "execution_count": 39,
   "id": "7ed98703",
   "metadata": {},
   "outputs": [
    {
     "name": "stdout",
     "output_type": "stream",
     "text": [
      " Input | Output\n",
      "       |       \n",
      " 0000  | 0001  \n",
      " 0001  | 0000  \n",
      " 0010  | 0011  \n",
      " 0011  | 0010  \n",
      " 0100  | 0101  \n",
      " 0101  | 0100  \n",
      " 0110  | 0111  \n",
      " 0111  | 0110  \n",
      " 1000  | 1001  \n",
      " 1001  | 1000  \n",
      " 1010  | 1011  \n",
      " 1011  | 1010  \n",
      " 1100  | 1101  \n",
      " 1101  | 1100  \n",
      " 1110  | 1111  \n",
      " 1111  | 1110  \n"
     ]
    }
   ],
   "source": [
    "n = circuit.num_qubits\n",
    "\n",
    "# Pour avoir un bel affichage\n",
    "a =\"{:^\"+str(n+3)+\"s}|{:^\"+str(n+3)+\"s}\"\n",
    "print(a.format(\"Input\", \" Output\"))\n",
    "print(a.format(\"\", \"\"))\n",
    "    \n",
    "# L'itération sur les bitstrings\n",
    "for i in range(2**n):\n",
    "    circ = QuantumCircuit(n, n)\n",
    "    \n",
    "    # On récupère la décomposition binaire...\n",
    "    bin_i = (\"{0:0\"+str(n)+\"b}\").format(i)\n",
    "    \n",
    "    # ... qui nous donne les X à appliquer\n",
    "    for j in range(n):\n",
    "        if bin_i[j] == '1':\n",
    "            circ.x(j)\n",
    "        \n",
    "    # La méthode compose permet de concaténer deux circuits\n",
    "    circ = circ.compose(circuit, [i for i in range(n)])\n",
    "    \n",
    "    # On effectue la mesure\n",
    "    output = simulate_circuit_measurements(circ, [i for i in range(n)])[0][::-1]\n",
    "\n",
    "    # On affiche le résultat\n",
    "    print(a.format(bin_i, output))"
   ]
  },
  {
   "cell_type": "markdown",
   "id": "30dfcd75",
   "metadata": {},
   "source": [
    "---\n",
    "###  Exercice 5 (bonus pour les plus courageux et rapides !) : synthèse (H,T) (cas particulier du théorème de Solovay-Kitaev) </center>\n",
    "\n",
    "\n",
    "<u>Rappel du théorème</u> \n",
    "\n",
    "<center><i> n'importe quel unitaire sur 1 qubit peut être approximé à une précision arbitraire\n",
    "    par un circuit de portes H et T. </i></center>\n",
    "    \n",
    "<br>    \n",
    "On introduit l'anneau \n",
    "    $$ \\mathbb{Z}[\\frac{1}{\\sqrt{2}},i] = \\left\\{ \\frac{1}{2^n} \\left( a + b\\sqrt{2} + ci + d\\sqrt{2}i \\right) \\; | \\; n \\in \\mathbb{N}, \\; a,b,c,d \\in \\mathbb{Z} \\right\\} $$ \n",
    "\n",
    "et on définit $ \\omega = e^{i\\pi/4} = \\frac{1}{\\sqrt{2}}(1+i)$. On peut réécrire \n",
    "    $$ \\mathbb{Z}[\\frac{1}{\\sqrt{2}},i] = \\left\\{ \\frac{1}{2^n} \\left( a + b\\omega + c\\omega^2 + d\\omega^3\\right) \\; | \\; n \\in \\mathbb{N}, \\; a,b,c,d \\in \\mathbb{Z} \\right\\}. $$ \n",
    "    \n",
    "<u>Version simplifiée du théorème</u> \n",
    "\n",
    "<center><i> N'importe quelle unitaire sur 1 qubit dont les entrées sont dans $\\mathbb{Z}[\\frac{1}{\\sqrt{2}},i]$ peut être implémenté exactement avec un circuit de portes H et T. </i></center>    \n",
    "\n",
    "<u>Esquisse de preuve</u>\n",
    "\n",
    "1. N'importe quelle unitaire $U$ sur 1 qubit peut s'écrire \n",
    "$ U = \\begin{bmatrix} z & -y^* e^{i\\phi} \\\\ y & z^* e^{i\\phi} \\end{bmatrix}$ <br>\n",
    "    \n",
    "où $z, y$ sont des complexes quelconques de sorte que $|z|^2 + |y|^2 = 1$, $\\phi$ est un réel quelconque. \n",
    "    \n",
    "En supposant maintenant que les entrées de $U$ sont dans $\\mathbb{Z}[\\frac{1}{\\sqrt{2}},i]$, on peut montrer que les seuls éléments de $\\mathbb{Z}[\\frac{1}{\\sqrt{2}},i]$ dont le module vaut 1 sont les $\\omega^k$ pour $k$ entier. Autrement dit, si $U$ a ses entrées dans $\\mathbb{Z}[\\frac{1}{\\sqrt{2}},i]$, nécessairement il existe un entier $k$ tel que \n",
    "$ U = \\begin{bmatrix} z & -y^* \\omega^k \\\\ y & z^* \\omega^k \\end{bmatrix}$ <br>\n",
    "    où $z, y \\in \\mathbb{Z}[\\frac{1}{\\sqrt{2}},i]$.\n",
    "\n",
    "<br>\n",
    "<br>\n",
    "    \n",
    "Pour générer $U$, on montre qu'une préparation d'état est essentiellement suffisante. Si l'on a un circuit qui synthétise l'état $\\begin{bmatrix} z \\\\ y \\end{bmatrix}$, alors on aura généré un unitaire $V$ de la forme     \n",
    "    $$ V = \\begin{bmatrix} z & -y^* \\omega^{k'} \\\\ y & z^* \\omega^{k'} \\end{bmatrix}$$\n",
    "où $k'$ est un entier, possiblement différent de $k$.    \n",
    "\n",
    "Il suffit alors de remarquer que \n",
    "    $$ VT^{k-k'} = \\begin{bmatrix} z & -y^* \\omega^{k'} \\\\ y & z^* \\omega^{k'} \\end{bmatrix} \\begin{bmatrix} 1 & 0 \\\\ 0 & \\omega^{k-k'} \\end{bmatrix} = \\begin{bmatrix} z & -y^* \\omega^k \\\\ y & z^* \\omega^k \\end{bmatrix} = U. $$"
   ]
  },
  {
   "cell_type": "markdown",
   "id": "7a366a2e",
   "metadata": {},
   "source": [
    "**Question 5.1** \n",
    "\n",
    "<pre> Écrire des fonctions qui calculent : \n",
    "  - le produit de deux éléments de Z[1/sqrt(2),i],\n",
    "  - la somme de deux éléments de Z[1/sqrt(2),i],  \n",
    "  - la norme au carré d'un élément de Z[1/sqrt(2),i],\n",
    "  - une fonction qui normalise un élément de Z[1/sqrt(2),i] pour avoir le n le plus petit possible.\n",
    " \n",
    " Pour cela on supposera que de tels éléments sont décrits par 5 entiers n, a, b, c, d selon la deuxième \n",
    " définition de Z[1/sqrt(2),i]. Notamment on remarquera que la norme d'un élément s'écrira toujours \n",
    " 1/(2^n)*(a + b\\sqrt(2)) et qu'il n'y a besoin que de retourner 3 entiers. </pre>\n",
    " \n",
    " <br>\n",
    "Vous pouvez tester vos fonctions sur la cellule de test ci-dessous."
   ]
  },
  {
   "cell_type": "markdown",
   "id": "e77fe48a",
   "metadata": {},
   "source": [
    "..."
   ]
  },
  {
   "cell_type": "code",
   "execution_count": 40,
   "id": "b50fca4c",
   "metadata": {},
   "outputs": [],
   "source": [
    "def somme(u, v):\n",
    "    #TODO\n",
    "    return [0, 0, 0, 0, 0]"
   ]
  },
  {
   "cell_type": "markdown",
   "id": "b6abb3dc",
   "metadata": {},
   "source": [
    "..."
   ]
  },
  {
   "cell_type": "code",
   "execution_count": 41,
   "id": "93e0f1d9",
   "metadata": {},
   "outputs": [],
   "source": [
    "def product(u, v):\n",
    "    #TODO\n",
    "    return [0, 0, 0, 0, 0]"
   ]
  },
  {
   "cell_type": "markdown",
   "id": "b0cfa972",
   "metadata": {},
   "source": [
    "..."
   ]
  },
  {
   "cell_type": "code",
   "execution_count": 42,
   "id": "e58bea46",
   "metadata": {},
   "outputs": [],
   "source": [
    "def norme(u):\n",
    "    #TODO\n",
    "    return [0, 0, 0, 0, 0]"
   ]
  },
  {
   "cell_type": "markdown",
   "id": "353afe0a",
   "metadata": {},
   "source": [
    "..."
   ]
  },
  {
   "cell_type": "code",
   "execution_count": 43,
   "id": "ad1d62a1",
   "metadata": {},
   "outputs": [],
   "source": [
    "def normalize(u):\n",
    "    #TODO\n",
    "    return [0, 0, 0, 0, 0]"
   ]
  },
  {
   "cell_type": "code",
   "execution_count": 44,
   "id": "16e847d1",
   "metadata": {},
   "outputs": [
    {
     "name": "stdout",
     "output_type": "stream",
     "text": [
      "w2-(u2+v2) =  (-8.639087296526013-11.613961030678928j)\n",
      "w2-(u2*v2) =  (14.735281374238571-47.18807716974935j)\n",
      "w2 - |u2| =  -30.422465709620866\n",
      "w2 - u2 =  (-3.1642135623730954-4.517766952966369j)\n"
     ]
    }
   ],
   "source": [
    "# Quelques tests\n",
    "\n",
    "def convert(u):\n",
    "    omega = np.exp(1j*np.pi/4)\n",
    "    return 1/2**u[0]*(u[1] + u[2]*omega + u[3]*omega**2 + u[4]*omega**3)\n",
    "\n",
    "def convert_norme(u):\n",
    "    return 1/(2**u[0])*(u[1] + np.sqrt(2)*u[2])\n",
    "\n",
    "u = [np.random.randint(5), np.random.randint(20), np.random.randint(20), np.random.randint(20), np.random.randint(20)]\n",
    "v = [np.random.randint(5), np.random.randint(20), np.random.randint(20), np.random.randint(20), np.random.randint(20)]\n",
    "\n",
    "u2 = convert(u)\n",
    "v2 = convert(v)\n",
    "\n",
    "w = somme(u,v)\n",
    "w2 = convert(w)\n",
    "print(\"w2-(u2+v2) = \", w2-u2-v2)\n",
    "\n",
    "w = product(u,v)\n",
    "w2 = convert(w)\n",
    "print(\"w2-(u2*v2) = \", w2-u2*v2)\n",
    "\n",
    "w = norme(u)\n",
    "w2 = convert_norme(w)\n",
    "print(\"w2 - |u2| = \", w2 - np.abs(u2)**2)\n",
    "\n",
    "w = normalize(u)\n",
    "w2 = convert(w)\n",
    "print(\"w2 - u2 = \", w2 - u2)"
   ]
  },
  {
   "cell_type": "markdown",
   "id": "a9177452",
   "metadata": {},
   "source": [
    "2. On montre maintenant comment faire la préparation d'état. On définit \n",
    "$$ \\mathbb{Z}\\left[\\sqrt{2}\\right] = \\left\\{ a + b\\sqrt{2} \\; | \\; a,b \\in \\mathbb{Z} \\right\\}. $$ \n",
    "<br>\n",
    "$$ \\mathbb{Z}[1/\\sqrt{2}] = \\left\\{ \\frac{1}{2^n}(a + b\\sqrt{2}) \\; | \\; n \\in \\mathbb{N}, a,b \\in \\mathbb{Z} \\right\\}. $$ \n",
    "\n",
    "On définit le sde d'un élément $z$ dans $\\mathbb{Z}[1/\\sqrt{2}]$ par le plus petit entier $k$ tel que $(\\sqrt{2})^kz \\in \\mathbb{Z}[\\sqrt{2}]$. "
   ]
  },
  {
   "cell_type": "markdown",
   "id": "80e9f2f6",
   "metadata": {},
   "source": [
    "#### **Question 5.2**\n",
    "\n",
    "<pre> Écrire une fonction qui calcule le sde d'un élément de Z[1/sqrt(2)]. On rappelle qu'on définit de tels \n",
    " éléments par trois entiers n, a et b. </pre>"
   ]
  },
  {
   "cell_type": "markdown",
   "id": "f2086a3c",
   "metadata": {},
   "source": [
    "##### Solution"
   ]
  },
  {
   "cell_type": "markdown",
   "id": "cc1ba880",
   "metadata": {},
   "source": [
    "..."
   ]
  },
  {
   "cell_type": "code",
   "execution_count": 45,
   "id": "8e5866ea",
   "metadata": {},
   "outputs": [],
   "source": [
    "def sde(u):\n",
    "    ..."
   ]
  },
  {
   "cell_type": "code",
   "execution_count": 46,
   "id": "947770ed",
   "metadata": {},
   "outputs": [
    {
     "ename": "TypeError",
     "evalue": "unsupported operand type(s) for ** or pow(): 'float' and 'NoneType'",
     "output_type": "error",
     "traceback": [
      "\u001b[1;31m---------------------------------------------------------------------------\u001b[0m",
      "\u001b[1;31mTypeError\u001b[0m                                 Traceback (most recent call last)",
      "Cell \u001b[1;32mIn[46], line 7\u001b[0m\n\u001b[0;32m      4\u001b[0m s \u001b[38;5;241m=\u001b[39m sde(u)\n\u001b[0;32m      5\u001b[0m u2 \u001b[38;5;241m=\u001b[39m convert_norme(u)\n\u001b[1;32m----> 7\u001b[0m w1 \u001b[38;5;241m=\u001b[39m u2 \u001b[38;5;241m*\u001b[39m \u001b[43mnp\u001b[49m\u001b[38;5;241;43m.\u001b[39;49m\u001b[43msqrt\u001b[49m\u001b[43m(\u001b[49m\u001b[38;5;241;43m2\u001b[39;49m\u001b[43m)\u001b[49m\u001b[38;5;241;43m*\u001b[39;49m\u001b[38;5;241;43m*\u001b[39;49m\u001b[43ms\u001b[49m\n\u001b[0;32m      8\u001b[0m \u001b[38;5;28;01mfor\u001b[39;00m i \u001b[38;5;129;01min\u001b[39;00m \u001b[38;5;28mrange\u001b[39m(\u001b[38;5;28mint\u001b[39m(w1)):\n\u001b[0;32m      9\u001b[0m     \u001b[38;5;28;01mif\u001b[39;00m np\u001b[38;5;241m.\u001b[39misclose((w1\u001b[38;5;241m-\u001b[39mi)\u001b[38;5;241m/\u001b[39mnp\u001b[38;5;241m.\u001b[39msqrt(\u001b[38;5;241m2\u001b[39m) \u001b[38;5;241m-\u001b[39m \u001b[38;5;28mint\u001b[39m((w1\u001b[38;5;241m-\u001b[39mi)\u001b[38;5;241m/\u001b[39mnp\u001b[38;5;241m.\u001b[39msqrt(\u001b[38;5;241m2\u001b[39m)), \u001b[38;5;241m0\u001b[39m):\n",
      "\u001b[1;31mTypeError\u001b[0m: unsupported operand type(s) for ** or pow(): 'float' and 'NoneType'"
     ]
    }
   ],
   "source": [
    "# À nouveau un test pour sde\n",
    "\n",
    "u = [np.random.randint(10), np.random.randint(200), np.random.randint(200)]\n",
    "s = sde(u)\n",
    "u2 = convert_norme(u)\n",
    "\n",
    "w1 = u2 * np.sqrt(2)**s\n",
    "for i in range(int(w1)):\n",
    "    if np.isclose((w1-i)/np.sqrt(2) - int((w1-i)/np.sqrt(2)), 0):\n",
    "        print(\"w1 = \", w1, \" = u2 * sqrt(2)^s = \", i, \" + \", int((w1-i)/np.sqrt(2)), \"sqrt(2) = \", i + np.round((w1-i)/np.sqrt(2))*np.sqrt(2))\n",
    "        print(\"Erreur = \", (w1-i)/np.sqrt(2) - int((w1-i)/np.sqrt(2)))\n",
    "\n",
    "w1 = u2 * np.sqrt(2)**(s-1)       \n",
    "for i in range(int(w1)):\n",
    "    if np.isclose((w1-i)/np.sqrt(2) - int((w1-i)/np.sqrt(2)), 0):\n",
    "        print(\"u2 * sqrt(2)^s = \", i, \" + \", int((w1-i)/np.sqrt(2)), \"sqrt(2), Erreur = \", (w1-i)/np.sqrt(2) - int((w1-i)/np.sqrt(2)))"
   ]
  },
  {
   "cell_type": "markdown",
   "id": "6dd5cad6",
   "metadata": {},
   "source": [
    "Le point essentiel de l'algorithme est de montrer qu'il existe un entier $k \\in \\{0,1,2,3\\}$ de sorte que \n",
    "$$ HT^k \\begin{bmatrix} z \\\\ y \\end{bmatrix} = \\begin{bmatrix} z' \\\\ y' \\end{bmatrix}$$ \n",
    "tel que $sde(|z'|^2) = sde(|z|^2) - 1$  si $sde(|z|^2) \\geq 4$. On peut ainsi réduire notre état à préparer à un état $\\begin{bmatrix} z \\\\ y \\end{bmatrix}$ avec $sde(|z|^2) \\leq 3$. La condition de normalisation entre z et y permet de montrer que $sde(|y|^2) = sde(|z|^2) \\leq 3$ également. \n",
    "\n",
    "On peut ensuite bruteforcer la recherche d'un circuit qui prépare cet état et cela termine l'algorithme. Ci-dessous est fournie une fonction qui fait une telle recherche brute."
   ]
  },
  {
   "cell_type": "code",
   "execution_count": null,
   "id": "2f8f97fa",
   "metadata": {},
   "outputs": [],
   "source": [
    "from numpy.linalg import matrix_power\n",
    "\n",
    "def brute_force_synthesis(U):\n",
    "    H = 1/np.sqrt(2)*np.array([ [1,1], [1,-1]])\n",
    "    T = np.diag([1, np.exp(1j*np.pi/4)])\n",
    "    X = np.array([[0,1], [1,0]])\n",
    "    I = np.eye(2, dtype=complex)\n",
    "    \n",
    "    for i in range(7):\n",
    "        for j in range(7):\n",
    "            for k in range(7):\n",
    "                for l in range(7):\n",
    "                    for m in range(2):\n",
    "                        for n in range(2):\n",
    "                            for o in range(2):\n",
    "                                for r in range(2):\n",
    "                                    for s in range(2):\n",
    "                                        A = matrix_power(X,r)@matrix_power(T,i)@matrix_power(H,m)@matrix_power(T,j)@matrix_power(H,n)@matrix_power(T,k)@matrix_power(H,o)@matrix_power(T,l)@matrix_power(X,s)\n",
    "                                        if np.isclose(np.linalg.norm(A-U),0):\n",
    "                                            circ = QuantumCircuit(1)\n",
    "                                            for p in range(s):\n",
    "                                                circ.x(0)\n",
    "                                            for p in range(l):\n",
    "                                                circ.t(0)\n",
    "                                            for p in range(o):\n",
    "                                                circ.h(0)\n",
    "                                            for p in range(k):\n",
    "                                                circ.t(0)\n",
    "                                            for p in range(n):\n",
    "                                                circ.h(0)\n",
    "                                            for p in range(j):\n",
    "                                                circ.t(0)\n",
    "                                            for p in range(m):\n",
    "                                                circ.h(0)\n",
    "                                            for p in range(i):\n",
    "                                                circ.t(0)\n",
    "                                            for p in range(r):\n",
    "                                                circ.x(0)\n",
    "\n",
    "                                            return circ                                    "
   ]
  },
  {
   "cell_type": "markdown",
   "id": "05136083",
   "metadata": {},
   "source": [
    "Ci-dessous deux fonctions qui génèrent un unitaire aléatoire à entrée dans $\\mathbb{Z}[1/\\sqrt{2},i]$ en fonction du nombre de H que l'on veut dans le circuit. Si number_of_h <= 3, notre algorithme de recherche doit retrouver un circuit implémentant l'unitaire. "
   ]
  },
  {
   "cell_type": "code",
   "execution_count": null,
   "id": "f3d8a8cb",
   "metadata": {},
   "outputs": [],
   "source": [
    "def random_unitary(number_of_h):\n",
    "    H = 1/np.sqrt(2)*np.array([ [1,1], [1,-1]])\n",
    "    T = np.diag([1, np.exp(1j*np.pi/4)])\n",
    "    U = np.eye(2, dtype=complex)\n",
    "    \n",
    "    for i in range(number_of_h):\n",
    "        k = np.random.randint(4)\n",
    "        print(k)\n",
    "        U = H@matrix_power(T,k)@U\n",
    "    \n",
    "    k = np.random.randint(4)\n",
    "    print(k)\n",
    "    return matrix_power(T,k)@U\n",
    "\n",
    "def update(u00, u01, u10, u11, k, with_h):\n",
    "    h00 = [1, 0, 1, 0, -1]\n",
    "    h01 = [1, 0, 1, 0, -1]\n",
    "    h10 = [1, 0, 1, 0, -1]    \n",
    "    h11 = [1, 0, -1,0, 1]    \n",
    "    t00 = [0, 1, 0, 0, 0]\n",
    "    t11 = [0, 0, 1, 0, 0]  \n",
    "    \n",
    "    for i in range(k):\n",
    "        u10 = product(t11, u10)\n",
    "        u11 = product(t11, u11)\n",
    "        \n",
    "    if with_h:\n",
    "        v00 = somme(product(h00, u00), product(h01, u10))\n",
    "        v01 = somme(product(h00, u01), product(h01, u11))\n",
    "        v10 = somme(product(h10, u00), product(h11, u10))\n",
    "        v11 = somme(product(h10, u01), product(h11, u11))\n",
    "            \n",
    "        u00 = normalize(v00)\n",
    "        u01 = normalize(v01)\n",
    "        u10 = normalize(v10)\n",
    "        u11 = normalize(v11)\n",
    "            \n",
    "    return u00, u01, u10, u11\n",
    "    \n",
    "def check_update(u00, u01, u10, u11, k, with_h):\n",
    "    v00, v01, v10, v11 = update(u00, u01, u10, u11, k, with_h)\n",
    "    \n",
    "    V = np.array([ [convert(v00), convert(v01)], [convert(v10), convert(v11)]])\n",
    "    U = np.array([ [convert(u00), convert(u01)], [convert(u10), convert(u11)]])\n",
    "    \n",
    "    H = 1/np.sqrt(2)*np.array([ [1,1], [1,-1]])\n",
    "    T = np.diag([1, np.exp(1j*np.pi/4)])\n",
    "    assert np.isclose(np.linalg.norm(V - matrix_power(H, with_h)@matrix_power(T,k)@U), 0)\n",
    "\n",
    "def random_unitary_integers(number_of_h):\n",
    "    u00 = [0,1,0,0,0]\n",
    "    u01 = [0,0,0,0,0]\n",
    "    u10 = [0,0,0,0,0]\n",
    "    u11 = [0,1,0,0,0]\n",
    "    \n",
    "    for i in range(number_of_h):\n",
    "        k = np.random.randint(4)\n",
    "        u00, u01, u10, u11 = update(u00, u01, u10, u11, k, True)        \n",
    "    \n",
    "    k = np.random.randint(4)\n",
    "    return update(u00, u01, u10, u11, k, False)"
   ]
  },
  {
   "cell_type": "code",
   "execution_count": null,
   "id": "4dad1f52",
   "metadata": {},
   "outputs": [],
   "source": [
    "U = random_unitary(3)\n",
    "matprint(U)\n",
    "\n",
    "V = random_unitary_integers(5)\n",
    "print(V)\n",
    "\n",
    "circ = brute_force_synthesis(U)\n",
    "U_circ = simulate_circuit_unitary(circ)\n",
    "matprint(U_circ)\n",
    "print(\"Erreur d'implémentation : \", np.linalg.norm(U_circ-U))"
   ]
  },
  {
   "cell_type": "markdown",
   "id": "d9cbd307",
   "metadata": {},
   "source": [
    "Voilà le pseudocode général pour la synthèse (extrait de <i> Fast and efficient exact synthesis of single qubit unitaries generated by Clifford and T gates </i> par Kliuchnikov et al.) : \n",
    "<img src=\"pseudocode_solovay.png\" width=500>"
   ]
  },
  {
   "cell_type": "markdown",
   "id": "43d24501",
   "metadata": {},
   "source": [
    "#### **Question 5.3** \n",
    "\n",
    "<pre> Coder l'algorithme de Kliuchnikov et al. pour la synthèse (H,T) d'unitaires sur 1 qubit. </pre>"
   ]
  },
  {
   "cell_type": "markdown",
   "id": "e0874ae6",
   "metadata": {},
   "source": [
    "#####  Solution"
   ]
  },
  {
   "cell_type": "markdown",
   "id": "7dbaba60",
   "metadata": {},
   "source": [
    "..."
   ]
  },
  {
   "cell_type": "code",
   "execution_count": null,
   "id": "828e0b4f",
   "metadata": {},
   "outputs": [],
   "source": [
    "def synthesis_H_T(u00, u01, u10, u11):\n",
    "   ..."
   ]
  },
  {
   "cell_type": "code",
   "execution_count": null,
   "id": "07a51722",
   "metadata": {},
   "outputs": [],
   "source": [
    "# On teste que notre fonction se comporte correctement \n",
    "u00, u01, u10, u11 = random_unitary_integers(50)\n",
    "circ = synthesis_H_T(u00, u01, u10, u11)\n",
    "\n",
    "# On regarde la tête du circuit...\n",
    "circ.draw()"
   ]
  },
  {
   "cell_type": "code",
   "execution_count": null,
   "id": "1ecd3ca8",
   "metadata": {},
   "outputs": [],
   "source": [
    "# ... et on vérifie que cela implémente bien l'opérateur voulu\n",
    "U = np.array([ [convert(u00), convert(u01)], [convert(u10), convert(u11)]])                    \n",
    "U_circ = simulate_circuit_unitary(circ)\n",
    "print(\"|U_circ - U| = \", np.linalg.norm(U-U_circ))"
   ]
  },
  {
   "cell_type": "markdown",
   "id": "ef237754",
   "metadata": {},
   "source": [
    "#### **Question 5.4 (bonus)** \n",
    "\n",
    "<pre> Comparer avec l'implémentation de Qiskit. </pre> "
   ]
  },
  {
   "cell_type": "markdown",
   "id": "89a93d64",
   "metadata": {},
   "source": [
    "---\n",
    "## 3. Implémentation d'algorithmes quantiques </center> "
   ]
  },
  {
   "cell_type": "markdown",
   "id": "fa699c07",
   "metadata": {},
   "source": [
    "### Algorithme 1 : Deutsch-Jozsa "
   ]
  },
  {
   "cell_type": "markdown",
   "id": "140b6466",
   "metadata": {},
   "source": [
    "L'algorithme de Deutsch-Jozsa est l'un des premiers algorithmes quantiques inventés. <br>\n",
    "On a un oracle sous forme de boîte noire, implémentant une fonction booléenne $f : \\{0,1\\}^n \\to \\{0,1\\}$ et on sait que $f$ est soit constante (i.e, elle retourne $0$ ou $1$ quelle que soit l'entrée) ou équilibrée (pour la moitié des entrées $f$ retourne $0$ et pour l'autre moitié elle retourne $1$). Le problème que l'on veut résoudre est de discriminer si $f$ est constante ou équilibrée et ce avec un nombre minimum d'appels à $f$.\n",
    "\n",
    "L'algorithme de Deutsch-Jozsa est un algorithme quantique déterministe qui résout ce problème avec un seul appel à la fonction $f$. Pour résoudre ce problème avec un algorithme classique il nous faudrait dans le pire des cas $2^{n-1}+1$ appels à l'oracle pour connaître la valeur de $f$ sur strictement plus que la moitié des entrées. On peut alors savoir si $f$ est constante (si $f$ retourne la même valeur sur toutes les entrées) ou équilibrée (au moins une valeur retournée sera différente des autres). \n",
    "\n",
    "Ainsi, l'algorithme de Deutsch-Jozsa offre une amélioration exponentielle de la complexité, passant de $O(2^n)$ appels à la fonction à $1$.\n",
    "\n",
    "Le circuit quantique pour implémenter l'algorithme est le suivant : "
   ]
  },
  {
   "cell_type": "markdown",
   "id": "b289fb85",
   "metadata": {},
   "source": [
    "<img src=\"dj_algo.png\" width=500> \n",
    "\n",
    "(extrait de https://en.wikipedia.org/wiki/Deutsch–Jozsa_algorithm)"
   ]
  },
  {
   "cell_type": "markdown",
   "id": "2dda6ee6",
   "metadata": {},
   "source": [
    "$U_f$ est une boîte noire implémentant une version réversible de notre oracle $f$, plus précisément on a $U_f(x,y) = (x, y \\oplus f(x))$.\n",
    "\n",
    "Le résultat de la mesure nous donne la nature de $f$:\n",
    "* si $f$ est constante alors on ne peut que mesurer l'état $\\ket{0}^{\\otimes n}$,\n",
    "* si $f$ est équilibré alors on ne peut jamais mesurer l'état $\\ket{0}^{\\otimes n}$.\n",
    "\n",
    "Ainsi si on mesure $\\ket{0}^{\\otimes n}$ alors $f$ est constante, sinon tout autre résultat nous indiquera que $f$ est équilibrée."
   ]
  },
  {
   "cell_type": "markdown",
   "id": "1433cc53",
   "metadata": {},
   "source": [
    "On va considérer deux oracles pour cet algorithme."
   ]
  },
  {
   "cell_type": "markdown",
   "id": "729e2db8",
   "metadata": {},
   "source": [
    "**1. Hidden weighted bit function sur 4 bits**"
   ]
  },
  {
   "cell_type": "markdown",
   "id": "cdfca820",
   "metadata": {},
   "source": [
    "La fonction \"hidden weighted bit\" est une fonction réversible sur $n$ bits. Étant donné une bitstring $x$ en entrée, la fonction va décaler les entrées de $x$ vers la droite $wt(x)$ fois, avec $wt(x)$ retournant le poids de Hamming de $x$.\n",
    "\n",
    "Exemples : <br>\n",
    "<center> hwb(1000) = 0100 <center ><br>\n",
    "<center> hwb(001101) = 101001 <center> <br>"
   ]
  },
  {
   "cell_type": "markdown",
   "id": "2e095b3b",
   "metadata": {},
   "source": [
    "Pour notre première application de l'algorithme de Deutsch-Jozsa, on va utiliser un oracle **basé sur** la fonction hwb4 \"hidden weighted bit\" sur 4 bits. Voici une implémentation possible de hwb4 avec des CNOT et des Toffoli : \n",
    "\n",
    " <img src=\"hwb4-11-23.JPG\" width=500> \n",
    " \n",
    " (extrait de https://reversiblebenchmarks.github.io/hwb4.html, auteurs du circuit : D. Maslov, M. Miller, G. W. Dueck)"
   ]
  },
  {
   "cell_type": "markdown",
   "id": "8d340035",
   "metadata": {},
   "source": [
    "#### <b> Question 6.1 </b>\n",
    "<pre> Écrire un circuit Qiskit implémentant hwb4. </pre>"
   ]
  },
  {
   "cell_type": "markdown",
   "id": "14a72b86",
   "metadata": {},
   "source": [
    "##### Solution"
   ]
  },
  {
   "cell_type": "code",
   "execution_count": null,
   "id": "bfa040ab",
   "metadata": {},
   "outputs": [
    {
     "data": {
      "text/html": [
       "<pre style=\"word-wrap: normal;white-space: pre;background: #fff0;line-height: 1.1;font-family: &quot;Courier New&quot;,Courier,monospace\">               ┌───┐               ┌───┐               ┌───┐\n",
       "q_0: ──────────┤ X ├───────■────■──┤ X ├───────■───────┤ X ├\n",
       "     ┌───┐     └─┬─┘     ┌─┴─┐  │  └─┬─┘       │  ┌───┐└─┬─┘\n",
       "q_1: ┤ X ├──■────┼────■──┤ X ├──┼────■────■────┼──┤ X ├──┼──\n",
       "     └─┬─┘┌─┴─┐  │  ┌─┴─┐└───┘  │       ┌─┴─┐  │  └─┬─┘  │  \n",
       "q_2: ──┼──┤ X ├──■──┤ X ├───────■───────┤ X ├──┼────┼────■──\n",
       "       │  └───┘     └─┬─┘     ┌─┴─┐     └─┬─┘┌─┴─┐  │       \n",
       "q_3: ──■──────────────■───────┤ X ├───────■──┤ X ├──■───────\n",
       "                              └───┘          └───┘          </pre>"
      ],
      "text/plain": [
       "               ┌───┐               ┌───┐               ┌───┐\n",
       "q_0: ──────────┤ X ├───────■────■──┤ X ├───────■───────┤ X ├\n",
       "     ┌───┐     └─┬─┘     ┌─┴─┐  │  └─┬─┘       │  ┌───┐└─┬─┘\n",
       "q_1: ┤ X ├──■────┼────■──┤ X ├──┼────■────■────┼──┤ X ├──┼──\n",
       "     └─┬─┘┌─┴─┐  │  ┌─┴─┐└───┘  │       ┌─┴─┐  │  └─┬─┘  │  \n",
       "q_2: ──┼──┤ X ├──■──┤ X ├───────■───────┤ X ├──┼────┼────■──\n",
       "       │  └───┘     └─┬─┘     ┌─┴─┐     └─┬─┘┌─┴─┐  │       \n",
       "q_3: ──■──────────────■───────┤ X ├───────■──┤ X ├──■───────\n",
       "                              └───┘          └───┘          "
      ]
     },
     "execution_count": 47,
     "metadata": {},
     "output_type": "execute_result"
    }
   ],
   "source": [
    "hwb4 = QuantumCircuit(4)\n",
    "hwb4.cx(3,1)\n",
    "hwb4.cx(1,2)\n",
    "hwb4.cx(2,0)\n",
    "hwb4.ccx(1,3,2)\n",
    "hwb4.cx(0,1)\n",
    "hwb4.ccx(0,2,3)\n",
    "hwb4.cx(1,0)\n",
    "hwb4.ccx(1,3,2)\n",
    "hwb4.cx(0,3)\n",
    "hwb4.cx(3,1)\n",
    "hwb4.cx(2,0)\n",
    "\n",
    "hwb4.draw()"
   ]
  },
  {
   "cell_type": "markdown",
   "id": "6583633f",
   "metadata": {},
   "source": [
    "#### <b> Question 6.2 </b> \n",
    "<pre> Écrire une fonction python qui prend en entrée un circuit réversible et retourne sa table de vérité. \n",
    " Utilisez votre fonction pour vérifier le bon comportement de hwb4. </pre>"
   ]
  },
  {
   "cell_type": "markdown",
   "id": "ed99466d",
   "metadata": {},
   "source": [
    "##### Solution"
   ]
  },
  {
   "cell_type": "code",
   "execution_count": null,
   "id": "3e523d2f",
   "metadata": {},
   "outputs": [
    {
     "name": "stdout",
     "output_type": "stream",
     "text": [
      " Input | Output\n",
      "       |       \n",
      " 0000  | 0000  \n",
      " 0001  | 1000  \n",
      " 0010  | 0001  \n",
      " 0011  | 1100  \n",
      " 0100  | 0010  \n",
      " 0101  | 0101  \n",
      " 0110  | 1001  \n",
      " 0111  | 1110  \n",
      " 1000  | 0100  \n",
      " 1001  | 0110  \n",
      " 1010  | 1010  \n",
      " 1011  | 0111  \n",
      " 1100  | 0011  \n",
      " 1101  | 1011  \n",
      " 1110  | 1101  \n",
      " 1111  | 1111  \n"
     ]
    }
   ],
   "source": [
    "n = hwb4.num_qubits\n",
    "\n",
    "# Pour avoir un bel affichage\n",
    "a =\"{:^\"+str(n+3)+\"s}|{:^\"+str(n+3)+\"s}\"\n",
    "print(a.format(\"Input\", \" Output\"))\n",
    "print(a.format(\"\", \"\"))\n",
    "    \n",
    "# L'itération sur les bitstrings\n",
    "for i in range(2**n):\n",
    "    circ = QuantumCircuit(n, n)\n",
    "    \n",
    "    # On récupère la décomposition binaire...\n",
    "    bin_i = (\"{0:0\"+str(n)+\"b}\").format(i)\n",
    "    \n",
    "    # ... qui nous donne les X à appliquer\n",
    "    for j in range(n):\n",
    "        if bin_i[j] == '1':\n",
    "            circ.x(j)\n",
    "        \n",
    "    # La méthode compose permet de concaténer deux circuits\n",
    "    circ = circ.compose(hwb4, [i for i in range(n)])\n",
    "    \n",
    "    # On effectue la mesure\n",
    "    output = simulate_circuit_measurements(circ, [i for i in range(n)])[0][::-1]\n",
    "\n",
    "    # On affiche le résultat\n",
    "    print(a.format(bin_i, output))"
   ]
  },
  {
   "cell_type": "markdown",
   "id": "d2d631f1",
   "metadata": {},
   "source": [
    "hwb4 ne peut pas être directement utilisée dans l'algorithme de Deutsch-Jozsa.\n",
    "\n",
    "On va donc plutôt considérer un oracle qui va retourner la valeur du dernier bit de hwb4(x). On s'attend à ce que l'oracle soit équilibré. \n",
    "\n",
    "Autrement dit, avec $z = hwb4(x)$, on veut implémenter l'oracle $f(x) = z[3]$. \n",
    "\n",
    "L'opération entière que l'on veut réaliser pour avoir un oracle est \n",
    "$$ (x,y) \\to (hwb4(x), y) \\to (hwb4(x), y \\oplus hwb4(x)[3]), \\to (x, y \\oplus hwb4(x)[3])$$\n",
    "\n",
    "#### <b> Question 6.3 </b>\n",
    "<pre> Implémenter l'oracle complet avec un circuit Qiskit. </pre>"
   ]
  },
  {
   "cell_type": "markdown",
   "id": "7b7a7eb5",
   "metadata": {},
   "source": [
    "##### Solution"
   ]
  },
  {
   "cell_type": "code",
   "execution_count": null,
   "id": "7a04a98b",
   "metadata": {},
   "outputs": [
    {
     "data": {
      "text/html": [
       "<pre style=\"word-wrap: normal;white-space: pre;background: #fff0;line-height: 1.1;font-family: &quot;Courier New&quot;,Courier,monospace\">               ┌───┐               ┌───┐               ┌───┐┌───┐          »\n",
       "q_0: ──────────┤ X ├───────■────■──┤ X ├───────■───────┤ X ├┤ X ├───────■──»\n",
       "     ┌───┐     └─┬─┘     ┌─┴─┐  │  └─┬─┘       │  ┌───┐└─┬─┘└─┬─┘┌───┐  │  »\n",
       "q_1: ┤ X ├──■────┼────■──┤ X ├──┼────■────■────┼──┤ X ├──┼────┼──┤ X ├──┼──»\n",
       "     └─┬─┘┌─┴─┐  │  ┌─┴─┐└───┘  │       ┌─┴─┐  │  └─┬─┘  │    │  └─┬─┘  │  »\n",
       "q_2: ──┼──┤ X ├──■──┤ X ├───────■───────┤ X ├──┼────┼────■────■────┼────┼──»\n",
       "       │  └───┘     └─┬─┘     ┌─┴─┐     └─┬─┘┌─┴─┐  │              │  ┌─┴─┐»\n",
       "q_3: ──■──────────────■───────┤ X ├───────■──┤ X ├──■────■─────────■──┤ X ├»\n",
       "                              └───┘          └───┘     ┌─┴─┐          └───┘»\n",
       "q_4: ──────────────────────────────────────────────────┤ X ├───────────────»\n",
       "                                                       └───┘               »\n",
       "«          ┌───┐               ┌───┐          \n",
       "«q_0: ─────┤ X ├──■────■───────┤ X ├──────────\n",
       "«          └─┬─┘  │  ┌─┴─┐     └─┬─┘     ┌───┐\n",
       "«q_1: ──■────■────┼──┤ X ├──■────┼────■──┤ X ├\n",
       "«     ┌─┴─┐       │  └───┘┌─┴─┐  │  ┌─┴─┐└─┬─┘\n",
       "«q_2: ┤ X ├───────■───────┤ X ├──■──┤ X ├──┼──\n",
       "«     └─┬─┘     ┌─┴─┐     └─┬─┘     └───┘  │  \n",
       "«q_3: ──■───────┤ X ├───────■──────────────■──\n",
       "«               └───┘                         \n",
       "«q_4: ────────────────────────────────────────\n",
       "«                                             </pre>"
      ],
      "text/plain": [
       "               ┌───┐               ┌───┐               ┌───┐┌───┐          »\n",
       "q_0: ──────────┤ X ├───────■────■──┤ X ├───────■───────┤ X ├┤ X ├───────■──»\n",
       "     ┌───┐     └─┬─┘     ┌─┴─┐  │  └─┬─┘       │  ┌───┐└─┬─┘└─┬─┘┌───┐  │  »\n",
       "q_1: ┤ X ├──■────┼────■──┤ X ├──┼────■────■────┼──┤ X ├──┼────┼──┤ X ├──┼──»\n",
       "     └─┬─┘┌─┴─┐  │  ┌─┴─┐└───┘  │       ┌─┴─┐  │  └─┬─┘  │    │  └─┬─┘  │  »\n",
       "q_2: ──┼──┤ X ├──■──┤ X ├───────■───────┤ X ├──┼────┼────■────■────┼────┼──»\n",
       "       │  └───┘     └─┬─┘     ┌─┴─┐     └─┬─┘┌─┴─┐  │              │  ┌─┴─┐»\n",
       "q_3: ──■──────────────■───────┤ X ├───────■──┤ X ├──■────■─────────■──┤ X ├»\n",
       "                              └───┘          └───┘     ┌─┴─┐          └───┘»\n",
       "q_4: ──────────────────────────────────────────────────┤ X ├───────────────»\n",
       "                                                       └───┘               »\n",
       "«          ┌───┐               ┌───┐          \n",
       "«q_0: ─────┤ X ├──■────■───────┤ X ├──────────\n",
       "«          └─┬─┘  │  ┌─┴─┐     └─┬─┘     ┌───┐\n",
       "«q_1: ──■────■────┼──┤ X ├──■────┼────■──┤ X ├\n",
       "«     ┌─┴─┐       │  └───┘┌─┴─┐  │  ┌─┴─┐└─┬─┘\n",
       "«q_2: ┤ X ├───────■───────┤ X ├──■──┤ X ├──┼──\n",
       "«     └─┬─┘     ┌─┴─┐     └─┬─┘     └───┘  │  \n",
       "«q_3: ──■───────┤ X ├───────■──────────────■──\n",
       "«               └───┘                         \n",
       "«q_4: ────────────────────────────────────────\n",
       "«                                             "
      ]
     },
     "execution_count": 50,
     "metadata": {},
     "output_type": "execute_result"
    }
   ],
   "source": [
    "oracle = QuantumCircuit(5)\n",
    "oracle = oracle.compose(hwb4, [0,1,2,3])\n",
    "oracle.cx(3,4)\n",
    "oracle = oracle.compose(hwb4.inverse(), [0,1,2,3])\n",
    "\n",
    "oracle.draw()"
   ]
  },
  {
   "cell_type": "code",
   "execution_count": null,
   "id": "662ae1d9",
   "metadata": {},
   "outputs": [
    {
     "name": "stdout",
     "output_type": "stream",
     "text": [
      " Input  | Output \n",
      "        |        \n",
      " 00000  | 00000  \n",
      " 00001  | 00001  \n",
      " 00010  | 00010  \n",
      " 00011  | 00011  \n",
      " 00100  | 00101  \n",
      " 00101  | 00100  \n",
      " 00110  | 00110  \n",
      " 00111  | 00111  \n",
      " 01000  | 01000  \n",
      " 01001  | 01001  \n",
      " 01010  | 01011  \n",
      " 01011  | 01010  \n",
      " 01100  | 01101  \n",
      " 01101  | 01100  \n",
      " 01110  | 01110  \n",
      " 01111  | 01111  \n",
      " 10000  | 10000  \n",
      " 10001  | 10001  \n",
      " 10010  | 10010  \n",
      " 10011  | 10011  \n",
      " 10100  | 10100  \n",
      " 10101  | 10101  \n",
      " 10110  | 10111  \n",
      " 10111  | 10110  \n",
      " 11000  | 11001  \n",
      " 11001  | 11000  \n",
      " 11010  | 11011  \n",
      " 11011  | 11010  \n",
      " 11100  | 11101  \n",
      " 11101  | 11100  \n",
      " 11110  | 11111  \n",
      " 11111  | 11110  \n"
     ]
    }
   ],
   "source": [
    "n = oracle.num_qubits\n",
    "\n",
    "# Pour avoir un bel affichage\n",
    "a =\"{:^\"+str(n+3)+\"s}|{:^\"+str(n+3)+\"s}\"\n",
    "print(a.format(\"Input\", \" Output\"))\n",
    "print(a.format(\"\", \"\"))\n",
    "    \n",
    "# L'itération sur les bitstrings\n",
    "for i in range(2**n):\n",
    "    circ = QuantumCircuit(n, n)\n",
    "    \n",
    "    # On récupère la décomposition binaire...\n",
    "    bin_i = (\"{0:0\"+str(n)+\"b}\").format(i)\n",
    "    \n",
    "    # ... qui nous donne les X à appliquer\n",
    "    for j in range(n):\n",
    "        if bin_i[j] == '1':\n",
    "            circ.x(j)\n",
    "        \n",
    "    # La méthode compose permet de concaténer deux circuits\n",
    "    circ = circ.compose(oracle, [i for i in range(n)])\n",
    "    \n",
    "    # On effectue la mesure\n",
    "    output = simulate_circuit_measurements(circ, [i for i in range(n)])[0][::-1]\n",
    "\n",
    "    # On affiche le résultat\n",
    "    print(a.format(bin_i, output))"
   ]
  },
  {
   "cell_type": "markdown",
   "id": "d0d9f501",
   "metadata": {},
   "source": [
    "#### **Question 6.4**\n",
    "\n",
    "<pre> Implémenter l'algorithme de Deutsch-Jozsa. Le tester sur hwb4 et sur l'oracle de la question 4.1. </pre>"
   ]
  },
  {
   "cell_type": "markdown",
   "id": "9166c8a6",
   "metadata": {},
   "source": [
    "##### Solution"
   ]
  },
  {
   "cell_type": "code",
   "execution_count": null,
   "id": "f7a4f522",
   "metadata": {},
   "outputs": [
    {
     "data": {
      "text/html": [
       "<pre style=\"word-wrap: normal;white-space: pre;background: #fff0;line-height: 1.1;font-family: &quot;Courier New&quot;,Courier,monospace\">     ┌───┐          ┌───┐               ┌───┐               ┌───┐┌───┐     »\n",
       "q_0: ┤ H ├──────────┤ X ├───────■────■──┤ X ├───────■───────┤ X ├┤ X ├─────»\n",
       "     ├───┤┌───┐     └─┬─┘     ┌─┴─┐  │  └─┬─┘       │  ┌───┐└─┬─┘└─┬─┘┌───┐»\n",
       "q_1: ┤ H ├┤ X ├──■────┼────■──┤ X ├──┼────■────■────┼──┤ X ├──┼────┼──┤ X ├»\n",
       "     ├───┤└─┬─┘┌─┴─┐  │  ┌─┴─┐└───┘  │       ┌─┴─┐  │  └─┬─┘  │    │  └─┬─┘»\n",
       "q_2: ┤ H ├──┼──┤ X ├──■──┤ X ├───────■───────┤ X ├──┼────┼────■────■────┼──»\n",
       "     ├───┤  │  └───┘     └─┬─┘     ┌─┴─┐     └─┬─┘┌─┴─┐  │              │  »\n",
       "q_3: ┤ H ├──■──────────────■───────┤ X ├───────■──┤ X ├──■────■─────────■──»\n",
       "     ├───┤┌───┐                    └───┘          └───┘     ┌─┴─┐          »\n",
       "q_4: ┤ X ├┤ H ├─────────────────────────────────────────────┤ X ├──────────»\n",
       "     └───┘└───┘                                             └───┘          »\n",
       "c: 4/══════════════════════════════════════════════════════════════════════»\n",
       "                                                                           »\n",
       "«               ┌───┐               ┌───┐┌───┐          \n",
       "«q_0: ──■───────┤ X ├──■────■───────┤ X ├┤ H ├──────────\n",
       "«       │       └─┬─┘  │  ┌─┴─┐     └─┬─┘└───┘┌───┐┌───┐\n",
       "«q_1: ──┼────■────■────┼──┤ X ├──■────┼────■──┤ X ├┤ H ├\n",
       "«       │  ┌─┴─┐       │  └───┘┌─┴─┐  │  ┌─┴─┐└─┬─┘├───┤\n",
       "«q_2: ──┼──┤ X ├───────■───────┤ X ├──■──┤ X ├──┼──┤ H ├\n",
       "«     ┌─┴─┐└─┬─┘     ┌─┴─┐     └─┬─┘     └───┘  │  ├───┤\n",
       "«q_3: ┤ X ├──■───────┤ X ├───────■──────────────■──┤ H ├\n",
       "«     └───┘          └───┘                         └───┘\n",
       "«q_4: ──────────────────────────────────────────────────\n",
       "«                                                       \n",
       "«c: 4/══════════════════════════════════════════════════\n",
       "«                                                       </pre>"
      ],
      "text/plain": [
       "     ┌───┐          ┌───┐               ┌───┐               ┌───┐┌───┐     »\n",
       "q_0: ┤ H ├──────────┤ X ├───────■────■──┤ X ├───────■───────┤ X ├┤ X ├─────»\n",
       "     ├───┤┌───┐     └─┬─┘     ┌─┴─┐  │  └─┬─┘       │  ┌───┐└─┬─┘└─┬─┘┌───┐»\n",
       "q_1: ┤ H ├┤ X ├──■────┼────■──┤ X ├──┼────■────■────┼──┤ X ├──┼────┼──┤ X ├»\n",
       "     ├───┤└─┬─┘┌─┴─┐  │  ┌─┴─┐└───┘  │       ┌─┴─┐  │  └─┬─┘  │    │  └─┬─┘»\n",
       "q_2: ┤ H ├──┼──┤ X ├──■──┤ X ├───────■───────┤ X ├──┼────┼────■────■────┼──»\n",
       "     ├───┤  │  └───┘     └─┬─┘     ┌─┴─┐     └─┬─┘┌─┴─┐  │              │  »\n",
       "q_3: ┤ H ├──■──────────────■───────┤ X ├───────■──┤ X ├──■────■─────────■──»\n",
       "     ├───┤┌───┐                    └───┘          └───┘     ┌─┴─┐          »\n",
       "q_4: ┤ X ├┤ H ├─────────────────────────────────────────────┤ X ├──────────»\n",
       "     └───┘└───┘                                             └───┘          »\n",
       "c: 4/══════════════════════════════════════════════════════════════════════»\n",
       "                                                                           »\n",
       "«               ┌───┐               ┌───┐┌───┐          \n",
       "«q_0: ──■───────┤ X ├──■────■───────┤ X ├┤ H ├──────────\n",
       "«       │       └─┬─┘  │  ┌─┴─┐     └─┬─┘└───┘┌───┐┌───┐\n",
       "«q_1: ──┼────■────■────┼──┤ X ├──■────┼────■──┤ X ├┤ H ├\n",
       "«       │  ┌─┴─┐       │  └───┘┌─┴─┐  │  ┌─┴─┐└─┬─┘├───┤\n",
       "«q_2: ──┼──┤ X ├───────■───────┤ X ├──■──┤ X ├──┼──┤ H ├\n",
       "«     ┌─┴─┐└─┬─┘     ┌─┴─┐     └─┬─┘     └───┘  │  ├───┤\n",
       "«q_3: ┤ X ├──■───────┤ X ├───────■──────────────■──┤ H ├\n",
       "«     └───┘          └───┘                         └───┘\n",
       "«q_4: ──────────────────────────────────────────────────\n",
       "«                                                       \n",
       "«c: 4/══════════════════════════════════════════════════\n",
       "«                                                       "
      ]
     },
     "execution_count": 52,
     "metadata": {},
     "output_type": "execute_result"
    }
   ],
   "source": [
    "deutsch_circ = QuantumCircuit(5, 4)\n",
    "deutsch_circ.x(4)\n",
    "deutsch_circ.h(range(5))\n",
    "deutsch_circ = deutsch_circ.compose(oracle)\n",
    "deutsch_circ.h(range(4))\n",
    "\n",
    "deutsch_circ.draw()"
   ]
  },
  {
   "cell_type": "code",
   "execution_count": null,
   "id": "4a610322",
   "metadata": {},
   "outputs": [
    {
     "data": {
      "image/png": "[encoded data removed]",
      "text/plain": [
       "<Figure size 640x480 with 1 Axes>"
      ]
     },
     "execution_count": 54,
     "metadata": {},
     "output_type": "execute_result"
    }
   ],
   "source": [
    "results = simulate_circuit_histogram(deutsch_circ, [0,1,2,3])\n",
    "plot_histogram(results)"
   ]
  },
  {
   "cell_type": "code",
   "execution_count": null,
   "id": "43c4b3c8",
   "metadata": {},
   "outputs": [
    {
     "data": {
      "text/html": [
       "<pre style=\"word-wrap: normal;white-space: pre;background: #fff0;line-height: 1.1;font-family: &quot;Courier New&quot;,Courier,monospace\">     ┌───┐                                   ┌───┐┌─────┐          ┌───┐┌───┐»\n",
       "q_0: ┤ H ├──■────────────────────────■───────┤ X ├┤ Tdg ├──■───────┤ X ├┤ X ├»\n",
       "     ├───┤┌─┴─┐          ┌───┐       │       └─┬─┘└─────┘┌─┴─┐     └─┬─┘└─┬─┘»\n",
       "q_1: ┤ H ├┤ X ├──■───────┤ X ├───────┼────■────┼─────────┤ X ├──■────■────┼──»\n",
       "     ├───┤└───┘┌─┴─┐┌───┐└─┬─┘     ┌─┴─┐  │    │         └───┘┌─┴─┐       │  »\n",
       "q_2: ┤ H ├─────┤ X ├┤ T ├──■────■──┤ X ├──┼────■──────────────┤ X ├───────■──»\n",
       "     ├───┤┌───┐└───┘└───┘     ┌─┴─┐└───┘┌─┴─┐┌───┐            └───┘          »\n",
       "q_3: ┤ X ├┤ H ├───────────────┤ X ├─────┤ X ├┤ X ├───────────────────────────»\n",
       "     └───┘└───┘               └───┘     └───┘└───┘                           »\n",
       "c: 3/════════════════════════════════════════════════════════════════════════»\n",
       "                                                                             »\n",
       "«                    ┌───┐\n",
       "«q_0: ───────■────■──┤ H ├\n",
       "«            │  ┌─┴─┐├───┤\n",
       "«q_1: ──■────┼──┤ X ├┤ H ├\n",
       "«       │  ┌─┴─┐├───┤└───┘\n",
       "«q_2: ──┼──┤ X ├┤ H ├─────\n",
       "«     ┌─┴─┐└───┘└───┘     \n",
       "«q_3: ┤ X ├───────────────\n",
       "«     └───┘               \n",
       "«c: 3/════════════════════\n",
       "«                         </pre>"
      ],
      "text/plain": [
       "     ┌───┐                                   ┌───┐┌─────┐          ┌───┐┌───┐»\n",
       "q_0: ┤ H ├──■────────────────────────■───────┤ X ├┤ Tdg ├──■───────┤ X ├┤ X ├»\n",
       "     ├───┤┌─┴─┐          ┌───┐       │       └─┬─┘└─────┘┌─┴─┐     └─┬─┘└─┬─┘»\n",
       "q_1: ┤ H ├┤ X ├──■───────┤ X ├───────┼────■────┼─────────┤ X ├──■────■────┼──»\n",
       "     ├───┤└───┘┌─┴─┐┌───┐└─┬─┘     ┌─┴─┐  │    │         └───┘┌─┴─┐       │  »\n",
       "q_2: ┤ H ├─────┤ X ├┤ T ├──■────■──┤ X ├──┼────■──────────────┤ X ├───────■──»\n",
       "     ├───┤┌───┐└───┘└───┘     ┌─┴─┐└───┘┌─┴─┐┌───┐            └───┘          »\n",
       "q_3: ┤ X ├┤ H ├───────────────┤ X ├─────┤ X ├┤ X ├───────────────────────────»\n",
       "     └───┘└───┘               └───┘     └───┘└───┘                           »\n",
       "c: 3/════════════════════════════════════════════════════════════════════════»\n",
       "                                                                             »\n",
       "«                    ┌───┐\n",
       "«q_0: ───────■────■──┤ H ├\n",
       "«            │  ┌─┴─┐├───┤\n",
       "«q_1: ──■────┼──┤ X ├┤ H ├\n",
       "«       │  ┌─┴─┐├───┤└───┘\n",
       "«q_2: ──┼──┤ X ├┤ H ├─────\n",
       "«     ┌─┴─┐└───┘└───┘     \n",
       "«q_3: ┤ X ├───────────────\n",
       "«     └───┘               \n",
       "«c: 3/════════════════════\n",
       "«                         "
      ]
     },
     "execution_count": 51,
     "metadata": {},
     "output_type": "execute_result"
    }
   ],
   "source": [
    "deutsch_circ2 = QuantumCircuit(4, 3)\n",
    "deutsch_circ2.x(3)\n",
    "deutsch_circ2.h(range(4))\n",
    "deutsch_circ2 = deutsch_circ2.compose(circuit)\n",
    "deutsch_circ2.h(range(3))\n",
    "\n",
    "deutsch_circ2.draw()"
   ]
  },
  {
   "cell_type": "code",
   "execution_count": null,
   "id": "8549e58b",
   "metadata": {},
   "outputs": [
    {
     "data": {
      "image/png": "[encoded data removed]",
      "text/plain": [
       "<Figure size 700x500 with 1 Axes>"
      ]
     },
     "execution_count": 52,
     "metadata": {},
     "output_type": "execute_result"
    }
   ],
   "source": [
    "results = simulate_circuit_histogram(deutsch_circ2, [0,1,2])\n",
    "plot_histogram(results)"
   ]
  },
  {
   "cell_type": "markdown",
   "id": "7b4a32a0",
   "metadata": {},
   "source": [
    "---\n",
    "\n",
    "### Algorithme 2 : l'algorithme de Grover\n",
    "\n",
    "\n",
    "<br><br>\n",
    "L'algorithme de Grover permet de trouver des éléments dans une base de données non structurée en temps $O(\\sqrt{N})$ où $N$ est la taille de la base de données. L'élément à trouver doit répondre à un critère calculable, par exemple dans une liste de mots trouver un mot avec deux fois la lettre \"r\". L'algorithme de Grover marche quel que soit le nombre d'éléments qui répondent au critère dans la base de données. \n",
    "<br> <br>\n",
    "L'algorithme consiste en les blocs suivants: <br>\n",
    "* un oracle $U_{\\omega}$ qui applique une phase de -1 à toute bitstring satisfaisant le critère, \n",
    "* un opérateur de diffusion défini par $H^{\\otimes n} \\left(2 \\ket{0}^{\\otimes n}\\bra{0}^{\\otimes n} - I_n \\right) H^{\\otimes n}$\n",
    "\n",
    "<br> \n",
    "<br> \n",
    "Et le circuit final est \n",
    "\n",
    "<img src=\"grover_algo.png\" width=700> \n",
    "\n",
    "(extrait de https://fr.wikipedia.org/wiki/Algorithme_de_Grover)\n",
    "\n",
    "#### **Question 7.1** \n",
    "\n",
    "<pre> coder une fonction qui prend en entrée le nombre de qubits, le nombre de qubits ancillaires, le circuit de l'oracle, le nombre d'itérations et retourne le circuit total de Grover. </pre>"
   ]
  },
  {
   "cell_type": "markdown",
   "id": "7daa8220",
   "metadata": {},
   "source": [
    "##### Solution"
   ]
  },
  {
   "cell_type": "code",
   "execution_count": null,
   "id": "404379f0",
   "metadata": {},
   "outputs": [],
   "source": [
    "def grover(nb_qubits, nb_ancillas, oracle, niter):\n",
    "    \n",
    "    grover_circ = QuantumCircuit(nb_qubits + nb_ancillas, nb_qubits)\n",
    "    grover_circ.h(range(nb_qubits))\n",
    "    \n",
    "    for i in range(niter):\n",
    "        grover_circ = grover_circ.compose(oracle)\n",
    "        grover_circ.h(range(nb_qubits)) \n",
    "        \n",
    "        # CCC...CZ avec contrôles à 0\n",
    "        grover_circ.x(range(nb_qubits))\n",
    "        \n",
    "        # CCC...CZ\n",
    "        grover_circ.h(nb_qubits-1)\n",
    "        grover_circ.append(MCXGate(nb_qubits-1), [i for i in range(nb_qubits)])\n",
    "        grover_circ.h(nb_qubits-1)  \n",
    "        \n",
    "        # CCC...CZ avec contrôles à 0\n",
    "        grover_circ.x(range(nb_qubits))\n",
    "        \n",
    "        grover_circ.h(range(nb_qubits))\n",
    "    \n",
    "    return grover_circ"
   ]
  },
  {
   "cell_type": "markdown",
   "id": "28b31ae2",
   "metadata": {},
   "source": [
    "#### **Question 7.2** \n",
    "\n",
    "<pre> Tester l'algorithme sur une CCCCZ pour retrouver l'état |11111> et vérifier \n",
    " que votre implémentation fonctionne avec la cellule test ci-dessous. </pre>"
   ]
  },
  {
   "cell_type": "code",
   "execution_count": null,
   "id": "3d3628f9",
   "metadata": {},
   "outputs": [
    {
     "data": {
      "text/html": [
       "<pre style=\"word-wrap: normal;white-space: pre;background: #fff0;line-height: 1.1;font-family: &quot;Courier New&quot;,Courier,monospace\">     ┌───┐          ┌───┐┌───┐               ┌───┐┌───┐               ┌───┐»\n",
       "q_0: ┤ H ├───────■──┤ H ├┤ X ├────────────■──┤ X ├┤ H ├────────────■──┤ H ├»\n",
       "     ├───┤       │  ├───┤├───┤            │  ├───┤├───┤            │  ├───┤»\n",
       "q_1: ┤ H ├───────■──┤ H ├┤ X ├────────────■──┤ X ├┤ H ├────────────■──┤ H ├»\n",
       "     ├───┤       │  ├───┤├───┤            │  ├───┤├───┤            │  ├───┤»\n",
       "q_2: ┤ H ├───────■──┤ H ├┤ X ├────────────■──┤ X ├┤ H ├────────────■──┤ H ├»\n",
       "     ├───┤       │  ├───┤├───┤            │  ├───┤├───┤            │  ├───┤»\n",
       "q_3: ┤ H ├───────■──┤ H ├┤ X ├────────────■──┤ X ├┤ H ├────────────■──┤ H ├»\n",
       "     ├───┤┌───┐┌─┴─┐├───┤├───┤┌───┐┌───┐┌─┴─┐├───┤├───┤┌───┐┌───┐┌─┴─┐├───┤»\n",
       "q_4: ┤ H ├┤ H ├┤ X ├┤ H ├┤ H ├┤ X ├┤ H ├┤ X ├┤ H ├┤ X ├┤ H ├┤ H ├┤ X ├┤ H ├»\n",
       "     └───┘└───┘└───┘└───┘└───┘└───┘└───┘└───┘└───┘└───┘└───┘└───┘└───┘└───┘»\n",
       "c: 5/══════════════════════════════════════════════════════════════════════»\n",
       "                                                                           »\n",
       "«     ┌───┐               ┌───┐┌───┐               ┌───┐┌───┐               »\n",
       "«q_0: ┤ X ├────────────■──┤ X ├┤ H ├────────────■──┤ H ├┤ X ├────────────■──»\n",
       "«     ├───┤            │  ├───┤├───┤            │  ├───┤├───┤            │  »\n",
       "«q_1: ┤ X ├────────────■──┤ X ├┤ H ├────────────■──┤ H ├┤ X ├────────────■──»\n",
       "«     ├───┤            │  ├───┤├───┤            │  ├───┤├───┤            │  »\n",
       "«q_2: ┤ X ├────────────■──┤ X ├┤ H ├────────────■──┤ H ├┤ X ├────────────■──»\n",
       "«     ├───┤            │  ├───┤├───┤            │  ├───┤├───┤            │  »\n",
       "«q_3: ┤ X ├────────────■──┤ X ├┤ H ├────────────■──┤ H ├┤ X ├────────────■──»\n",
       "«     ├───┤┌───┐┌───┐┌─┴─┐├───┤├───┤┌───┐┌───┐┌─┴─┐├───┤├───┤┌───┐┌───┐┌─┴─┐»\n",
       "«q_4: ┤ H ├┤ X ├┤ H ├┤ X ├┤ H ├┤ X ├┤ H ├┤ H ├┤ X ├┤ H ├┤ H ├┤ X ├┤ H ├┤ X ├»\n",
       "«     └───┘└───┘└───┘└───┘└───┘└───┘└───┘└───┘└───┘└───┘└───┘└───┘└───┘└───┘»\n",
       "«c: 5/══════════════════════════════════════════════════════════════════════»\n",
       "«                                                                           »\n",
       "«     ┌───┐┌───┐               ┌───┐┌───┐               ┌───┐┌───┐          »\n",
       "«q_0: ┤ X ├┤ H ├────────────■──┤ H ├┤ X ├────────────■──┤ X ├┤ H ├──────────»\n",
       "«     ├───┤├───┤            │  ├───┤├───┤            │  ├───┤├───┤          »\n",
       "«q_1: ┤ X ├┤ H ├────────────■──┤ H ├┤ X ├────────────■──┤ X ├┤ H ├──────────»\n",
       "«     ├───┤├───┤            │  ├───┤├───┤            │  ├───┤├───┤          »\n",
       "«q_2: ┤ X ├┤ H ├────────────■──┤ H ├┤ X ├────────────■──┤ X ├┤ H ├──────────»\n",
       "«     ├───┤├───┤            │  ├───┤├───┤            │  ├───┤├───┤          »\n",
       "«q_3: ┤ X ├┤ H ├────────────■──┤ H ├┤ X ├────────────■──┤ X ├┤ H ├──────────»\n",
       "«     ├───┤├───┤┌───┐┌───┐┌─┴─┐├───┤├───┤┌───┐┌───┐┌─┴─┐├───┤├───┤┌───┐┌───┐»\n",
       "«q_4: ┤ H ├┤ X ├┤ H ├┤ H ├┤ X ├┤ H ├┤ H ├┤ X ├┤ H ├┤ X ├┤ H ├┤ X ├┤ H ├┤ H ├»\n",
       "«     └───┘└───┘└───┘└───┘└───┘└───┘└───┘└───┘└───┘└───┘└───┘└───┘└───┘└───┘»\n",
       "«c: 5/══════════════════════════════════════════════════════════════════════»\n",
       "«                                                                           »\n",
       "«          ┌───┐┌───┐               ┌───┐┌───┐               ┌───┐┌───┐     »\n",
       "«q_0: ──■──┤ H ├┤ X ├────────────■──┤ X ├┤ H ├────────────■──┤ H ├┤ X ├─────»\n",
       "«       │  ├───┤├───┤            │  ├───┤├───┤            │  ├───┤├───┤     »\n",
       "«q_1: ──■──┤ H ├┤ X ├────────────■──┤ X ├┤ H ├────────────■──┤ H ├┤ X ├─────»\n",
       "«       │  ├───┤├───┤            │  ├───┤├───┤            │  ├───┤├───┤     »\n",
       "«q_2: ──■──┤ H ├┤ X ├────────────■──┤ X ├┤ H ├────────────■──┤ H ├┤ X ├─────»\n",
       "«       │  ├───┤├───┤            │  ├───┤├───┤            │  ├───┤├───┤     »\n",
       "«q_3: ──■──┤ H ├┤ X ├────────────■──┤ X ├┤ H ├────────────■──┤ H ├┤ X ├─────»\n",
       "«     ┌─┴─┐├───┤├───┤┌───┐┌───┐┌─┴─┐├───┤├───┤┌───┐┌───┐┌─┴─┐├───┤├───┤┌───┐»\n",
       "«q_4: ┤ X ├┤ H ├┤ H ├┤ X ├┤ H ├┤ X ├┤ H ├┤ X ├┤ H ├┤ H ├┤ X ├┤ H ├┤ H ├┤ X ├»\n",
       "«     └───┘└───┘└───┘└───┘└───┘└───┘└───┘└───┘└───┘└───┘└───┘└───┘└───┘└───┘»\n",
       "«c: 5/══════════════════════════════════════════════════════════════════════»\n",
       "«                                                                           »\n",
       "«               ┌───┐┌───┐               ┌───┐┌───┐               ┌───┐┌───┐»\n",
       "«q_0: ───────■──┤ X ├┤ H ├────────────■──┤ H ├┤ X ├────────────■──┤ X ├┤ H ├»\n",
       "«            │  ├───┤├───┤            │  ├───┤├───┤            │  ├───┤├───┤»\n",
       "«q_1: ───────■──┤ X ├┤ H ├────────────■──┤ H ├┤ X ├────────────■──┤ X ├┤ H ├»\n",
       "«            │  ├───┤├───┤            │  ├───┤├───┤            │  ├───┤├───┤»\n",
       "«q_2: ───────■──┤ X ├┤ H ├────────────■──┤ H ├┤ X ├────────────■──┤ X ├┤ H ├»\n",
       "«            │  ├───┤├───┤            │  ├───┤├───┤            │  ├───┤├───┤»\n",
       "«q_3: ───────■──┤ X ├┤ H ├────────────■──┤ H ├┤ X ├────────────■──┤ X ├┤ H ├»\n",
       "«     ┌───┐┌─┴─┐├───┤├───┤┌───┐┌───┐┌─┴─┐├───┤├───┤┌───┐┌───┐┌─┴─┐├───┤├───┤»\n",
       "«q_4: ┤ H ├┤ X ├┤ H ├┤ X ├┤ H ├┤ H ├┤ X ├┤ H ├┤ H ├┤ X ├┤ H ├┤ X ├┤ H ├┤ X ├»\n",
       "«     └───┘└───┘└───┘└───┘└───┘└───┘└───┘└───┘└───┘└───┘└───┘└───┘└───┘└───┘»\n",
       "«c: 5/══════════════════════════════════════════════════════════════════════»\n",
       "«                                                                           »\n",
       "«                    ┌───┐┌───┐               ┌───┐┌───┐               ┌───┐»\n",
       "«q_0: ────────────■──┤ H ├┤ X ├────────────■──┤ X ├┤ H ├────────────■──┤ H ├»\n",
       "«                 │  ├───┤├───┤            │  ├───┤├───┤            │  ├───┤»\n",
       "«q_1: ────────────■──┤ H ├┤ X ├────────────■──┤ X ├┤ H ├────────────■──┤ H ├»\n",
       "«                 │  ├───┤├───┤            │  ├───┤├───┤            │  ├───┤»\n",
       "«q_2: ────────────■──┤ H ├┤ X ├────────────■──┤ X ├┤ H ├────────────■──┤ H ├»\n",
       "«                 │  ├───┤├───┤            │  ├───┤├───┤            │  ├───┤»\n",
       "«q_3: ────────────■──┤ H ├┤ X ├────────────■──┤ X ├┤ H ├────────────■──┤ H ├»\n",
       "«     ┌───┐┌───┐┌─┴─┐├───┤├───┤┌───┐┌───┐┌─┴─┐├───┤├───┤┌───┐┌───┐┌─┴─┐├───┤»\n",
       "«q_4: ┤ H ├┤ H ├┤ X ├┤ H ├┤ H ├┤ X ├┤ H ├┤ X ├┤ H ├┤ X ├┤ H ├┤ H ├┤ X ├┤ H ├»\n",
       "«     └───┘└───┘└───┘└───┘└───┘└───┘└───┘└───┘└───┘└───┘└───┘└───┘└───┘└───┘»\n",
       "«c: 5/══════════════════════════════════════════════════════════════════════»\n",
       "«                                                                           »\n",
       "«     ┌───┐               ┌───┐┌───┐               ┌───┐┌───┐               »\n",
       "«q_0: ┤ X ├────────────■──┤ X ├┤ H ├────────────■──┤ H ├┤ X ├────────────■──»\n",
       "«     ├───┤            │  ├───┤├───┤            │  ├───┤├───┤            │  »\n",
       "«q_1: ┤ X ├────────────■──┤ X ├┤ H ├────────────■──┤ H ├┤ X ├────────────■──»\n",
       "«     ├───┤            │  ├───┤├───┤            │  ├───┤├───┤            │  »\n",
       "«q_2: ┤ X ├────────────■──┤ X ├┤ H ├────────────■──┤ H ├┤ X ├────────────■──»\n",
       "«     ├───┤            │  ├───┤├───┤            │  ├───┤├───┤            │  »\n",
       "«q_3: ┤ X ├────────────■──┤ X ├┤ H ├────────────■──┤ H ├┤ X ├────────────■──»\n",
       "«     ├───┤┌───┐┌───┐┌─┴─┐├───┤├───┤┌───┐┌───┐┌─┴─┐├───┤├───┤┌───┐┌───┐┌─┴─┐»\n",
       "«q_4: ┤ H ├┤ X ├┤ H ├┤ X ├┤ H ├┤ X ├┤ H ├┤ H ├┤ X ├┤ H ├┤ H ├┤ X ├┤ H ├┤ X ├»\n",
       "«     └───┘└───┘└───┘└───┘└───┘└───┘└───┘└───┘└───┘└───┘└───┘└───┘└───┘└───┘»\n",
       "«c: 5/══════════════════════════════════════════════════════════════════════»\n",
       "«                                                                           »\n",
       "«     ┌───┐┌───┐               ┌───┐┌───┐               ┌───┐┌───┐     \n",
       "«q_0: ┤ X ├┤ H ├────────────■──┤ H ├┤ X ├────────────■──┤ X ├┤ H ├─────\n",
       "«     ├───┤├───┤            │  ├───┤├───┤            │  ├───┤├───┤     \n",
       "«q_1: ┤ X ├┤ H ├────────────■──┤ H ├┤ X ├────────────■──┤ X ├┤ H ├─────\n",
       "«     ├───┤├───┤            │  ├───┤├───┤            │  ├───┤├───┤     \n",
       "«q_2: ┤ X ├┤ H ├────────────■──┤ H ├┤ X ├────────────■──┤ X ├┤ H ├─────\n",
       "«     ├───┤├───┤            │  ├───┤├───┤            │  ├───┤├───┤     \n",
       "«q_3: ┤ X ├┤ H ├────────────■──┤ H ├┤ X ├────────────■──┤ X ├┤ H ├─────\n",
       "«     ├───┤├───┤┌───┐┌───┐┌─┴─┐├───┤├───┤┌───┐┌───┐┌─┴─┐├───┤├───┤┌───┐\n",
       "«q_4: ┤ H ├┤ X ├┤ H ├┤ H ├┤ X ├┤ H ├┤ H ├┤ X ├┤ H ├┤ X ├┤ H ├┤ X ├┤ H ├\n",
       "«     └───┘└───┘└───┘└───┘└───┘└───┘└───┘└───┘└───┘└───┘└───┘└───┘└───┘\n",
       "«c: 5/═════════════════════════════════════════════════════════════════\n",
       "«                                                                      </pre>"
      ],
      "text/plain": [
       "     ┌───┐          ┌───┐┌───┐               ┌───┐┌───┐               ┌───┐»\n",
       "q_0: ┤ H ├───────■──┤ H ├┤ X ├────────────■──┤ X ├┤ H ├────────────■──┤ H ├»\n",
       "     ├───┤       │  ├───┤├───┤            │  ├───┤├───┤            │  ├───┤»\n",
       "q_1: ┤ H ├───────■──┤ H ├┤ X ├────────────■──┤ X ├┤ H ├────────────■──┤ H ├»\n",
       "     ├───┤       │  ├───┤├───┤            │  ├───┤├───┤            │  ├───┤»\n",
       "q_2: ┤ H ├───────■──┤ H ├┤ X ├────────────■──┤ X ├┤ H ├────────────■──┤ H ├»\n",
       "     ├───┤       │  ├───┤├───┤            │  ├───┤├───┤            │  ├───┤»\n",
       "q_3: ┤ H ├───────■──┤ H ├┤ X ├────────────■──┤ X ├┤ H ├────────────■──┤ H ├»\n",
       "     ├───┤┌───┐┌─┴─┐├───┤├───┤┌───┐┌───┐┌─┴─┐├───┤├───┤┌───┐┌───┐┌─┴─┐├───┤»\n",
       "q_4: ┤ H ├┤ H ├┤ X ├┤ H ├┤ H ├┤ X ├┤ H ├┤ X ├┤ H ├┤ X ├┤ H ├┤ H ├┤ X ├┤ H ├»\n",
       "     └───┘└───┘└───┘└───┘└───┘└───┘└───┘└───┘└───┘└───┘└───┘└───┘└───┘└───┘»\n",
       "c: 5/══════════════════════════════════════════════════════════════════════»\n",
       "                                                                           »\n",
       "«     ┌───┐               ┌───┐┌───┐               ┌───┐┌───┐               »\n",
       "«q_0: ┤ X ├────────────■──┤ X ├┤ H ├────────────■──┤ H ├┤ X ├────────────■──»\n",
       "«     ├───┤            │  ├───┤├───┤            │  ├───┤├───┤            │  »\n",
       "«q_1: ┤ X ├────────────■──┤ X ├┤ H ├────────────■──┤ H ├┤ X ├────────────■──»\n",
       "«     ├───┤            │  ├───┤├───┤            │  ├───┤├───┤            │  »\n",
       "«q_2: ┤ X ├────────────■──┤ X ├┤ H ├────────────■──┤ H ├┤ X ├────────────■──»\n",
       "«     ├───┤            │  ├───┤├───┤            │  ├───┤├───┤            │  »\n",
       "«q_3: ┤ X ├────────────■──┤ X ├┤ H ├────────────■──┤ H ├┤ X ├────────────■──»\n",
       "«     ├───┤┌───┐┌───┐┌─┴─┐├───┤├───┤┌───┐┌───┐┌─┴─┐├───┤├───┤┌───┐┌───┐┌─┴─┐»\n",
       "«q_4: ┤ H ├┤ X ├┤ H ├┤ X ├┤ H ├┤ X ├┤ H ├┤ H ├┤ X ├┤ H ├┤ H ├┤ X ├┤ H ├┤ X ├»\n",
       "«     └───┘└───┘└───┘└───┘└───┘└───┘└───┘└───┘└───┘└───┘└───┘└───┘└───┘└───┘»\n",
       "«c: 5/══════════════════════════════════════════════════════════════════════»\n",
       "«                                                                           »\n",
       "«     ┌───┐┌───┐               ┌───┐┌───┐               ┌───┐┌───┐          »\n",
       "«q_0: ┤ X ├┤ H ├────────────■──┤ H ├┤ X ├────────────■──┤ X ├┤ H ├──────────»\n",
       "«     ├───┤├───┤            │  ├───┤├───┤            │  ├───┤├───┤          »\n",
       "«q_1: ┤ X ├┤ H ├────────────■──┤ H ├┤ X ├────────────■──┤ X ├┤ H ├──────────»\n",
       "«     ├───┤├───┤            │  ├───┤├───┤            │  ├───┤├───┤          »\n",
       "«q_2: ┤ X ├┤ H ├────────────■──┤ H ├┤ X ├────────────■──┤ X ├┤ H ├──────────»\n",
       "«     ├───┤├───┤            │  ├───┤├───┤            │  ├───┤├───┤          »\n",
       "«q_3: ┤ X ├┤ H ├────────────■──┤ H ├┤ X ├────────────■──┤ X ├┤ H ├──────────»\n",
       "«     ├───┤├───┤┌───┐┌───┐┌─┴─┐├───┤├───┤┌───┐┌───┐┌─┴─┐├───┤├───┤┌───┐┌───┐»\n",
       "«q_4: ┤ H ├┤ X ├┤ H ├┤ H ├┤ X ├┤ H ├┤ H ├┤ X ├┤ H ├┤ X ├┤ H ├┤ X ├┤ H ├┤ H ├»\n",
       "«     └───┘└───┘└───┘└───┘└───┘└───┘└───┘└───┘└───┘└───┘└───┘└───┘└───┘└───┘»\n",
       "«c: 5/══════════════════════════════════════════════════════════════════════»\n",
       "«                                                                           »\n",
       "«          ┌───┐┌───┐               ┌───┐┌───┐               ┌───┐┌───┐     »\n",
       "«q_0: ──■──┤ H ├┤ X ├────────────■──┤ X ├┤ H ├────────────■──┤ H ├┤ X ├─────»\n",
       "«       │  ├───┤├───┤            │  ├───┤├───┤            │  ├───┤├───┤     »\n",
       "«q_1: ──■──┤ H ├┤ X ├────────────■──┤ X ├┤ H ├────────────■──┤ H ├┤ X ├─────»\n",
       "«       │  ├───┤├───┤            │  ├───┤├───┤            │  ├───┤├───┤     »\n",
       "«q_2: ──■──┤ H ├┤ X ├────────────■──┤ X ├┤ H ├────────────■──┤ H ├┤ X ├─────»\n",
       "«       │  ├───┤├───┤            │  ├───┤├───┤            │  ├───┤├───┤     »\n",
       "«q_3: ──■──┤ H ├┤ X ├────────────■──┤ X ├┤ H ├────────────■──┤ H ├┤ X ├─────»\n",
       "«     ┌─┴─┐├───┤├───┤┌───┐┌───┐┌─┴─┐├───┤├───┤┌───┐┌───┐┌─┴─┐├───┤├───┤┌───┐»\n",
       "«q_4: ┤ X ├┤ H ├┤ H ├┤ X ├┤ H ├┤ X ├┤ H ├┤ X ├┤ H ├┤ H ├┤ X ├┤ H ├┤ H ├┤ X ├»\n",
       "«     └───┘└───┘└───┘└───┘└───┘└───┘└───┘└───┘└───┘└───┘└───┘└───┘└───┘└───┘»\n",
       "«c: 5/══════════════════════════════════════════════════════════════════════»\n",
       "«                                                                           »\n",
       "«               ┌───┐┌───┐               ┌───┐┌───┐               ┌───┐┌───┐»\n",
       "«q_0: ───────■──┤ X ├┤ H ├────────────■──┤ H ├┤ X ├────────────■──┤ X ├┤ H ├»\n",
       "«            │  ├───┤├───┤            │  ├───┤├───┤            │  ├───┤├───┤»\n",
       "«q_1: ───────■──┤ X ├┤ H ├────────────■──┤ H ├┤ X ├────────────■──┤ X ├┤ H ├»\n",
       "«            │  ├───┤├───┤            │  ├───┤├───┤            │  ├───┤├───┤»\n",
       "«q_2: ───────■──┤ X ├┤ H ├────────────■──┤ H ├┤ X ├────────────■──┤ X ├┤ H ├»\n",
       "«            │  ├───┤├───┤            │  ├───┤├───┤            │  ├───┤├───┤»\n",
       "«q_3: ───────■──┤ X ├┤ H ├────────────■──┤ H ├┤ X ├────────────■──┤ X ├┤ H ├»\n",
       "«     ┌───┐┌─┴─┐├───┤├───┤┌───┐┌───┐┌─┴─┐├───┤├───┤┌───┐┌───┐┌─┴─┐├───┤├───┤»\n",
       "«q_4: ┤ H ├┤ X ├┤ H ├┤ X ├┤ H ├┤ H ├┤ X ├┤ H ├┤ H ├┤ X ├┤ H ├┤ X ├┤ H ├┤ X ├»\n",
       "«     └───┘└───┘└───┘└───┘└───┘└───┘└───┘└───┘└───┘└───┘└───┘└───┘└───┘└───┘»\n",
       "«c: 5/══════════════════════════════════════════════════════════════════════»\n",
       "«                                                                           »\n",
       "«                    ┌───┐┌───┐               ┌───┐┌───┐               ┌───┐»\n",
       "«q_0: ────────────■──┤ H ├┤ X ├────────────■──┤ X ├┤ H ├────────────■──┤ H ├»\n",
       "«                 │  ├───┤├───┤            │  ├───┤├───┤            │  ├───┤»\n",
       "«q_1: ────────────■──┤ H ├┤ X ├────────────■──┤ X ├┤ H ├────────────■──┤ H ├»\n",
       "«                 │  ├───┤├───┤            │  ├───┤├───┤            │  ├───┤»\n",
       "«q_2: ────────────■──┤ H ├┤ X ├────────────■──┤ X ├┤ H ├────────────■──┤ H ├»\n",
       "«                 │  ├───┤├───┤            │  ├───┤├───┤            │  ├───┤»\n",
       "«q_3: ────────────■──┤ H ├┤ X ├────────────■──┤ X ├┤ H ├────────────■──┤ H ├»\n",
       "«     ┌───┐┌───┐┌─┴─┐├───┤├───┤┌───┐┌───┐┌─┴─┐├───┤├───┤┌───┐┌───┐┌─┴─┐├───┤»\n",
       "«q_4: ┤ H ├┤ H ├┤ X ├┤ H ├┤ H ├┤ X ├┤ H ├┤ X ├┤ H ├┤ X ├┤ H ├┤ H ├┤ X ├┤ H ├»\n",
       "«     └───┘└───┘└───┘└───┘└───┘└───┘└───┘└───┘└───┘└───┘└───┘└───┘└───┘└───┘»\n",
       "«c: 5/══════════════════════════════════════════════════════════════════════»\n",
       "«                                                                           »\n",
       "«     ┌───┐               ┌───┐┌───┐               ┌───┐┌───┐               »\n",
       "«q_0: ┤ X ├────────────■──┤ X ├┤ H ├────────────■──┤ H ├┤ X ├────────────■──»\n",
       "«     ├───┤            │  ├───┤├───┤            │  ├───┤├───┤            │  »\n",
       "«q_1: ┤ X ├────────────■──┤ X ├┤ H ├────────────■──┤ H ├┤ X ├────────────■──»\n",
       "«     ├───┤            │  ├───┤├───┤            │  ├───┤├───┤            │  »\n",
       "«q_2: ┤ X ├────────────■──┤ X ├┤ H ├────────────■──┤ H ├┤ X ├────────────■──»\n",
       "«     ├───┤            │  ├───┤├───┤            │  ├───┤├───┤            │  »\n",
       "«q_3: ┤ X ├────────────■──┤ X ├┤ H ├────────────■──┤ H ├┤ X ├────────────■──»\n",
       "«     ├───┤┌───┐┌───┐┌─┴─┐├───┤├───┤┌───┐┌───┐┌─┴─┐├───┤├───┤┌───┐┌───┐┌─┴─┐»\n",
       "«q_4: ┤ H ├┤ X ├┤ H ├┤ X ├┤ H ├┤ X ├┤ H ├┤ H ├┤ X ├┤ H ├┤ H ├┤ X ├┤ H ├┤ X ├»\n",
       "«     └───┘└───┘└───┘└───┘└───┘└───┘└───┘└───┘└───┘└───┘└───┘└───┘└───┘└───┘»\n",
       "«c: 5/══════════════════════════════════════════════════════════════════════»\n",
       "«                                                                           »\n",
       "«     ┌───┐┌───┐               ┌───┐┌───┐               ┌───┐┌───┐     \n",
       "«q_0: ┤ X ├┤ H ├────────────■──┤ H ├┤ X ├────────────■──┤ X ├┤ H ├─────\n",
       "«     ├───┤├───┤            │  ├───┤├───┤            │  ├───┤├───┤     \n",
       "«q_1: ┤ X ├┤ H ├────────────■──┤ H ├┤ X ├────────────■──┤ X ├┤ H ├─────\n",
       "«     ├───┤├───┤            │  ├───┤├───┤            │  ├───┤├───┤     \n",
       "«q_2: ┤ X ├┤ H ├────────────■──┤ H ├┤ X ├────────────■──┤ X ├┤ H ├─────\n",
       "«     ├───┤├───┤            │  ├───┤├───┤            │  ├───┤├───┤     \n",
       "«q_3: ┤ X ├┤ H ├────────────■──┤ H ├┤ X ├────────────■──┤ X ├┤ H ├─────\n",
       "«     ├───┤├───┤┌───┐┌───┐┌─┴─┐├───┤├───┤┌───┐┌───┐┌─┴─┐├───┤├───┤┌───┐\n",
       "«q_4: ┤ H ├┤ X ├┤ H ├┤ H ├┤ X ├┤ H ├┤ H ├┤ X ├┤ H ├┤ X ├┤ H ├┤ X ├┤ H ├\n",
       "«     └───┘└───┘└───┘└───┘└───┘└───┘└───┘└───┘└───┘└───┘└───┘└───┘└───┘\n",
       "«c: 5/═════════════════════════════════════════════════════════════════\n",
       "«                                                                      "
      ]
     },
     "execution_count": 95,
     "metadata": {},
     "output_type": "execute_result"
    }
   ],
   "source": [
    "qubits_database = 5\n",
    "qubits_ancillaires = 0\n",
    "\n",
    "ccccz = QuantumCircuit(qubits_database+qubits_ancillaires)\n",
    "ccccz.h(4)\n",
    "ccccz.append(MCXGate(4), [0,1,2,3,4])\n",
    "ccccz.h(4)\n",
    "\n",
    "niter = 11\n",
    "grover_circuit = grover(5, 0, ccccz, niter)\n",
    "\n",
    "grover_circuit.draw()"
   ]
  },
  {
   "cell_type": "code",
   "execution_count": null,
   "id": "55744f1f",
   "metadata": {},
   "outputs": [
    {
     "data": {
      "image/png": "[encoded data removed]",
      "text/plain": [
       "<Figure size 640x480 with 1 Axes>"
      ]
     },
     "execution_count": 81,
     "metadata": {},
     "output_type": "execute_result"
    }
   ],
   "source": [
    "results = simulate_circuit_histogram(grover_circuit, [0,1,2,3,4])\n",
    "plot_histogram(results)"
   ]
  },
  {
   "cell_type": "markdown",
   "id": "bc63362d",
   "metadata": {},
   "source": [
    "On va maintenant appliquer Grover sur le problème suivant : le permanent d'une matrice est une valeur numérique donnée par une formule proche du déterminant (sans l'alternance des signes). On veut savoir, parmi les matrices binaires de taille 2, resp. 3, s'il en existe qui ont un permanent égal à 2, resp. 4, 5 ou 6. \n",
    "\n",
    "Ci-dessous sont des implémentations réversibles du calcul du permanent pour des matrices 2x2 : \n",
    "\n",
    "<img src=\"perm2x2.svg\" width=\"150\">\n",
    "\n",
    "(extrait de https://reversiblebenchmarks.github.io/permanent2x2.html, auteur du circuit : D. V. Zakablukov)\n",
    "     \n",
    "     \n",
    "et 3x3 : \n",
    "\n",
    "<img src=\"perm3x3.svg\" width=\"800\">\n",
    "\n",
    "(extrait de https://reversiblebenchmarks.github.io/permanent3x3.html, auteur du circuit : D. V. Zakablukov)\n",
    "\n",
    "Les matrices 2x2 sont encodées sur 4 qubits, les 3x3 sur 9 qubits. Les 2, resp. 3 premiers qubits sont utilisés pour stocker la valeur du permanent en binaire. Ainsi le nombre total de qubits est de 6, resp. 12. Pour expliciter l'ordre des bits, par exemple dans le cas 2x2 le permanent en binaire sera donné par a2a1.\n",
    "\n",
    "#### **Question 7.3**\n",
    "<pre> Générer les circuits des oracles correspondants. \n",
    " Note : l'oracle doit \"juste\" inverser les phases des solutions, autrement dit il faut que les qubits \n",
    " ancillaires soient intouchés à la fin de l'application de l'oracle. </pre>"
   ]
  },
  {
   "cell_type": "markdown",
   "id": "86fa233a",
   "metadata": {},
   "source": [
    "#####  Solution"
   ]
  },
  {
   "cell_type": "code",
   "execution_count": null,
   "id": "a398aa68",
   "metadata": {},
   "outputs": [],
   "source": [
    "def perm_2_2_oracle():\n",
    "    oracle = QuantumCircuit(6)\n",
    "    \n",
    "    # Calcul du permanent\n",
    "    oracle.append(MCXGate(4), [0,1,2,3,5])\n",
    "    oracle.append(MCXGate(2), [0,3,4])\n",
    "    oracle.append(MCXGate(2), [1,2,4])\n",
    "    \n",
    "    # Création de la phase\n",
    "    oracle.x(4)\n",
    "    oracle.cz(4,5)\n",
    "    oracle.x(4)\n",
    "    \n",
    "    # \"Décalcul\" du permanent \n",
    "    oracle.append(MCXGate(2), [1,2,4])\n",
    "    oracle.append(MCXGate(2), [0,3,4])\n",
    "    oracle.append(MCXGate(4), [0,1,2,3,5])\n",
    "    \n",
    "    return oracle\n",
    "\n",
    "def perm_3_3_oracle():\n",
    "    oracle = QuantumCircuit(12)\n",
    "    \n",
    "    oracle.append(MCXGate(8), [1,2,3,4,5,6,7,8,11])\n",
    "    oracle.append(MCXGate(8), [0,2,3,4,5,6,7,8,11])\n",
    "    oracle.append(MCXGate(8), [0,1,3,4,5,6,7,8,11])\n",
    "    oracle.append(MCXGate(8), [0,1,2,4,5,6,7,8,11])\n",
    "    oracle.append(MCXGate(8), [0,1,2,3,5,6,7,8,11])\n",
    "    oracle.append(MCXGate(8), [0,1,2,3,4,6,7,8,11])\n",
    "    oracle.append(MCXGate(8), [0,1,2,3,4,5,7,8,11])\n",
    "    \n",
    "    oracle.append(MCXGate(5), [0,4,5,7,8,10])\n",
    "    oracle.append(MCXGate(6), [0,1,3,5,7,8,10])\n",
    "    oracle.append(MCXGate(6), [0,2,3,4,7,8,10])\n",
    "    oracle.append(MCXGate(5), [1,2,3,7,8,10])\n",
    "    \n",
    "    oracle.append(MCXGate(8), [0,1,2,3,4,5,6,8,11])\n",
    "    \n",
    "    oracle.append(MCXGate(6), [0,1,4,5,6,8,10])\n",
    "    oracle.append(MCXGate(5), [1,3,5,6,8,10])\n",
    "    oracle.append(MCXGate(6), [1,2,3,4,6,8,10])\n",
    "    oracle.append(MCXGate(5), [0,2,4,6,8,10])\n",
    "    oracle.append(MCXGate(5), [0,1,3,4,8,10])\n",
    "    \n",
    "    oracle.append(MCXGate(3), [0,4,8,9])\n",
    "    oracle.append(MCXGate(3), [1,3,8,9])\n",
    "    \n",
    "    oracle.append(MCXGate(8), [0,1,2,3,4,5,6,7,11])\n",
    "    \n",
    "    oracle.append(MCXGate(6), [0,2,4,5,6,7,10])\n",
    "    oracle.append(MCXGate(6), [1,2,3,5,6,7,10])\n",
    "    oracle.append(MCXGate(5), [0,1,5,6,7,10])\n",
    "    oracle.append(MCXGate(5), [2,3,4,6,7,10])\n",
    "    oracle.append(MCXGate(5), [0,2,3,5,7,10])\n",
    "    \n",
    "    oracle.append(MCXGate(3), [0,5,7,9])\n",
    "    oracle.append(MCXGate(3), [2,3,7,9])\n",
    "    \n",
    "    oracle.append(MCXGate(5), [1,2,4,5,6,10])\n",
    "    \n",
    "    oracle.append(MCXGate(3), [1,5,6,9])\n",
    "    oracle.append(MCXGate(3), [2,4,6,9])\n",
    "    \n",
    "    full_oracle = QuantumCircuit(12)\n",
    "    \n",
    "    full_oracle = full_oracle.compose(oracle, [i for i in range(12)])\n",
    "    \n",
    "    # Exécutez ça pour chercher un permanent égal à 6\n",
    "    #full_oracle.x(9)\n",
    "    #full_oracle.ccz(9,10,11)\n",
    "    #full_oracle.x(9)\n",
    "    \n",
    "    # Exécutez ça pour chercher un permanent égal à 5\n",
    "    full_oracle.x(10)    \n",
    "    full_oracle.ccz(9,10,11)\n",
    "    full_oracle.x(10) \n",
    "    \n",
    "    \n",
    "    # Exécutez ça pour chercher un permanent égal à 4\n",
    "    #full_oracle.x(9)\n",
    "    #full_oracle.x(10)    \n",
    "    #full_oracle.ccz(9,10,11)\n",
    "    #full_oracle.x(9)\n",
    "    #full_oracle.x(10) \n",
    "    \n",
    "    \n",
    "    full_oracle = full_oracle.compose(oracle.reverse_ops(), [i for i in range(12)])\n",
    "    \n",
    "    return full_oracle"
   ]
  },
  {
   "cell_type": "markdown",
   "id": "50d7b3d9",
   "metadata": {},
   "source": [
    "#### **Question 7.4**\n",
    "\n",
    "<pre> Utiliser l'algorithme de Grover pour répondre aux problèmes posés. </pre>"
   ]
  },
  {
   "cell_type": "markdown",
   "id": "f016db85",
   "metadata": {},
   "source": [
    "##### Solution"
   ]
  },
  {
   "cell_type": "code",
   "execution_count": null,
   "id": "7849034a",
   "metadata": {},
   "outputs": [
    {
     "name": "stdout",
     "output_type": "stream",
     "text": [
      "                                                ┌───┐┌───┐          ┌───┐┌───┐»\n",
      "q_0: ──■────■───────────────────────────■────■──┤ H ├┤ X ├───────■──┤ X ├┤ H ├»\n",
      "       │    │                           │    │  ├───┤├───┤       │  ├───┤├───┤»\n",
      "q_1: ──■────┼────■─────────────────■────┼────■──┤ H ├┤ X ├───────■──┤ X ├┤ H ├»\n",
      "       │    │    │                 │    │    │  ├───┤├───┤       │  ├───┤├───┤»\n",
      "q_2: ──■────┼────■─────────────────■────┼────■──┤ H ├┤ X ├───────■──┤ X ├┤ H ├»\n",
      "       │    │    │                 │    │    │  ├───┤├───┤┌───┐┌─┴─┐├───┤├───┤»\n",
      "q_3: ──■────■────┼─────────────────┼────■────■──┤ H ├┤ X ├┤ H ├┤ X ├┤ H ├┤ X ├»\n",
      "       │  ┌─┴─┐┌─┴─┐┌───┐   ┌───┐┌─┴─┐┌─┴─┐  │  └───┘└───┘└───┘└───┘└───┘└───┘»\n",
      "q_4: ──┼──┤ X ├┤ X ├┤ X ├─■─┤ X ├┤ X ├┤ X ├──┼────────────────────────────────»\n",
      "     ┌─┴─┐└───┘└───┘└───┘ │ └───┘└───┘└───┘┌─┴─┐                              »\n",
      "q_5: ┤ X ├────────────────■────────────────┤ X ├──────────────────────────────»\n",
      "     └───┘                                 └───┘                              »\n",
      "c: 4/═════════════════════════════════════════════════════════════════════════»\n",
      "                                                                              »\n",
      "«          \n",
      "«q_0: ─────\n",
      "«          \n",
      "«q_1: ─────\n",
      "«          \n",
      "«q_2: ─────\n",
      "«     ┌───┐\n",
      "«q_3: ┤ H ├\n",
      "«     └───┘\n",
      "«q_4: ─────\n",
      "«          \n",
      "«q_5: ─────\n",
      "«          \n",
      "«c: 4/═════\n",
      "«          \n",
      "['0100']\n"
     ]
    },
    {
     "data": {
      "image/png": "[encoded data removed]",
      "text/plain": [
       "<Figure size 640x480 with 1 Axes>"
      ]
     },
     "execution_count": 91,
     "metadata": {},
     "output_type": "execute_result"
    }
   ],
   "source": [
    "# On simule notre circuit pour le permanent 2x2\n",
    "\n",
    "niter = 1\n",
    "grover_circ = grover(4, 2, perm_2_2_oracle(), niter)\n",
    "print(grover_circ.draw())\n",
    "\n",
    "output_state = simulate_circuit_state(grover_circ)\n",
    "#print(output_state)\n",
    "\n",
    "measurement = simulate_circuit_measurements(grover_circ, [0,1,2,3])\n",
    "print(measurement)\n",
    "\n",
    "counts = simulate_circuit_histogram(grover_circ, [0,1,2,3])\n",
    "plot_histogram(counts)"
   ]
  },
  {
   "cell_type": "markdown",
   "id": "226c6489",
   "metadata": {},
   "source": [
    "La seule matrice avec un permanent de 2 est $\\begin{bmatrix} 1 & 1 \\\\ 1 & 1 \\end{bmatrix}$."
   ]
  },
  {
   "cell_type": "code",
   "execution_count": null,
   "id": "35f6a426",
   "metadata": {},
   "outputs": [
    {
     "name": "stdout",
     "output_type": "stream",
     "text": [
      "['010011011']\n"
     ]
    },
    {
     "data": {
      "image/png": "[encoded data removed]",
      "text/plain": [
       "<Figure size 700x500 with 1 Axes>"
      ]
     },
     "execution_count": 74,
     "metadata": {},
     "output_type": "execute_result"
    }
   ],
   "source": [
    "# On simule notre circuit pour le permanent 3x3\n",
    "\n",
    "niter = 8\n",
    "grover_circuit = grover(9, 3, perm_3_3_oracle(), niter)\n",
    "decomposed_grover = grover_circuit.decompose()\n",
    "\n",
    "measurement = simulate_circuit_measurements(decomposed_grover, [i for i in range(9)])\n",
    "print(measurement)\n",
    "\n",
    "counts = simulate_circuit_histogram(decomposed_grover, [i for i in range(9)])\n",
    "# On ne garde que les résultats les plus fréquents pour ne pas surcharger le plot\n",
    "plot_histogram(counts, number_to_keep=10)"
   ]
  },
  {
   "cell_type": "markdown",
   "id": "70cc0221",
   "metadata": {},
   "source": [
    "* Seule la matrice $M = \\begin{bmatrix} 1 & 1 & 1 \\\\ 1 & 1 & 1 \\\\ 1 & 1 & 1 \\end{bmatrix}$ a un permanent égal à 6. \n",
    "\n",
    "* Aucune matrice n'a un permanent égal à 5. \n",
    "\n",
    "* 9 matrices ont un permanent égal à 4, ce sont toutes celles partant de $M$ et à laquelle une entrée a été mise à 0."
   ]
  },
  {
   "cell_type": "markdown",
   "id": "ee98e045",
   "metadata": {},
   "source": [
    "---\n",
    "\n",
    "## Algorithme 3 : Quantum Phase Estimation (QPE)"
   ]
  },
  {
   "cell_type": "markdown",
   "id": "02d8d4a3",
   "metadata": {},
   "source": [
    "L'algorithm d'estimation de phase quantique permet d'estimer la valeur propre (ou phase) d'un opérateur unitaire associée à un vecteur propre donné. Pour un opérateur unitaire $U$, on rappelle que les valeurs propres sont toutes de module égal à 1. Si $\\ket{\\psi}$ est vecteur propre d'un opérateur unitaire $U$ alors on peut écrire\n",
    "\n",
    "$$\n",
    "U \\ket{\\psi} = e^{2 i \\pi \\theta} \\ket{\\psi}\n",
    "$$\n",
    "\n",
    "et cet algorithme permet de retrouver la valeur $\\theta$ correspondant au vecteur propre $\\ket{\\psi}$, avec une précision de $n$ bits. Le circuit correspondant àl'algorithme de la QPE est le suivant :\n",
    "\n",
    "<img src=\"qpe.png\" width=\"600\">\n",
    "\n",
    "Le circuit se décompose en plusieures étapes clés.\n",
    "1) Superposition : Grace à un mur de porte Hadamard, on crée une superposition de tous les entiers possibles sur notre registre ancillaire. Le système quantique est alors dans l'état\n",
    "$$\n",
    "\\sum_{k=0}^{2^n - 1}\\ket{k}\\ket{\\psi}.\n",
    "$$\n",
    "2) Succession d'opérations unitaires contrôlées : cette étape cruciale permet d'encoder dans la phase de l'état ancillaire la valeur propre associée au vecteur propre $\\ket{\\psi}$. Comme $\\ket{\\psi}$ est vecteur propre de $U$ de valeur propre associée $e^{2 i \\pi \\theta}$, on a $U^{2j}\\ket{\\psi} = e^{2^j \\times 2i \\pi \\theta}$. Ainsi après avoir appliqué cette succession d'opérations unitaires contrôlées par l'état $\\ket{\\psi}$ notre système quantique se trouve dans l'état\n",
    "$$\n",
    "\\frac{1}{\\sqrt{2}^n} \\sum_{k=0}^{2^n-1} e^{2i \\pi \\theta k}\\ket{k} \\ket{\\psi}.\n",
    "$$\n",
    "3) Transformée de Fourier inverse : Le résultat précédent peut être interprétée comme une transformée de Fourier et appliquant une transformée de Fourier inverse on trouve\n",
    "$$\n",
    "\\frac{1}{2^n}\\sum_{x=0}^{2^n-1}\\sum_{k=0}^{2^n-1} e^{-\\frac{2i\\pi k}{2^n}(x - 2^n\\theta)}\\ket{x}\\ket{\\psi}.\n",
    "$$\n",
    "Comme nous le verrons dans la suite il existe un algorithme quantique pour la Transformée de Fourier et nous allons l'implémenter.\n",
    "4) Mesure : L'expression ci-dessus présente un pic pour $x = 2^n \\theta$. Si $2^n \\theta$ est un entier alors on est sûr d'obtenir après mesure l'état $\\ket{2^n \\theta} \\ket{\\psi}$. Dans le cas où ce nest pas un entier, il a été montré qu'on a tout de même un pic pour $x = 2^n \\theta$ et que cette fois on a une probabilité supérieure à $4/\\pi^2 \\approx 40%$ d'obtenir le bon résultat après la mesure.\n",
    "\n",
    "Nous allons détailler chaque étape de l'algorithme au travers de cet exercice. Ici nous allons nous intéresser à la porte T pour faire simple. La porte T rajoute une phase de $e^{i\\pi/4}$ à l'état $\\ket{1}$ puisque\n",
    "$$\n",
    "T = \\begin{pmatrix} 1 & 0 \\\\ 0 & e^{i\\pi/4} \\end{pmatrix}.\n",
    "$$\n",
    "Comme la QPE nous donne $\\theta$ dans le cas où $T\\ket{1} = e^{2i\\pi \\theta} \\ket{1}$ on s'attend à obtenir en sortie de l'algorithme $\\theta = 1/8$."
   ]
  },
  {
   "cell_type": "markdown",
   "id": "c65b10b3",
   "metadata": {},
   "source": [
    "#### Séquence d'opérations unitaires contrôlées\n",
    "\n",
    "Tout d'abord, concentrons nous sur la séquence d'opérations unitaires contrôlées. Nous allons implémenter le circuit suivant pour la porte T\n",
    "\n",
    "RAJOUTER IMAGE\n",
    "\n",
    "On rappelle qu'appliquer $T^k$ dans un circuit quantique est équivalent à appliquer l'opérateur $T$ successivement, $k$ fois.\n",
    "\n",
    "##### **Question** \n",
    "<pre> Implémenter le circuit correspondant à cette séquence d'opérations contrôlées, pour un nombre de qubits ancillaires donné en paramètre. </pre>"
   ]
  },
  {
   "cell_type": "code",
   "execution_count": null,
   "id": "2437e39c",
   "metadata": {},
   "outputs": [
    {
     "data": {
      "text/html": [
       "<pre style=\"word-wrap: normal;white-space: pre;background: #fff0;line-height: 1.1;font-family: &quot;Courier New&quot;,Courier,monospace\">                                                                           »\n",
       "q_0: ──■───────────────────────────────────────────────────────────────────»\n",
       "       │                                                                   »\n",
       "q_1: ──┼────■────■─────────────────────────────────────────────────────────»\n",
       "       │    │    │                                                         »\n",
       "q_2: ──┼────┼────┼────■────■────■────■─────────────────────────────────────»\n",
       "       │    │    │    │    │    │    │                                     »\n",
       "q_3: ──┼────┼────┼────┼────┼────┼────┼────■────■────■────■────■────■────■──»\n",
       "     ┌─┴─┐┌─┴─┐┌─┴─┐┌─┴─┐┌─┴─┐┌─┴─┐┌─┴─┐┌─┴─┐┌─┴─┐┌─┴─┐┌─┴─┐┌─┴─┐┌─┴─┐┌─┴─┐»\n",
       "q_4: ┤ T ├┤ T ├┤ T ├┤ T ├┤ T ├┤ T ├┤ T ├┤ T ├┤ T ├┤ T ├┤ T ├┤ T ├┤ T ├┤ T ├»\n",
       "     └───┘└───┘└───┘└───┘└───┘└───┘└───┘└───┘└───┘└───┘└───┘└───┘└───┘└───┘»\n",
       "«          \n",
       "«q_0: ─────\n",
       "«          \n",
       "«q_1: ─────\n",
       "«          \n",
       "«q_2: ─────\n",
       "«          \n",
       "«q_3: ──■──\n",
       "«     ┌─┴─┐\n",
       "«q_4: ┤ T ├\n",
       "«     └───┘</pre>"
      ],
      "text/plain": [
       "                                                                           »\n",
       "q_0: ──■───────────────────────────────────────────────────────────────────»\n",
       "       │                                                                   »\n",
       "q_1: ──┼────■────■─────────────────────────────────────────────────────────»\n",
       "       │    │    │                                                         »\n",
       "q_2: ──┼────┼────┼────■────■────■────■─────────────────────────────────────»\n",
       "       │    │    │    │    │    │    │                                     »\n",
       "q_3: ──┼────┼────┼────┼────┼────┼────┼────■────■────■────■────■────■────■──»\n",
       "     ┌─┴─┐┌─┴─┐┌─┴─┐┌─┴─┐┌─┴─┐┌─┴─┐┌─┴─┐┌─┴─┐┌─┴─┐┌─┴─┐┌─┴─┐┌─┴─┐┌─┴─┐┌─┴─┐»\n",
       "q_4: ┤ T ├┤ T ├┤ T ├┤ T ├┤ T ├┤ T ├┤ T ├┤ T ├┤ T ├┤ T ├┤ T ├┤ T ├┤ T ├┤ T ├»\n",
       "     └───┘└───┘└───┘└───┘└───┘└───┘└───┘└───┘└───┘└───┘└───┘└───┘└───┘└───┘»\n",
       "«          \n",
       "«q_0: ─────\n",
       "«          \n",
       "«q_1: ─────\n",
       "«          \n",
       "«q_2: ─────\n",
       "«          \n",
       "«q_3: ──■──\n",
       "«     ┌─┴─┐\n",
       "«q_4: ┤ T ├\n",
       "«     └───┘"
      ]
     },
     "execution_count": 48,
     "metadata": {},
     "output_type": "execute_result"
    }
   ],
   "source": [
    "def CU_sequence(nb_anc):\n",
    "    circuit = QuantumCircuit(nb_anc + 1)\n",
    "    for i in range(nb_anc):\n",
    "        for j in range(2**i):\n",
    "            circuit = circuit.compose(TGate().control(1), [i, nb_anc])\n",
    "    return circuit\n",
    "\n",
    "circuit = CU_sequence(4)\n",
    "circuit.draw()\n"
   ]
  },
  {
   "cell_type": "markdown",
   "id": "b1a87455",
   "metadata": {},
   "source": [
    "#### Quantum Fourier Transform (QFT)\n",
    "\n",
    "La Transformée de Fourier Quantique est l'analogie quantique de la Transformée de Fourier Discrète. Elle agit sur un état quantique $\\ket{x} = \\sum_{i=0}^{N-1} x_i \\ket{i}$ et renvoie l'état $\\sum_{i=0}^{N-1} y_i \\ket{i}$ tel que\n",
    "\n",
    "$$\n",
    "y_k = \\frac{1}{\\sqrt{N}} \\sum_{n=0}^{N-1} x_n \\omega_N^{nk}\n",
    "$$\n",
    "où $\\omega_N = exp(2 \\pi i / N)$.\n",
    "\n",
    "Le circuit suivant permet de réaliser une QFT sur 4 qubits, et est triviallement généralisable à n'importe quel nombre de qubits\n",
    "\n",
    "<img src=\"qft.png\" width=500>\n",
    "\n",
    "##### **Question 8.1**\n",
    "<pre> Implementer une routine quantique qui prend en entrée le nombre de qubits et qui renvoie le circuit quantique de la QFT (La porte P controlée peut être construite avec circuit.cp(theta, ))</pre> \n",
    "\n",
    "**/!\\ le circuit quantique de la QFT inverse l'ordre des qubits en sortie. Il faudra donc utiliser des portes SWAP (qu'on peut appeler avec circuit.swap(qubit1, qubit2)) pour inverser l'ordre de tous les qubits à la fin du circuit**"
   ]
  },
  {
   "cell_type": "code",
   "execution_count": null,
   "id": "ee8568fc",
   "metadata": {},
   "outputs": [
    {
     "data": {
      "text/html": [
       "<pre style=\"word-wrap: normal;white-space: pre;background: #fff0;line-height: 1.1;font-family: &quot;Courier New&quot;,Courier,monospace\">                                                                          ┌───┐»\n",
       "q_0: ─────────────────────────────■─────────────────■─────────────■───────┤ H ├»\n",
       "                                  │                 │       ┌───┐ │P(π/2) └───┘»\n",
       "q_1: ───────────────■─────────────┼────────■────────┼───────┤ H ├─■─────────X──»\n",
       "                    │       ┌───┐ │        │P(π/2)  │P(π/4) └───┘           │  »\n",
       "q_2: ──────■────────┼───────┤ H ├─┼────────■────────■───────────────────────X──»\n",
       "     ┌───┐ │P(π/2)  │P(π/4) └───┘ │P(π/8)                                      »\n",
       "q_3: ┤ H ├─■────────■─────────────■────────────────────────────────────────────»\n",
       "     └───┘                                                                     »\n",
       "«        \n",
       "«q_0: ─X─\n",
       "«      │ \n",
       "«q_1: ─┼─\n",
       "«      │ \n",
       "«q_2: ─┼─\n",
       "«      │ \n",
       "«q_3: ─X─\n",
       "«        </pre>"
      ],
      "text/plain": [
       "                                                                          ┌───┐»\n",
       "q_0: ─────────────────────────────■─────────────────■─────────────■───────┤ H ├»\n",
       "                                  │                 │       ┌───┐ │P(π/2) └───┘»\n",
       "q_1: ───────────────■─────────────┼────────■────────┼───────┤ H ├─■─────────X──»\n",
       "                    │       ┌───┐ │        │P(π/2)  │P(π/4) └───┘           │  »\n",
       "q_2: ──────■────────┼───────┤ H ├─┼────────■────────■───────────────────────X──»\n",
       "     ┌───┐ │P(π/2)  │P(π/4) └───┘ │P(π/8)                                      »\n",
       "q_3: ┤ H ├─■────────■─────────────■────────────────────────────────────────────»\n",
       "     └───┘                                                                     »\n",
       "«        \n",
       "«q_0: ─X─\n",
       "«      │ \n",
       "«q_1: ─┼─\n",
       "«      │ \n",
       "«q_2: ─┼─\n",
       "«      │ \n",
       "«q_3: ─X─\n",
       "«        "
      ]
     },
     "execution_count": 49,
     "metadata": {},
     "output_type": "execute_result"
    }
   ],
   "source": [
    "def qft(nb_qubits):\n",
    "    circuit = QuantumCircuit(nb_qubits)\n",
    "    \n",
    "    for i in range(nb_qubits):\n",
    "        circuit.h(nb_qubits - i - 1)\n",
    "        for c in range(1, nb_qubits-i):\n",
    "            theta = np.pi / 2**(c)\n",
    "            circuit.cp(theta, nb_qubits - i - 1, nb_qubits - i - c - 1)\n",
    "    for i in range(nb_qubits // 2):\n",
    "        circuit.swap(i, nb_qubits-i-1)\n",
    "    return circuit\n",
    "\n",
    "qft(4).draw()"
   ]
  },
  {
   "cell_type": "markdown",
   "id": "b49f049a",
   "metadata": {},
   "source": [
    "Pour tester notre implémentation de la QFT nous allons essayer de résoudre un problème de recherche de fréquences (comme on pourrait le faire avec une Tranformée de Fourier classique). Pour cela on va étudier le signal encodé dans un état quantique à 5 qubits. Ci dessous, on visualise ce signal composé de deux cosinus, échantilloné sur $5^2 = 32$ valeurs."
   ]
  },
  {
   "cell_type": "code",
   "execution_count": null,
   "id": "ce59be89",
   "metadata": {},
   "outputs": [
    {
     "data": {
      "image/png": "[encoded data removed]",
      "text/plain": [
       "<Figure size 640x480 with 1 Axes>"
      ]
     },
     "metadata": {},
     "output_type": "display_data"
    }
   ],
   "source": [
    "from qiskit.quantum_info import Statevector\n",
    "import matplotlib.pyplot as plt \n",
    "\n",
    "n = 5\n",
    "X = np.arange(0, 2**n)\n",
    "signal = np.array(np.cos(0.5*X) * np.cos(np.pi * X))  # Signal dont on étudie les fréquences\n",
    "signal /= np.linalg.norm(signal)  # Normalisation du signal pour l'encodage quantique\n",
    "qsignal = Statevector(signal)\n",
    "\n",
    "plt.plot(X, signal)\n",
    "plt.show()\n"
   ]
  },
  {
   "cell_type": "markdown",
   "id": "40ed0c41",
   "metadata": {},
   "source": [
    "Le signal était composé de 2 sinusoïdes, dans le domaine de Fourier on observe 2 pics."
   ]
  },
  {
   "cell_type": "code",
   "execution_count": null,
   "id": "2bf341c3",
   "metadata": {},
   "outputs": [
    {
     "data": {
      "image/png": "[encoded data removed]",
      "text/plain": [
       "<Figure size 640x480 with 1 Axes>"
      ]
     },
     "metadata": {},
     "output_type": "display_data"
    }
   ],
   "source": [
    "fft_signal = np.fft.fft(signal)\n",
    "plt.plot(X, np.abs(fft_signal))\n",
    "plt.show()"
   ]
  },
  {
   "cell_type": "markdown",
   "id": "6fedd3ec",
   "metadata": {},
   "source": [
    "Maintenant, testons notre QFT sur ce même signal. On obtiens un histogramme très proche de la courbe dans le domaine de Fourier ci-dessus."
   ]
  },
  {
   "cell_type": "code",
   "execution_count": null,
   "id": "80a5ff37",
   "metadata": {},
   "outputs": [
    {
     "data": {
      "image/png": "[encoded data removed]",
      "text/plain": [
       "<Figure size 640x480 with 1 Axes>"
      ]
     },
     "execution_count": 52,
     "metadata": {},
     "output_type": "execute_result"
    }
   ],
   "source": [
    "circuit = QuantumCircuit(n, n)\n",
    "circuit.initialize(qsignal, range(n))  # Encode the signal in the quantum state\n",
    "circuit = circuit.compose(qft(5), range(5))  # Add the QFT in the quantum circuit\n",
    "\n",
    "\n",
    "stats = simulate_circuit_histogram(circuit, range(n)[::-1])\n",
    "plot_histogram(stats)"
   ]
  },
  {
   "cell_type": "markdown",
   "id": "00d5f224",
   "metadata": {},
   "source": [
    "#### Implémentation complète de la QPE\n",
    "\n",
    "Maintenant que nous avons tous les blocs nécessaires à notre implémentation de la QPE, nous pouvons la tester. Pour rappel, si on souhaite implémenter la QPE il faut\n",
    "1) Initialiser l'état $\\ket{psi} à la valeur du vecteur propre donc $\\ket{1}$\n",
    "2) Appliquer un mur de portes Hadamard sur les qubits ancillaires\n",
    "3) Appliquer la séquence des unitaires contrôlées\n",
    "4) Utiliser l'inverse de la QFT sur les qubits ancillaires\n",
    "5) Mesure le registre ancillaire pour obtenir la valeur propre\n",
    "\n",
    "##### **Question**\n",
    "<pre> Implémenter l'algorithme de la QPE et observer l'histogramme en sortie du circuit pour un nombre d'ancilla égal à 3. </pre>"
   ]
  },
  {
   "cell_type": "code",
   "execution_count": null,
   "id": "460e01d1",
   "metadata": {},
   "outputs": [
    {
     "data": {
      "image/png": "[encoded data removed]",
      "text/plain": [
       "<Figure size 640x480 with 1 Axes>"
      ]
     },
     "execution_count": 53,
     "metadata": {},
     "output_type": "execute_result"
    }
   ],
   "source": [
    "nb_anc = 3\n",
    "\n",
    "def QPE(nb_anc):\n",
    "    circuit = QuantumCircuit(nb_anc + 1, nb_anc)\n",
    "    circuit.x(nb_anc)  # Initialisation du vecteur propre à 1\n",
    "\n",
    "    # Mur de portes Hadamard sur les ancillas\n",
    "    for i in range(nb_anc):\n",
    "        circuit.h(i)\n",
    "    # CU sequence\n",
    "    circuit = circuit.compose(CU_sequence(nb_anc), range(nb_anc + 1))\n",
    "    # QFT inverse\n",
    "    circuit = circuit.compose(qft(nb_anc).inverse(), range(nb_anc))\n",
    "    return circuit\n",
    "\n",
    "stats = simulate_circuit_histogram(QPE(nb_anc), range(nb_anc)[::-1])\n",
    "plot_histogram(stats)\n"
   ]
  },
  {
   "cell_type": "markdown",
   "id": "f12c91ee",
   "metadata": {},
   "source": [
    "En sortie du circuit, on mesure toujours la valeur $1$ et donc on remonte à la valeur $\\theta = 1/2^3 = 1/8$.\n",
    "\n",
    "##### **Question**\n",
    "<pre> Que se passe-t'il si on utilise un nombre d'ancilla insuffisant ? (ex: 2) </pre>"
   ]
  },
  {
   "cell_type": "code",
   "execution_count": null,
   "id": "939e4773",
   "metadata": {},
   "outputs": [
    {
     "data": {
      "image/png": "[encoded data removed]",
      "text/plain": [
       "<Figure size 640x480 with 1 Axes>"
      ]
     },
     "execution_count": 55,
     "metadata": {},
     "output_type": "execute_result"
    }
   ],
   "source": [
    "nb_anc = 2\n",
    "\n",
    "stats = simulate_circuit_histogram(QPE(nb_anc), range(nb_anc)[::-1])\n",
    "plot_histogram(stats)"
   ]
  },
  {
   "cell_type": "markdown",
   "id": "5def3c40",
   "metadata": {},
   "source": [
    "-----\n",
    "\n",
    "## Algorithme 4 - BONUS pour le fun : Résolution de système linéaire avec HHL\n"
   ]
  }
 ],
 "metadata": {
  "kernelspec": {
   "display_name": "Python 3",
   "language": "python",
   "name": "python3"
  },
  "language_info": {
   "codemirror_mode": {
    "name": "ipython",
    "version": 3
   },
   "file_extension": ".py",
   "mimetype": "text/x-python",
   "name": "python",
   "nbconvert_exporter": "python",
   "pygments_lexer": "ipython3",
   "version": "3.13.1"
  }
 },
 "nbformat": 4,
 "nbformat_minor": 5
}
